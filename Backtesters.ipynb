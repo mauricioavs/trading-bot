{
 "cells": [
  {
   "cell_type": "markdown",
   "id": "c6b7dec9",
   "metadata": {},
   "source": [
    "# Iterative Backtesting\n",
    "\n",
    "This implementation helps testing and optimizing SMA strategy with historical binance data."
   ]
  },
  {
   "cell_type": "code",
   "execution_count": 1,
   "id": "57240c89",
   "metadata": {},
   "outputs": [],
   "source": [
    "api_key = \"6ce63f3406fd8ebbff01054a66c25fe3c851c45932088c8ca3131a7005188462\"\n",
    "secret_key = \"aa3ea32929252467fa5ffeac5818c95beabfb5dba691ef445e7eaa31ea0d15f6\""
   ]
  },
  {
   "cell_type": "code",
   "execution_count": 122,
   "id": "14950968",
   "metadata": {},
   "outputs": [],
   "source": [
    "import pandas as pd\n",
    "import numpy as np\n",
    "import matplotlib.pyplot as plt\n",
    "plt.style.use(\"seaborn\")"
   ]
  },
  {
   "cell_type": "code",
   "execution_count": 143,
   "id": "97620a15",
   "metadata": {},
   "outputs": [],
   "source": [
    "#OLD VERSION\n",
    "class IterativeBase():\n",
    "\n",
    "    def __init__(self, symbol, start, end, amount, use_fee = True, fee_maker=0, fee_taker=0):\n",
    "        self.symbol = symbol\n",
    "        self.start = start\n",
    "        self.end = end\n",
    "        self.initial_balance = amount\n",
    "        self.current_balance = amount\n",
    "        self.units = 0\n",
    "        self.trades = 0\n",
    "        self.position = 0\n",
    "        self.use_fee = use_fee\n",
    "        self.fee_maker = fee_maker #limit orders fee\n",
    "        self.fee_taker = fee_taker #market orders fee (higher)\n",
    "        self.leverage = 1\n",
    "        self.get_data()\n",
    "\n",
    "    def get_data(self):\n",
    "        raw = pd.read_csv(\"5m.csv\", parse_dates = [\"Date\"], index_col = \"Date\").dropna()\n",
    "        raw = raw.loc[self.start:self.end]\n",
    "        raw = raw[[\"Close\"]].rename(columns={\"Close\": \"price\"}) #just use these columns\n",
    "        raw[\"returns\"] = np.log(raw.price / raw.price.shift(1))\n",
    "        raw[\"Hold Strategy\"] = raw[\"returns\"].cumsum().apply(np.exp) * self.initial_balance\n",
    "        self.data = raw\n",
    "\n",
    "    def plot_data(self, cols = None):  \n",
    "        if cols is None:\n",
    "            cols = \"price\"\n",
    "        self.data[cols].plot(figsize = (12, 8), title = self.symbol)\n",
    "    \n",
    "    def get_values(self, bar):\n",
    "        date = str(self.data.index[bar].date())\n",
    "        price = round(self.data.price.iloc[bar], 5)\n",
    "        return date, price\n",
    "    \n",
    "    def print_current_balance(self, bar):\n",
    "        date, price = self.get_values(bar)\n",
    "        print(\"{} | Current Balance: {}\".format(date, round(self.current_balance, 2)))\n",
    "        \n",
    "    def buy_instrument(self, bar, units = None, amount = None):\n",
    "        date, price = self.get_values(bar)\n",
    "        lev = self.leverage\n",
    "        fee = 0\n",
    "        if units is None: # use units if units are passed, otherwise calculate units\n",
    "            units = amount / price\n",
    "        if self.use_fee: #remove fee units, then you buy less units than desired   \n",
    "            fee = units * self.fee_taker\n",
    "            units = units - fee\n",
    "            \n",
    "        self.current_balance -= ( units/lev + fee ) * price # reduce cash balance by \"purchase price\"\n",
    "        self.units += units\n",
    "        self.trades += 1\n",
    "        print(\"{} |  Buying {} for {}\".format(date, units, round(price, 5)))\n",
    "    \n",
    "    def sell_instrument(self, bar, units = None, amount = None):\n",
    "        date, price = self.get_values(bar)\n",
    "        lev = self.leverage\n",
    "        fee = 0\n",
    "        if units is None: # use units if units are passed, otherwise calculate units\n",
    "            units = amount / price\n",
    "        if self.use_fee: #remove fee units, then you sell all desired units buy paying a fee\n",
    "            fee = units * self.fee_taker\n",
    "            units = units - fee\n",
    "            \n",
    "        self.current_balance += ( units ) * price # increase cash balance by \"purchase price\"\n",
    "        self.units -= units/lev + fee \n",
    "        self.trades += 1\n",
    "        print(\"{} |  Selling {} for {}\".format(date, units, round(price, 5)))\n",
    "    \n",
    "    def print_current_position_value(self, bar):\n",
    "        date, price = self.get_values(bar)\n",
    "        cpv = self.units * price\n",
    "        print(\"{} |  Current Position Value = {}\".format(date, round(cpv, 2)))\n",
    "    \n",
    "    def print_current_nav(self, bar):\n",
    "        nav = self.get_nav(bar)\n",
    "        print(\"{} |  Net Asset Value = {}\".format(date, round(nav, 2)))\n",
    "        \n",
    "    def close_pos(self, bar):\n",
    "        date, price = self.get_values(bar)\n",
    "        print(75 * \"-\")\n",
    "        print(\"{} | +++ CLOSING FINAL POSITION +++\".format(date))\n",
    "        cpv = self.units * price\n",
    "        self.current_balance += cpv # closing final position (works with short and long!)\n",
    "        self.current_balance -= cpv * self.fee_taker * self.use_fee # substract fee costs\n",
    "        print(\"{} | closing position of {} for {}\".format(date, self.units, price))\n",
    "        self.units = 0 # setting position to neutral\n",
    "        self.trades += 1\n",
    "        self.position = 0\n",
    "        perf = (self.current_balance - self.initial_balance) / self.initial_balance * 100\n",
    "        self.print_current_balance(bar)\n",
    "        print(\"{} | net performance (%) = {}\".format(date, round(perf, 2) ))\n",
    "        print(\"{} | number of trades executed = {}\".format(date, self.trades))\n",
    "        print(75 * \"-\")\n",
    "    def get_nav(self, bar):\n",
    "        date, price = self.get_values(bar)\n",
    "        return self.current_balance + self.units * price"
   ]
  },
  {
   "cell_type": "code",
   "execution_count": 301,
   "id": "b86f7869",
   "metadata": {},
   "outputs": [],
   "source": [
    "#WORKING ON THIS!!\n",
    "class IterativeBase():\n",
    "\n",
    "    def __init__(self, symbol, start, end, amount, use_fee = True, fee_maker=0, fee_taker=0):\n",
    "        self.symbol = symbol\n",
    "        self.start = start\n",
    "        self.end = end\n",
    "        self.initial_balance = amount\n",
    "        self.current_balance = amount\n",
    "        self.unlev_units = 0 #keeps unlevered units\n",
    "        self.units = 0 #keeps position units (unlev_units*leverage)\n",
    "        self.trades = 0\n",
    "        self.position = 0\n",
    "        self.use_fee = use_fee\n",
    "        self.fee_maker = fee_maker #limit orders fee\n",
    "        self.fee_taker = fee_taker #market orders fee (higher)\n",
    "        self.leverage = 1\n",
    "        self.get_data()\n",
    "\n",
    "    def get_data(self):\n",
    "        raw = pd.read_csv(\"5m.csv\", parse_dates = [\"Date\"], index_col = \"Date\").dropna()\n",
    "        raw = raw.loc[self.start:self.end]\n",
    "        raw = raw[[\"Close\"]].rename(columns={\"Close\": \"price\"}) #just use these columns\n",
    "        raw[\"returns\"] = np.log(raw.price / raw.price.shift(1))\n",
    "        raw[\"Hold Strategy\"] = raw[\"returns\"].cumsum().apply(np.exp) * self.initial_balance\n",
    "        self.data = raw\n",
    "\n",
    "    def plot_data(self, cols = None):  \n",
    "        if cols is None:\n",
    "            cols = \"price\"\n",
    "        self.data[cols].plot(figsize = (12, 8), title = self.symbol)\n",
    "    \n",
    "    def get_values(self, bar):\n",
    "        date = str(self.data.index[bar].date())\n",
    "        price = round(self.data.price.iloc[bar], 5)\n",
    "        return date, price\n",
    "    \n",
    "    def print_current_balance(self, bar):\n",
    "        date, price = self.get_values(bar)\n",
    "        print(\"{} | Current Balance: {}\".format(date, round(self.current_balance, 2)))\n",
    "        \n",
    "    def buy_instrument(self, bar, units = None, amount = None):\n",
    "        date, price = self.get_values(bar)\n",
    "        lev = self.leverage\n",
    "        fee = 0\n",
    "        if units is None: # use units if units are passed, otherwise calculate units\n",
    "            units = amount / price\n",
    "        if self.use_fee: #remove fee units, then you buy less units than desired   \n",
    "            fee = units * self.fee_taker\n",
    "            units = units - fee    \n",
    "        if self.position in [0]: #open long position\n",
    "            self.entry_price = price\n",
    "            unlev_units = units/lev\n",
    "            self.current_balance -= ( unlev_units + fee ) * price # reduce cash balance by \"purchase price\"\n",
    "            self.unlev_units += unlev_units\n",
    "            self.units = units\n",
    "            self.trades += 1\n",
    "            self.position = 1\n",
    "            print(\"{} |  Buying {} for {}, leverage {}\".format(date, units, round(price, 5), self.leverage))\n",
    "        elif self.position in [-1]: #closing short position\n",
    "            self.close_position(price, units, fee)\n",
    "            print(\"{} |  Buying (closing) {} for {}\".format(date, units, round(price, 5)))\n",
    "            \n",
    "    def sell_instrument(self, bar, units = None, amount = None):\n",
    "        date, price = self.get_values(bar)\n",
    "        lev = self.leverage\n",
    "        fee = 0\n",
    "        if units is None: # use units if units are passed, otherwise calculate units\n",
    "            units = amount / price\n",
    "        if self.use_fee: #remove fee units, then you sell all desired units buy paying a fee\n",
    "            fee = units * self.fee_taker\n",
    "            units = units - fee\n",
    "        if self.position in [0]: #open short position\n",
    "            self.entry_price = price\n",
    "            unlev_units = units/lev\n",
    "            self.current_balance += ( unlev_units ) * price # increase cash balance by \"purchase price\"\n",
    "            self.unlev_units -= unlev_units + fee \n",
    "            self.units -= units + fee\n",
    "            self.trades += 1\n",
    "            self.position = -1\n",
    "            print(\"{} |  Selling {} for {}, leverage {}\".format(date, units, round(price, 5), self.leverage))\n",
    "        elif self.position in [1]: #closing long position\n",
    "            self.close_position(price, units, fee)\n",
    "            print(\"{} |  Selling (closing) {} for {}\".format(date, units, round(price, 5)))\n",
    "            \n",
    "    def print_current_position_value(self, bar):\n",
    "        date, price = self.get_values(bar)\n",
    "        cpv = self.unlev_units * price\n",
    "        print(\"{} |  Current Position Value = {}\".format(date, round(cpv, 2)))\n",
    "    \n",
    "    def print_current_nav(self, bar):\n",
    "        nav = self.get_nav(bar)\n",
    "        print(\"{} |  Net Asset Value = {}\".format(date, round(nav, 2)))\n",
    "        \n",
    "    def get_nav(self, bar):\n",
    "        date, price = self.get_values(bar)\n",
    "        fee = abs(self.units) * price * self.fee_taker * self.use_fee \n",
    "        position_value = self.unlev_units * price\n",
    "        return self.current_balance + position_value - fee\n",
    "    \n",
    "    def close_position(self, price, units, fee): #helper method for buy and sell instrument methods\n",
    "        my_asset_entry_value = self.unlev_units * self.entry_price #self.unlev_units < 0 => my_asset_entre_value < 0\n",
    "        profit = self.position*(units)* (price - self.entry_price) #units > 0 \n",
    "        pay_fee = fee*price #pay_fee > 0\n",
    "        self.current_balance += my_asset_entry_value +profit - pay_fee\n",
    "        self.unlev_units = 0\n",
    "        self.units = 0\n",
    "        self.trades += 1\n",
    "        self.position = 0"
   ]
  },
  {
   "cell_type": "code",
   "execution_count": 349,
   "id": "a0c1b8b0",
   "metadata": {},
   "outputs": [],
   "source": [
    "class IterativeBacktest(IterativeBase):\n",
    "\n",
    "    # helper method\n",
    "    def go_long(self, bar, units = None, amount = None):\n",
    "        if self.position == -1:\n",
    "            self.buy_instrument(bar, units = -self.units) # if short position, go neutral first\n",
    "        if units:\n",
    "            self.buy_instrument(bar, units = units)\n",
    "        elif amount:\n",
    "            if amount == \"all\":\n",
    "                amount = self.current_balance * self.leverage\n",
    "            self.buy_instrument(bar, amount = amount) # go long\n",
    "\n",
    "    # helper method\n",
    "    def go_short(self, bar, units = None, amount = None):\n",
    "        if self.position == 1:\n",
    "            self.sell_instrument(bar, units = self.units) # if long position, go neutral first\n",
    "        if units:\n",
    "            self.sell_instrument(bar, units = units)\n",
    "        elif amount:\n",
    "            if amount == \"all\":\n",
    "                amount = self.current_balance * self.leverage\n",
    "            self.sell_instrument(bar, amount = amount) # go short\n",
    "\n",
    "    def test_sma_strategy(self, SMA_S, SMA_L, keep_metrics = True):\n",
    "        \n",
    "        # nice printout\n",
    "        stm = \"Testing SMA strategy | {} | SMA_S = {} & SMA_L = {}\".format(self.symbol, SMA_S, SMA_L)\n",
    "        print(\"-\" * 75)\n",
    "        print(stm)\n",
    "        print(\"-\" * 75)\n",
    "        \n",
    "        # reset \n",
    "        self.position = 0  # initial neutral position\n",
    "        self.trades = 0  # no trades yet\n",
    "        self.current_balance = self.initial_balance  # reset initial capital\n",
    "        self.get_data() # reset dataset\n",
    "        \n",
    "        # prepare data\n",
    "        self.data[\"SMA_S\"] = self.data[\"price\"].rolling(SMA_S).mean()\n",
    "        self.data[\"SMA_L\"] = self.data[\"price\"].rolling(SMA_L).mean()\n",
    "        self.data.dropna(inplace = True)\n",
    "        \n",
    "        #prepare metrics\n",
    "        self.keep_metrics = keep_metrics\n",
    "        self.positions, self.navs = [], []\n",
    "        self.leverage = 1\n",
    "        # sma crossover strategy\n",
    "        for bar in range(len(self.data)-1): # all bars (except the last bar)\n",
    "            if self.data[\"SMA_S\"].iloc[bar] > self.data[\"SMA_L\"].iloc[bar]: # signal to go long\n",
    "                if self.position in [0, -1]:\n",
    "                    self.go_long(bar, amount = \"all\") # go long with full amount\n",
    "            elif self.data[\"SMA_S\"].iloc[bar] < self.data[\"SMA_L\"].iloc[bar]: # signal to go short\n",
    "                if self.position in [0, 1]:\n",
    "                    self.go_short(bar, amount = \"all\") # go short with full amount\n",
    "            self.calculate_metrics(bar)        \n",
    "                    \n",
    "        self.close_final_position(bar+1) # close position at the last bar\n",
    "        self.calculate_metrics(bar+1)\n",
    "        self.add_metrics_to_data()\n",
    "        \n",
    "    def calculate_metrics(self, bar):\n",
    "        if not self.keep_metrics: return\n",
    "        self.positions.append( self.position )\n",
    "        self.navs.append( self.get_nav(bar) )\n",
    "    def add_metrics_to_data(self):\n",
    "        if not self.keep_metrics: return\n",
    "        self.data[\"Position\"] = self.positions\n",
    "        self.data[\"NAV\"] = self.navs\n",
    "        \n",
    "    def close_final_position(self, bar):\n",
    "        date, price = self.get_values(bar)\n",
    "        print(75 * \"-\")\n",
    "        print(\"{} | +++ CLOSING FINAL POSITION +++\".format(date))\n",
    "        if self.position in [-1]:\n",
    "            self.buy_instrument(bar, units = -self.units)\n",
    "        elif self.position in [1]:    \n",
    "            self.sell_instrument(bar, units = self.units)\n",
    "        self.unlev_units = 0 # setting position to neutral\n",
    "        self.units = 0\n",
    "        self.trades += 1\n",
    "        self.position = 0\n",
    "        perf = (self.current_balance - self.initial_balance) / self.initial_balance * 100\n",
    "        self.print_current_balance(bar)\n",
    "        print(\"{} | net performance (%) = {}\".format(date, round(perf, 2) ))\n",
    "        print(\"{} | number of trades executed = {}\".format(date, self.trades))\n",
    "        print(75 * \"-\")    "
   ]
  },
  {
   "cell_type": "code",
   "execution_count": 350,
   "id": "5ca12278",
   "metadata": {},
   "outputs": [],
   "source": [
    "bc = IterativeBacktest(symbol = \"BTCUSD\", \n",
    "                       start = \"2022-01-31\", \n",
    "                       end = \"2023-06-30\", \n",
    "                       amount = 100000, \n",
    "                       use_fee= True,\n",
    "                       fee_maker = 0.0002,\n",
    "                       fee_taker = 0.0004\n",
    "                    )"
   ]
  },
  {
   "cell_type": "code",
   "execution_count": 116,
   "id": "3b118094",
   "metadata": {},
   "outputs": [
    {
     "data": {
      "text/html": [
       "<div>\n",
       "<style scoped>\n",
       "    .dataframe tbody tr th:only-of-type {\n",
       "        vertical-align: middle;\n",
       "    }\n",
       "\n",
       "    .dataframe tbody tr th {\n",
       "        vertical-align: top;\n",
       "    }\n",
       "\n",
       "    .dataframe thead th {\n",
       "        text-align: right;\n",
       "    }\n",
       "</style>\n",
       "<table border=\"1\" class=\"dataframe\">\n",
       "  <thead>\n",
       "    <tr style=\"text-align: right;\">\n",
       "      <th></th>\n",
       "      <th>price</th>\n",
       "      <th>returns</th>\n",
       "      <th>Hold Strategy</th>\n",
       "    </tr>\n",
       "    <tr>\n",
       "      <th>Date</th>\n",
       "      <th></th>\n",
       "      <th></th>\n",
       "      <th></th>\n",
       "    </tr>\n",
       "  </thead>\n",
       "  <tbody>\n",
       "    <tr>\n",
       "      <th>2022-07-12 11:15:00</th>\n",
       "      <td>19729.8</td>\n",
       "      <td>NaN</td>\n",
       "      <td>NaN</td>\n",
       "    </tr>\n",
       "    <tr>\n",
       "      <th>2022-07-12 11:20:00</th>\n",
       "      <td>19713.8</td>\n",
       "      <td>-0.000811</td>\n",
       "      <td>99918.904398</td>\n",
       "    </tr>\n",
       "    <tr>\n",
       "      <th>2022-07-12 11:25:00</th>\n",
       "      <td>19772.7</td>\n",
       "      <td>0.002983</td>\n",
       "      <td>100217.437582</td>\n",
       "    </tr>\n",
       "    <tr>\n",
       "      <th>2022-07-12 11:30:00</th>\n",
       "      <td>19823.3</td>\n",
       "      <td>0.002556</td>\n",
       "      <td>100473.902422</td>\n",
       "    </tr>\n",
       "    <tr>\n",
       "      <th>2022-07-12 11:35:00</th>\n",
       "      <td>19766.9</td>\n",
       "      <td>-0.002849</td>\n",
       "      <td>100188.040426</td>\n",
       "    </tr>\n",
       "    <tr>\n",
       "      <th>...</th>\n",
       "      <td>...</td>\n",
       "      <td>...</td>\n",
       "      <td>...</td>\n",
       "    </tr>\n",
       "    <tr>\n",
       "      <th>2022-08-16 04:10:00</th>\n",
       "      <td>24550.0</td>\n",
       "      <td>0.002039</td>\n",
       "      <td>124431.063670</td>\n",
       "    </tr>\n",
       "    <tr>\n",
       "      <th>2022-08-16 04:15:00</th>\n",
       "      <td>24450.0</td>\n",
       "      <td>-0.004082</td>\n",
       "      <td>123924.216160</td>\n",
       "    </tr>\n",
       "    <tr>\n",
       "      <th>2022-08-16 04:20:00</th>\n",
       "      <td>24508.3</td>\n",
       "      <td>0.002382</td>\n",
       "      <td>124219.708259</td>\n",
       "    </tr>\n",
       "    <tr>\n",
       "      <th>2022-08-16 04:25:00</th>\n",
       "      <td>24550.0</td>\n",
       "      <td>0.001700</td>\n",
       "      <td>124431.063670</td>\n",
       "    </tr>\n",
       "    <tr>\n",
       "      <th>2022-08-16 04:30:00</th>\n",
       "      <td>24450.0</td>\n",
       "      <td>-0.004082</td>\n",
       "      <td>123924.216160</td>\n",
       "    </tr>\n",
       "  </tbody>\n",
       "</table>\n",
       "<p>10000 rows × 3 columns</p>\n",
       "</div>"
      ],
      "text/plain": [
       "                       price   returns  Hold Strategy\n",
       "Date                                                 \n",
       "2022-07-12 11:15:00  19729.8       NaN            NaN\n",
       "2022-07-12 11:20:00  19713.8 -0.000811   99918.904398\n",
       "2022-07-12 11:25:00  19772.7  0.002983  100217.437582\n",
       "2022-07-12 11:30:00  19823.3  0.002556  100473.902422\n",
       "2022-07-12 11:35:00  19766.9 -0.002849  100188.040426\n",
       "...                      ...       ...            ...\n",
       "2022-08-16 04:10:00  24550.0  0.002039  124431.063670\n",
       "2022-08-16 04:15:00  24450.0 -0.004082  123924.216160\n",
       "2022-08-16 04:20:00  24508.3  0.002382  124219.708259\n",
       "2022-08-16 04:25:00  24550.0  0.001700  124431.063670\n",
       "2022-08-16 04:30:00  24450.0 -0.004082  123924.216160\n",
       "\n",
       "[10000 rows x 3 columns]"
      ]
     },
     "execution_count": 116,
     "metadata": {},
     "output_type": "execute_result"
    }
   ],
   "source": [
    "bc.data"
   ]
  },
  {
   "cell_type": "code",
   "execution_count": 351,
   "id": "84ad1887",
   "metadata": {},
   "outputs": [
    {
     "name": "stdout",
     "output_type": "stream",
     "text": [
      "---------------------------------------------------------------------------\n",
      "Testing SMA strategy | BTCUSD | SMA_S = 50 & SMA_L = 200\n",
      "---------------------------------------------------------------------------\n",
      "2022-07-13 |  Selling 5.130732037818361 for 19482.6, leverage 1\n",
      "2022-07-13 |  Buying (closing) 5.130732037818361 for 19830.9\n",
      "2022-07-13 |  Buying 4.946472325069857 for 19830.9, leverage 1\n",
      "2022-07-13 |  Selling (closing) 4.94449373613983 for 19605.6\n",
      "2022-07-13 |  Selling 4.942538666732016 for 19605.6, leverage 1\n",
      "2022-07-13 |  Buying (closing) 4.942538666732016 for 19740.0\n",
      "2022-07-13 |  Buying 4.8713089026750165 for 19740.0, leverage 1\n",
      "2022-07-14 |  Selling (closing) 4.869360379113947 for 19748.5\n",
      "2022-07-14 |  Selling 4.867411796628996 for 19748.5, leverage 1\n",
      "2022-07-14 |  Buying (closing) 4.867411796628996 for 20199.8\n",
      "2022-07-14 |  Buying 4.646111330627851 for 20199.8, leverage 1\n",
      "2022-07-16 |  Selling (closing) 4.644252886095599 for 20690.8\n",
      "2022-07-16 |  Selling 4.642351101035906 for 20690.8, leverage 1\n",
      "2022-07-16 |  Buying (closing) 4.642351101035906 for 20803.3\n",
      "2022-07-16 |  Buying 4.588447529762977 for 20803.3, leverage 1\n",
      "2022-07-17 |  Selling (closing) 4.586612150751072 for 21192.8\n",
      "2022-07-17 |  Selling 4.584743787166813 for 21192.8, leverage 1\n",
      "2022-07-18 |  Buying (closing) 4.584743787166813 for 21206.0\n",
      "2022-07-18 |  Buying 4.5753705870117924 for 21206.0, leverage 1\n",
      "2022-07-18 |  Selling (closing) 4.573540438776988 for 21363.7\n",
      "2022-07-18 |  Selling 4.571697518436427 for 21363.7, leverage 1\n",
      "2022-07-18 |  Buying (closing) 4.571697518436427 for 21598.0\n",
      "2022-07-18 |  Buying 4.468890214215711 for 21598.0, leverage 1\n",
      "2022-07-18 |  Selling (closing) 4.467102658130025 for 21500.0\n",
      "2022-07-18 |  Selling 4.465323961737666 for 21500.0, leverage 1\n",
      "2022-07-19 |  Buying (closing) 4.465323961737666 for 22191.0\n",
      "2022-07-19 |  Buying 4.183773725729223 for 22191.0, leverage 1\n",
      "2022-07-19 |  Selling (closing) 4.182100216238931 for 22058.5\n",
      "2022-07-19 |  Selling 4.180437424492597 for 22058.5, leverage 1\n",
      "2022-07-19 |  Buying (closing) 4.180437424492597 for 21875.8\n",
      "2022-07-19 |  Buying 4.246892616612065 for 21875.8, leverage 1\n",
      "2022-07-19 |  Selling (closing) 4.24519385956542 for 21879.5\n",
      "2022-07-19 |  Selling 4.243495494862979 for 21879.5, leverage 1\n",
      "2022-07-19 |  Buying (closing) 4.243495494862979 for 22214.2\n",
      "2022-07-19 |  Buying 4.112278870721431 for 22214.2, leverage 1\n",
      "2022-07-19 |  Selling (closing) 4.110633959173143 for 22052.2\n",
      "2022-07-19 |  Selling 4.109001784614721 for 22052.2, leverage 1\n",
      "2022-07-19 |  Buying (closing) 4.109001784614721 for 22349.9\n",
      "2022-07-19 |  Buying 3.996294806691628 for 22349.9, leverage 1\n",
      "2022-07-20 |  Selling (closing) 3.994696288768951 for 23510.0\n",
      "2022-07-20 |  Selling 3.993019563002663 for 23510.0, leverage 1\n",
      "2022-07-21 |  Buying (closing) 3.993019563002663 for 23431.0\n",
      "2022-07-21 |  Buying 4.016740120341807 for 23431.0, leverage 1\n",
      "2022-07-22 |  Selling (closing) 4.01513342429367 for 23384.0\n",
      "2022-07-22 |  Selling 4.013530598964852 for 23384.0, leverage 1\n",
      "2022-07-22 |  Buying (closing) 4.013530598964852 for 23498.9\n",
      "2022-07-22 |  Buying 3.9710864313117673 for 23498.9, leverage 1\n",
      "2022-07-22 |  Selling (closing) 3.9694979967392428 for 23299.8\n",
      "2022-07-22 |  Selling 3.967923765503382 for 23299.8, leverage 1\n",
      "2022-07-23 |  Buying (closing) 3.967923765503382 for 23242.0\n",
      "2022-07-23 |  Buying 3.9844770106273377 for 23242.0, leverage 1\n",
      "2022-07-23 |  Selling (closing) 3.9828832198230866 for 23404.0\n",
      "2022-07-23 |  Selling 3.9812790388974615 for 23404.0, leverage 1\n",
      "2022-07-23 |  Buying (closing) 3.9812790388974615 for 23424.0\n",
      "2022-07-23 |  Buying 3.971298102880684 for 23424.0, leverage 1\n",
      "2022-07-23 |  Selling (closing) 3.9697095836395317 for 22714.4\n",
      "2022-07-23 |  Selling 3.9681713054469125 for 22714.4, leverage 1\n",
      "2022-07-23 |  Buying (closing) 3.9681713054469125 for 23155.0\n",
      "2022-07-23 |  Buying 3.8140421645011053 for 23155.0, leverage 1\n",
      "2022-07-24 |  Selling (closing) 3.8125165476353047 for 23264.0\n",
      "2022-07-24 |  Selling 3.810984395825334 for 23264.0, leverage 1\n",
      "2022-07-24 |  Buying (closing) 3.810984395825334 for 23399.8\n",
      "2022-07-24 |  Buying 3.763719446779029 for 23399.8, leverage 1\n",
      "2022-07-24 |  Selling (closing) 3.7622139590003174 for 23200.0\n",
      "2022-07-24 |  Selling 3.760722033595148 for 23200.0, leverage 1\n",
      "2022-07-24 |  Buying (closing) 3.760722033595148 for 23224.0\n",
      "2022-07-24 |  Buying 3.749943801655943 for 23224.0, leverage 1\n",
      "2022-07-24 |  Selling (closing) 3.7484438241352804 for 23244.7\n",
      "2022-07-24 |  Selling 3.746943111371579 for 23244.7, leverage 1\n",
      "2022-07-24 |  Buying (closing) 3.746943111371579 for 23244.0\n",
      "2022-07-24 |  Buying 3.7441711472312935 for 23244.0, leverage 1\n",
      "2022-07-24 |  Selling (closing) 3.742673478772401 for 23379.2\n",
      "2022-07-24 |  Selling 3.7411677519511373 for 23379.2, leverage 1\n",
      "2022-07-24 |  Buying (closing) 3.7411677519511373 for 23620.0\n",
      "2022-07-24 |  Buying 3.661924788503856 for 23620.0, leverage 1\n",
      "2022-07-25 |  Selling (closing) 3.6604600185884544 for 22908.0\n",
      "2022-07-25 |  Selling 3.6590413426573805 for 22908.0, leverage 1\n",
      "2022-07-25 |  Buying (closing) 3.6590413426573805 for 22301.0\n",
      "2022-07-25 |  Buying 3.8552217441965038 for 22301.0, leverage 1\n",
      "2022-07-25 |  Selling (closing) 3.853679655498825 for 22480.0\n",
      "2022-07-25 |  Selling 3.852125909461211 for 22480.0, leverage 1\n",
      "2022-07-25 |  Buying (closing) 3.852125909461211 for 22664.0\n",
      "2022-07-25 |  Buying 3.78652147215811 for 22664.0, leverage 1\n",
      "2022-07-26 |  Selling (closing) 3.785006863569247 for 21647.3\n",
      "2022-07-26 |  Selling 3.7835639683795548 for 21647.3, leverage 1\n",
      "2022-07-27 |  Buying (closing) 3.7835639683795548 for 22000.0\n",
      "2022-07-27 |  Buying 3.6592708238918688 for 22000.0, leverage 1\n",
      "2022-07-28 |  Selling (closing) 3.657807115562312 for 23023.4\n",
      "2022-07-28 |  Selling 3.65627895627834 for 23023.4, leverage 1\n",
      "2022-07-28 |  Buying (closing) 3.65627895627834 for 23012.4\n",
      "2022-07-28 |  Buying 3.6568479607585562 for 23012.4, leverage 1\n",
      "2022-07-28 |  Selling (closing) 3.6553852215742526 for 22603.0\n",
      "2022-07-28 |  Selling 3.6539495509561304 for 22603.0, leverage 1\n",
      "2022-07-28 |  Buying (closing) 3.6539495509561304 for 23083.4\n",
      "2022-07-28 |  Buying 3.498998941170793 for 23083.4, leverage 1\n",
      "2022-07-28 |  Selling (closing) 3.497599341594325 for 22881.6\n",
      "2022-07-28 |  Selling 3.4962126404274922 for 22881.6, leverage 1\n",
      "2022-07-28 |  Buying (closing) 3.4962126404274922 for 23076.5\n",
      "2022-07-28 |  Buying 3.434382517204247 for 23076.5, leverage 1\n",
      "2022-07-28 |  Selling (closing) 3.433008764197365 for 22884.4\n",
      "2022-07-28 |  Selling 3.431647087862748 for 22884.4, leverage 1\n",
      "2022-07-28 |  Buying (closing) 3.431647087862748 for 23524.0\n",
      "2022-07-28 |  Buying 3.2423685679474277 for 23524.0, leverage 1\n",
      "2022-07-29 |  Selling (closing) 3.2410716205202488 for 23668.2\n",
      "2022-07-29 |  Selling 3.2397672932988044 for 23668.2, leverage 1\n",
      "2022-07-29 |  Buying (closing) 3.2397672932988044 for 23780.9\n",
      "2022-07-29 |  Buying 3.2064806171801314 for 23780.9, leverage 1\n",
      "2022-07-30 |  Selling (closing) 3.2051980249332592 for 23769.8\n",
      "2022-07-30 |  Selling 3.203916544427492 for 23769.8, leverage 1\n",
      "2022-07-30 |  Buying (closing) 3.203916544427492 for 23933.3\n",
      "2022-07-30 |  Buying 3.1575959002033365 for 23933.3, leverage 1\n",
      "2022-07-30 |  Selling (closing) 3.1563328618432553 for 23680.9\n",
      "2022-07-30 |  Selling 3.155083785254887 for 23680.9, leverage 1\n",
      "2022-07-31 |  Buying (closing) 3.155083785254887 for 23801.3\n",
      "2022-07-31 |  Buying 3.120652205703453 for 23801.3, leverage 1\n",
      "2022-07-31 |  Selling (closing) 3.1194039448211717 for 23749.3\n",
      "2022-07-31 |  Selling 3.118158915264905 for 23749.3, leverage 1\n",
      "2022-07-31 |  Buying (closing) 3.118158915264905 for 24067.9\n",
      "2022-07-31 |  Buying 3.0331438481411492 for 24067.9, leverage 1\n",
      "2022-07-31 |  Selling (closing) 3.0319305906018927 for 23697.0\n",
      "2022-07-31 |  Selling 3.0307368003980795 for 23697.0, leverage 1\n",
      "2022-07-31 |  Buying (closing) 3.0307368003980795 for 23871.4\n",
      "2022-07-31 |  Buying 2.9840459279755964 for 23871.4, leverage 1\n",
      "2022-07-31 |  Selling (closing) 2.9828523096044064 for 23328.2\n",
      "2022-07-31 |  Selling 2.9816869511134065 for 23328.2, leverage 1\n",
      "2022-08-01 |  Buying (closing) 2.9816869511134065 for 24000.0\n",
      "2022-08-01 |  Buying 2.812443596982476 for 24000.0, leverage 1\n",
      "2022-08-01 |  Selling (closing) 2.811318619543683 for 23492.9\n",
      "2022-08-01 |  Selling 2.8102183652962283 for 23492.9, leverage 1\n",
      "2022-08-02 |  Buying (closing) 2.8102183652962283 for 23949.0\n",
      "2022-08-02 |  Buying 2.7009738316601495 for 23949.0, leverage 1\n",
      "2022-08-02 |  Selling (closing) 2.6998934421274856 for 23264.0\n",
      "2022-08-02 |  Selling 2.6988452837019388 for 23264.0, leverage 1\n"
     ]
    },
    {
     "name": "stdout",
     "output_type": "stream",
     "text": [
      "2022-08-02 |  Buying (closing) 2.6988452837019388 for 23513.1\n",
      "2022-08-02 |  Buying 2.6395254377571535 for 23513.1, leverage 1\n",
      "2022-08-02 |  Selling (closing) 2.6384696275820505 for 23268.9\n",
      "2022-08-02 |  Selling 2.6374253157042364 for 23268.9, leverage 1\n",
      "2022-08-03 |  Buying (closing) 2.6374253157042364 for 23588.7\n",
      "2022-08-03 |  Buying 2.5638310429945363 for 23588.7, leverage 1\n",
      "2022-08-04 |  Selling (closing) 2.5628055105773386 for 23844.0\n",
      "2022-08-04 |  Selling 2.5617694122911274 for 23844.0, leverage 1\n",
      "2022-08-05 |  Buying (closing) 2.5617694122911274 for 23148.3\n",
      "2022-08-05 |  Buying 2.713641458893622 for 23148.3, leverage 1\n",
      "2022-08-05 |  Selling (closing) 2.7125560023100648 for 23018.0\n",
      "2022-08-05 |  Selling 2.7114771219900704 for 23018.0, leverage 1\n",
      "2022-08-06 |  Buying (closing) 2.7114771219900704 for 23605.3\n",
      "2022-08-06 |  Buying 2.57443877671148 for 23605.3, leverage 1\n",
      "2022-08-06 |  Selling (closing) 2.5734090012007953 for 23208.4\n",
      "2022-08-06 |  Selling 2.5723972413305605 for 23208.4, leverage 1\n",
      "2022-08-07 |  Buying (closing) 2.5723972413305605 for 23259.1\n",
      "2022-08-07 |  Buying 2.5591292275389925 for 23259.1, leverage 1\n",
      "2022-08-08 |  Selling (closing) 2.5581055758479767 for 23821.7\n",
      "2022-08-08 |  Selling 2.5570581675808395 for 23821.7, leverage 1\n",
      "2022-08-09 |  Buying (closing) 2.5570581675808395 for 24300.0\n",
      "2022-08-09 |  Buying 2.4543909815253517 for 24300.0, leverage 1\n",
      "2022-08-09 |  Selling (closing) 2.4534092251327415 for 23584.1\n",
      "2022-08-09 |  Selling 2.4524576509307634 for 23584.1, leverage 1\n",
      "2022-08-10 |  Buying (closing) 2.4524576509307634 for 23793.8\n",
      "2022-08-10 |  Buying 2.4072848771834585 for 23793.8, leverage 1\n",
      "2022-08-11 |  Selling (closing) 2.406321963232585 for 24144.0\n",
      "2022-08-11 |  Selling 2.4053454733148945 for 24144.0, leverage 1\n",
      "2022-08-12 |  Buying (closing) 2.4053454733148945 for 24280.0\n",
      "2022-08-12 |  Buying 2.376485765834342 for 24280.0, leverage 1\n",
      "2022-08-12 |  Selling (closing) 2.375535171528008 for 23774.9\n",
      "2022-08-12 |  Selling 2.374605144847191 for 23774.9, leverage 1\n",
      "2022-08-12 |  Buying (closing) 2.374605144847191 for 24184.0\n",
      "2022-08-12 |  Buying 2.2923992761157757 for 24184.0, leverage 1\n",
      "2022-08-13 |  Selling (closing) 2.2914823164053293 for 24373.4\n",
      "2022-08-13 |  Selling 2.2905586008491676 for 24373.4, leverage 1\n",
      "2022-08-14 |  Buying (closing) 2.2905586008491676 for 24650.4\n",
      "2022-08-14 |  Buying 2.2372680893089094 for 24650.4, leverage 1\n",
      "2022-08-14 |  Selling (closing) 2.236373182073186 for 24345.9\n",
      "2022-08-14 |  Selling 2.2354898211422776 for 24345.9, leverage 1\n",
      "2022-08-15 |  Buying (closing) 2.2354898211422776 for 24948.0\n",
      "2022-08-15 |  Buying 2.1258410776787233 for 24948.0, leverage 1\n",
      "2022-08-15 |  Selling (closing) 2.1249907412476516 for 24429.6\n",
      "2022-08-15 |  Selling 2.1241587820078425 for 24429.6, leverage 1\n",
      "2022-08-16 |  Buying (closing) 2.1241587820078425 for 24314.7\n",
      "2022-08-16 |  Buying 2.1425270040546147 for 24314.7, leverage 1\n",
      "---------------------------------------------------------------------------\n",
      "2022-08-16 | +++ CLOSING FINAL POSITION +++\n",
      "2022-08-16 |  Selling (closing) 2.141669993252993 for 24450.0\n",
      "2022-08-16 | Current Balance: 52363.72\n",
      "2022-08-16 | net performance (%) = -47.64\n",
      "2022-08-16 | number of trades executed = 181\n",
      "---------------------------------------------------------------------------\n"
     ]
    }
   ],
   "source": [
    "bc.test_sma_strategy(50, 200, True)"
   ]
  },
  {
   "cell_type": "code",
   "execution_count": 40,
   "id": "f95cea40",
   "metadata": {},
   "outputs": [
    {
     "name": "stdout",
     "output_type": "stream",
     "text": [
      "2022-08-04 |  Buying 0.09996000000000001 for 23198.0\n"
     ]
    }
   ],
   "source": [
    "bc.buy_instrument(bar = 0, units = 0.1)"
   ]
  },
  {
   "cell_type": "code",
   "execution_count": 56,
   "id": "13ef3a46",
   "metadata": {},
   "outputs": [
    {
     "data": {
      "text/plain": [
       "52351.00666119373"
      ]
     },
     "execution_count": 56,
     "metadata": {},
     "output_type": "execute_result"
    }
   ],
   "source": [
    "bc.current_balance"
   ]
  },
  {
   "cell_type": "code",
   "execution_count": 45,
   "id": "5fe1df86",
   "metadata": {},
   "outputs": [
    {
     "name": "stdout",
     "output_type": "stream",
     "text": [
      "2022-08-04 |  Selling 0.09996000000000001 for 23198.0\n"
     ]
    }
   ],
   "source": [
    "bc.sell_instrument(bar = 0, units = 0.1)"
   ]
  },
  {
   "cell_type": "code",
   "execution_count": 118,
   "id": "fcbd9032",
   "metadata": {},
   "outputs": [
    {
     "data": {
      "text/plain": [
       "2.142002267622539"
      ]
     },
     "execution_count": 118,
     "metadata": {},
     "output_type": "execute_result"
    }
   ],
   "source": [
    "bc.units"
   ]
  },
  {
   "cell_type": "code",
   "execution_count": 348,
   "id": "6914bea6",
   "metadata": {},
   "outputs": [
    {
     "data": {
      "image/png": "[encoded data removed]",
      "text/plain": [
       "<Figure size 864x576 with 1 Axes>"
      ]
     },
     "metadata": {},
     "output_type": "display_data"
    }
   ],
   "source": [
    "bc.plot_data([\"Hold Strategy\", \"NAV\"])"
   ]
  },
  {
   "cell_type": "markdown",
   "id": "6beb7e53",
   "metadata": {},
   "source": [
    "Add leverage and optimizer in function. "
   ]
  },
  {
   "cell_type": "code",
   "execution_count": 311,
   "id": "3a6c5af7",
   "metadata": {},
   "outputs": [],
   "source": [
    "bc.leverage = 5"
   ]
  },
  {
   "cell_type": "code",
   "execution_count": 312,
   "id": "b77be176",
   "metadata": {},
   "outputs": [
    {
     "data": {
      "text/plain": [
       "100000"
      ]
     },
     "execution_count": 312,
     "metadata": {},
     "output_type": "execute_result"
    }
   ],
   "source": [
    "bc.current_balance"
   ]
  },
  {
   "cell_type": "code",
   "execution_count": 313,
   "id": "02dde134",
   "metadata": {},
   "outputs": [
    {
     "data": {
      "text/plain": [
       "0"
      ]
     },
     "execution_count": 313,
     "metadata": {},
     "output_type": "execute_result"
    }
   ],
   "source": [
    "bc.units"
   ]
  },
  {
   "cell_type": "code",
   "execution_count": 314,
   "id": "8b9909f1",
   "metadata": {},
   "outputs": [
    {
     "data": {
      "text/plain": [
       "100000.0"
      ]
     },
     "execution_count": 314,
     "metadata": {},
     "output_type": "execute_result"
    }
   ],
   "source": [
    "bc.get_nav(0)"
   ]
  },
  {
   "cell_type": "code",
   "execution_count": 315,
   "id": "8f9b04a5",
   "metadata": {},
   "outputs": [
    {
     "name": "stdout",
     "output_type": "stream",
     "text": [
      "2022-07-12 |  Buying 5.068475098581841 for 19729.8, leverage 5\n"
     ]
    }
   ],
   "source": [
    "bc.buy_instrument(0, amount = 100000)"
   ]
  },
  {
   "cell_type": "code",
   "execution_count": 317,
   "id": "c9ee43d0",
   "metadata": {},
   "outputs": [
    {
     "data": {
      "text/plain": [
       "80000.0"
      ]
     },
     "execution_count": 317,
     "metadata": {},
     "output_type": "execute_result"
    }
   ],
   "source": [
    "bc.current_balance"
   ]
  },
  {
   "cell_type": "code",
   "execution_count": 318,
   "id": "e3f08f83",
   "metadata": {},
   "outputs": [
    {
     "data": {
      "text/plain": [
       "1.013695019716368"
      ]
     },
     "execution_count": 318,
     "metadata": {},
     "output_type": "execute_result"
    }
   ],
   "source": [
    "bc.unlev_units"
   ]
  },
  {
   "cell_type": "code",
   "execution_count": 319,
   "id": "181785c1",
   "metadata": {},
   "outputs": [
    {
     "data": {
      "text/plain": [
       "100000.0"
      ]
     },
     "execution_count": 319,
     "metadata": {},
     "output_type": "execute_result"
    }
   ],
   "source": [
    "bc.units*bc.data.price[0]"
   ]
  },
  {
   "cell_type": "code",
   "execution_count": 320,
   "id": "50530bed",
   "metadata": {},
   "outputs": [
    {
     "data": {
      "text/plain": [
       "100000.0"
      ]
     },
     "execution_count": 320,
     "metadata": {},
     "output_type": "execute_result"
    }
   ],
   "source": [
    "bc.get_nav(0)"
   ]
  },
  {
   "cell_type": "code",
   "execution_count": 321,
   "id": "ac654166",
   "metadata": {},
   "outputs": [
    {
     "name": "stdout",
     "output_type": "stream",
     "text": [
      "2022-07-12 |  Selling (closing) 5.068475098581841 for 19729.8\n"
     ]
    }
   ],
   "source": [
    "bc.sell_instrument(0, amount = 100000)"
   ]
  },
  {
   "cell_type": "code",
   "execution_count": 322,
   "id": "0666e4a4",
   "metadata": {},
   "outputs": [
    {
     "data": {
      "text/plain": [
       "100000.0"
      ]
     },
     "execution_count": 322,
     "metadata": {},
     "output_type": "execute_result"
    }
   ],
   "source": [
    "bc.current_balance"
   ]
  },
  {
   "cell_type": "code",
   "execution_count": 323,
   "id": "a4180677",
   "metadata": {},
   "outputs": [
    {
     "data": {
      "text/plain": [
       "0.0"
      ]
     },
     "execution_count": 323,
     "metadata": {},
     "output_type": "execute_result"
    }
   ],
   "source": [
    "bc.units*bc.data.price[0]"
   ]
  },
  {
   "cell_type": "code",
   "execution_count": 324,
   "id": "e69262c8",
   "metadata": {},
   "outputs": [
    {
     "data": {
      "text/plain": [
       "100000.0"
      ]
     },
     "execution_count": 324,
     "metadata": {},
     "output_type": "execute_result"
    }
   ],
   "source": [
    "bc.get_nav(0)"
   ]
  },
  {
   "cell_type": "code",
   "execution_count": null,
   "id": "5150a690",
   "metadata": {},
   "outputs": [],
   "source": []
  }
 ],
 "metadata": {
  "kernelspec": {
   "display_name": "Python 3 (ipykernel)",
   "language": "python",
   "name": "python3"
  },
  "language_info": {
   "codemirror_mode": {
    "name": "ipython",
    "version": 3
   },
   "file_extension": ".py",
   "mimetype": "text/x-python",
   "name": "python",
   "nbconvert_exporter": "python",
   "pygments_lexer": "ipython3",
   "version": "3.9.12"
  }
 },
 "nbformat": 4,
 "nbformat_minor": 5
}
