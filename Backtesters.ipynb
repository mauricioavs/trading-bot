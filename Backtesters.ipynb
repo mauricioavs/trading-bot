{
 "cells": [
  {
   "cell_type": "markdown",
   "id": "c6b7dec9",
   "metadata": {},
   "source": [
    "# Iterative Backtesting\n",
    "\n",
    "This implementation helps testing and optimizing SMA strategy with historical binance data."
   ]
  },
  {
   "cell_type": "code",
   "execution_count": 1,
   "id": "57240c89",
   "metadata": {},
   "outputs": [],
   "source": [
    "api_key = \"6ce63f3406fd8ebbff01054a66c25fe3c851c45932088c8ca3131a7005188462\"\n",
    "secret_key = \"aa3ea32929252467fa5ffeac5818c95beabfb5dba691ef445e7eaa31ea0d15f6\""
   ]
  },
  {
   "cell_type": "code",
   "execution_count": 2,
   "id": "14950968",
   "metadata": {},
   "outputs": [],
   "source": [
    "import pandas as pd\n",
    "import numpy as np\n",
    "import matplotlib.pyplot as plt\n",
    "plt.style.use(\"seaborn\")"
   ]
  },
  {
   "cell_type": "code",
   "execution_count": 262,
   "id": "b86f7869",
   "metadata": {},
   "outputs": [],
   "source": [
    "class IterativeBase():\n",
    "\n",
    "    def __init__(self, symbol, start, end, amount, use_fee = True, fee_maker=0, fee_taker=0):\n",
    "        self.symbol = symbol\n",
    "        self.start = start\n",
    "        self.end = end\n",
    "        self.initial_balance = amount\n",
    "        self.current_balance = amount\n",
    "        self.entry_price = 0 #keeps entry price of order\n",
    "        self.unlev_units = 0 #keeps unlevered units\n",
    "        self.units = 0 #keeps position units (unlev_units*leverage)\n",
    "        self.trades = 0\n",
    "        self.position = 0\n",
    "        self.use_fee = use_fee\n",
    "        self.fee_maker = fee_maker #limit orders fee\n",
    "        self.fee_taker = fee_taker #market orders fee (higher)\n",
    "        self.leverage = 1\n",
    "        self.get_data()\n",
    "\n",
    "    def get_data(self):\n",
    "        raw = pd.read_csv(\"5m.csv\", parse_dates = [\"Date\"], index_col = \"Date\").dropna()\n",
    "        raw = raw.loc[self.start:self.end]\n",
    "        raw = raw[[\"Close\"]].rename(columns={\"Close\": \"price\"}) #just use these columns\n",
    "        raw[\"returns\"] = np.log(raw.price / raw.price.shift(1))\n",
    "        raw[\"Hold Strategy\"] = raw[\"returns\"].cumsum().apply(np.exp) * self.initial_balance\n",
    "        self.data = raw\n",
    "\n",
    "    def plot_data(self, cols = None):  \n",
    "        if cols is None:\n",
    "            cols = \"price\"\n",
    "        self.data[cols].plot(figsize = (12, 8), title = self.symbol)\n",
    "    \n",
    "    def get_values(self, bar):\n",
    "        date = str(self.data.index[bar].date())\n",
    "        price = round(self.data.price.iloc[bar], 5)\n",
    "        return date, price\n",
    "    \n",
    "    def print_current_balance(self, bar):\n",
    "        date, price = self.get_values(bar)\n",
    "        print(\"{} | Current Balance: {}\".format(date, round(self.current_balance, 2)))\n",
    "        \n",
    "    def buy_instrument(self, bar, units = None, amount = None):\n",
    "        date, price = self.get_values(bar)\n",
    "        lev = self.leverage\n",
    "        fee = 0\n",
    "        if units is None: # use units if units are passed, otherwise calculate units\n",
    "            units = amount / price\n",
    "        if self.use_fee: #remove fee units, then you buy less units than desired   \n",
    "            fee = units * self.fee_taker\n",
    "            units = units - fee    \n",
    "        if self.position in [0]: #open long position\n",
    "            self.entry_price = price\n",
    "            unlev_units = units/lev\n",
    "            self.current_balance -= ( unlev_units + fee ) * price\n",
    "            self.unlev_units += unlev_units\n",
    "            self.units = units\n",
    "            self.trades += 1\n",
    "            self.position = 1\n",
    "            print(\"{} |  Buying {} for {}, leverage {}\".format(date, units, round(price, 5), self.leverage))\n",
    "        elif self.position in [-1]: #closing short position\n",
    "            self.close_position(bar, units, fee)\n",
    "            print(\"{} |  Buying (closing) {} for {}\".format(date, units, round(price, 5)))\n",
    "            \n",
    "    def sell_instrument(self, bar, units = None, amount = None):\n",
    "        date, price = self.get_values(bar)\n",
    "        lev = self.leverage\n",
    "        fee = 0\n",
    "        if units is None: # use units if units are passed, otherwise calculate units\n",
    "            units = amount / price\n",
    "            print(units)\n",
    "        if self.use_fee: #remove fee units, then you sell all desired units buy paying a fee\n",
    "            fee = units * self.fee_taker\n",
    "            units = units - fee\n",
    "        if self.position in [0]: #open short position\n",
    "            self.entry_price = price\n",
    "            unlev_units = units/lev\n",
    "            self.current_balance += ( unlev_units ) * price\n",
    "            self.unlev_units -= unlev_units + fee \n",
    "            self.units -= units + fee\n",
    "            self.trades += 1\n",
    "            self.position = -1\n",
    "            print(\"{} |  Selling {} for {}, leverage {}\".format(date, units, round(price, 5), self.leverage))\n",
    "        elif self.position in [1]: #closing long position\n",
    "            self.close_position(bar, units, fee)\n",
    "            print(\"{} |  Selling (closing) {} for {}\".format(date, units, round(price, 5)))\n",
    "            \n",
    "    def print_current_position_value(self, bar):\n",
    "        date, price = self.get_values(bar)\n",
    "        cpv = self.unlev_units * price\n",
    "        print(\"{} |  Current Position Value = {}\".format(date, round(cpv, 2)))\n",
    "    \n",
    "    def print_current_nav(self, bar):\n",
    "        nav = self.get_nav(bar)\n",
    "        print(\"{} |  Net Asset Value = {}\".format(date, round(nav, 2)))\n",
    "        \n",
    "    def get_nav(self, bar):\n",
    "        pos_value = self.get_position_value(bar)\n",
    "        return self.current_balance + pos_value\n",
    "    \n",
    "    def close_position(self, bar, units, fee): #helper method for buy and sell instrument methods\n",
    "        pos_value = self.get_position_value(bar)\n",
    "        self.current_balance += pos_value\n",
    "        self.change_to_neutral_position()\n",
    "        \n",
    "    def get_position_value(self, bar): #gets the spent money and profits of a position (subtracts closing fee)\n",
    "        date, price = self.get_values(bar)\n",
    "        my_asset_entry_value = self.unlev_units * self.entry_price\n",
    "        profit = self.units * (price - self.entry_price)\n",
    "        fee = abs(self.units) * price * self.fee_taker * self.use_fee \n",
    "        return my_asset_entry_value + profit - fee\n",
    "    \n",
    "    def change_to_neutral_position(self):\n",
    "        self.position = 0\n",
    "        self.entry_price = 0\n",
    "        self.unlev_units = 0\n",
    "        self.units = 0\n",
    "        self.trades+=1"
   ]
  },
  {
   "cell_type": "code",
   "execution_count": 267,
   "id": "a0c1b8b0",
   "metadata": {},
   "outputs": [],
   "source": [
    "class IterativeBacktest(IterativeBase):\n",
    "\n",
    "    # helper method\n",
    "    def go_long(self, bar, units = None, amount = None):\n",
    "        if self.position == -1:\n",
    "            self.buy_instrument(bar, units = -self.units) # if short position, go neutral first\n",
    "        if units:\n",
    "            self.buy_instrument(bar, units = units)\n",
    "        elif amount:\n",
    "            if amount == \"all\":\n",
    "                amount = self.current_balance * self.leverage\n",
    "            self.buy_instrument(bar, amount = amount) # go long\n",
    "\n",
    "    # helper method\n",
    "    def go_short(self, bar, units = None, amount = None):\n",
    "        if self.position == 1:\n",
    "            self.sell_instrument(bar, units = self.units) # if long position, go neutral first\n",
    "        if units:\n",
    "            self.sell_instrument(bar, units = units)\n",
    "        elif amount:\n",
    "            if amount == \"all\":\n",
    "                amount = self.current_balance * self.leverage\n",
    "            self.sell_instrument(bar, amount = amount) # go short\n",
    "\n",
    "    def test_sma_strategy(self, SMA_S, SMA_L, keep_metrics = True):\n",
    "        \n",
    "        # nice printout\n",
    "        stm = \"Testing SMA strategy | {} | SMA_S = {} & SMA_L = {}\".format(self.symbol, SMA_S, SMA_L)\n",
    "        print(\"-\" * 75)\n",
    "        print(stm)\n",
    "        print(\"-\" * 75)\n",
    "        \n",
    "        # reset \n",
    "        self.position = 0  # initial neutral position\n",
    "        self.trades = 0  # no trades yet\n",
    "        self.current_balance = self.initial_balance  # reset initial capital\n",
    "        self.get_data() # reset dataset\n",
    "        \n",
    "        # prepare data\n",
    "        self.data[\"SMA_S\"] = self.data[\"price\"].rolling(SMA_S).mean()\n",
    "        self.data[\"SMA_L\"] = self.data[\"price\"].rolling(SMA_L).mean()\n",
    "        self.data.dropna(inplace = True)\n",
    "        \n",
    "        #prepare metrics\n",
    "        self.keep_metrics = keep_metrics\n",
    "        self.positions, self.navs = [], []\n",
    "        self.leverage = 1\n",
    "        # sma crossover strategy\n",
    "        for bar in range(len(self.data)-1): # all bars (except the last bar)\n",
    "            if self.data[\"SMA_S\"].iloc[bar] > self.data[\"SMA_L\"].iloc[bar]: # signal to go long\n",
    "                if self.position in [0, -1]:\n",
    "                    self.go_long(bar, amount = \"all\") # go long with full amount\n",
    "            elif self.data[\"SMA_S\"].iloc[bar] < self.data[\"SMA_L\"].iloc[bar]: # signal to go short\n",
    "                if self.position in [0, 1]:\n",
    "                    self.go_short(bar, amount = \"all\") # go short with full amount\n",
    "            self.calculate_metrics(bar)        \n",
    "                    \n",
    "        self.close_final_position(bar+1) # close position at the last bar\n",
    "        self.calculate_metrics(bar+1)\n",
    "        self.add_metrics_to_data()\n",
    "        \n",
    "    def calculate_metrics(self, bar):\n",
    "        if not self.keep_metrics: return\n",
    "        self.positions.append( self.position )\n",
    "        self.navs.append( self.get_nav(bar) )\n",
    "    def add_metrics_to_data(self):\n",
    "        if not self.keep_metrics: return\n",
    "        self.data[\"Position\"] = self.positions\n",
    "        self.data[\"NAV\"] = self.navs\n",
    "        \n",
    "    def close_final_position(self, bar):\n",
    "        date, price = self.get_values(bar)\n",
    "        print(75 * \"-\")\n",
    "        print(\"{} | +++ CLOSING FINAL POSITION +++\".format(date))\n",
    "        if self.position in [-1]:\n",
    "            self.buy_instrument(bar, units = -self.units)\n",
    "        elif self.position in [1]:    \n",
    "            self.sell_instrument(bar, units = self.units)\n",
    "        self.unlev_units = 0 # setting position to neutral\n",
    "        self.units = 0\n",
    "        self.trades += 1\n",
    "        self.position = 0\n",
    "        perf = (self.current_balance - self.initial_balance) / self.initial_balance * 100\n",
    "        self.print_current_balance(bar)\n",
    "        print(\"{} | net performance (%) = {}\".format(date, round(perf, 2) ))\n",
    "        print(\"{} | number of trades executed = {}\".format(date, self.trades))\n",
    "        print(75 * \"-\")    "
   ]
  },
  {
   "cell_type": "markdown",
   "id": "859a6b88",
   "metadata": {},
   "source": [
    "### Test strategy"
   ]
  },
  {
   "cell_type": "code",
   "execution_count": 268,
   "id": "5ca12278",
   "metadata": {},
   "outputs": [],
   "source": [
    "bc = IterativeBacktest(symbol = \"BTCUSD\", \n",
    "                       start = \"2022-01-31\", \n",
    "                       end = \"2023-06-30\", \n",
    "                       amount = 100000, \n",
    "                       use_fee= False,\n",
    "                       fee_maker = 0.0002,\n",
    "                       fee_taker = 0.0004\n",
    "                    )"
   ]
  },
  {
   "cell_type": "code",
   "execution_count": 218,
   "id": "3b118094",
   "metadata": {},
   "outputs": [
    {
     "data": {
      "text/html": [
       "<div>\n",
       "<style scoped>\n",
       "    .dataframe tbody tr th:only-of-type {\n",
       "        vertical-align: middle;\n",
       "    }\n",
       "\n",
       "    .dataframe tbody tr th {\n",
       "        vertical-align: top;\n",
       "    }\n",
       "\n",
       "    .dataframe thead th {\n",
       "        text-align: right;\n",
       "    }\n",
       "</style>\n",
       "<table border=\"1\" class=\"dataframe\">\n",
       "  <thead>\n",
       "    <tr style=\"text-align: right;\">\n",
       "      <th></th>\n",
       "      <th>price</th>\n",
       "      <th>returns</th>\n",
       "      <th>Hold Strategy</th>\n",
       "    </tr>\n",
       "    <tr>\n",
       "      <th>Date</th>\n",
       "      <th></th>\n",
       "      <th></th>\n",
       "      <th></th>\n",
       "    </tr>\n",
       "  </thead>\n",
       "  <tbody>\n",
       "    <tr>\n",
       "      <th>2022-07-12 11:15:00</th>\n",
       "      <td>19729.8</td>\n",
       "      <td>NaN</td>\n",
       "      <td>NaN</td>\n",
       "    </tr>\n",
       "    <tr>\n",
       "      <th>2022-07-12 11:20:00</th>\n",
       "      <td>19713.8</td>\n",
       "      <td>-0.000811</td>\n",
       "      <td>99918.904398</td>\n",
       "    </tr>\n",
       "    <tr>\n",
       "      <th>2022-07-12 11:25:00</th>\n",
       "      <td>19772.7</td>\n",
       "      <td>0.002983</td>\n",
       "      <td>100217.437582</td>\n",
       "    </tr>\n",
       "    <tr>\n",
       "      <th>2022-07-12 11:30:00</th>\n",
       "      <td>19823.3</td>\n",
       "      <td>0.002556</td>\n",
       "      <td>100473.902422</td>\n",
       "    </tr>\n",
       "    <tr>\n",
       "      <th>2022-07-12 11:35:00</th>\n",
       "      <td>19766.9</td>\n",
       "      <td>-0.002849</td>\n",
       "      <td>100188.040426</td>\n",
       "    </tr>\n",
       "    <tr>\n",
       "      <th>...</th>\n",
       "      <td>...</td>\n",
       "      <td>...</td>\n",
       "      <td>...</td>\n",
       "    </tr>\n",
       "    <tr>\n",
       "      <th>2022-08-16 04:10:00</th>\n",
       "      <td>24550.0</td>\n",
       "      <td>0.002039</td>\n",
       "      <td>124431.063670</td>\n",
       "    </tr>\n",
       "    <tr>\n",
       "      <th>2022-08-16 04:15:00</th>\n",
       "      <td>24450.0</td>\n",
       "      <td>-0.004082</td>\n",
       "      <td>123924.216160</td>\n",
       "    </tr>\n",
       "    <tr>\n",
       "      <th>2022-08-16 04:20:00</th>\n",
       "      <td>24508.3</td>\n",
       "      <td>0.002382</td>\n",
       "      <td>124219.708259</td>\n",
       "    </tr>\n",
       "    <tr>\n",
       "      <th>2022-08-16 04:25:00</th>\n",
       "      <td>24550.0</td>\n",
       "      <td>0.001700</td>\n",
       "      <td>124431.063670</td>\n",
       "    </tr>\n",
       "    <tr>\n",
       "      <th>2022-08-16 04:30:00</th>\n",
       "      <td>24450.0</td>\n",
       "      <td>-0.004082</td>\n",
       "      <td>123924.216160</td>\n",
       "    </tr>\n",
       "  </tbody>\n",
       "</table>\n",
       "<p>10000 rows × 3 columns</p>\n",
       "</div>"
      ],
      "text/plain": [
       "                       price   returns  Hold Strategy\n",
       "Date                                                 \n",
       "2022-07-12 11:15:00  19729.8       NaN            NaN\n",
       "2022-07-12 11:20:00  19713.8 -0.000811   99918.904398\n",
       "2022-07-12 11:25:00  19772.7  0.002983  100217.437582\n",
       "2022-07-12 11:30:00  19823.3  0.002556  100473.902422\n",
       "2022-07-12 11:35:00  19766.9 -0.002849  100188.040426\n",
       "...                      ...       ...            ...\n",
       "2022-08-16 04:10:00  24550.0  0.002039  124431.063670\n",
       "2022-08-16 04:15:00  24450.0 -0.004082  123924.216160\n",
       "2022-08-16 04:20:00  24508.3  0.002382  124219.708259\n",
       "2022-08-16 04:25:00  24550.0  0.001700  124431.063670\n",
       "2022-08-16 04:30:00  24450.0 -0.004082  123924.216160\n",
       "\n",
       "[10000 rows x 3 columns]"
      ]
     },
     "execution_count": 218,
     "metadata": {},
     "output_type": "execute_result"
    }
   ],
   "source": [
    "bc.data"
   ]
  },
  {
   "cell_type": "code",
   "execution_count": 269,
   "id": "84ad1887",
   "metadata": {},
   "outputs": [
    {
     "name": "stdout",
     "output_type": "stream",
     "text": [
      "---------------------------------------------------------------------------\n",
      "Testing SMA strategy | BTCUSD | SMA_S = 50 & SMA_L = 200\n",
      "---------------------------------------------------------------------------\n",
      "5.132785151879113\n",
      "2022-07-13 |  Selling 5.132785151879113 for 19482.6, leverage 1\n",
      "2022-07-13 |  Buying (closing) 5.132785151879113 for 19830.9\n",
      "2022-07-13 |  Buying 4.952485814138566 for 19830.9, leverage 1\n",
      "2022-07-13 |  Selling (closing) 4.952485814138566 for 19605.6\n",
      "4.952485814138566\n",
      "2022-07-13 |  Selling 4.952485814138566 for 19605.6, leverage 1\n",
      "2022-07-13 |  Buying (closing) 4.952485814138566 for 19740.0\n",
      "2022-07-13 |  Buying 4.885047709435402 for 19740.0, leverage 1\n",
      "2022-07-14 |  Selling (closing) 4.885047709435402 for 19748.5\n",
      "4.885047709435402\n",
      "2022-07-14 |  Selling 4.885047709435402 for 19748.5, leverage 1\n",
      "2022-07-14 |  Buying (closing) 4.885047709435402 for 20199.8\n",
      "2022-07-14 |  Buying 4.666766139195281 for 20199.8, leverage 1\n",
      "2022-07-16 |  Selling (closing) 4.666766139195281 for 20690.8\n",
      "4.666766139195281\n",
      "2022-07-16 |  Selling 4.666766139195281 for 20690.8, leverage 1\n",
      "2022-07-16 |  Buying (closing) 4.666766139195281 for 20803.3\n",
      "2022-07-16 |  Buying 4.616292301807995 for 20803.3, leverage 1\n",
      "2022-07-17 |  Selling (closing) 4.616292301807995 for 21192.8\n",
      "4.616292301807995\n",
      "2022-07-17 |  Selling 4.616292301807995 for 21192.8, leverage 1\n",
      "2022-07-18 |  Buying (closing) 4.616292301807995 for 21206.0\n",
      "2022-07-18 |  Buying 4.610545337893644 for 21206.0, leverage 1\n",
      "2022-07-18 |  Selling (closing) 4.610545337893644 for 21363.7\n",
      "4.610545337893644\n",
      "2022-07-18 |  Selling 4.610545337893644 for 21363.7, leverage 1\n",
      "2022-07-18 |  Buying (closing) 4.610545337893644 for 21598.0\n",
      "2022-07-18 |  Buying 4.5105128559352705 for 21598.0, leverage 1\n",
      "2022-07-18 |  Selling (closing) 4.5105128559352705 for 21500.0\n",
      "4.51051285593527\n",
      "2022-07-18 |  Selling 4.51051285593527 for 21500.0, leverage 1\n",
      "2022-07-19 |  Buying (closing) 4.51051285593527 for 22191.0\n",
      "2022-07-19 |  Buying 4.229609392057908 for 22191.0, leverage 1\n",
      "2022-07-19 |  Selling (closing) 4.229609392057908 for 22058.5\n",
      "4.229609392057908\n",
      "2022-07-19 |  Selling 4.229609392057908 for 22058.5, leverage 1\n",
      "2022-07-19 |  Buying (closing) 4.229609392057908 for 21875.8\n",
      "2022-07-19 |  Buying 4.300258203614878 for 21875.8, leverage 1\n",
      "2022-07-19 |  Selling (closing) 4.300258203614878 for 21879.5\n",
      "4.300258203614878\n",
      "2022-07-19 |  Selling 4.300258203614878 for 21879.5, leverage 1\n",
      "2022-07-19 |  Buying (closing) 4.300258203614878 for 22214.2\n",
      "2022-07-19 |  Buying 4.170674746119231 for 22214.2, leverage 1\n",
      "2022-07-19 |  Selling (closing) 4.170674746119231 for 22052.2\n",
      "4.17067474611923\n",
      "2022-07-19 |  Selling 4.17067474611923 for 22052.2, leverage 1\n",
      "2022-07-19 |  Buying (closing) 4.17067474611923 for 22349.9\n",
      "2022-07-19 |  Buying 4.059568220191177 for 22349.9, leverage 1\n",
      "2022-07-20 |  Selling (closing) 4.059568220191177 for 23510.0\n",
      "4.059568220191177\n",
      "2022-07-20 |  Selling 4.059568220191177 for 23510.0, leverage 1\n",
      "2022-07-21 |  Buying (closing) 4.059568220191177 for 23431.0\n",
      "2022-07-21 |  Buying 4.086942714612679 for 23431.0, leverage 1\n",
      "2022-07-22 |  Selling (closing) 4.086942714612679 for 23384.0\n",
      "4.086942714612678\n",
      "2022-07-22 |  Selling 4.086942714612678 for 23384.0, leverage 1\n",
      "2022-07-22 |  Buying (closing) 4.086942714612678 for 23498.9\n",
      "2022-07-22 |  Buying 4.046975761443892 for 23498.9, leverage 1\n",
      "2022-07-22 |  Selling (closing) 4.046975761443892 for 23299.8\n",
      "4.046975761443892\n",
      "2022-07-22 |  Selling 4.046975761443892 for 23299.8, leverage 1\n",
      "2022-07-23 |  Buying (closing) 4.046975761443892 for 23242.0\n",
      "2022-07-23 |  Buying 4.06710442498502 for 23242.0, leverage 1\n",
      "2022-07-23 |  Selling (closing) 4.06710442498502 for 23404.0\n",
      "4.06710442498502\n",
      "2022-07-23 |  Selling 4.06710442498502 for 23404.0, leverage 1\n",
      "2022-07-23 |  Buying (closing) 4.06710442498502 for 23424.0\n",
      "2022-07-23 |  Buying 4.060159233002463 for 23424.0, leverage 1\n",
      "2022-07-23 |  Selling (closing) 4.060159233002463 for 22714.4\n",
      "4.060159233002464\n",
      "2022-07-23 |  Selling 4.060159233002464 for 22714.4, leverage 1\n",
      "2022-07-23 |  Buying (closing) 4.060159233002464 for 23155.0\n",
      "2022-07-23 |  Buying 3.9056434776096 for 23155.0, leverage 1\n",
      "2022-07-24 |  Selling (closing) 3.9056434776096 for 23264.0\n",
      "3.9056434776096003\n",
      "2022-07-24 |  Selling 3.9056434776096003 for 23264.0, leverage 1\n",
      "2022-07-24 |  Buying (closing) 3.9056434776096003 for 23399.8\n",
      "2022-07-24 |  Buying 3.8603109205570285 for 23399.8, leverage 1\n",
      "2022-07-24 |  Selling (closing) 3.8603109205570285 for 23200.0\n",
      "3.8603109205570285\n",
      "2022-07-24 |  Selling 3.8603109205570285 for 23200.0, leverage 1\n",
      "2022-07-24 |  Buying (closing) 3.8603109205570285 for 23224.0\n",
      "2022-07-24 |  Buying 3.8523323240970413 for 23224.0, leverage 1\n",
      "2022-07-24 |  Selling (closing) 3.8523323240970413 for 23244.7\n",
      "3.8523323240970413\n",
      "2022-07-24 |  Selling 3.8523323240970413 for 23244.7, leverage 1\n",
      "2022-07-24 |  Buying (closing) 3.8523323240970413 for 23244.0\n",
      "2022-07-24 |  Buying 3.852564352373317 for 23244.0, leverage 1\n",
      "2022-07-24 |  Selling (closing) 3.852564352373317 for 23379.2\n",
      "3.852564352373317\n",
      "2022-07-24 |  Selling 3.852564352373317 for 23379.2, leverage 1\n",
      "2022-07-24 |  Buying (closing) 3.852564352373317 for 23620.0\n",
      "2022-07-24 |  Buying 3.774012489879541 for 23620.0, leverage 1\n",
      "2022-07-25 |  Selling (closing) 3.774012489879541 for 22908.0\n",
      "3.7740124898795413\n",
      "2022-07-25 |  Selling 3.7740124898795413 for 22908.0, leverage 1\n",
      "2022-07-25 |  Buying (closing) 3.7740124898795413 for 22301.0\n",
      "2022-07-25 |  Buying 3.9794584861448996 for 22301.0, leverage 1\n",
      "2022-07-25 |  Selling (closing) 3.9794584861448996 for 22480.0\n",
      "3.9794584861449\n",
      "2022-07-25 |  Selling 3.9794584861449 for 22480.0, leverage 1\n",
      "2022-07-25 |  Buying (closing) 3.9794584861449 for 22664.0\n",
      "2022-07-25 |  Buying 3.914843205395636 for 22664.0, leverage 1\n",
      "2022-07-26 |  Selling (closing) 3.914843205395636 for 21647.3\n",
      "3.9148432053956363\n",
      "2022-07-26 |  Selling 3.9148432053956363 for 21647.3, leverage 1\n",
      "2022-07-27 |  Buying (closing) 3.9148432053956363 for 22000.0\n",
      "2022-07-27 |  Buying 3.7893190964371777 for 22000.0, leverage 1\n",
      "2022-07-28 |  Selling (closing) 3.7893190964371777 for 23023.4\n",
      "3.7893190964371777\n",
      "2022-07-28 |  Selling 3.7893190964371777 for 23023.4, leverage 1\n",
      "2022-07-28 |  Buying (closing) 3.7893190964371777 for 23012.4\n",
      "2022-07-28 |  Buying 3.7929417094684834 for 23012.4, leverage 1\n",
      "2022-07-28 |  Selling (closing) 3.7929417094684834 for 22603.0\n",
      "3.7929417094684834\n",
      "2022-07-28 |  Selling 3.7929417094684834 for 22603.0, leverage 1\n",
      "2022-07-28 |  Buying (closing) 3.7929417094684834 for 23083.4\n",
      "2022-07-28 |  Buying 3.6350681555527977 for 23083.4, leverage 1\n",
      "2022-07-28 |  Selling (closing) 3.6350681555527977 for 22881.6\n",
      "3.635068155552798\n",
      "2022-07-28 |  Selling 3.635068155552798 for 22881.6, leverage 1\n",
      "2022-07-28 |  Buying (closing) 3.635068155552798 for 23076.5\n",
      "2022-07-28 |  Buying 3.5736658819396205 for 23076.5, leverage 1\n",
      "2022-07-28 |  Selling (closing) 3.5736658819396205 for 22884.4\n",
      "3.5736658819396205\n",
      "2022-07-28 |  Selling 3.5736658819396205 for 22884.4, leverage 1\n",
      "2022-07-28 |  Buying (closing) 3.5736658819396205 for 23524.0\n",
      "2022-07-28 |  Buying 3.3793352665605543 for 23524.0, leverage 1\n",
      "2022-07-29 |  Selling (closing) 3.3793352665605543 for 23668.2\n",
      "3.3793352665605543\n",
      "2022-07-29 |  Selling 3.3793352665605543 for 23668.2, leverage 1\n",
      "2022-07-29 |  Buying (closing) 3.3793352665605543 for 23780.9\n",
      "2022-07-29 |  Buying 3.347305268996006 for 23780.9, leverage 1\n",
      "2022-07-30 |  Selling (closing) 3.347305268996006 for 23769.8\n",
      "3.3473052689960063\n",
      "2022-07-30 |  Selling 3.3473052689960063 for 23769.8, leverage 1\n",
      "2022-07-30 |  Buying (closing) 3.3473052689960063 for 23933.3\n",
      "2022-07-30 |  Buying 3.3015711319166354 for 23933.3, leverage 1\n",
      "2022-07-30 |  Selling (closing) 3.3015711319166354 for 23680.9\n",
      "3.3015711319166354\n",
      "2022-07-30 |  Selling 3.3015711319166354 for 23680.9, leverage 1\n",
      "2022-07-31 |  Buying (closing) 3.3015711319166354 for 23801.3\n",
      "2022-07-31 |  Buying 3.268168824960061 for 23801.3, leverage 1\n",
      "2022-07-31 |  Selling (closing) 3.268168824960061 for 23749.3\n",
      "3.2681688249600613\n",
      "2022-07-31 |  Selling 3.2681688249600613 for 23749.3, leverage 1\n",
      "2022-07-31 |  Buying (closing) 3.2681688249600613 for 24067.9\n",
      "2022-07-31 |  Buying 3.181643736553322 for 24067.9, leverage 1\n",
      "2022-07-31 |  Selling (closing) 3.181643736553322 for 23697.0\n",
      "3.1816437365533217\n",
      "2022-07-31 |  Selling 3.1816437365533217 for 23697.0, leverage 1\n",
      "2022-07-31 |  Buying (closing) 3.1816437365533217 for 23871.4\n",
      "2022-07-31 |  Buying 3.1351547440639913 for 23871.4, leverage 1\n",
      "2022-07-31 |  Selling (closing) 3.1351547440639913 for 23328.2\n",
      "3.135154744063991\n",
      "2022-07-31 |  Selling 3.135154744063991 for 23328.2, leverage 1\n",
      "2022-08-01 |  Buying (closing) 3.135154744063991 for 24000.0\n",
      "2022-08-01 |  Buying 2.9596383309754755 for 24000.0, leverage 1\n"
     ]
    },
    {
     "name": "stdout",
     "output_type": "stream",
     "text": [
      "2022-08-01 |  Selling (closing) 2.9596383309754755 for 23492.9\n",
      "2.959638330975475\n",
      "2022-08-01 |  Selling 2.959638330975475 for 23492.9, leverage 1\n",
      "2022-08-02 |  Buying (closing) 2.959638330975475 for 23949.0\n",
      "2022-08-02 |  Buying 2.846907858491621 for 23949.0, leverage 1\n",
      "2022-08-02 |  Selling (closing) 2.846907858491621 for 23264.0\n",
      "2.846907858491621\n",
      "2022-08-02 |  Selling 2.846907858491621 for 23264.0, leverage 1\n",
      "2022-08-02 |  Buying (closing) 2.846907858491621 for 23513.1\n",
      "2022-08-02 |  Buying 2.786587037540725 for 23513.1, leverage 1\n",
      "2022-08-02 |  Selling (closing) 2.786587037540725 for 23268.9\n",
      "2.786587037540725\n",
      "2022-08-02 |  Selling 2.786587037540725 for 23268.9, leverage 1\n",
      "2022-08-03 |  Buying (closing) 2.786587037540725 for 23588.7\n",
      "2022-08-03 |  Buying 2.711029627882243 for 23588.7, leverage 1\n",
      "2022-08-04 |  Selling (closing) 2.711029627882243 for 23844.0\n",
      "2.711029627882243\n",
      "2022-08-04 |  Selling 2.711029627882243 for 23844.0, leverage 1\n",
      "2022-08-05 |  Buying (closing) 2.711029627882243 for 23148.3\n",
      "2022-08-05 |  Buying 2.873984429065714 for 23148.3, leverage 1\n",
      "2022-08-05 |  Selling (closing) 2.873984429065714 for 23018.0\n",
      "2.873984429065714\n",
      "2022-08-05 |  Selling 2.873984429065714 for 23018.0, leverage 1\n",
      "2022-08-06 |  Buying (closing) 2.873984429065714 for 23605.3\n",
      "2022-08-06 |  Buying 2.7309749307589533 for 23605.3, leverage 1\n",
      "2022-08-06 |  Selling (closing) 2.7309749307589533 for 23208.4\n",
      "2.7309749307589533\n",
      "2022-08-06 |  Selling 2.7309749307589533 for 23208.4, leverage 1\n",
      "2022-08-07 |  Buying (closing) 2.7309749307589533 for 23259.1\n",
      "2022-08-07 |  Buying 2.71906901617159 for 23259.1, leverage 1\n",
      "2022-08-08 |  Selling (closing) 2.71906901617159 for 23821.7\n",
      "2.71906901617159\n",
      "2022-08-08 |  Selling 2.71906901617159 for 23821.7, leverage 1\n",
      "2022-08-09 |  Buying (closing) 2.71906901617159 for 24300.0\n",
      "2022-08-09 |  Buying 2.6120294515267446 for 24300.0, leverage 1\n",
      "2022-08-09 |  Selling (closing) 2.6120294515267446 for 23584.1\n",
      "2.6120294515267446\n",
      "2022-08-09 |  Selling 2.6120294515267446 for 23584.1, leverage 1\n",
      "2022-08-10 |  Buying (closing) 2.6120294515267446 for 23793.8\n",
      "2022-08-10 |  Buying 2.5659886698117464 for 23793.8, leverage 1\n",
      "2022-08-11 |  Selling (closing) 2.5659886698117464 for 24144.0\n",
      "2.5659886698117464\n",
      "2022-08-11 |  Selling 2.5659886698117464 for 24144.0, leverage 1\n",
      "2022-08-12 |  Buying (closing) 2.5659886698117464 for 24280.0\n",
      "2022-08-12 |  Buying 2.5372428329835426 for 24280.0, leverage 1\n",
      "2022-08-12 |  Selling (closing) 2.5372428329835426 for 23774.9\n",
      "2.5372428329835426\n",
      "2022-08-12 |  Selling 2.5372428329835426 for 23774.9, leverage 1\n",
      "2022-08-12 |  Buying (closing) 2.5372428329835426 for 24184.0\n",
      "2022-08-12 |  Buying 2.4514021082917163 for 24184.0, leverage 1\n",
      "2022-08-13 |  Selling (closing) 2.4514021082917163 for 24373.4\n",
      "2.4514021082917163\n",
      "2022-08-13 |  Selling 2.4514021082917163 for 24373.4, leverage 1\n",
      "2022-08-14 |  Buying (closing) 2.4514021082917163 for 24650.4\n",
      "2022-08-14 |  Buying 2.3963086100931634 for 24650.4, leverage 1\n",
      "2022-08-14 |  Selling (closing) 2.3963086100931634 for 24345.9\n",
      "2.3963086100931634\n",
      "2022-08-14 |  Selling 2.3963086100931634 for 24345.9, leverage 1\n",
      "2022-08-15 |  Buying (closing) 2.3963086100931634 for 24948.0\n",
      "2022-08-15 |  Buying 2.280642631727195 for 24948.0, leverage 1\n",
      "2022-08-15 |  Selling (closing) 2.280642631727195 for 24429.6\n",
      "2.280642631727195\n",
      "2022-08-15 |  Selling 2.280642631727195 for 24429.6, leverage 1\n",
      "2022-08-16 |  Buying (closing) 2.280642631727195 for 24314.7\n",
      "2022-08-16 |  Buying 2.3021971512882384 for 24314.7, leverage 1\n",
      "---------------------------------------------------------------------------\n",
      "2022-08-16 | +++ CLOSING FINAL POSITION +++\n",
      "2022-08-16 |  Selling (closing) 2.3021971512882384 for 24450.0\n",
      "2022-08-16 | Current Balance: 56288.72\n",
      "2022-08-16 | net performance (%) = -43.71\n",
      "2022-08-16 | number of trades executed = 181\n",
      "---------------------------------------------------------------------------\n"
     ]
    }
   ],
   "source": [
    "bc.test_sma_strategy(50, 200, True)"
   ]
  },
  {
   "cell_type": "code",
   "execution_count": 266,
   "id": "6914bea6",
   "metadata": {},
   "outputs": [
    {
     "data": {
      "image/png": "[encoded data removed]",
      "text/plain": [
       "<Figure size 864x576 with 1 Axes>"
      ]
     },
     "metadata": {},
     "output_type": "display_data"
    }
   ],
   "source": [
    "bc.plot_data([\"Hold Strategy\", \"NAV\"])"
   ]
  },
  {
   "cell_type": "markdown",
   "id": "6beb7e53",
   "metadata": {},
   "source": [
    "Add leverage and optimizer in function. "
   ]
  },
  {
   "cell_type": "markdown",
   "id": "88c70ff6",
   "metadata": {},
   "source": [
    "### Testing buying and selling instrument by amount"
   ]
  },
  {
   "cell_type": "code",
   "execution_count": 291,
   "id": "bc221a1d",
   "metadata": {},
   "outputs": [],
   "source": [
    "#put fees false to make calculations simpler\n",
    "bc = IterativeBacktest(symbol = \"BTCUSD\", \n",
    "                       start = \"2022-01-31\", \n",
    "                       end = \"2023-06-30\", \n",
    "                       amount = 100000, \n",
    "                       use_fee= True,\n",
    "                       fee_maker = 0.0002,\n",
    "                       fee_taker = 0.0004\n",
    "                    )"
   ]
  },
  {
   "cell_type": "code",
   "execution_count": 292,
   "id": "36404770",
   "metadata": {},
   "outputs": [
    {
     "data": {
      "text/plain": [
       "19729.8"
      ]
     },
     "execution_count": 292,
     "metadata": {},
     "output_type": "execute_result"
    }
   ],
   "source": [
    "#prints first period price\n",
    "bc.data.price[0]"
   ]
  },
  {
   "cell_type": "code",
   "execution_count": 293,
   "id": "e59e0915",
   "metadata": {},
   "outputs": [
    {
     "data": {
      "text/plain": [
       "39459.6"
      ]
     },
     "execution_count": 293,
     "metadata": {},
     "output_type": "execute_result"
    }
   ],
   "source": [
    "#make the next period double of that to test it easier\n",
    "bc.data.price[1] = bc.data.price[0]*2\n",
    "bc.data.price[1]"
   ]
  },
  {
   "cell_type": "code",
   "execution_count": 295,
   "id": "3a6c5af7",
   "metadata": {},
   "outputs": [],
   "source": [
    "#put the leverage that you want\n",
    "bc.leverage = 1"
   ]
  },
  {
   "cell_type": "code",
   "execution_count": 296,
   "id": "b77be176",
   "metadata": {},
   "outputs": [
    {
     "data": {
      "text/plain": [
       "100000"
      ]
     },
     "execution_count": 296,
     "metadata": {},
     "output_type": "execute_result"
    }
   ],
   "source": [
    "#available balance as declared bc\n",
    "bc.current_balance"
   ]
  },
  {
   "cell_type": "code",
   "execution_count": 297,
   "id": "02dde134",
   "metadata": {},
   "outputs": [
    {
     "data": {
      "text/plain": [
       "0"
      ]
     },
     "execution_count": 297,
     "metadata": {},
     "output_type": "execute_result"
    }
   ],
   "source": [
    "#you dont have units!!! must be 0\n",
    "bc.units"
   ]
  },
  {
   "cell_type": "code",
   "execution_count": 298,
   "id": "8b9909f1",
   "metadata": {},
   "outputs": [
    {
     "data": {
      "text/plain": [
       "100000.0"
      ]
     },
     "execution_count": 298,
     "metadata": {},
     "output_type": "execute_result"
    }
   ],
   "source": [
    "#nav = Net Asset Value. Its the sum of your balance and current position. You dont have positions\n",
    "#must be same as bc.current_balance\n",
    "bc.get_nav(0)"
   ]
  },
  {
   "cell_type": "code",
   "execution_count": 299,
   "id": "702ec752",
   "metadata": {},
   "outputs": [
    {
     "data": {
      "text/plain": [
       "100000"
      ]
     },
     "execution_count": 299,
     "metadata": {},
     "output_type": "execute_result"
    }
   ],
   "source": [
    "#max amount of money you can spend is your current_balance times leverage \n",
    "max_amount = bc.current_balance*bc.leverage\n",
    "max_amount"
   ]
  },
  {
   "cell_type": "code",
   "execution_count": 300,
   "id": "8f9b04a5",
   "metadata": {},
   "outputs": [
    {
     "name": "stdout",
     "output_type": "stream",
     "text": [
      "2022-07-12 |  Buying 5.066447708542408 for 19729.8, leverage 1\n"
     ]
    }
   ],
   "source": [
    "#buy max amount of units permitted\n",
    "bc.buy_instrument(0, amount = max_amount)"
   ]
  },
  {
   "cell_type": "code",
   "execution_count": 301,
   "id": "c9ee43d0",
   "metadata": {},
   "outputs": [
    {
     "data": {
      "text/plain": [
       "0.0"
      ]
     },
     "execution_count": 301,
     "metadata": {},
     "output_type": "execute_result"
    }
   ],
   "source": [
    "#must be 0, because you spent all your money to buy units\n",
    "bc.current_balance"
   ]
  },
  {
   "cell_type": "code",
   "execution_count": 302,
   "id": "e3f08f83",
   "metadata": {},
   "outputs": [
    {
     "data": {
      "text/plain": [
       "5.066447708542408"
      ]
     },
     "execution_count": 302,
     "metadata": {},
     "output_type": "execute_result"
    }
   ],
   "source": [
    "#these are your corresponding unlevered units of your position\n",
    "#calculated doing bc.units/bc.leverage\n",
    "bc.unlev_units"
   ]
  },
  {
   "cell_type": "code",
   "execution_count": 303,
   "id": "60db0e7c",
   "metadata": {},
   "outputs": [
    {
     "data": {
      "text/plain": [
       "5.066447708542408"
      ]
     },
     "execution_count": 303,
     "metadata": {},
     "output_type": "execute_result"
    }
   ],
   "source": [
    "#total units on your position (includes bought by leverage)\n",
    "bc.units"
   ]
  },
  {
   "cell_type": "code",
   "execution_count": 305,
   "id": "181785c1",
   "metadata": {},
   "outputs": [
    {
     "data": {
      "text/plain": [
       "99960.0"
      ]
     },
     "execution_count": 305,
     "metadata": {},
     "output_type": "execute_result"
    }
   ],
   "source": [
    "#you can get again the previous bought amount multiplying your units by buy price\n",
    "# if fees are true, it will be a little less because opening position fee was paid\n",
    "amount = bc.units*bc.data.price[0]\n",
    "amount"
   ]
  },
  {
   "cell_type": "code",
   "execution_count": 306,
   "id": "50530bed",
   "metadata": {},
   "outputs": [
    {
     "data": {
      "text/plain": [
       "99920.016"
      ]
     },
     "execution_count": 306,
     "metadata": {},
     "output_type": "execute_result"
    }
   ],
   "source": [
    "#nav at time of buy, it must be the same as before buying\n",
    "#if fee is True it will be less than cell above, because this takes into account the closing position fee\n",
    "bc.get_nav(0)"
   ]
  },
  {
   "cell_type": "code",
   "execution_count": 307,
   "id": "4b2c37bc",
   "metadata": {},
   "outputs": [
    {
     "data": {
      "text/plain": [
       "199840.032"
      ]
     },
     "execution_count": 307,
     "metadata": {},
     "output_type": "execute_result"
    }
   ],
   "source": [
    "#nav if we sell at the next period, it must consider leverage profits (and fees)\n",
    "bc.get_nav(1)"
   ]
  },
  {
   "cell_type": "code",
   "execution_count": 308,
   "id": "b5f53dac",
   "metadata": {},
   "outputs": [
    {
     "data": {
      "text/plain": [
       "199920.0"
      ]
     },
     "execution_count": 308,
     "metadata": {},
     "output_type": "execute_result"
    }
   ],
   "source": [
    "#to sell all the units bought using \"amount\" you need to consider this: \n",
    "#The amount that you have changes when price moves, because you have units of the instrument!!!!!\n",
    "#the current amount to sell is the total of units you have multiplied by the current price.\n",
    "available_amount = bc.units*bc.data.price[1]\n",
    "available_amount"
   ]
  },
  {
   "cell_type": "code",
   "execution_count": 287,
   "id": "ac654166",
   "metadata": {},
   "outputs": [
    {
     "name": "stdout",
     "output_type": "stream",
     "text": [
      "15.205425295745522\n",
      "2022-07-12 |  Selling (closing) 15.205425295745522 for 39459.6\n"
     ]
    }
   ],
   "source": [
    "bc.sell_instrument(1, amount = available_amount)\n",
    "#MUST VERIFY THAT SELLS ALL BOUGHT UNITS"
   ]
  },
  {
   "cell_type": "code",
   "execution_count": 288,
   "id": "0666e4a4",
   "metadata": {},
   "outputs": [
    {
     "data": {
      "text/plain": [
       "400000.0"
      ]
     },
     "execution_count": 288,
     "metadata": {},
     "output_type": "execute_result"
    }
   ],
   "source": [
    "#must be same as predicted in bc.get_nav(1)\n",
    "bc.current_balance"
   ]
  },
  {
   "cell_type": "code",
   "execution_count": 289,
   "id": "a4180677",
   "metadata": {},
   "outputs": [
    {
     "data": {
      "text/plain": [
       "0"
      ]
     },
     "execution_count": 289,
     "metadata": {},
     "output_type": "execute_result"
    }
   ],
   "source": [
    "#must have now 0\n",
    "bc.units"
   ]
  },
  {
   "cell_type": "code",
   "execution_count": 290,
   "id": "e69262c8",
   "metadata": {},
   "outputs": [
    {
     "data": {
      "text/plain": [
       "400000.0"
      ]
     },
     "execution_count": 290,
     "metadata": {},
     "output_type": "execute_result"
    }
   ],
   "source": [
    "#must be same as bc.current_balance (2 cells above) because now you dont have open positions\n",
    "bc.get_nav(1)"
   ]
  },
  {
   "cell_type": "code",
   "execution_count": null,
   "id": "5150a690",
   "metadata": {},
   "outputs": [],
   "source": []
  }
 ],
 "metadata": {
  "kernelspec": {
   "display_name": "Python 3 (ipykernel)",
   "language": "python",
   "name": "python3"
  },
  "language_info": {
   "codemirror_mode": {
    "name": "ipython",
    "version": 3
   },
   "file_extension": ".py",
   "mimetype": "text/x-python",
   "name": "python",
   "nbconvert_exporter": "python",
   "pygments_lexer": "ipython3",
   "version": "3.9.12"
  }
 },
 "nbformat": 4,
 "nbformat_minor": 5
}
