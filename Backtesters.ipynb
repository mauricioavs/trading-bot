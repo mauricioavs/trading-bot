{
 "cells": [
  {
   "attachments": {},
   "cell_type": "markdown",
   "id": "c6b7dec9",
   "metadata": {},
   "source": [
    "# Iterative Backtesting\n",
    "\n",
    "This implementation helps testing and optimizing SMA strategy with historical binance data."
   ]
  },
  {
   "cell_type": "code",
   "execution_count": 1,
   "id": "14950968",
   "metadata": {},
   "outputs": [
    {
     "name": "stderr",
     "output_type": "stream",
     "text": [
      "2023-05-19 23:25:17.248951: I tensorflow/core/platform/cpu_feature_guard.cc:193] This TensorFlow binary is optimized with oneAPI Deep Neural Network Library (oneDNN) to use the following CPU instructions in performance-critical operations:  FMA\n",
      "To enable them in other operations, rebuild TensorFlow with the appropriate compiler flags.\n",
      "2023-05-19 23:25:18.375963: W tensorflow/stream_executor/platform/default/dso_loader.cc:64] Could not load dynamic library 'libcudart.so.11.0'; dlerror: libcudart.so.11.0: cannot open shared object file: No such file or directory\n",
      "2023-05-19 23:25:18.376032: I tensorflow/stream_executor/cuda/cudart_stub.cc:29] Ignore above cudart dlerror if you do not have a GPU set up on your machine.\n",
      "2023-05-19 23:25:18.580579: E tensorflow/stream_executor/cuda/cuda_blas.cc:2981] Unable to register cuBLAS factory: Attempting to register factory for plugin cuBLAS when one has already been registered\n",
      "2023-05-19 23:25:21.890692: W tensorflow/stream_executor/platform/default/dso_loader.cc:64] Could not load dynamic library 'libnvinfer.so.7'; dlerror: libnvinfer.so.7: cannot open shared object file: No such file or directory\n",
      "2023-05-19 23:25:21.891199: W tensorflow/stream_executor/platform/default/dso_loader.cc:64] Could not load dynamic library 'libnvinfer_plugin.so.7'; dlerror: libnvinfer_plugin.so.7: cannot open shared object file: No such file or directory\n",
      "2023-05-19 23:25:21.891232: W tensorflow/compiler/tf2tensorrt/utils/py_utils.cc:38] TF-TRT Warning: Cannot dlopen some TensorRT libraries. If you would like to use Nvidia GPU with TensorRT, please make sure the missing libraries mentioned above are installed properly.\n"
     ]
    }
   ],
   "source": [
    "import pandas as pd\n",
    "import numpy as np\n",
    "import matplotlib.pyplot as plt\n",
    "plt.style.use(\"seaborn\")\n",
    "import sys\n",
    "from itertools import product\n",
    "from lib.TechnicalIndicators import *"
   ]
  },
  {
   "attachments": {},
   "cell_type": "markdown",
   "id": "81a95ec6",
   "metadata": {},
   "source": [
    "### Maintenance Margin\n",
    "The calculation of maintenance margin is necessary to get the liquidation price of orders.\n",
    "This class keeps tables of maintenance margin of pairs of instruments. Your need to instantiate it before making orders. If you want to trade a new pair, you need to search its table and add it to the class!!!!\n",
    "\n",
    "Tables and formula obtained from https://www.binance.com/en/futures/trading-rules/perpetual/leverage-margin"
   ]
  },
  {
   "cell_type": "code",
   "execution_count": 2,
   "id": "3ff772c8",
   "metadata": {},
   "outputs": [],
   "source": [
    "class MaintenanceMarginTables():\n",
    "    #obtained from https://www.binance.com/en/futures/trading-rules/perpetual/leverage-margin\n",
    "    \n",
    "    def __init__(self):\n",
    "        ### Available Maintenance Margin tables ###\n",
    "        self.BTCUSDT = None\n",
    "        self.BTCBUSD = None\n",
    "        ########### Fill each table ##############\n",
    "        d = {'Tier': range(1,11),\n",
    "         'PB' : [50000, 250000, 1000000, 10000000, 20000000, 50000000, 100000000, 200000000, 300000000, 500000000], #Position Bracker (Notional Value in USDT) (top boundary)\n",
    "         'ML' : [125, 100, 50, 20, 10, 5, 4, 3, 2, 1], #Max Leverage\n",
    "         'MMR' : [0.004, 0.005, 0.01, 0.025, 0.05, 0.1, 0.125, 0.15, 0.25, 0.5], #Maintenance Margin Rate\n",
    "         'MA' : [0, 50, 1300, 16300, 266300, 1266300, 2516300, 5016300, 25016300, 100016300] #Maintenance AMount (USDT)\n",
    "        }\n",
    "        self.BTCUSDT = pd.DataFrame(data = d)\n",
    "\n",
    "        d = {'Tier': range(1,11),\n",
    "         'PB' : [50000, 250000, 1000000, 7500000, 40000000, 100000000, 200000000, 400000000, 600000000, 1000000000], #Position Bracker (Notional Value in BUSD) (top boundary)\n",
    "         'ML' : [50, 25, 20, 10, 6, 5, 4, 3, 2, 1], #Max Leverage\n",
    "         'MMR' : [0.004, 0.005, 0.01, 0.025, 0.05, 0.1, 0.125, 0.15, 0.25, 0.5], #Maintenance Margin Rate\n",
    "         'MA' : [0, 50, 1300, 16300, 203800, 2203800, 4703800, 9703800, 49703800, 199703800] #Maintenance AMount (BUSD)\n",
    "        }\n",
    "        self.BTCBUSD = pd.DataFrame(data = d)\n",
    "        \n",
    "    def get_table(self, pair):\n",
    "        table = \"self.\"+ pair.upper()\n",
    "        return eval(table)\n",
    "MMT = MaintenanceMarginTables()  \n",
    "\n",
    "#stores minimum order quantities\n",
    "class MinOrders():\n",
    "    \n",
    "    def __init__(self):\n",
    "        self.BTCBUSD = 0.001\n",
    "        self.BTCUSDT = 0.001 #0.001 BTC\n",
    "    def get_min_units(self, pair):\n",
    "        return eval(\"self.\" + pair)\n",
    "MO = MinOrders()"
   ]
  },
  {
   "cell_type": "code",
   "execution_count": 3,
   "id": "2ffca79a",
   "metadata": {},
   "outputs": [
    {
     "data": {
      "text/plain": [
       "50.0"
      ]
     },
     "execution_count": 3,
     "metadata": {},
     "output_type": "execute_result"
    }
   ],
   "source": [
    "#this is an example of how to retrieve a table and the necessary row with the information.\n",
    "table = MMT.get_table(\"BTCBUSD\") #get the table \n",
    "size = 60658 #size of position (amount bought)\n",
    "#locate the corresponding row with size\n",
    "row = table.loc[ size >= table['PB'].shift(1).fillna(0) ].loc[ size < table['PB'] ]\n",
    "#get all the row values, these are the required to calculate maintenance margin.\n",
    "tier, pb, ml, mmr, ma = row.values[0]\n",
    "ma"
   ]
  },
  {
   "cell_type": "code",
   "execution_count": 4,
   "id": "a5513df4",
   "metadata": {},
   "outputs": [
    {
     "data": {
      "text/plain": [
       "253.29000000000002"
      ]
     },
     "execution_count": 4,
     "metadata": {},
     "output_type": "execute_result"
    }
   ],
   "source": [
    "#to calculate maintenance margin you should follow the formula:\n",
    "#Maintenance Margin = Notional Position Value * Maintenance Margin Rate - Maintenance Amount\n",
    "#Note: notional position value quantity of asset * current mark price =  current size of position\n",
    "#we use just price instead of mark price for simplicity!!      \n",
    "mm = size * mmr - ma\n",
    "mm #maintenance margin"
   ]
  },
  {
   "cell_type": "code",
   "execution_count": 5,
   "id": "624bc683",
   "metadata": {},
   "outputs": [
    {
     "data": {
      "text/plain": [
       "100"
      ]
     },
     "execution_count": 5,
     "metadata": {},
     "output_type": "execute_result"
    }
   ],
   "source": [
    "# Max leverage depends on how much we want to buy, so be careful!!!\n",
    "#This is how we calculate the max leverage for a certain total amount that we want to buy\n",
    "table = MMT.get_table(\"BTCUSDT\") #get the table \n",
    "total_amount = 60658 #size of position (amount bought)\n",
    "max_leverage = table.loc[ total_amount <= table['PB']].ML.iloc[0]\n",
    "max_leverage"
   ]
  },
  {
   "attachments": {},
   "cell_type": "markdown",
   "id": "6e2031d0",
   "metadata": {},
   "source": [
    "### How open position units (buy or sell) are calculated?\n",
    "\n",
    "When you have leverage, you just want to spend the corresponding fraction of the ammount passed to function. For example, if you have leverage of 3 and you pass amount = 3000, then you just want to spend 1000 for buying or selling. With this in mind we build the next formulas that must hold true...\n",
    "\n",
    "$$myAmount=TotalAmount/ Leverage$$\n",
    "\n",
    "$$AmountForUnits + paidFee = myAmount$$\n",
    "\n",
    "$$paidFee = (totalAmountBought)*Fee = (AmountForUnits*Leverage)*Fee$$\n",
    "\n",
    "then, \n",
    "\n",
    "$$AmountForUnits + AmountForUnits*Leverage*fee = myAmount$$\n",
    "\n",
    "$$AmountForUnits = myAmount/( 1 + Leverage*fee )$$\n",
    "\n",
    "With this, you will spend your corresponding fraction of the money buying the correct units and paying the fee entirely.\n",
    "\n",
    "Important:\n",
    " \n",
    "$$AmountForUnits*Leverage + fee != myAmount*Leverage$$\n",
    "\n",
    "In other words, you dont use all the amount you pass to the function to buy or sell units, because you have to pay fees with that money. The money you pay for fees increases with leverage. \n"
   ]
  },
  {
   "attachments": {},
   "cell_type": "markdown",
   "id": "e14ac3ca",
   "metadata": {},
   "source": [
    "### How open position units (buy or sell) are calculated? New implementation\n",
    "\n",
    "Binance has a minimum quantity of asset to buy, and you just can buy multiples of it... So for example, with the pair BTC/USDT, the min BTC you can buy is 0.001 BTC, also you just can buy multiples of that... (0.002, 0.003, etc.)\n",
    "\n",
    "In order to buy that exact quantity, the comissions of opening a position will be calculated using the quantity to buy as a base. In other words\n",
    "\n",
    "$$Costs = TotalUnits/Leverage + paidFee$$\n",
    "\n",
    "$$paidFee = (TotalUnits)*Fee$$"
   ]
  },
  {
   "attachments": {},
   "cell_type": "markdown",
   "id": "47f6f6ae",
   "metadata": {},
   "source": [
    "### How close position units (buy or sell) are calculated?\n",
    "\n",
    "When you close a position, you also have to consider leverage, because when do it, it returns to you your units on \"amount\" and the profit of ALL the position. In other words, you have to return the units to the broker again. Dont forget to pay the comission of closing. We use the next formulas to calculate everything: \n",
    "\n",
    "$$Units = UnleveredUnits*Leverage$$\n",
    "$$myAssetEntryValue = unleveredUnits * entryPrice$$\n",
    "$$profit = Units * (currentPrice - entryPrice)$$\n",
    "$$payFee = abs(Units) * currentPrice * Fee$$ \n",
    "\n",
    "Then you consider all this to update your current balance:\n",
    "\n",
    "$$balance += myAssetEntryValue + profit - payFee$$\n",
    "\n",
    "Important: for short positions, units are negative, because you sell them, then the formulas have sense."
   ]
  },
  {
   "attachments": {},
   "cell_type": "markdown",
   "id": "109d2490",
   "metadata": {},
   "source": [
    "# Order Class\n",
    "\n",
    "This class keeps track of each order calculations"
   ]
  },
  {
   "cell_type": "code",
   "execution_count": 6,
   "id": "4fa63a03",
   "metadata": {},
   "outputs": [],
   "source": [
    "class Order():\n",
    "    \n",
    "    def __repr__(self):\n",
    "        if self.position == 1:\n",
    "            return \"LONG\"\n",
    "        else:\n",
    "            return \"SHORT\"\n",
    "    \n",
    "    def __init__(self, amount, leverage, expected_entry_price, position, created_at, \n",
    "                 fee_maker, fee_taker, use_fee, symbol, order_type = \"MARKET\", verbose = True):\n",
    "        self.verbose = verbose\n",
    "        self.symbol = symbol\n",
    "        self.order_type = order_type\n",
    "        self.amount = amount #desired size of position (leverage included)\n",
    "        self.leverage = leverage\n",
    "        self.expected_entry_price = expected_entry_price\n",
    "        self.position = position #long (1) or short (-1)\n",
    "        self.fee_maker = fee_maker #comision for limit order\n",
    "        self.fee_taker= fee_taker #comision for market order\n",
    "        self.use_fee = use_fee #True or False\n",
    "        self.created_at = created_at # creating position datetime\n",
    "        self.min_units = self.get_min_units()\n",
    "        ########### Open position params ###########\n",
    "        self.entry_price = None\n",
    "        self.my_invest = None #amount to really spend from my balance\n",
    "        self.opening_at = None #opening position datetime\n",
    "        self.my_pos_amount = None #unlev amount to buy units (spent with no fee)\n",
    "        self.my_pos_units = None #unit version of above attr\n",
    "        self.pos_amount = None #position size (includes leverage)\n",
    "        self.units = None #unit version of above attr\n",
    "        self.opening_fee_as_amount = None \n",
    "        self.opening_fee_as_units = None\n",
    "        self.blocks = 0 #stores the int number of times that min units can be bought\n",
    "        self.available = 1 #currently all position is open\n",
    "        ########### Close position params ###########\n",
    "        self.closing_at = [] #close position datetime\n",
    "        self.closing_fee_as_amount = [] \n",
    "        self.closing_fee_as_units = []\n",
    "        self.closing_price = []\n",
    "        self.liquidated = False #Tells if position was liquidated\n",
    "        self.liquidation_price = None #stores the single liq price of order, if order is liquidated, to get real one, use closing_price[-1]\n",
    "        \n",
    "    def get_entry_price(self, low , high):\n",
    "        if self.entry_price is not None:\n",
    "            return self.entry_price\n",
    "        #open price is a random number of current candle\n",
    "        if self.order_type == \"MARKET\": \n",
    "            self.entry_price = np.random.uniform(low=low, high=high)\n",
    "            #open price will be the expected...\n",
    "        else:\n",
    "            self.entry_price = self.expected_entry_price\n",
    "        return self.entry_price\n",
    "    \n",
    "    def get_close_price(self, low, high, close, order_type = \"MARKET\"):\n",
    "        if order_type == \"MARKET\": \n",
    "            close_price = np.random.uniform(low=low, high=high)\n",
    "            #open price will be the expected...\n",
    "        else:\n",
    "            close_price = close\n",
    "        return close_price\n",
    "        \n",
    "    def open_position(self, date, low, high):\n",
    "        ##################### Works for long and short ################## \n",
    "        self.opening_at = date # open position datetime\n",
    "        self.entry_price = self.get_entry_price(low, high)\n",
    "        min_amount_with_fee = self.get_min_amount_to_spend(self.entry_price, include_fee = True, include_lev = False)\n",
    "        self.blocks = self.amount // min_amount_with_fee #times min amount can be bought\n",
    "        self.my_invest = self.get_min_amount_to_spend(self.entry_price, include_fee = True, include_lev = True) * self.blocks\n",
    "        min_amount = self.get_min_amount_to_spend(self.entry_price, include_fee = False, include_lev = False)\n",
    "        self.pos_amount = min_amount * self.blocks\n",
    "        self.units = self.pos_amount / self.entry_price\n",
    "        self.my_pos_amount = self.pos_amount / self.leverage\n",
    "        self.my_pos_units = self.my_pos_amount / self.entry_price\n",
    "        self.opening_fee_as_amount = (min_amount_with_fee - min_amount) * self.blocks\n",
    "        self.opening_fee_as_units = self.opening_fee_as_amount/self.entry_price\n",
    "        if self.blocks == 0: \n",
    "            print(\"Insufficient Margin to buy units\")\n",
    "            return False   \n",
    "        if self.position == 1 and self.verbose:\n",
    "            print(\"{} |  Buying {} for {}, leverage {}\".format(self.opening_at, round(self.units, 5), round(self.entry_price, 4), self.leverage))\n",
    "        elif self.verbose:\n",
    "            print(\"{} |  Selling {} for {}, leverage {}\".format(self.opening_at, round(self.units, 5), round(self.entry_price, 4), self.leverage))\n",
    "        return True\n",
    "        \n",
    "    def get_close_fee(self, price, as_amount= True, prc = 100, use_available = True):\n",
    "        #long - pay more comission if price raises\n",
    "        #short - pay more comission if price falls\n",
    "        if use_available:\n",
    "            fraction = self.available * ( prc/100 )\n",
    "        else: #if false, use all initial position budget\n",
    "            fraction = ( prc/100 )\n",
    "        fee = self.units * self.entry_price + self.position * self.units * (price - self.entry_price) \n",
    "        fee = fee * fraction * self.fee_taker #consider fee used and percentage of position to close\n",
    "        if not as_amount: fee/=price #as units\n",
    "        return fee * self.use_fee\n",
    "    \n",
    "    def get_PnL(self, price, include_fee = False, as_amount = True, prc = 100, use_available = True):\n",
    "        #get profit (by default doesnt include fee as Binance)\n",
    "        if use_available:\n",
    "            fraction = self.available * ( prc/100 )\n",
    "        else: #if false, use all initial position budget\n",
    "            fraction = ( prc/100 )\n",
    "        PnL = self.position * self.units * (price - self.entry_price) * fraction\n",
    "        fee = self.get_close_fee(price, as_amount= True, prc = prc, use_available = use_available) * include_fee\n",
    "        profit = PnL - fee\n",
    "        if not as_amount: profit/=price\n",
    "        return profit\n",
    "    \n",
    "    def get_current_amount(self, lev = True):\n",
    "        if lev:\n",
    "            return (self.pos_amount)*self.available\n",
    "        else:\n",
    "            return (self.my_pos_amount)*self.available\n",
    "    \n",
    "    def get_position_value(self, price, include_fee = True, as_amount = True, prc = 100, use_available = True):\n",
    "        if use_available:\n",
    "            fraction = self.available * ( prc/100 )\n",
    "        else: #if false, use all initial position budget\n",
    "            fraction = ( prc/100 )\n",
    "        #gets the spent money and profits of the position (subtracts closing fee if True)\n",
    "        profit = self.get_PnL(price = price, include_fee = include_fee, as_amount = True, prc = prc, use_available = use_available)\n",
    "        pos_val = self.my_pos_amount * fraction  + profit\n",
    "        if not as_amount: pos_val /= price\n",
    "        return pos_val\n",
    "    \n",
    "    def close_position(self, date, price, prc = 100):\n",
    "        fraction = self.available * (prc / 100)\n",
    "        #if after closing with prc the remaining is less than min position, better close all now\n",
    "        if self.units *(self.available - fraction) < self.min_units:\n",
    "            prc = 100\n",
    "            fraction = self.available\n",
    "        #if closing is less than min units, close minimum units\n",
    "        elif self.units * fraction < self.min_units:\n",
    "            prc = (self.min_units / (self.units * self.available))*100\n",
    "            fraction = self.available * (prc / 100)\n",
    "        #close always a multiple of min units\n",
    "        else:\n",
    "            blocks_to_sell = round(self.blocks * fraction, 0)\n",
    "            fraction = blocks_to_sell / self.blocks\n",
    "            prc = fraction / self.available * 100 \n",
    "        self.closing_at.append( date )\n",
    "        self.closing_price.append( price )\n",
    "        self.closing_fee_as_amount.append( self.get_close_fee(price, as_amount = True, prc = prc, use_available = True) )\n",
    "        self.closing_fee_as_units.append( self.get_close_fee(price, as_amount = False, prc = prc, use_available = True) )\n",
    "        pos_value = self.get_position_value(price, prc = prc, use_available = True)\n",
    "        self.available = self.available - fraction #stores the position still opened\n",
    "        partially = \" partially\" if self.is_open() else \"\"\n",
    "        if self.position == -1 and self.verbose:\n",
    "            print(\"{} |  Buying (closing{}) {} for {}\".format(date, partially, self.units*fraction, round(price, 6)))\n",
    "        elif self.verbose:\n",
    "            print(\"{} |  Selling (closing{}) {} for {}\".format(date, partially, self.units*fraction, round(price, 6)))  \n",
    "        return pos_value\n",
    "    \n",
    "    def is_open(self):\n",
    "        return abs(self.available) > 1e-12\n",
    "    \n",
    "    def is_closed(self):\n",
    "        return not self.is_open()\n",
    "    \n",
    "    def get_maintenance_margin(self, price):\n",
    "        #this is an example of how to retrieve a table and the necessary row with the information.\n",
    "        if self.symbol.upper() in \"BTCUSDT\":\n",
    "            table = MMT.get_table(\"BTCUSDT\") \n",
    "        elif self.symbol.upper() in \"BTCBUSD\":\n",
    "            table = MMT.get_table(\"BTCBUSD\")\n",
    "        else:\n",
    "            table = MMT.get_table(self.symbol)\n",
    "        size = self.units*price #size of position\n",
    "        #locate the corresponding row with size\n",
    "        row = table.loc[ size >= table['PB'].shift(1).fillna(0) ].loc[ size < table['PB'] ]\n",
    "        #get all the row values, these are the required to calculate maintenance margin.\n",
    "        tier, pb, ml, mmr, ma = row.values[0]\n",
    "        mm = size * mmr - ma\n",
    "        return mm\n",
    "    \n",
    "    def get_min_units(self):\n",
    "        #get minimum units to buy (doesnt include fee)\n",
    "        if self.symbol.upper() in \"BTCUSDT\":\n",
    "            minimum = MO.get_min_units(\"BTCUSDT\") \n",
    "        elif self.symbol.upper() in \"BTCBUSD\":\n",
    "            minimum = MO.get_min_units(\"BTCBUSD\")\n",
    "        else:\n",
    "            minimum = MO.get_min_units(self.symbol)\n",
    "        return minimum\n",
    "    \n",
    "    def get_min_amount_to_spend(self, price, include_fee = True, include_lev = False):\n",
    "        #this function returns the minimum amount to spend (includes fee).\n",
    "        #get my invest in the position    \n",
    "        pos_amount = self.min_units * price\n",
    "        spent = pos_amount\n",
    "        if include_lev: spent = pos_amount / self.leverage\n",
    "        if not include_fee: return spent\n",
    "        #include fees of position\n",
    "        if self.order_type == \"MARKET\":\n",
    "            spent += self.use_fee * self.fee_maker * pos_amount \n",
    "        else:\n",
    "            spent += self.use_fee * self.fee_taker * pos_amount \n",
    "        return spent\n",
    "    \n",
    "    def calculate_margin_ratio(self, price):\n",
    "        #when margin ratio == 1, that is the liquidation price\n",
    "        maintenance_margin = self.get_maintenance_margin(price)\n",
    "        balance = self.my_pos_amount #just for isolated mode (for cross you must use wallet)\n",
    "        quantity = self.units\n",
    "        mark_price = price #for simplicity\n",
    "        entry_price = self.entry_price\n",
    "        \n",
    "        margin_ratio = maintenance_margin/( balance + self.position* quantity * ( mark_price - entry_price ))\n",
    "        return margin_ratio\n",
    "    \n",
    "    def get_liquidation_price(self):\n",
    "        #uses price instead of mark_price for simplicity\n",
    "        #the liquidation price changes to farther when mark price gets close, so we  \n",
    "        #execute this function many times to get close to the real one!!!!\n",
    "        if self.liquidation_price is not None: return self.liquidation_price\n",
    "        mark_price = self.entry_price\n",
    "        pos = self.position\n",
    "        entry_price = self.entry_price\n",
    "        balance = self.my_pos_amount #just for isolated mode (for cross you must use wallet)\n",
    "        quantity = self.units\n",
    "        precision = 5 #more precision == closer you get to real liquidation price\n",
    "        for i in range(precision):\n",
    "            maintenance_margin = self.get_maintenance_margin(mark_price)\n",
    "            liquidation_price = pos*( maintenance_margin - balance )/quantity + entry_price\n",
    "            mark_price = liquidation_price\n",
    "        self.liquidation_price = liquidation_price \n",
    "        return self.liquidation_price\n",
    "    \n",
    "    def should_liquidate(self, price): \n",
    "        if self.position == 1 and price <= self.get_liquidation_price():\n",
    "            return True\n",
    "        elif self.position == -1 and price >= self.get_liquidation_price():\n",
    "            return True\n",
    "        else:\n",
    "            return False\n",
    "    \n",
    "    def liquidate_position(self, date, global_liquidation = None):\n",
    "        liq_price = self.liquidation_price\n",
    "        # if this is given, you have multiple orders and other liquidation price\n",
    "        if global_liquidation != None:\n",
    "            liq_price = global_liquidation\n",
    "        self.closing_at.append( date )\n",
    "        self.closing_price.append( liq_price )\n",
    "        self.liquidated = True\n",
    "        if self.position == -1 and self.verbose:\n",
    "            print(\"{} |  Buying (liquidating) {} for {}\".format(date, self.units*self.available, round(self.closing_price[-1], 5)))\n",
    "        elif self.verbose:\n",
    "            print(\"{} |  Selling (liquidating) {} for {}\".format(date, self.units*self.available, round(self.closing_price[-1], 5))) \n",
    "        self.available = 0\n",
    "        "
   ]
  },
  {
   "attachments": {},
   "cell_type": "markdown",
   "id": "027aaa91",
   "metadata": {},
   "source": [
    "## How to use orders"
   ]
  },
  {
   "cell_type": "code",
   "execution_count": 48,
   "id": "3a28c54d",
   "metadata": {},
   "outputs": [
    {
     "name": "stdout",
     "output_type": "stream",
     "text": [
      "2023-04-04 09:06:35.873982 |  Buying 0.001 for 20000.0, leverage 2\n"
     ]
    },
    {
     "data": {
      "text/plain": [
       "True"
      ]
     },
     "execution_count": 48,
     "metadata": {},
     "output_type": "execute_result"
    }
   ],
   "source": [
    "#initialize the order\n",
    "from datetime import datetime\n",
    "\n",
    "leverage = 2\n",
    "#initialize the order (it makes sense with limit orders because its like submit them)\n",
    "order = Order(amount = 21, #more info of this on sections above\n",
    "              leverage = leverage, \n",
    "              expected_entry_price = 20000, #useful for limit orders, price when order is executed \n",
    "              position = 1, #1 for long, -1 for short\n",
    "              created_at = datetime.now(), #datetime when order is created        \n",
    "              fee_maker = 0.0002, \n",
    "              fee_taker = 0.0004, \n",
    "              use_fee = True,\n",
    "              symbol = \"BTCUSD\",\n",
    "             order_type = \"MARKET\")\n",
    "#execute the order \n",
    "#with market orders we use low and high of candles to grab a random number\n",
    "\n",
    "order.open_position(datetime.now(), low = order.expected_entry_price, high = order.expected_entry_price)"
   ]
  },
  {
   "cell_type": "code",
   "execution_count": 49,
   "id": "71c88f7e",
   "metadata": {},
   "outputs": [],
   "source": [
    "#order.get_min_amount_to_spend(10000, include_fee=True, include_lev = True)"
   ]
  },
  {
   "cell_type": "code",
   "execution_count": 50,
   "id": "332a21a4",
   "metadata": {},
   "outputs": [
    {
     "data": {
      "text/plain": [
       "10.0"
      ]
     },
     "execution_count": 50,
     "metadata": {},
     "output_type": "execute_result"
    }
   ],
   "source": [
    "#get my amount spend on position (not including fee)\n",
    "order.my_pos_amount"
   ]
  },
  {
   "cell_type": "code",
   "execution_count": 51,
   "id": "a82f3018",
   "metadata": {},
   "outputs": [
    {
     "data": {
      "text/plain": [
       "0.004000000000001336"
      ]
     },
     "execution_count": 51,
     "metadata": {},
     "output_type": "execute_result"
    }
   ],
   "source": [
    "#get opening fee of position\n",
    "order.opening_fee_as_amount"
   ]
  },
  {
   "cell_type": "code",
   "execution_count": 52,
   "id": "095034a3",
   "metadata": {},
   "outputs": [
    {
     "data": {
      "text/plain": [
       "10.004"
      ]
     },
     "execution_count": 52,
     "metadata": {},
     "output_type": "execute_result"
    }
   ],
   "source": [
    "#get my spent money in the order, its the sum of the two above\n",
    "order.my_invest"
   ]
  },
  {
   "cell_type": "code",
   "execution_count": 53,
   "id": "a35a2e2e",
   "metadata": {},
   "outputs": [
    {
     "data": {
      "text/plain": [
       "0.020208800000000002"
      ]
     },
     "execution_count": 53,
     "metadata": {},
     "output_type": "execute_result"
    }
   ],
   "source": [
    "#get closing fee of position at a certain price\n",
    "order.get_close_fee(price = 50522, as_amount = True)"
   ]
  },
  {
   "cell_type": "code",
   "execution_count": 54,
   "id": "b74e0e42",
   "metadata": {},
   "outputs": [
    {
     "data": {
      "text/plain": [
       "19.984"
      ]
     },
     "execution_count": 54,
     "metadata": {},
     "output_type": "execute_result"
    }
   ],
   "source": [
    "#prints current PnL of position at a certain price\n",
    "order.get_PnL(price = 40000, as_amount = True, include_fee = True)"
   ]
  },
  {
   "cell_type": "code",
   "execution_count": 47,
   "id": "5a8334a3",
   "metadata": {},
   "outputs": [
    {
     "data": {
      "text/plain": [
       "39.984"
      ]
     },
     "execution_count": 47,
     "metadata": {},
     "output_type": "execute_result"
    }
   ],
   "source": [
    "#returns all money that you will receive if position is closed (including invested one) at a certain price\n",
    "order.get_position_value(price = 40000, as_amount = True, include_fee = True)"
   ]
  },
  {
   "cell_type": "code",
   "execution_count": 16,
   "id": "cc4e3d27",
   "metadata": {},
   "outputs": [
    {
     "data": {
      "text/plain": [
       "True"
      ]
     },
     "execution_count": 16,
     "metadata": {},
     "output_type": "execute_result"
    }
   ],
   "source": [
    "#True if position is open\n",
    "order.is_open()"
   ]
  },
  {
   "cell_type": "code",
   "execution_count": 17,
   "id": "f1296fbb",
   "metadata": {},
   "outputs": [
    {
     "name": "stdout",
     "output_type": "stream",
     "text": [
      "2023-04-04 08:37:27.804729 |  Selling (closing) 0.001 for 40000\n"
     ]
    },
    {
     "data": {
      "text/plain": [
       "39.984"
      ]
     },
     "execution_count": 17,
     "metadata": {},
     "output_type": "execute_result"
    }
   ],
   "source": [
    "#closes the position and returns profits at a certain price...\n",
    "pos_val = order.close_position(datetime.now(), price = 40000)\n",
    "pos_val"
   ]
  },
  {
   "cell_type": "code",
   "execution_count": 18,
   "id": "8f679b77",
   "metadata": {},
   "outputs": [
    {
     "data": {
      "text/plain": [
       "True"
      ]
     },
     "execution_count": 18,
     "metadata": {},
     "output_type": "execute_result"
    }
   ],
   "source": [
    "#True if position is closed\n",
    "order.is_closed()"
   ]
  },
  {
   "attachments": {},
   "cell_type": "markdown",
   "id": "d613eee9",
   "metadata": {},
   "source": [
    "### Close orders partially"
   ]
  },
  {
   "cell_type": "code",
   "execution_count": 55,
   "id": "4cdcdb66",
   "metadata": {},
   "outputs": [
    {
     "name": "stdout",
     "output_type": "stream",
     "text": [
      "2023-04-04 09:07:49.773742 |  Buying 0.002 for 20000.0, leverage 2\n"
     ]
    },
    {
     "data": {
      "text/plain": [
       "True"
      ]
     },
     "execution_count": 55,
     "metadata": {},
     "output_type": "execute_result"
    }
   ],
   "source": [
    "#initialize the order\n",
    "from datetime import datetime\n",
    "\n",
    "leverage = 2\n",
    "#initialize the order (it makes sense with limit orders because its like submit them)\n",
    "order = Order(amount = 41, #more info of this on sections above\n",
    "              leverage = leverage, \n",
    "              expected_entry_price = 20000, #useful for limit orders, price when order is executed \n",
    "              position = 1, #1 for long, -1 for short\n",
    "              created_at = datetime.now(), #datetime when order is created        \n",
    "              fee_maker = 0.0002, \n",
    "              fee_taker = 0.0004, \n",
    "              use_fee = True,\n",
    "              symbol = \"BTCUSD\")\n",
    "#execute the order \n",
    "order.open_position(datetime.now(), low = order.expected_entry_price, high = order.expected_entry_price)"
   ]
  },
  {
   "cell_type": "code",
   "execution_count": 26,
   "id": "c22b485f",
   "metadata": {},
   "outputs": [],
   "source": [
    "#prints current PnL of position at a certain price\n",
    "#order.get_PnL(price = 50000, as_amount = True, include_fee = True)"
   ]
  },
  {
   "cell_type": "code",
   "execution_count": 27,
   "id": "2627923a",
   "metadata": {},
   "outputs": [],
   "source": [
    "#returns all money that you will receive if position is closed (including invested one) at a certain price\n",
    "#order.get_position_value(price = 50000, as_amount = True, include_fee = True)"
   ]
  },
  {
   "cell_type": "code",
   "execution_count": 56,
   "id": "908167bb",
   "metadata": {},
   "outputs": [
    {
     "name": "stdout",
     "output_type": "stream",
     "text": [
      "2023-04-04 09:08:01.996906 |  Selling (closing partially) 0.001 for 50000\n"
     ]
    },
    {
     "data": {
      "text/plain": [
       "39.980000000000004"
      ]
     },
     "execution_count": 56,
     "metadata": {},
     "output_type": "execute_result"
    }
   ],
   "source": [
    "#close a percentage of the position\n",
    "order.close_position(datetime.now(), price = 50000, prc = 50)"
   ]
  },
  {
   "cell_type": "code",
   "execution_count": 57,
   "id": "26f2a8d3",
   "metadata": {},
   "outputs": [
    {
     "data": {
      "text/plain": [
       "True"
      ]
     },
     "execution_count": 57,
     "metadata": {},
     "output_type": "execute_result"
    }
   ],
   "source": [
    "#True if order is open\n",
    "order.is_open()"
   ]
  },
  {
   "cell_type": "code",
   "execution_count": 58,
   "id": "02528408",
   "metadata": {},
   "outputs": [
    {
     "name": "stdout",
     "output_type": "stream",
     "text": [
      "2023-04-04 09:08:35.686569 |  Selling (closing) 0.001 for 51000\n"
     ]
    },
    {
     "data": {
      "text/plain": [
       "40.979600000000005"
      ]
     },
     "execution_count": 58,
     "metadata": {},
     "output_type": "execute_result"
    }
   ],
   "source": [
    "#close the remaining position\n",
    "order.close_position(datetime.now(), price = 51000, prc = 10)"
   ]
  },
  {
   "cell_type": "code",
   "execution_count": 59,
   "id": "f58b56ea",
   "metadata": {},
   "outputs": [
    {
     "data": {
      "text/plain": [
       "False"
      ]
     },
     "execution_count": 59,
     "metadata": {},
     "output_type": "execute_result"
    }
   ],
   "source": [
    "order.is_open()"
   ]
  },
  {
   "attachments": {},
   "cell_type": "markdown",
   "id": "59a815ed",
   "metadata": {},
   "source": [
    "¡¡This is useful for test with binance!!"
   ]
  },
  {
   "cell_type": "code",
   "execution_count": 29,
   "id": "2e4bd85e",
   "metadata": {},
   "outputs": [
    {
     "name": "stdout",
     "output_type": "stream",
     "text": [
      "2023-01-09 00:03:40.241959 |  Selling 0.057847494553376906 for 16875.0, leverage 50\n"
     ]
    },
    {
     "data": {
      "text/plain": [
       "True"
      ]
     },
     "execution_count": 29,
     "metadata": {},
     "output_type": "execute_result"
    }
   ],
   "source": [
    "#initialize the order\n",
    "from datetime import datetime\n",
    "\n",
    "leverage = 50\n",
    "#initialize the order (it makes sense with limit orders because its like submit them)\n",
    "order = Order(amount = 995.7, #more info of this on sections above\n",
    "              leverage = leverage, \n",
    "              expected_entry_price = 16875, #useful for limit orders, price when order is executed \n",
    "              position = -1, #1 for long, -1 for short\n",
    "              created_at = datetime.now(), #datetime when order is created        \n",
    "              fee_maker = 0.0002, \n",
    "              fee_taker = 0.0004, \n",
    "              use_fee = True,\n",
    "              symbol = \"BTCUSD\")\n",
    "#execute the order \n",
    "order.open_position(datetime.now(),low = order.expected_entry_price, high = order.expected_entry_price)"
   ]
  },
  {
   "cell_type": "code",
   "execution_count": 30,
   "id": "a487f538",
   "metadata": {},
   "outputs": [
    {
     "data": {
      "text/plain": [
       "0.3904705882352941"
      ]
     },
     "execution_count": 30,
     "metadata": {},
     "output_type": "execute_result"
    }
   ],
   "source": [
    "order.opening_fee_as_amount"
   ]
  },
  {
   "cell_type": "code",
   "execution_count": 31,
   "id": "f7e9e57f",
   "metadata": {},
   "outputs": [
    {
     "data": {
      "text/plain": [
       "0.38910538736383443"
      ]
     },
     "execution_count": 31,
     "metadata": {},
     "output_type": "execute_result"
    }
   ],
   "source": [
    "close_price = 16934\n",
    "order.get_close_fee(price = close_price, as_amount = True)"
   ]
  },
  {
   "cell_type": "code",
   "execution_count": 32,
   "id": "f8dd26e0",
   "metadata": {},
   "outputs": [
    {
     "data": {
      "text/plain": [
       "-3.4130021786492373"
      ]
     },
     "execution_count": 32,
     "metadata": {},
     "output_type": "execute_result"
    }
   ],
   "source": [
    "order.get_PnL(price = close_price, as_amount = True, include_fee = False)"
   ]
  },
  {
   "cell_type": "code",
   "execution_count": 33,
   "id": "f13b0f0d",
   "metadata": {},
   "outputs": [
    {
     "data": {
      "text/plain": [
       "-4.192578154248365"
      ]
     },
     "execution_count": 33,
     "metadata": {},
     "output_type": "execute_result"
    }
   ],
   "source": [
    "profit = order.get_PnL(price = close_price, as_amount = True, include_fee = False) - order.opening_fee_as_amount- order.get_close_fee(price = close_price, as_amount = True)\n",
    "profit"
   ]
  },
  {
   "cell_type": "code",
   "execution_count": 34,
   "id": "93da0314",
   "metadata": {},
   "outputs": [
    {
     "data": {
      "text/plain": [
       "2238.537421845752"
      ]
     },
     "execution_count": 34,
     "metadata": {},
     "output_type": "execute_result"
    }
   ],
   "source": [
    "2242.73 + profit"
   ]
  },
  {
   "cell_type": "code",
   "execution_count": 35,
   "id": "11577a25",
   "metadata": {},
   "outputs": [
    {
     "name": "stdout",
     "output_type": "stream",
     "text": [
      "2023-01-09 00:03:44.351910 |  Buying (closing) 0.057847494553376906 for 16934\n"
     ]
    },
    {
     "data": {
      "text/plain": [
       "15.721421845751633"
      ]
     },
     "execution_count": 35,
     "metadata": {},
     "output_type": "execute_result"
    }
   ],
   "source": [
    "order.close_position(datetime.now(), close_price)"
   ]
  },
  {
   "cell_type": "code",
   "execution_count": 36,
   "id": "fd820a76",
   "metadata": {},
   "outputs": [
    {
     "data": {
      "text/plain": [
       "19.914"
      ]
     },
     "execution_count": 36,
     "metadata": {},
     "output_type": "execute_result"
    }
   ],
   "source": [
    "order.my_pos_amount"
   ]
  },
  {
   "attachments": {},
   "cell_type": "markdown",
   "id": "ae4d37d7",
   "metadata": {},
   "source": [
    "### Calculating liquidation price of an order\n",
    "This example can give same results as lecture:\n",
    "\n",
    "https://www.udemy.com/course/cryptocurrency-algorithmic-trading-with-python-and-binance/learn/lecture/29496642?start=660#overview\n",
    "\n",
    "If you want to reproduce the results of lecture, you have to hardcode balance to given on lecture on functions\n",
    "\n",
    "The formulas of liquidation price also can be found there."
   ]
  },
  {
   "cell_type": "code",
   "execution_count": 64,
   "id": "8bbe8191",
   "metadata": {},
   "outputs": [
    {
     "name": "stdout",
     "output_type": "stream",
     "text": [
      "2023-04-04 09:11:46.609988 |  Buying 0.005 for 16675.5, leverage 50\n"
     ]
    },
    {
     "data": {
      "text/plain": [
       "True"
      ]
     },
     "execution_count": 64,
     "metadata": {},
     "output_type": "execute_result"
    }
   ],
   "source": [
    "#initialize the order\n",
    "from datetime import datetime\n",
    "\n",
    "leverage = 50\n",
    "#initialize the order (it makes sense with limit orders because its like submit them)\n",
    "order = Order(amount = 83.38, #more info of this on sections above\n",
    "              leverage = leverage, \n",
    "              expected_entry_price = 16675.50, #useful for limit orders, price when order is executed \n",
    "              position = 1, #1 for long, -1 for short\n",
    "              created_at = datetime.now(), #datetime when order is created        \n",
    "              fee_maker = 0.0002, \n",
    "              fee_taker = 0.0004, \n",
    "              use_fee = False,\n",
    "              symbol = \"BTCUSD\")\n",
    "#execute the order \n",
    "order.open_position(datetime.now(), low = order.expected_entry_price, high = order.expected_entry_price)"
   ]
  },
  {
   "cell_type": "code",
   "execution_count": 65,
   "id": "e5f348a4",
   "metadata": {},
   "outputs": [
    {
     "data": {
      "text/plain": [
       "16407.620481927985"
      ]
     },
     "execution_count": 65,
     "metadata": {},
     "output_type": "execute_result"
    }
   ],
   "source": [
    "#use to retrieve the liquidation price of the order!!!\n",
    "liq_price = order.get_liquidation_price()\n",
    "liq_price"
   ]
  },
  {
   "cell_type": "code",
   "execution_count": 61,
   "id": "4d84f2ed",
   "metadata": {},
   "outputs": [
    {
     "data": {
      "text/plain": [
       "0.9999999997470597"
      ]
     },
     "execution_count": 61,
     "metadata": {},
     "output_type": "execute_result"
    }
   ],
   "source": [
    "#you can verify if is the liquidation price if margin ratio is close to 1 for that number\n",
    "order.calculate_margin_ratio(liq_price) "
   ]
  },
  {
   "cell_type": "code",
   "execution_count": 62,
   "id": "9c15188d",
   "metadata": {},
   "outputs": [
    {
     "data": {
      "text/plain": [
       "True"
      ]
     },
     "execution_count": 62,
     "metadata": {},
     "output_type": "execute_result"
    }
   ],
   "source": [
    "#Returns true or false, tells just if should liquidate\n",
    "order.should_liquidate(liq_price)"
   ]
  },
  {
   "cell_type": "code",
   "execution_count": 63,
   "id": "b6441418",
   "metadata": {},
   "outputs": [
    {
     "data": {
      "text/plain": [
       "-3.3589999999999964"
      ]
     },
     "execution_count": 63,
     "metadata": {},
     "output_type": "execute_result"
    }
   ],
   "source": [
    "#PnL is not -100% on liquidation price, because binance liquidates before reaching the deadline.\n",
    "#Thats why is recommended to do a Stop Loss near liquidation price. You can save a lot of money doing that.\n",
    "order.get_PnL(price = 16003.7, as_amount = True, include_fee = False)"
   ]
  },
  {
   "cell_type": "code",
   "execution_count": 64,
   "id": "ab228fe8",
   "metadata": {},
   "outputs": [
    {
     "name": "stdout",
     "output_type": "stream",
     "text": [
      "2023-04-02 20:48:52.149952 |  Selling (liquidating) 0.005 for 8371.23494\n"
     ]
    }
   ],
   "source": [
    "#liquidate a position at a certain time, it closes the position and mark it as liquidated\n",
    "order.liquidate_position(date = datetime.now())"
   ]
  },
  {
   "cell_type": "code",
   "execution_count": 67,
   "id": "4c0aa90a",
   "metadata": {},
   "outputs": [
    {
     "data": {
      "text/plain": [
       "-0.0"
      ]
     },
     "execution_count": 67,
     "metadata": {},
     "output_type": "execute_result"
    }
   ],
   "source": [
    "#entry: 16,675.50\n",
    "#liq (binance): 16,069.57\n",
    "#liq (3.35 more): 15,396.88\n",
    "#entry - liq = 605.93\n",
    "#liq - liq(3.35 more) = 672.69\n",
    "order.get_PnL(price = 16072.77, as_amount = True, include_fee = True) - order.opening_fee_as_amount"
   ]
  },
  {
   "attachments": {},
   "cell_type": "markdown",
   "id": "6692b494",
   "metadata": {},
   "source": [
    "# BinanceApi Class\n",
    "This class helps to keep track of actions made in \"account\"."
   ]
  },
  {
   "cell_type": "code",
   "execution_count": 66,
   "id": "06221850",
   "metadata": {},
   "outputs": [],
   "source": [
    "class BinanceApi():\n",
    "\n",
    "    def __init__(self, symbol, start, end, amount, use_fee = True, fee_maker=0, fee_taker=0,\n",
    "                 verbose = True, csv = \"data/5m.csv\"):\n",
    "        self.symbol = symbol\n",
    "        self.start = start\n",
    "        self.end = end\n",
    "        self.csv = csv #csv to use\n",
    "        self.initial_balance = amount\n",
    "        self.available_balance = amount #keeps unlevered balance (real balance)\n",
    "        self.open_orders = [] #stores open orders\n",
    "        self.closed_orders= [] #stores closed orders\n",
    "        self.PnLs = []\n",
    "        self.liquidated_orders = 0 #stores count of liquidated orders\n",
    "        self.trades = 0\n",
    "        self.paid_fees = 0 #accumulates paid fees\n",
    "        self.use_fee = use_fee\n",
    "        self.fee_maker = fee_maker #limit orders fee\n",
    "        self.fee_taker = fee_taker #market orders fee (higher)\n",
    "        self.leverage = 1\n",
    "        self.get_data()\n",
    "        self.verbose = verbose\n",
    "        self.global_liquidation = None #stores liquidation price of all positions combined\n",
    "    def get_data(self):\n",
    "        raw = pd.read_csv(self.csv, parse_dates = [\"Date\"], index_col = \"Date\").dropna()\n",
    "        raw = raw.loc[self.start:self.end]\n",
    "        raw[\"returns\"] = np.log(raw.Close / raw.Close.shift(1))\n",
    "        raw[\"Hold Strategy\"] = raw[\"returns\"].cumsum().apply(np.exp) * self.initial_balance\n",
    "        self.data = raw\n",
    "\n",
    "    def plot_data(self, cols = None, show_pos = False):\n",
    "        if not show_pos:\n",
    "            if cols is None:\n",
    "                cols = \"Close\"\n",
    "            self.data[cols].plot(figsize = (12, 8), title = self.symbol)\n",
    "        else:\n",
    "            colors = ['green' if x==1 else ( \"red\" if x== -1 else \"gray\" ) for x in self.positions]\n",
    "            plt.figure(figsize=(10,6))\n",
    "            for i in range(1,len(self.data)):\n",
    "                s = self.data.iloc[i-1:i+1]\n",
    "                plt.plot(s.index, s[[\"NAV\"]], c=colors[i-1], linewidth = 1)\n",
    "            plt.plot(self.data.index, self.data[[\"Hold Strategy\"]], c=\"cornflowerblue\", linewidth=1)    \n",
    "            plt.show()\n",
    "    def get_values(self, bar):\n",
    "        date = str(self.data.index[bar])\n",
    "        close = round(self.data.Close.iloc[bar], 5)\n",
    "        return date, close\n",
    "    \n",
    "    def get_value(self, bar, column):\n",
    "        value = round(self.data[column].iloc[bar], 5)\n",
    "        return value\n",
    "    def print_available_balance(self, bar):\n",
    "        date, price = self.get_values(bar)\n",
    "        print(\"{} | Current Balance: {}\".format(date, round(self.available_balance, 2)))\n",
    "        \n",
    "    def submit_order(self, bar, amount = None, pos = \"BUY\", order_type = \"LIMIT\"):\n",
    "        #close positions if necessary\n",
    "        if (self.get_position() in [-1] and pos == \"BUY\") or (self.get_position() in [1] and pos == \"SELL\"):\n",
    "            close_amount = min(self.current_invested_amount(), amount)\n",
    "            self.close_position(bar, close_amount, order_type = order_type)\n",
    "            amount = amount - close_amount\n",
    "        #open position...\n",
    "        if abs(amount) > 1e-04:\n",
    "            date, expected_entry_price = self.get_values(bar)\n",
    "            \n",
    "            order = Order(amount = amount, \n",
    "              leverage = self.leverage, \n",
    "              expected_entry_price = expected_entry_price,\n",
    "              position = 1 if pos == \"BUY\" else -1, \n",
    "              created_at = date,       \n",
    "              fee_maker = self.fee_maker, \n",
    "              fee_taker = self.fee_taker, \n",
    "              use_fee = self.use_fee,\n",
    "              symbol = self.symbol,         \n",
    "              verbose = self.verbose,\n",
    "                         order_type = order_type)\n",
    "            success = order.open_position(date = date,\n",
    "                                         low = self.get_value(bar, \"Low\"),\n",
    "                                         high = self.get_value(bar, \"High\"))\n",
    "            if order.my_pos_amount > self.available_balance: #avoids floating errors\n",
    "                self.not_enough_balance(order.my_pos_amount, self.available_balance)\n",
    "            if not success:\n",
    "                return  #dont continue with operation!\n",
    "            self.paid_fees += order.opening_fee_as_amount\n",
    "            self.open_orders.append(order)\n",
    "            self.available_balance -= order.my_invest\n",
    "            self.trades += 1\n",
    "            self.calculate_global_liquidation() #calculate liquidation after opening order...\n",
    "            \n",
    "    def close_position(self, bar, amount, order_type = \"LIMIT\"):\n",
    "        date, close = self.get_values(bar)\n",
    "        prc = min(amount/self.current_invested_amount()*100, 100) #max sell everything\n",
    "        should_remove = []\n",
    "        #remove same percentage of all open orders\n",
    "        for idx, order in enumerate(self.open_orders):\n",
    "            close_price = order.get_close_price(order_type = order_type, \n",
    "                            low = self.get_value(bar, \"Low\"), \n",
    "                            high = self.get_value(bar, \"High\"), \n",
    "                            close = close)  \n",
    "            self.PnLs.append(order.get_PnL(price = close_price, include_fee = True, prc = prc) - order.opening_fee_as_amount*order.available*(prc/100))\n",
    "            pos_value = order.close_position(date = date, price = close_price, prc = prc)\n",
    "            self.paid_fees += order.closing_fee_as_amount[-1]\n",
    "            self.available_balance += pos_value\n",
    "            if order.is_closed():\n",
    "                should_remove.append(idx)\n",
    "    \n",
    "        #remove closed orders\n",
    "        for idx in sorted(should_remove, reverse = True):\n",
    "            order = self.open_orders[idx]\n",
    "            self.closed_orders.append(order)\n",
    "            self.open_orders.pop(idx)\n",
    "        if len(self.open_orders) == 0:\n",
    "            self.global_liquidation = None #no position opened\n",
    "    \n",
    "    def calculate_global_liquidation(self):\n",
    "        if len(self.open_orders) == 0:\n",
    "            self.global_liquidation = None\n",
    "            return\n",
    "        if len(self.open_orders) == 1:\n",
    "            self.global_liquidation = self.open_orders[0].get_liquidation_price() \n",
    "            return\n",
    "        #more than 1 order\n",
    "        global_liq = self.open_orders[-1].entry_price #init global liquidation \n",
    "        pos = self.open_orders[0].position #get position\n",
    "        i = 512\n",
    "        while i >= 0.4:\n",
    "            available_amount = sum(order.get_current_amount(lev = False) for order in self.open_orders)\n",
    "            new_gl = global_liq - i * pos #test the new liquidation price\n",
    "            for order in self.open_orders:\n",
    "                #order inside margin available\n",
    "                if (pos == 1 and new_gl > order.get_liquidation_price() ) or (pos == -1 and new_gl < order.get_liquidation_price() ):\n",
    "                    available_amount += order.get_PnL(price = new_gl, as_amount = True, include_fee = True)\n",
    "                #order liquidated by itself\n",
    "                else:\n",
    "                    available_amount -= order.get_current_amount(lev = False) #remove margin\n",
    "                    extra_loss = order.entry_price - (order.get_liquidation_price() - new_gl) \n",
    "                    available_amount += order.get_PnL(price = extra_loss, as_amount = True, include_fee = True) #remove extra losses\n",
    "            if available_amount >= 0:\n",
    "                global_liq = new_gl\n",
    "            else:\n",
    "                i/=2\n",
    "        #this is an approximation...\n",
    "        self.global_liquidation = global_liq\n",
    "    def current_invested_amount(self, lev = True):\n",
    "        invested = 0\n",
    "        for order in self.open_orders:\n",
    "            invested += order.get_current_amount(lev = lev)\n",
    "        return invested\n",
    "    \n",
    "    def get_min_amount_to_invest(self, bar, leverage = 1,just_margin = True):    \n",
    "        price = self.get_value(bar, \"High\") #use highest value of candle for max amount   \n",
    "        order = Order(amount = 0, \n",
    "              leverage = leverage, \n",
    "              expected_entry_price = price,\n",
    "              position = 1, #1 for long, -1 for short\n",
    "              created_at = datetime.now(), #datetime when order is created        \n",
    "              fee_maker = self.fee_maker, \n",
    "              fee_taker = self.fee_taker, \n",
    "              use_fee = self.use_fee,\n",
    "              symbol = self.symbol,\n",
    "             order_type = \"LIMIT\") #use limit to pay max fees\n",
    "        min_amount = order.get_min_amount_to_spend(price, include_fee=True, include_lev = True)\n",
    "        return min_amount + 1e-08\n",
    "            \n",
    "    def print_current_nav(self, bar):\n",
    "        nav = self.get_nav(bar)\n",
    "        print(\"{} |  Net Asset Value = {}\".format(date, round(nav, 2)))\n",
    "        \n",
    "    def get_nav(self, bar):\n",
    "        if len(self.open_orders) == 0: return self.available_balance\n",
    "        date, price = self.get_values(bar)\n",
    "        pos_value = 0\n",
    "        for order in self.open_orders:    \n",
    "            pos_value += order.get_position_value(price = price, include_fee = True, as_amount = True)\n",
    "        return self.available_balance + pos_value\n",
    "\n",
    "    def get_position(self):\n",
    "        if len(self.open_orders) == 0:\n",
    "            return 0\n",
    "        return self.open_orders[0].position\n",
    "    \n",
    "    def verify_not_liquidation(self, bar):\n",
    "        if self.get_position() == 0: return #currently no open positions\n",
    "        low = self.get_value(bar, \"Low\")\n",
    "        high = self.get_value(bar, \"High\")\n",
    "        #global liquidation is calculated when a new position is opened\n",
    "        if (self.get_position() == 1 and low <= self.global_liquidation) or (self.get_position() == -1 and high >= self.global_liquidation):\n",
    "            self.liquidate_all(bar)\n",
    "            return True\n",
    "        else:\n",
    "            return False\n",
    "        \n",
    "    def liquidate_all(self, bar):\n",
    "        date, price = self.get_values(bar)\n",
    "        for order in self.open_orders:\n",
    "            #liquidate at global liquidation\n",
    "            order.liquidate_position(date = date, global_liquidation = self.global_liquidation)\n",
    "            self.closed_orders.append(order)\n",
    "            self.PnLs.append(-order.my_pos_amount)\n",
    "        self.liquidated_orders += len(self.open_orders)\n",
    "        self.open_orders = []\n",
    "    \n",
    "    def not_enough_balance(self,need, have):\n",
    "        print(\"You dont have necessary balance to open this order!: cost:{}, balance:{}\".format(\n",
    "                    round(need,2), round(have,2)\n",
    "                ))\n",
    "    def get_max_order_leverage(self, total_amount):\n",
    "        if self.symbol.upper() in \"BTCUSDT\":\n",
    "            table = MMT.get_table(\"BTCUSDT\") \n",
    "        elif self.symbol.upper() in \"BTCBUSD\":\n",
    "            table = MMT.get_table(\"BTCBUSD\")\n",
    "        else:\n",
    "            table = MMT.get_table(self.symbol)\n",
    "        max_leverage = table.loc[ total_amount <= table['PB']].ML.iloc[0]\n",
    "        return max_leverage\n",
    "    def get_max_order_amount(self, leverage):\n",
    "        if self.symbol.upper() in \"BTCUSDT\":\n",
    "            table = MMT.get_table(\"BTCUSDT\") \n",
    "        elif self.symbol.upper() in \"BTCBUSD\":\n",
    "            table = MMT.get_table(\"BTCBUSD\")\n",
    "        else:\n",
    "            table = MMT.get_table(self.symbol)\n",
    "        max_total_amount = table.loc[ leverage <= table['ML']].PB.iloc[-1]\n",
    "        \n",
    "        return max_total_amount + max_total_amount * self.use_fee * self.fee_taker\n",
    "        \n",
    "        return max_total_amount\n",
    "    def validate_order_amount(self, desired_amount, leverage, bar):\n",
    "        #returns a valid amount to spend with a certain leverage\n",
    "        #### MAXIMUM ####\n",
    "        max_amount_with_lev = self.get_max_order_amount(leverage)\n",
    "        max_amount_with_balance = self.available_balance*self.leverage\n",
    "        amount = min(max_amount_with_lev, max_amount_with_balance, desired_amount) #respect leverage and balance restrictions!!\n",
    "        ####MINIMUM####\n",
    "        min_amount_to_invest = self.get_min_amount_to_invest(bar, leverage = leverage,just_margin = False)\n",
    "        amount = max(min_amount_to_invest, amount)\n",
    "        ##############\n",
    "        if amount > self.available_balance * leverage:\n",
    "            return False\n",
    "        if self.verbose and not abs(desired_amount - amount) < 1e-3: #numbers are distinct \n",
    "            print(\"Invalid amount ({}) for order, changing to a valid one... ({})\".format(round(desired_amount,2),  round(amount,2)  )  )\n",
    "        return amount\n",
    "    def change_leverage(self, new_lev):\n",
    "        #current_position = self.get_position()\n",
    "        min_lev = self.get_min_leverage()\n",
    "        if new_lev < min_lev:\n",
    "            print(\"Cant change leverage to {}, current is {} with open position\".format(new_lev, min_lev))\n",
    "            return -1\n",
    "        self.leverage = new_lev\n",
    "        return self.leverage\n",
    "    \n",
    "    def get_min_leverage(self):\n",
    "        #returns the max leverage of the orders, that is the minimum leverage we can use\n",
    "        if len(self.open_orders) == 0:\n",
    "            return 1\n",
    "        lev = 1\n",
    "        for order in self.open_orders:\n",
    "            lev = max(order.leverage, lev)\n",
    "        return lev    "
   ]
  },
  {
   "attachments": {},
   "cell_type": "markdown",
   "id": "ebd8f1bb",
   "metadata": {},
   "source": [
    "### Test \n",
    "closing position"
   ]
  },
  {
   "cell_type": "code",
   "execution_count": 70,
   "id": "8b00e6e0",
   "metadata": {},
   "outputs": [],
   "source": [
    "bc = BinanceApi(\n",
    "    symbol = \"BTCUSD\", \n",
    "    start = \"2022-09-11\", \n",
    "    end = \"2022-09-12\", #take care of the length of period!! It will help to make tests faster \n",
    "    amount = 25, #Less amount means make tests faster\n",
    "    use_fee= True,\n",
    "    fee_maker = 0.0002,\n",
    "    fee_taker = 0.0004,\n",
    "    csv = \"data/btc-usdt_1m.csv\"\n",
    ")"
   ]
  },
  {
   "cell_type": "code",
   "execution_count": 71,
   "id": "c1ad542d",
   "metadata": {},
   "outputs": [
    {
     "data": {
      "text/plain": [
       "4"
      ]
     },
     "execution_count": 71,
     "metadata": {},
     "output_type": "execute_result"
    }
   ],
   "source": [
    "bc.change_leverage(4)"
   ]
  },
  {
   "cell_type": "code",
   "execution_count": 72,
   "id": "9b4c777f",
   "metadata": {},
   "outputs": [
    {
     "name": "stdout",
     "output_type": "stream",
     "text": [
      "2022-09-11 05:08:00 |  Buying 0.001 for 21378.7793, leverage 4\n"
     ]
    }
   ],
   "source": [
    "bc.submit_order( bar=0, amount = 25, pos = \"BUY\", order_type = \"MARKET\")"
   ]
  },
  {
   "cell_type": "code",
   "execution_count": 74,
   "id": "fd4d9811",
   "metadata": {},
   "outputs": [
    {
     "name": "stdout",
     "output_type": "stream",
     "text": [
      "0\n"
     ]
    }
   ],
   "source": [
    "#close order using current invested amount\n",
    "print(bc.current_invested_amount())\n",
    "bc.submit_order( bar=0, amount = bc.current_invested_amount(), pos = \"SELL\")"
   ]
  },
  {
   "cell_type": "code",
   "execution_count": 75,
   "id": "4e143661",
   "metadata": {},
   "outputs": [
    {
     "data": {
      "text/plain": [
       "0"
      ]
     },
     "execution_count": 75,
     "metadata": {},
     "output_type": "execute_result"
    }
   ],
   "source": [
    "#must have no invest\n",
    "bc.current_invested_amount()"
   ]
  },
  {
   "cell_type": "code",
   "execution_count": 79,
   "id": "3aa593b7",
   "metadata": {},
   "outputs": [],
   "source": [
    "bc = BinanceApi(\n",
    "    symbol = \"BTCUSD\", \n",
    "    start = \"2022-09-11\", \n",
    "    end = \"2022-09-12\", #take care of the length of period!! It will help to make tests faster \n",
    "    amount = 25, #Less amount means make tests faster\n",
    "    use_fee= True,\n",
    "    fee_maker = 0.0002,\n",
    "    fee_taker = 0.0004,\n",
    "    csv = \"data/btc-usdt_1m.csv\"\n",
    ")"
   ]
  },
  {
   "cell_type": "code",
   "execution_count": 80,
   "id": "04db7133",
   "metadata": {},
   "outputs": [
    {
     "data": {
      "text/plain": [
       "10"
      ]
     },
     "execution_count": 80,
     "metadata": {},
     "output_type": "execute_result"
    }
   ],
   "source": [
    "bc.change_leverage(10)"
   ]
  },
  {
   "cell_type": "code",
   "execution_count": 81,
   "id": "80cb9f51",
   "metadata": {},
   "outputs": [
    {
     "name": "stdout",
     "output_type": "stream",
     "text": [
      "2022-09-11 05:08:00 |  Buying 0.005 for 21555.1, leverage 10\n",
      "107.7755\n"
     ]
    }
   ],
   "source": [
    "bc.submit_order( bar=0, amount = 120, pos = \"BUY\", order_type = \"LIMIT\")\n",
    "print(bc.current_invested_amount())"
   ]
  },
  {
   "cell_type": "code",
   "execution_count": 96,
   "id": "f9f651ee",
   "metadata": {},
   "outputs": [
    {
     "name": "stdout",
     "output_type": "stream",
     "text": [
      "2022-09-11 05:08:00 |  Selling (closing partially) 0.002 for 21555.1\n",
      "64.66529999999999\n"
     ]
    }
   ],
   "source": [
    "#close partially...\n",
    "#consider that if amount is low, it will close all the trade...\n",
    "bc.submit_order( bar=0, amount = bc.current_invested_amount()/2, pos = \"SELL\", order_type = \"LIMIT\")\n",
    "print(bc.current_invested_amount())"
   ]
  },
  {
   "cell_type": "code",
   "execution_count": 97,
   "id": "d495c8fc",
   "metadata": {},
   "outputs": [
    {
     "name": "stdout",
     "output_type": "stream",
     "text": [
      "2022-09-11 05:08:00 |  Selling (closing) 0.003 for 21555.1\n",
      "0\n"
     ]
    }
   ],
   "source": [
    "bc.submit_order( bar=0, amount = bc.current_invested_amount(), pos = \"SELL\", order_type = \"LIMIT\")\n",
    "print(bc.current_invested_amount())"
   ]
  },
  {
   "attachments": {},
   "cell_type": "markdown",
   "id": "9584319a",
   "metadata": {},
   "source": [
    "making multiple positions"
   ]
  },
  {
   "cell_type": "code",
   "execution_count": 98,
   "id": "bad8ac69",
   "metadata": {},
   "outputs": [],
   "source": [
    "bc = BinanceApi(\n",
    "    symbol = \"BTCUSD\", \n",
    "    start = \"2022-09-11\", \n",
    "    end = \"2022-09-12\", #take care of the length of period!! It will help to make tests faster \n",
    "    amount = 25, #Less amount means make tests faster\n",
    "    use_fee= True,\n",
    "    fee_maker = 0.0002,\n",
    "    fee_taker = 0.0004,\n",
    "    csv = \"data/btc-usdt_1m.csv\"\n",
    ")"
   ]
  },
  {
   "cell_type": "code",
   "execution_count": 99,
   "id": "f317adfc",
   "metadata": {},
   "outputs": [],
   "source": [
    "#useful set values for tests\n",
    "bc.data.Close[0] = 16711.60\n",
    "bc.data.Close[1] = 16706.00"
   ]
  },
  {
   "cell_type": "code",
   "execution_count": 100,
   "id": "e235d3f2",
   "metadata": {},
   "outputs": [
    {
     "data": {
      "text/plain": [
       "7"
      ]
     },
     "execution_count": 100,
     "metadata": {},
     "output_type": "execute_result"
    }
   ],
   "source": [
    "bc.change_leverage(7)"
   ]
  },
  {
   "cell_type": "code",
   "execution_count": 101,
   "id": "cbfa2e70",
   "metadata": {},
   "outputs": [
    {
     "name": "stdout",
     "output_type": "stream",
     "text": [
      "2022-09-11 05:08:00 |  Buying 0.004 for 16711.6, leverage 7\n"
     ]
    },
    {
     "data": {
      "text/plain": [
       "66.84639999999999"
      ]
     },
     "execution_count": 101,
     "metadata": {},
     "output_type": "execute_result"
    }
   ],
   "source": [
    "bc.submit_order( bar=0, amount = 83.57, pos = \"BUY\", order_type = \"LIMIT\")\n",
    "bc.current_invested_amount()"
   ]
  },
  {
   "cell_type": "code",
   "execution_count": 102,
   "id": "89598cf4",
   "metadata": {},
   "outputs": [
    {
     "data": {
      "text/plain": [
       "14381.75559380617"
      ]
     },
     "execution_count": 102,
     "metadata": {},
     "output_type": "execute_result"
    }
   ],
   "source": [
    "bc.global_liquidation"
   ]
  },
  {
   "cell_type": "code",
   "execution_count": 103,
   "id": "d64f9215",
   "metadata": {},
   "outputs": [
    {
     "name": "stdout",
     "output_type": "stream",
     "text": [
      "Cant change leverage to 3, current is 7 with open position\n"
     ]
    },
    {
     "data": {
      "text/plain": [
       "-1"
      ]
     },
     "execution_count": 103,
     "metadata": {},
     "output_type": "execute_result"
    }
   ],
   "source": [
    "#cant put less leverage with open position\n",
    "bc.change_leverage(3)"
   ]
  },
  {
   "cell_type": "code",
   "execution_count": 104,
   "id": "09e37888",
   "metadata": {},
   "outputs": [
    {
     "data": {
      "text/plain": [
       "20"
      ]
     },
     "execution_count": 104,
     "metadata": {},
     "output_type": "execute_result"
    }
   ],
   "source": [
    "#can put more leverage with open position\n",
    "bc.change_leverage(20)"
   ]
  },
  {
   "cell_type": "code",
   "execution_count": 105,
   "id": "9ffbf7e9",
   "metadata": {},
   "outputs": [
    {
     "name": "stdout",
     "output_type": "stream",
     "text": [
      "2022-09-11 05:09:00 |  Buying 0.005 for 16706.0, leverage 20\n"
     ]
    },
    {
     "data": {
      "text/plain": [
       "150.3764"
      ]
     },
     "execution_count": 105,
     "metadata": {},
     "output_type": "execute_result"
    }
   ],
   "source": [
    "bc.submit_order( bar=1, amount = 83.57, pos = \"BUY\", order_type = \"LIMIT\")\n",
    "bc.current_invested_amount()"
   ]
  },
  {
   "cell_type": "code",
   "execution_count": 106,
   "id": "534b7c26",
   "metadata": {},
   "outputs": [
    {
     "data": {
      "text/plain": [
       "15225.5"
      ]
     },
     "execution_count": 106,
     "metadata": {},
     "output_type": "execute_result"
    }
   ],
   "source": [
    "bc.global_liquidation"
   ]
  },
  {
   "cell_type": "code",
   "execution_count": 107,
   "id": "22e76e19",
   "metadata": {},
   "outputs": [
    {
     "name": "stdout",
     "output_type": "stream",
     "text": [
      "2022-09-11 05:09:00 |  Selling (closing partially) 0.002 for 16706.0\n",
      "2022-09-11 05:09:00 |  Selling (closing partially) 0.002 for 16706.0\n"
     ]
    },
    {
     "data": {
      "text/plain": [
       "15225.5"
      ]
     },
     "execution_count": 107,
     "metadata": {},
     "output_type": "execute_result"
    }
   ],
   "source": [
    "#liquidation must not change\n",
    "bc.submit_order( bar=1, amount = bc.current_invested_amount()/2, pos = \"SELL\")\n",
    "bc.global_liquidation"
   ]
  },
  {
   "cell_type": "code",
   "execution_count": 108,
   "id": "8eaa1b23",
   "metadata": {},
   "outputs": [
    {
     "data": {
      "text/plain": [
       "83.5412"
      ]
     },
     "execution_count": 108,
     "metadata": {},
     "output_type": "execute_result"
    }
   ],
   "source": [
    "bc.current_invested_amount()"
   ]
  },
  {
   "attachments": {},
   "cell_type": "markdown",
   "id": "04d61fae",
   "metadata": {},
   "source": [
    "# Backtest class\n",
    "keeps strategies for automated trading"
   ]
  },
  {
   "cell_type": "code",
   "execution_count": 82,
   "id": "a0c1b8b0",
   "metadata": {},
   "outputs": [],
   "source": [
    "class IterativeBacktest(BinanceApi):\n",
    "    \n",
    "    def __init__(self, *args, **kwargs):\n",
    "        super().__init__(*args, **kwargs)\n",
    "        self.strategies = [] #keeps all the strategies used\n",
    "        self.predicted_pos = 0 #keeps current predicted position of strategies\n",
    "        self.ind_sum = 0 #keeps current indicators sum for predicted positions\n",
    "        self.weights_sum = 0 #keeps weight sum of strategies to use it with leverage\n",
    "        self.obv = None #stores OBV used to filter trades\n",
    "        self.lower_bound = 0.001 #Used for rnn strategy and leverage\n",
    "        self.upper_bound = 0.01\n",
    "        \n",
    "    # helper method\n",
    "    def go_long(self, bar, amount = None, prc = False, go_neutral_first = False):\n",
    "        if self.get_position() != 0 and go_neutral_first:\n",
    "            self.go_neutral(bar) #if some position, go neutral first\n",
    "        self.leverage_strategy(min_x = self.lower_bound, max_x = self.upper_bound)\n",
    "        if amount == \"all\":\n",
    "            amount = self.available_balance * self.leverage\n",
    "        elif prc: \n",
    "            amount = (self.available_balance * amount/100) * self.leverage    \n",
    "        amount = self.validate_order_amount(amount, self.leverage, bar)\n",
    "        if amount:\n",
    "            self.submit_order(bar, amount = amount, pos = \"BUY\")\n",
    "\n",
    "    # helper method\n",
    "    def go_short(self, bar, amount = None, prc = False, go_neutral_first = False):\n",
    "        if self.get_position() != 0 and go_neutral_first:\n",
    "            self.go_neutral(bar) #if some position, go neutral first\n",
    "        self.leverage_strategy(min_x = self.lower_bound, max_x = self.upper_bound)\n",
    "        if amount == \"all\":\n",
    "            amount = self.available_balance * self.leverage\n",
    "        elif prc: \n",
    "            amount = (self.available_balance * amount/100) * self.leverage    \n",
    "        amount = self.validate_order_amount(amount, self.leverage, bar)\n",
    "        if amount:\n",
    "            self.submit_order(bar, amount = amount, pos = \"SELL\")\n",
    "    \n",
    "    def go_neutral(self, bar):\n",
    "        if self.get_position() == 1: #if long, sell all\n",
    "            self.submit_order(bar, amount = self.current_invested_amount(), pos = \"SELL\")\n",
    "        elif self.get_position() == -1: #if short, buy all\n",
    "            self.submit_order(bar, amount = self.current_invested_amount(), pos = \"BUY\")\n",
    "            \n",
    "    def calculate_metrics(self, bar):\n",
    "        if not self.keep_metrics: return\n",
    "        self.positions.append( self.get_position() )\n",
    "        self.navs.append( self.get_nav(bar) )\n",
    "        \n",
    "    def add_metrics_to_data(self):\n",
    "        if not self.keep_metrics: return\n",
    "        self.positions = self.positions + [0]*( self.data.shape[0] - len(self.positions) )\n",
    "        self.navs = self.navs + [ self.navs[-1] ]*( self.data.shape[0] - len(self.navs) )\n",
    "        self.data[\"Position\"] = self.positions\n",
    "        self.data[\"NAV\"] = self.navs\n",
    "        \n",
    "    def close_final_position(self, bar):\n",
    "        date, price = self.get_values(bar)\n",
    "        self.go_neutral(bar) # if some position, go neutral\n",
    "        perf = (self.available_balance - self.initial_balance) / self.initial_balance * 100\n",
    "        good_trades = 0\n",
    "        bad_trades = 0\n",
    "        good_trades_prc = 0\n",
    "        bad_trades_prc = 0\n",
    "        if self.trades > 0 :\n",
    "            good_trades = np.sum(np.array(self.PnLs) > 0, axis = 0)\n",
    "            good_trades_prc = round(good_trades / self.trades *100,1)\n",
    "            bad_trades = np.sum(np.array(self.PnLs) <= 0, axis = 0)\n",
    "            bad_trades_prc = round(bad_trades / self.trades *100,1)\n",
    "            \n",
    "        if self.verbose:\n",
    "            self.print_available_balance(bar)\n",
    "            print(75 * \"-\")\n",
    "            print(\"+++ CLOSING FINAL POSITION +++\")\n",
    "            print(\"net performance (%) = {}\".format( round(perf, 2) ))\n",
    "            print(\"number of positions opened = {}\".format(self.trades)) \n",
    "            print(\"number of liquidated orders = {}\".format(self.liquidated_orders))\n",
    "            print(\"number of good PnL = {} ({}%)\".format(good_trades, good_trades_prc))\n",
    "            print(\"number of bad PnL = {} ({}%)\".format(bad_trades, bad_trades_prc))\n",
    "            print(\"Amount spent on fee = {} ({}% of initial balance)\".format(\n",
    "                self.paid_fees, round(self.paid_fees/self.initial_balance*100, 2))\n",
    "             ) \n",
    "            print(75 * \"-\")    \n",
    "    \n",
    "    def should_end_session(self, bar):\n",
    "        min_amount_to_invest = self.get_min_amount_to_invest(bar, leverage = self.leverage,just_margin = True)\n",
    "        #no money and no positions\n",
    "        if self.available_balance < min_amount_to_invest and self.get_position() == 0:\n",
    "            if self.verbose:\n",
    "                print(\"Not enough money to trade! Ending trading session.\")\n",
    "            return True\n",
    "        return False\n",
    "    \n",
    "    def optimize_parameters(self, SMA_S_range, SMA_L_range):\n",
    "        ''' Finds the optimal strategy (global maximum) given the SMA parameter ranges.\n",
    "\n",
    "        Parameters\n",
    "        ----------\n",
    "        SMA_S_range, SMA_L_range: tuple\n",
    "            tuples of the form (start, end, step size)\n",
    "        '''\n",
    "        sma_s_list = np.arange(*SMA_S_range)\n",
    "        sma_l_list = np.arange(*SMA_L_range)\n",
    "        combinations = list(product(\n",
    "            sma_s_list, \n",
    "            sma_l_list\n",
    "        ))\n",
    "        \n",
    "        # test all combinations\n",
    "        results = []\n",
    "        for comb in combinations:\n",
    "            results.append(self.test_sma_strategy(\n",
    "                SMA_S = comb[0], \n",
    "                SMA_L = comb[1], \n",
    "                leverage = 50, #higher leverage makes tests faster!\n",
    "                keep_metrics = False, #False makes the process faster\n",
    "                verbose = False #dont print order stuff\n",
    "            ))\n",
    "        \n",
    "        best_perf = np.max(results) # best performance\n",
    "        opt = combinations[np.argmax(results)] # optimal parameters\n",
    "        \n",
    "        # run/set the optimal strategy\n",
    "        self.test_sma_strategy(\n",
    "                SMA_S = opt[0], \n",
    "                SMA_L = opt[1], \n",
    "                leverage = 50,\n",
    "                keep_metrics = True, #False makes the process faster\n",
    "                verbose = False #dont print order stuff\n",
    "            )\n",
    "                   \n",
    "        # create a df with many results\n",
    "        many_results =  pd.DataFrame(data = combinations, columns = [\"SMA_S\", \"SMA_L\"])\n",
    "        many_results[\"performance\"] = results\n",
    "        self.results_overview = many_results\n",
    "                            \n",
    "        return opt, best_perf   \n",
    "    \n",
    "    def test_strategy(self,keep_metrics = True, verbose = True):\n",
    "        self.verbose = verbose \n",
    "        if self.verbose:\n",
    "            stm = \"Testing strategy | {}\".format(self.symbol)\n",
    "            print(\"-\" * 75)\n",
    "            print(stm)\n",
    "            print(\"-\" * 75)\n",
    "        # reset \n",
    "        self.trades = 0  # no trades yet\n",
    "        self.available_balance = self.initial_balance  # reset initial capital\n",
    "        self.get_data() # reset dataset\n",
    "        self.open_orders = []\n",
    "        self.closed_orders = []\n",
    "        self.paid_fees = 0\n",
    "        self.liquidated_orders = 0\n",
    "        #self.leverage = leverage\n",
    "        # prepare params\n",
    "        #SMA\n",
    "        SMA_S = 7\n",
    "        SMA_L = 25\n",
    "        #EWMA\n",
    "        approx_avg_period_s = 2\n",
    "        approx_avg_period_l = 5\n",
    "        #BBS\n",
    "        dev = 1\n",
    "        periods = 25\n",
    "        #prepare strategies\n",
    "        self.strategies = [\n",
    "            SMA(\n",
    "                data = self.data,\n",
    "                SMA_S = SMA_S,\n",
    "                SMA_L = SMA_L,\n",
    "                column = \"Close\"\n",
    "            ),\n",
    "            BollingerBands(\n",
    "                data = self.data,\n",
    "                dev = dev, \n",
    "                periods = periods,\n",
    "                column = \"Close\"\n",
    "            )\n",
    "\n",
    "        ]\n",
    "        self.lower_bound = 0\n",
    "        self.upper_bound = len(self.strategies)\n",
    "        for strategy in self.strategies:\n",
    "            strategy.calculate() #add columns to data \n",
    "        self.data.dropna(inplace = True) #dropna after calculating the strategy\n",
    "        #prepare metrics\n",
    "        self.keep_metrics = keep_metrics\n",
    "        self.positions, self.navs = [], []\n",
    " \n",
    "        for bar in range(len(self.data)-1): # all bars (except the last bar)\n",
    "            #date, price = self.get_values(bar) #useful to get current date and price\n",
    "            self.verify_not_liquidation(bar) #verify current order isnt liquidated\n",
    "            if self.should_end_session(bar): break #check if should end session  \n",
    "            ############### Algorithm ############### \n",
    "            self.ind_sum = 0\n",
    "            for strategy in self.strategies:\n",
    "                self.ind_sum += strategy.strategy1(bar)\n",
    "            self.predicted_pos = np.sign(self.ind_sum)\n",
    "            if self.predicted_pos == 1 and self.get_position() in [0, -1]:\n",
    "                self.go_long(bar, amount = 100, prc=True, go_neutral_first = True) # go long with full amount\n",
    "            if self.predicted_pos == -1 and self.get_position() in [0, 1]:\n",
    "                self.go_short(bar, amount = 100, prc=True, go_neutral_first = True) # go short with full amount\n",
    "            ############## End Algorithm ############        \n",
    "            self.calculate_metrics(bar)\n",
    "        \n",
    "        self.verify_not_liquidation(bar+1)           \n",
    "        self.close_final_position(bar+1) # close the final open position\n",
    "        self.calculate_metrics(bar+1)\n",
    "        self.add_metrics_to_data()\n",
    "        return round(self.available_balance, 1)\n",
    "    \n",
    "    def leverage_strategy(self, min_x, max_x, min_y = 1, max_y = 5):\n",
    "        if max_y < min_y:\n",
    "            print(\"max leverage is less than min leverage\")\n",
    "            return -1\n",
    "        #y = y1 + m(x-x1) , m =(y2-y1)/(x2-x1)\n",
    "        #two points of the line: (min_x, min_y) and (max_x, max_y)\n",
    "        x = min(max_x, abs(self.ind_sum)) #short or long, we want just abs number\n",
    "        m = (max_y-min_y)/(max_x-min_x)\n",
    "        new_leverage = round( min_y + m*( x - min_x ))\n",
    "        new_leverage = max(self.get_min_leverage(), new_leverage ) #open orders restrictions\n",
    "        self.change_leverage(new_leverage)\n",
    "        return new_leverage\n",
    "        "
   ]
  },
  {
   "attachments": {},
   "cell_type": "markdown",
   "id": "3946c50e",
   "metadata": {},
   "source": [
    "### Test strategy"
   ]
  },
  {
   "cell_type": "code",
   "execution_count": 153,
   "id": "5ca12278",
   "metadata": {},
   "outputs": [],
   "source": [
    "bc = IterativeBacktest(\n",
    "    symbol = \"BTCUSD\", \n",
    "    start = \"2022-09-11\", \n",
    "    end = \"2022-09-12\", #take care of the length of period!! It will help to make tests faster \n",
    "    amount = 25, #Less amount means make tests faster\n",
    "    use_fee= True,\n",
    "    fee_maker = 0.0002,\n",
    "    fee_taker = 0.0004,\n",
    "    csv = \"data/btc-usdt_1m.csv\"\n",
    ")"
   ]
  },
  {
   "cell_type": "code",
   "execution_count": 171,
   "id": "a54db0c2",
   "metadata": {},
   "outputs": [],
   "source": [
    "#start 2023-03-27 04:40\n",
    "#end 2023-04-03 03:19\n",
    "bc = IterativeBacktest(\n",
    "    symbol = \"BTCUSD\", \n",
    "    start = \"2023-03-27\", \n",
    "    end = \"2023-03-28\", #take care of the length of period!! It will help to make tests faster \n",
    "    amount = 30, #Less amount means make tests faster\n",
    "    use_fee= False,\n",
    "    fee_maker = 0.0002,\n",
    "    fee_taker = 0.0004,\n",
    "    csv = \"data/apr2_1m_10k.csv\"\n",
    ")"
   ]
  },
  {
   "cell_type": "code",
   "execution_count": 172,
   "id": "3b118094",
   "metadata": {},
   "outputs": [
    {
     "data": {
      "text/html": [
       "<div>\n",
       "<style scoped>\n",
       "    .dataframe tbody tr th:only-of-type {\n",
       "        vertical-align: middle;\n",
       "    }\n",
       "\n",
       "    .dataframe tbody tr th {\n",
       "        vertical-align: top;\n",
       "    }\n",
       "\n",
       "    .dataframe thead th {\n",
       "        text-align: right;\n",
       "    }\n",
       "</style>\n",
       "<table border=\"1\" class=\"dataframe\">\n",
       "  <thead>\n",
       "    <tr style=\"text-align: right;\">\n",
       "      <th></th>\n",
       "      <th>Open</th>\n",
       "      <th>High</th>\n",
       "      <th>Low</th>\n",
       "      <th>Close</th>\n",
       "      <th>Volume</th>\n",
       "      <th>Quote Asset Volume</th>\n",
       "      <th>Number of Trades</th>\n",
       "      <th>Taker Buy Base Asset Volume</th>\n",
       "      <th>Taker Buy Quote Asset Volume</th>\n",
       "      <th>returns</th>\n",
       "      <th>Hold Strategy</th>\n",
       "    </tr>\n",
       "    <tr>\n",
       "      <th>Date</th>\n",
       "      <th></th>\n",
       "      <th></th>\n",
       "      <th></th>\n",
       "      <th></th>\n",
       "      <th></th>\n",
       "      <th></th>\n",
       "      <th></th>\n",
       "      <th></th>\n",
       "      <th></th>\n",
       "      <th></th>\n",
       "      <th></th>\n",
       "    </tr>\n",
       "  </thead>\n",
       "  <tbody>\n",
       "    <tr>\n",
       "      <th>2023-03-27 04:40:00</th>\n",
       "      <td>27908.6</td>\n",
       "      <td>27911.2</td>\n",
       "      <td>27892.4</td>\n",
       "      <td>27898.5</td>\n",
       "      <td>34.058</td>\n",
       "      <td>9.505229e+05</td>\n",
       "      <td>12</td>\n",
       "      <td>15.450</td>\n",
       "      <td>4.312280e+05</td>\n",
       "      <td>NaN</td>\n",
       "      <td>NaN</td>\n",
       "    </tr>\n",
       "    <tr>\n",
       "      <th>2023-03-27 04:41:00</th>\n",
       "      <td>27911.2</td>\n",
       "      <td>27911.2</td>\n",
       "      <td>27898.2</td>\n",
       "      <td>27900.2</td>\n",
       "      <td>71.009</td>\n",
       "      <td>1.981082e+06</td>\n",
       "      <td>17</td>\n",
       "      <td>13.254</td>\n",
       "      <td>3.698177e+05</td>\n",
       "      <td>0.000061</td>\n",
       "      <td>30.001828</td>\n",
       "    </tr>\n",
       "    <tr>\n",
       "      <th>2023-03-27 04:42:00</th>\n",
       "      <td>27898.3</td>\n",
       "      <td>27898.3</td>\n",
       "      <td>27891.1</td>\n",
       "      <td>27895.0</td>\n",
       "      <td>20.343</td>\n",
       "      <td>5.674299e+05</td>\n",
       "      <td>14</td>\n",
       "      <td>3.538</td>\n",
       "      <td>9.869251e+04</td>\n",
       "      <td>-0.000186</td>\n",
       "      <td>29.996236</td>\n",
       "    </tr>\n",
       "    <tr>\n",
       "      <th>2023-03-27 04:43:00</th>\n",
       "      <td>27891.1</td>\n",
       "      <td>27911.2</td>\n",
       "      <td>27871.4</td>\n",
       "      <td>27911.2</td>\n",
       "      <td>188.411</td>\n",
       "      <td>5.255250e+06</td>\n",
       "      <td>37</td>\n",
       "      <td>48.671</td>\n",
       "      <td>1.358090e+06</td>\n",
       "      <td>0.000581</td>\n",
       "      <td>30.013657</td>\n",
       "    </tr>\n",
       "    <tr>\n",
       "      <th>2023-03-27 04:44:00</th>\n",
       "      <td>27911.2</td>\n",
       "      <td>27911.2</td>\n",
       "      <td>27890.8</td>\n",
       "      <td>27900.0</td>\n",
       "      <td>64.954</td>\n",
       "      <td>1.812151e+06</td>\n",
       "      <td>19</td>\n",
       "      <td>49.766</td>\n",
       "      <td>1.388516e+06</td>\n",
       "      <td>-0.000401</td>\n",
       "      <td>30.001613</td>\n",
       "    </tr>\n",
       "    <tr>\n",
       "      <th>...</th>\n",
       "      <td>...</td>\n",
       "      <td>...</td>\n",
       "      <td>...</td>\n",
       "      <td>...</td>\n",
       "      <td>...</td>\n",
       "      <td>...</td>\n",
       "      <td>...</td>\n",
       "      <td>...</td>\n",
       "      <td>...</td>\n",
       "      <td>...</td>\n",
       "      <td>...</td>\n",
       "    </tr>\n",
       "    <tr>\n",
       "      <th>2023-03-28 23:55:00</th>\n",
       "      <td>27257.4</td>\n",
       "      <td>27279.9</td>\n",
       "      <td>27257.4</td>\n",
       "      <td>27277.1</td>\n",
       "      <td>27.002</td>\n",
       "      <td>7.365338e+05</td>\n",
       "      <td>18</td>\n",
       "      <td>22.445</td>\n",
       "      <td>6.122634e+05</td>\n",
       "      <td>0.000396</td>\n",
       "      <td>29.331792</td>\n",
       "    </tr>\n",
       "    <tr>\n",
       "      <th>2023-03-28 23:56:00</th>\n",
       "      <td>27279.9</td>\n",
       "      <td>27282.1</td>\n",
       "      <td>27278.4</td>\n",
       "      <td>27278.4</td>\n",
       "      <td>74.587</td>\n",
       "      <td>2.034687e+06</td>\n",
       "      <td>19</td>\n",
       "      <td>29.091</td>\n",
       "      <td>7.936286e+05</td>\n",
       "      <td>0.000048</td>\n",
       "      <td>29.333190</td>\n",
       "    </tr>\n",
       "    <tr>\n",
       "      <th>2023-03-28 23:57:00</th>\n",
       "      <td>27281.1</td>\n",
       "      <td>27282.1</td>\n",
       "      <td>27259.0</td>\n",
       "      <td>27282.1</td>\n",
       "      <td>28.537</td>\n",
       "      <td>7.784614e+05</td>\n",
       "      <td>17</td>\n",
       "      <td>17.013</td>\n",
       "      <td>4.641416e+05</td>\n",
       "      <td>0.000136</td>\n",
       "      <td>29.337169</td>\n",
       "    </tr>\n",
       "    <tr>\n",
       "      <th>2023-03-28 23:58:00</th>\n",
       "      <td>27257.9</td>\n",
       "      <td>27282.1</td>\n",
       "      <td>27253.0</td>\n",
       "      <td>27254.4</td>\n",
       "      <td>70.536</td>\n",
       "      <td>1.922585e+06</td>\n",
       "      <td>24</td>\n",
       "      <td>9.788</td>\n",
       "      <td>2.667815e+05</td>\n",
       "      <td>-0.001016</td>\n",
       "      <td>29.307382</td>\n",
       "    </tr>\n",
       "    <tr>\n",
       "      <th>2023-03-28 23:59:00</th>\n",
       "      <td>27259.9</td>\n",
       "      <td>27262.1</td>\n",
       "      <td>27254.4</td>\n",
       "      <td>27257.9</td>\n",
       "      <td>90.866</td>\n",
       "      <td>2.476562e+06</td>\n",
       "      <td>23</td>\n",
       "      <td>1.186</td>\n",
       "      <td>3.233062e+04</td>\n",
       "      <td>0.000128</td>\n",
       "      <td>29.311146</td>\n",
       "    </tr>\n",
       "  </tbody>\n",
       "</table>\n",
       "<p>2600 rows × 11 columns</p>\n",
       "</div>"
      ],
      "text/plain": [
       "                        Open     High      Low    Close   Volume  \\\n",
       "Date                                                               \n",
       "2023-03-27 04:40:00  27908.6  27911.2  27892.4  27898.5   34.058   \n",
       "2023-03-27 04:41:00  27911.2  27911.2  27898.2  27900.2   71.009   \n",
       "2023-03-27 04:42:00  27898.3  27898.3  27891.1  27895.0   20.343   \n",
       "2023-03-27 04:43:00  27891.1  27911.2  27871.4  27911.2  188.411   \n",
       "2023-03-27 04:44:00  27911.2  27911.2  27890.8  27900.0   64.954   \n",
       "...                      ...      ...      ...      ...      ...   \n",
       "2023-03-28 23:55:00  27257.4  27279.9  27257.4  27277.1   27.002   \n",
       "2023-03-28 23:56:00  27279.9  27282.1  27278.4  27278.4   74.587   \n",
       "2023-03-28 23:57:00  27281.1  27282.1  27259.0  27282.1   28.537   \n",
       "2023-03-28 23:58:00  27257.9  27282.1  27253.0  27254.4   70.536   \n",
       "2023-03-28 23:59:00  27259.9  27262.1  27254.4  27257.9   90.866   \n",
       "\n",
       "                     Quote Asset Volume  Number of Trades  \\\n",
       "Date                                                        \n",
       "2023-03-27 04:40:00        9.505229e+05                12   \n",
       "2023-03-27 04:41:00        1.981082e+06                17   \n",
       "2023-03-27 04:42:00        5.674299e+05                14   \n",
       "2023-03-27 04:43:00        5.255250e+06                37   \n",
       "2023-03-27 04:44:00        1.812151e+06                19   \n",
       "...                                 ...               ...   \n",
       "2023-03-28 23:55:00        7.365338e+05                18   \n",
       "2023-03-28 23:56:00        2.034687e+06                19   \n",
       "2023-03-28 23:57:00        7.784614e+05                17   \n",
       "2023-03-28 23:58:00        1.922585e+06                24   \n",
       "2023-03-28 23:59:00        2.476562e+06                23   \n",
       "\n",
       "                     Taker Buy Base Asset Volume  \\\n",
       "Date                                               \n",
       "2023-03-27 04:40:00                       15.450   \n",
       "2023-03-27 04:41:00                       13.254   \n",
       "2023-03-27 04:42:00                        3.538   \n",
       "2023-03-27 04:43:00                       48.671   \n",
       "2023-03-27 04:44:00                       49.766   \n",
       "...                                          ...   \n",
       "2023-03-28 23:55:00                       22.445   \n",
       "2023-03-28 23:56:00                       29.091   \n",
       "2023-03-28 23:57:00                       17.013   \n",
       "2023-03-28 23:58:00                        9.788   \n",
       "2023-03-28 23:59:00                        1.186   \n",
       "\n",
       "                     Taker Buy Quote Asset Volume   returns  Hold Strategy  \n",
       "Date                                                                        \n",
       "2023-03-27 04:40:00                  4.312280e+05       NaN            NaN  \n",
       "2023-03-27 04:41:00                  3.698177e+05  0.000061      30.001828  \n",
       "2023-03-27 04:42:00                  9.869251e+04 -0.000186      29.996236  \n",
       "2023-03-27 04:43:00                  1.358090e+06  0.000581      30.013657  \n",
       "2023-03-27 04:44:00                  1.388516e+06 -0.000401      30.001613  \n",
       "...                                           ...       ...            ...  \n",
       "2023-03-28 23:55:00                  6.122634e+05  0.000396      29.331792  \n",
       "2023-03-28 23:56:00                  7.936286e+05  0.000048      29.333190  \n",
       "2023-03-28 23:57:00                  4.641416e+05  0.000136      29.337169  \n",
       "2023-03-28 23:58:00                  2.667815e+05 -0.001016      29.307382  \n",
       "2023-03-28 23:59:00                  3.233062e+04  0.000128      29.311146  \n",
       "\n",
       "[2600 rows x 11 columns]"
      ]
     },
     "execution_count": 172,
     "metadata": {},
     "output_type": "execute_result"
    }
   ],
   "source": [
    "bc.data"
   ]
  },
  {
   "cell_type": "code",
   "execution_count": 173,
   "id": "84ad1887",
   "metadata": {},
   "outputs": [
    {
     "name": "stdout",
     "output_type": "stream",
     "text": [
      "---------------------------------------------------------------------------\n",
      "Testing strategy | BTCUSD\n",
      "---------------------------------------------------------------------------\n",
      "2023-03-27 05:04:00 |  Buying 0.003 for 27901.7, leverage 3\n",
      "2023-03-27 05:05:00 |  Selling (closing) 0.003 for 27899.5\n",
      "2023-03-27 05:05:00 |  Selling 0.003 for 27899.5, leverage 3\n",
      "2023-03-27 05:29:00 |  Buying (closing) 0.0029999999999999996 for 27871.9\n",
      "2023-03-27 05:29:00 |  Buying 0.003 for 27871.9, leverage 3\n",
      "2023-03-27 05:46:00 |  Selling (closing) 0.003 for 27859.5\n",
      "2023-03-27 05:46:00 |  Selling 0.003 for 27859.5, leverage 3\n",
      "2023-03-27 05:50:00 |  Buying (closing) 0.003 for 27839.8\n",
      "2023-03-27 05:50:00 |  Buying 0.003 for 27839.8, leverage 3\n",
      "2023-03-27 06:08:00 |  Selling (closing) 0.003 for 27764.4\n",
      "2023-03-27 06:08:00 |  Selling 0.003 for 27764.4, leverage 3\n",
      "2023-03-27 06:13:00 |  Buying (closing) 0.0030000000000000005 for 27733.4\n",
      "2023-03-27 06:13:00 |  Buying 0.003 for 27733.4, leverage 3\n",
      "2023-03-27 06:50:00 |  Selling (closing) 0.003 for 27782.5\n",
      "2023-03-27 06:50:00 |  Selling 0.003 for 27782.5, leverage 3\n",
      "2023-03-27 07:10:00 |  Buying (closing) 0.003 for 27783.3\n",
      "2023-03-27 07:10:00 |  Buying 0.003 for 27783.3, leverage 3\n",
      "2023-03-27 07:28:00 |  Selling (closing) 0.003 for 27799.8\n",
      "2023-03-27 07:28:00 |  Selling 0.003 for 27799.8, leverage 3\n",
      "2023-03-27 07:41:00 |  Buying (closing) 0.003 for 27841.0\n",
      "2023-03-27 07:41:00 |  Buying 0.003 for 27841.0, leverage 3\n",
      "2023-03-27 08:25:00 |  Selling (closing) 0.003 for 27824.5\n",
      "2023-03-27 08:25:00 |  Selling 0.005 for 27824.5, leverage 5\n",
      "2023-03-27 08:28:00 |  Buying (closing) 0.005 for 27791.3\n",
      "2023-03-27 08:28:00 |  Buying 0.003 for 27791.3, leverage 3\n",
      "2023-03-27 09:06:00 |  Selling (closing) 0.0029999999999999996 for 27810.8\n",
      "2023-03-27 09:06:00 |  Selling 0.003 for 27810.8, leverage 3\n",
      "2023-03-27 09:42:00 |  Buying (closing) 0.003 for 27896.3\n",
      "2023-03-27 09:42:00 |  Buying 0.003 for 27896.3, leverage 3\n",
      "2023-03-27 09:48:00 |  Selling (closing) 0.003 for 27904.0\n",
      "2023-03-27 09:48:00 |  Selling 0.003 for 27904.0, leverage 3\n",
      "2023-03-27 09:49:00 |  Buying (closing) 0.003 for 27920.5\n",
      "2023-03-27 09:49:00 |  Buying 0.003 for 27920.5, leverage 3\n",
      "2023-03-27 10:13:00 |  Selling (closing) 0.003 for 27923.7\n",
      "2023-03-27 10:13:00 |  Selling 0.003 for 27923.7, leverage 3\n",
      "2023-03-27 10:43:00 |  Buying (closing) 0.003 for 27895.6\n",
      "2023-03-27 10:43:00 |  Buying 0.003 for 27895.6, leverage 3\n",
      "2023-03-27 10:56:00 |  Selling (closing) 0.0029999999999999996 for 27900.3\n",
      "2023-03-27 10:56:00 |  Selling 0.003 for 27900.3, leverage 3\n",
      "2023-03-27 11:04:00 |  Buying (closing) 0.003 for 27909.3\n",
      "2023-03-27 11:04:00 |  Buying 0.003 for 27909.3, leverage 3\n",
      "2023-03-27 11:31:00 |  Selling (closing) 0.0029999999999999996 for 27939.9\n",
      "2023-03-27 11:31:00 |  Selling 0.003 for 27939.9, leverage 3\n",
      "2023-03-27 12:01:00 |  Buying (closing) 0.003 for 27879.3\n",
      "2023-03-27 12:01:00 |  Buying 0.003 for 27879.3, leverage 3\n",
      "2023-03-27 12:10:00 |  Selling (closing) 0.003 for 27892.5\n",
      "2023-03-27 12:10:00 |  Selling 0.003 for 27892.5, leverage 3\n",
      "2023-03-27 12:18:00 |  Buying (closing) 0.0030000000000000005 for 27865.8\n",
      "2023-03-27 12:18:00 |  Buying 0.003 for 27865.8, leverage 3\n",
      "2023-03-27 13:02:00 |  Selling (closing) 0.0029999999999999996 for 27761.9\n",
      "2023-03-27 13:02:00 |  Selling 0.003 for 27761.9, leverage 3\n",
      "2023-03-27 13:06:00 |  Buying (closing) 0.003 for 27750.3\n",
      "2023-03-27 13:06:00 |  Buying 0.003 for 27750.3, leverage 3\n",
      "2023-03-27 13:12:00 |  Selling (closing) 0.003 for 27736.4\n",
      "2023-03-27 13:12:00 |  Selling 0.003 for 27736.4, leverage 3\n",
      "2023-03-27 13:13:00 |  Buying (closing) 0.003 for 27747.5\n",
      "2023-03-27 13:13:00 |  Buying 0.003 for 27747.5, leverage 3\n",
      "2023-03-27 13:14:00 |  Selling (closing) 0.003 for 27738.9\n",
      "2023-03-27 13:14:00 |  Selling 0.003 for 27738.9, leverage 3\n",
      "2023-03-27 13:25:00 |  Buying (closing) 0.003 for 27735.9\n",
      "2023-03-27 13:25:00 |  Buying 0.003 for 27735.9, leverage 3\n",
      "2023-03-27 13:44:00 |  Selling (closing) 0.003 for 27772.0\n",
      "2023-03-27 13:44:00 |  Selling 0.003 for 27772.0, leverage 3\n",
      "2023-03-27 13:52:00 |  Buying (closing) 0.003 for 27761.2\n",
      "2023-03-27 13:52:00 |  Buying 0.003 for 27761.2, leverage 3\n",
      "2023-03-27 14:54:00 |  Selling (closing) 0.003 for 27349.0\n",
      "2023-03-27 14:54:00 |  Selling 0.003 for 27349.0, leverage 3\n",
      "2023-03-27 15:21:00 |  Buying (closing) 0.003 for 26910.4\n",
      "2023-03-27 15:21:00 |  Buying 0.003 for 26910.4, leverage 3\n",
      "2023-03-27 15:40:00 |  Selling (closing) 0.003 for 26879.2\n",
      "2023-03-27 15:40:00 |  Selling 0.003 for 26879.2, leverage 3\n",
      "2023-03-27 16:00:00 |  Buying (closing) 0.003 for 26884.4\n",
      "2023-03-27 16:00:00 |  Buying 0.003 for 26884.4, leverage 3\n",
      "2023-03-27 16:29:00 |  Selling (closing) 0.0030000000000000005 for 27182.6\n",
      "2023-03-27 16:29:00 |  Selling 0.003 for 27182.6, leverage 3\n",
      "2023-03-27 16:34:00 |  Buying (closing) 0.003 for 27214.2\n",
      "2023-03-27 16:34:00 |  Buying 0.003 for 27214.2, leverage 3\n",
      "2023-03-27 16:36:00 |  Selling (closing) 0.003 for 27207.0\n",
      "2023-03-27 16:36:00 |  Selling 0.003 for 27207.0, leverage 3\n",
      "2023-03-27 17:01:00 |  Buying (closing) 0.0030000000000000005 for 27144.1\n",
      "2023-03-27 17:01:00 |  Buying 0.003 for 27144.1, leverage 3\n",
      "2023-03-27 17:11:00 |  Selling (closing) 0.003 for 27125.4\n",
      "2023-03-27 17:11:00 |  Selling 0.003 for 27125.4, leverage 3\n",
      "2023-03-27 17:49:00 |  Buying (closing) 0.003 for 27021.0\n",
      "2023-03-27 17:49:00 |  Buying 0.003 for 27021.0, leverage 3\n",
      "2023-03-27 18:08:00 |  Selling (closing) 0.003 for 26997.2\n",
      "2023-03-27 18:08:00 |  Selling 0.003 for 26997.2, leverage 3\n",
      "2023-03-27 18:37:00 |  Buying (closing) 0.003 for 27067.7\n",
      "2023-03-27 18:37:00 |  Buying 0.003 for 27067.7, leverage 3\n",
      "2023-03-27 18:57:00 |  Selling (closing) 0.003 for 27103.7\n",
      "2023-03-27 18:57:00 |  Selling 0.003 for 27103.7, leverage 3\n",
      "2023-03-27 19:33:00 |  Buying (closing) 0.0029999999999999996 for 27072.5\n",
      "2023-03-27 19:33:00 |  Buying 0.003 for 27072.5, leverage 3\n",
      "2023-03-27 19:36:00 |  Selling (closing) 0.003 for 27062.2\n",
      "2023-03-27 19:36:00 |  Selling 0.003 for 27062.2, leverage 3\n",
      "2023-03-27 20:06:00 |  Buying (closing) 0.003 for 27021.5\n",
      "2023-03-27 20:06:00 |  Buying 0.003 for 27021.5, leverage 3\n",
      "2023-03-27 20:08:00 |  Selling (closing) 0.0029999999999999996 for 26988.4\n",
      "2023-03-27 20:08:00 |  Selling 0.003 for 26988.4, leverage 3\n",
      "2023-03-27 20:24:00 |  Buying (closing) 0.003 for 26983.4\n",
      "2023-03-27 20:24:00 |  Buying 0.003 for 26983.4, leverage 3\n",
      "2023-03-27 20:40:00 |  Selling (closing) 0.003 for 27001.4\n",
      "2023-03-27 20:40:00 |  Selling 0.003 for 27001.4, leverage 3\n",
      "2023-03-27 21:01:00 |  Buying (closing) 0.0029999999999999996 for 27002.8\n",
      "2023-03-27 21:01:00 |  Buying 0.003 for 27002.8, leverage 3\n",
      "2023-03-27 21:40:00 |  Selling (closing) 0.003 for 27129.0\n",
      "2023-03-27 21:40:00 |  Selling 0.003 for 27129.0, leverage 3\n",
      "2023-03-27 21:54:00 |  Buying (closing) 0.003 for 27142.3\n",
      "2023-03-27 21:54:00 |  Buying 0.003 for 27142.3, leverage 3\n",
      "2023-03-27 22:21:00 |  Selling (closing) 0.0029999999999999996 for 27169.0\n",
      "2023-03-27 22:21:00 |  Selling 0.003 for 27169.0, leverage 3\n",
      "2023-03-27 23:05:00 |  Buying (closing) 0.003 for 27097.4\n",
      "2023-03-27 23:05:00 |  Buying 0.003 for 27097.4, leverage 3\n",
      "2023-03-27 23:46:00 |  Selling (closing) 0.003 for 27155.9\n",
      "2023-03-27 23:46:00 |  Selling 0.003 for 27155.9, leverage 3\n",
      "2023-03-27 23:52:00 |  Buying (closing) 0.003 for 27167.9\n",
      "2023-03-27 23:52:00 |  Buying 0.003 for 27167.9, leverage 3\n",
      "2023-03-28 00:01:00 |  Selling (closing) 0.003 for 27160.6\n",
      "2023-03-28 00:01:00 |  Selling 0.005 for 27160.6, leverage 5\n",
      "2023-03-28 00:32:00 |  Buying (closing) 0.005 for 27099.5\n",
      "2023-03-28 00:32:00 |  Buying 0.003 for 27099.5, leverage 3\n",
      "2023-03-28 00:34:00 |  Selling (closing) 0.0029999999999999996 for 27064.9\n",
      "2023-03-28 00:34:00 |  Selling 0.003 for 27064.9, leverage 3\n",
      "2023-03-28 01:51:00 |  Buying (closing) 0.003 for 27068.3\n",
      "2023-03-28 01:51:00 |  Buying 0.003 for 27068.3, leverage 3\n",
      "2023-03-28 01:53:00 |  Selling (closing) 0.0030000000000000005 for 27081.1\n",
      "2023-03-28 01:53:00 |  Selling 0.003 for 27081.1, leverage 3\n",
      "2023-03-28 02:14:00 |  Buying (closing) 0.0030000000000000005 for 27055.4\n",
      "2023-03-28 02:14:00 |  Buying 0.003 for 27055.4, leverage 3\n",
      "2023-03-28 02:23:00 |  Selling (closing) 0.003 for 27062.5\n",
      "2023-03-28 02:23:00 |  Selling 0.003 for 27062.5, leverage 3\n",
      "2023-03-28 02:54:00 |  Buying (closing) 0.003 for 27022.1\n",
      "2023-03-28 02:54:00 |  Buying 0.003 for 27022.1, leverage 3\n",
      "2023-03-28 03:40:00 |  Selling (closing) 0.003 for 26972.1\n",
      "2023-03-28 03:40:00 |  Selling 0.003 for 26972.1, leverage 3\n"
     ]
    },
    {
     "name": "stdout",
     "output_type": "stream",
     "text": [
      "2023-03-28 03:46:00 |  Buying (closing) 0.003 for 26962.3\n",
      "2023-03-28 03:46:00 |  Buying 0.003 for 26962.3, leverage 3\n",
      "2023-03-28 03:47:00 |  Selling (closing) 0.003 for 26968.1\n",
      "2023-03-28 03:47:00 |  Selling 0.003 for 26968.1, leverage 3\n",
      "2023-03-28 03:50:00 |  Buying (closing) 0.0030000000000000005 for 26946.7\n",
      "2023-03-28 03:50:00 |  Buying 0.003 for 26946.7, leverage 3\n",
      "2023-03-28 04:06:00 |  Selling (closing) 0.003 for 26957.8\n",
      "2023-03-28 04:06:00 |  Selling 0.003 for 26957.8, leverage 3\n",
      "2023-03-28 04:21:00 |  Buying (closing) 0.003 for 26959.4\n",
      "2023-03-28 04:21:00 |  Buying 0.003 for 26959.4, leverage 3\n",
      "2023-03-28 04:56:00 |  Selling (closing) 0.003 for 26930.0\n",
      "2023-03-28 04:56:00 |  Selling 0.003 for 26930.0, leverage 3\n",
      "2023-03-28 05:08:00 |  Buying (closing) 0.0029999999999999996 for 26946.8\n",
      "2023-03-28 05:08:00 |  Buying 0.003 for 26946.8, leverage 3\n",
      "2023-03-28 05:11:00 |  Selling (closing) 0.003 for 26898.7\n",
      "2023-03-28 05:11:00 |  Selling 0.003 for 26898.7, leverage 3\n",
      "2023-03-28 05:40:00 |  Buying (closing) 0.003 for 26915.4\n",
      "2023-03-28 05:40:00 |  Buying 0.005 for 26915.4, leverage 5\n",
      "2023-03-28 05:45:00 |  Selling (closing) 0.004999999999999999 for 26923.4\n",
      "2023-03-28 05:45:00 |  Selling 0.003 for 26923.4, leverage 3\n",
      "2023-03-28 05:49:00 |  Buying (closing) 0.003 for 26925.8\n",
      "2023-03-28 05:49:00 |  Buying 0.003 for 26925.8, leverage 3\n",
      "2023-03-28 05:54:00 |  Selling (closing) 0.003 for 26917.6\n",
      "2023-03-28 05:54:00 |  Selling 0.003 for 26917.6, leverage 3\n",
      "2023-03-28 06:27:00 |  Buying (closing) 0.0030000000000000005 for 27079.6\n",
      "2023-03-28 06:27:00 |  Buying 0.003 for 27079.6, leverage 3\n",
      "2023-03-28 06:31:00 |  Selling (closing) 0.003 for 27095.4\n",
      "2023-03-28 06:31:00 |  Selling 0.003 for 27095.4, leverage 3\n",
      "2023-03-28 06:35:00 |  Buying (closing) 0.003 for 27089.6\n",
      "2023-03-28 06:35:00 |  Buying 0.003 for 27089.6, leverage 3\n",
      "2023-03-28 06:49:00 |  Selling (closing) 0.003 for 27175.5\n",
      "2023-03-28 06:49:00 |  Selling 0.005 for 27175.5, leverage 5\n",
      "2023-03-28 07:07:00 |  Buying (closing) 0.005 for 27067.2\n",
      "2023-03-28 07:07:00 |  Buying 0.003 for 27067.2, leverage 3\n",
      "2023-03-28 07:08:00 |  Selling (closing) 0.003 for 27055.1\n",
      "2023-03-28 07:08:00 |  Selling 0.003 for 27055.1, leverage 3\n",
      "2023-03-28 07:50:00 |  Buying (closing) 0.003 for 27031.4\n",
      "2023-03-28 07:50:00 |  Buying 0.006 for 27031.4, leverage 5\n",
      "2023-03-28 08:13:00 |  Selling (closing) 0.006 for 26982.3\n",
      "2023-03-28 08:13:00 |  Selling 0.003 for 26982.3, leverage 3\n",
      "2023-03-28 08:15:00 |  Buying (closing) 0.003 for 26971.4\n",
      "2023-03-28 08:15:00 |  Buying 0.003 for 26971.4, leverage 3\n",
      "2023-03-28 08:22:00 |  Selling (closing) 0.003 for 26942.3\n",
      "2023-03-28 08:22:00 |  Selling 0.003 for 26942.3, leverage 3\n",
      "2023-03-28 08:29:00 |  Buying (closing) 0.003 for 26973.4\n",
      "2023-03-28 08:29:00 |  Buying 0.003 for 26973.4, leverage 3\n",
      "2023-03-28 08:30:00 |  Selling (closing) 0.003 for 26962.7\n",
      "2023-03-28 08:30:00 |  Selling 0.003 for 26962.7, leverage 3\n",
      "2023-03-28 08:41:00 |  Buying (closing) 0.003 for 26968.5\n",
      "2023-03-28 08:41:00 |  Buying 0.003 for 26968.5, leverage 3\n",
      "2023-03-28 09:15:00 |  Selling (closing) 0.0029999999999999996 for 27007.0\n",
      "2023-03-28 09:15:00 |  Selling 0.003 for 27007.0, leverage 3\n",
      "2023-03-28 10:08:00 |  Buying (closing) 0.003 for 26908.8\n",
      "2023-03-28 10:08:00 |  Buying 0.003 for 26908.8, leverage 3\n",
      "2023-03-28 10:56:00 |  Selling (closing) 0.003 for 26723.1\n",
      "2023-03-28 10:56:00 |  Selling 0.003 for 26723.1, leverage 3\n",
      "2023-03-28 11:10:00 |  Buying (closing) 0.003 for 26731.0\n",
      "2023-03-28 11:10:00 |  Buying 0.003 for 26731.0, leverage 3\n",
      "2023-03-28 11:43:00 |  Selling (closing) 0.0030000000000000005 for 26922.1\n",
      "2023-03-28 11:43:00 |  Selling 0.003 for 26922.1, leverage 3\n",
      "2023-03-28 12:11:00 |  Buying (closing) 0.003 for 27100.0\n",
      "2023-03-28 12:11:00 |  Buying 0.003 for 27100.0, leverage 3\n",
      "2023-03-28 12:13:00 |  Selling (closing) 0.0030000000000000005 for 27088.6\n",
      "2023-03-28 12:13:00 |  Selling 0.003 for 27088.6, leverage 3\n",
      "2023-03-28 12:54:00 |  Buying (closing) 0.003 for 26974.3\n",
      "2023-03-28 12:54:00 |  Buying 0.003 for 26974.3, leverage 3\n",
      "2023-03-28 12:59:00 |  Selling (closing) 0.003 for 26989.2\n",
      "2023-03-28 12:59:00 |  Selling 0.003 for 26989.2, leverage 3\n",
      "2023-03-28 13:17:00 |  Buying (closing) 0.003 for 26874.7\n",
      "2023-03-28 13:17:00 |  Buying 0.006 for 26874.7, leverage 5\n",
      "2023-03-28 13:22:00 |  Selling (closing) 0.006 for 27050.3\n",
      "2023-03-28 13:22:00 |  Selling 0.006 for 27050.3, leverage 5\n",
      "2023-03-28 13:47:00 |  Buying (closing) 0.006000000000000001 for 26926.1\n",
      "2023-03-28 13:47:00 |  Buying 0.003 for 26926.1, leverage 3\n",
      "2023-03-28 13:48:00 |  Selling (closing) 0.003 for 26912.6\n",
      "2023-03-28 13:48:00 |  Selling 0.003 for 26912.6, leverage 3\n",
      "2023-03-28 13:56:00 |  Buying (closing) 0.003 for 26911.0\n",
      "2023-03-28 13:56:00 |  Buying 0.003 for 26911.0, leverage 3\n",
      "2023-03-28 14:04:00 |  Selling (closing) 0.003 for 26949.8\n",
      "2023-03-28 14:04:00 |  Selling 0.003 for 26949.8, leverage 3\n",
      "2023-03-28 14:19:00 |  Buying (closing) 0.003 for 26940.1\n",
      "2023-03-28 14:19:00 |  Buying 0.003 for 26940.1, leverage 3\n",
      "2023-03-28 14:24:00 |  Selling (closing) 0.0029999999999999996 for 26950.0\n",
      "2023-03-28 14:24:00 |  Selling 0.003 for 26950.0, leverage 3\n",
      "2023-03-28 14:30:00 |  Buying (closing) 0.0029999999999999996 for 27011.0\n",
      "2023-03-28 14:30:00 |  Buying 0.003 for 27011.0, leverage 3\n",
      "2023-03-28 14:44:00 |  Selling (closing) 0.003 for 26955.7\n",
      "2023-03-28 14:44:00 |  Selling 0.003 for 26955.7, leverage 3\n",
      "2023-03-28 14:52:00 |  Buying (closing) 0.0029999999999999996 for 26948.5\n",
      "2023-03-28 14:52:00 |  Buying 0.003 for 26948.5, leverage 3\n",
      "2023-03-28 14:56:00 |  Selling (closing) 0.003 for 26949.4\n",
      "2023-03-28 14:56:00 |  Selling 0.003 for 26949.4, leverage 3\n",
      "2023-03-28 15:02:00 |  Buying (closing) 0.003 for 26973.6\n",
      "2023-03-28 15:02:00 |  Buying 0.003 for 26973.6, leverage 3\n",
      "2023-03-28 15:16:00 |  Selling (closing) 0.0029999999999999996 for 26944.3\n",
      "2023-03-28 15:16:00 |  Selling 0.003 for 26944.3, leverage 3\n",
      "2023-03-28 15:17:00 |  Buying (closing) 0.003 for 26977.4\n",
      "2023-03-28 15:17:00 |  Buying 0.003 for 26977.4, leverage 3\n",
      "2023-03-28 16:02:00 |  Selling (closing) 0.003 for 27012.8\n",
      "2023-03-28 16:02:00 |  Selling 0.003 for 27012.8, leverage 3\n",
      "2023-03-28 16:04:00 |  Buying (closing) 0.003 for 26967.6\n",
      "2023-03-28 16:04:00 |  Buying 0.003 for 26967.6, leverage 3\n",
      "2023-03-28 16:33:00 |  Selling (closing) 0.0029999999999999996 for 26917.7\n",
      "2023-03-28 16:33:00 |  Selling 0.003 for 26917.7, leverage 3\n",
      "2023-03-28 16:36:00 |  Buying (closing) 0.003 for 26912.2\n",
      "2023-03-28 16:36:00 |  Buying 0.003 for 26912.2, leverage 3\n",
      "2023-03-28 17:02:00 |  Selling (closing) 0.0030000000000000005 for 27054.5\n",
      "2023-03-28 17:02:00 |  Selling 0.006 for 27054.5, leverage 5\n",
      "2023-03-28 17:04:00 |  Buying (closing) 0.006 for 26885.4\n",
      "2023-03-28 17:04:00 |  Buying 0.003 for 26885.4, leverage 3\n",
      "2023-03-28 17:09:00 |  Selling (closing) 0.0029999999999999996 for 26907.7\n",
      "2023-03-28 17:09:00 |  Selling 0.003 for 26907.7, leverage 3\n",
      "2023-03-28 17:12:00 |  Buying (closing) 0.003 for 26878.0\n",
      "2023-03-28 17:12:00 |  Buying 0.003 for 26878.0, leverage 3\n",
      "2023-03-28 17:15:00 |  Selling (closing) 0.003 for 26875.0\n",
      "2023-03-28 17:15:00 |  Selling 0.003 for 26875.0, leverage 3\n",
      "2023-03-28 17:33:00 |  Buying (closing) 0.003 for 26815.0\n",
      "2023-03-28 17:33:00 |  Buying 0.004 for 26815.0, leverage 3\n",
      "2023-03-28 17:42:00 |  Selling (closing) 0.004 for 26830.0\n",
      "2023-03-28 17:42:00 |  Selling 0.004 for 26830.0, leverage 3\n",
      "2023-03-28 17:54:00 |  Buying (closing) 0.004 for 26835.7\n",
      "2023-03-28 17:54:00 |  Buying 0.004 for 26835.7, leverage 3\n",
      "2023-03-28 18:11:00 |  Selling (closing) 0.004 for 26841.1\n",
      "2023-03-28 18:11:00 |  Selling 0.004 for 26841.1, leverage 3\n",
      "2023-03-28 18:25:00 |  Buying (closing) 0.004 for 26866.3\n",
      "2023-03-28 18:25:00 |  Buying 0.004 for 26866.3, leverage 3\n",
      "2023-03-28 19:14:00 |  Selling (closing) 0.004 for 27288.2\n",
      "2023-03-28 19:14:00 |  Selling 0.004 for 27288.2, leverage 3\n",
      "2023-03-28 19:32:00 |  Buying (closing) 0.004 for 27214.0\n",
      "2023-03-28 19:32:00 |  Buying 0.004 for 27214.0, leverage 3\n",
      "2023-03-28 20:08:00 |  Selling (closing) 0.004 for 27368.9\n",
      "2023-03-28 20:08:00 |  Selling 0.004 for 27368.9, leverage 3\n",
      "2023-03-28 20:31:00 |  Buying (closing) 0.004 for 27353.1\n",
      "2023-03-28 20:31:00 |  Buying 0.004 for 27353.1, leverage 3\n",
      "2023-03-28 20:39:00 |  Selling (closing) 0.004 for 27323.7\n",
      "2023-03-28 20:39:00 |  Selling 0.004 for 27323.7, leverage 3\n",
      "2023-03-28 21:00:00 |  Buying (closing) 0.004 for 27311.1\n",
      "2023-03-28 21:00:00 |  Buying 0.004 for 27311.1, leverage 3\n"
     ]
    },
    {
     "name": "stdout",
     "output_type": "stream",
     "text": [
      "2023-03-28 21:24:00 |  Selling (closing) 0.004 for 27279.5\n",
      "2023-03-28 21:24:00 |  Selling 0.004 for 27279.5, leverage 3\n",
      "2023-03-28 21:27:00 |  Buying (closing) 0.004 for 27285.0\n",
      "2023-03-28 21:27:00 |  Buying 0.004 for 27285.0, leverage 3\n",
      "2023-03-28 21:34:00 |  Selling (closing) 0.004 for 27264.3\n",
      "2023-03-28 21:34:00 |  Selling 0.004 for 27264.3, leverage 3\n",
      "2023-03-28 22:09:00 |  Buying (closing) 0.004 for 27189.7\n",
      "2023-03-28 22:09:00 |  Buying 0.004 for 27189.7, leverage 3\n",
      "2023-03-28 22:24:00 |  Selling (closing) 0.004 for 27193.0\n",
      "2023-03-28 22:24:00 |  Selling 0.004 for 27193.0, leverage 3\n",
      "2023-03-28 22:29:00 |  Buying (closing) 0.004 for 27187.0\n",
      "2023-03-28 22:29:00 |  Buying 0.004 for 27187.0, leverage 3\n",
      "2023-03-28 22:38:00 |  Selling (closing) 0.004 for 27199.0\n",
      "2023-03-28 22:38:00 |  Selling 0.004 for 27199.0, leverage 3\n",
      "2023-03-28 22:42:00 |  Buying (closing) 0.004 for 27206.5\n",
      "2023-03-28 22:42:00 |  Buying 0.004 for 27206.5, leverage 3\n",
      "2023-03-28 22:53:00 |  Selling (closing) 0.004 for 27198.3\n",
      "2023-03-28 22:53:00 |  Selling 0.004 for 27198.3, leverage 3\n",
      "2023-03-28 23:13:00 |  Buying (closing) 0.004 for 27226.8\n",
      "2023-03-28 23:13:00 |  Buying 0.004 for 27226.8, leverage 3\n",
      "2023-03-28 23:17:00 |  Selling (closing) 0.004 for 27206.5\n",
      "2023-03-28 23:17:00 |  Selling 0.004 for 27206.5, leverage 3\n",
      "2023-03-28 23:38:00 |  Buying (closing) 0.004 for 27186.9\n",
      "2023-03-28 23:38:00 |  Buying 0.004 for 27186.9, leverage 3\n",
      "2023-03-28 23:41:00 |  Selling (closing) 0.004 for 27250.8\n",
      "2023-03-28 23:41:00 |  Selling 0.004 for 27250.8, leverage 3\n",
      "2023-03-28 23:44:00 |  Buying (closing) 0.004 for 27283.1\n",
      "2023-03-28 23:44:00 |  Buying 0.004 for 27283.1, leverage 3\n",
      "2023-03-28 23:59:00 |  Selling (closing) 0.004 for 27257.9\n",
      "2023-03-28 23:59:00 | Current Balance: 38.48\n",
      "---------------------------------------------------------------------------\n",
      "+++ CLOSING FINAL POSITION +++\n",
      "net performance (%) = 28.28\n",
      "number of positions opened = 151\n",
      "number of liquidated orders = 0\n",
      "number of good PnL = 83 (55.0%)\n",
      "number of bad PnL = 68 (45.0%)\n",
      "Amount spent on fee = 0.0 (0.0% of initial balance)\n",
      "---------------------------------------------------------------------------\n"
     ]
    },
    {
     "data": {
      "text/plain": [
       "38.5"
      ]
     },
     "execution_count": 173,
     "metadata": {},
     "output_type": "execute_result"
    }
   ],
   "source": [
    "bc.test_strategy(keep_metrics = True, verbose = True)"
   ]
  },
  {
   "cell_type": "code",
   "execution_count": 174,
   "id": "a915c852",
   "metadata": {},
   "outputs": [],
   "source": [
    "#bc.PnLs"
   ]
  },
  {
   "cell_type": "code",
   "execution_count": 175,
   "id": "6914bea6",
   "metadata": {},
   "outputs": [
    {
     "data": {
      "image/png": "[encoded data removed]",
      "text/plain": [
       "<Figure size 1200x800 with 1 Axes>"
      ]
     },
     "metadata": {},
     "output_type": "display_data"
    }
   ],
   "source": [
    "bc.plot_data([\"Hold Strategy\", \"NAV\"])"
   ]
  },
  {
   "cell_type": "code",
   "execution_count": 104,
   "id": "12139003",
   "metadata": {},
   "outputs": [
    {
     "data": {
      "text/html": [
       "<div>\n",
       "<style scoped>\n",
       "    .dataframe tbody tr th:only-of-type {\n",
       "        vertical-align: middle;\n",
       "    }\n",
       "\n",
       "    .dataframe tbody tr th {\n",
       "        vertical-align: top;\n",
       "    }\n",
       "\n",
       "    .dataframe thead th {\n",
       "        text-align: right;\n",
       "    }\n",
       "</style>\n",
       "<table border=\"1\" class=\"dataframe\">\n",
       "  <thead>\n",
       "    <tr style=\"text-align: right;\">\n",
       "      <th></th>\n",
       "      <th>Open</th>\n",
       "      <th>High</th>\n",
       "      <th>Low</th>\n",
       "      <th>Close</th>\n",
       "      <th>Volume</th>\n",
       "      <th>returns</th>\n",
       "      <th>Hold Strategy</th>\n",
       "      <th>Close|SMA|2</th>\n",
       "      <th>Close|SMA|5</th>\n",
       "      <th>Position</th>\n",
       "      <th>NAV</th>\n",
       "    </tr>\n",
       "    <tr>\n",
       "      <th>Date</th>\n",
       "      <th></th>\n",
       "      <th></th>\n",
       "      <th></th>\n",
       "      <th></th>\n",
       "      <th></th>\n",
       "      <th></th>\n",
       "      <th></th>\n",
       "      <th></th>\n",
       "      <th></th>\n",
       "      <th></th>\n",
       "      <th></th>\n",
       "    </tr>\n",
       "  </thead>\n",
       "  <tbody>\n",
       "    <tr>\n",
       "      <th>2022-09-11 05:12:00</th>\n",
       "      <td>21574.5</td>\n",
       "      <td>21580.5</td>\n",
       "      <td>21281.1</td>\n",
       "      <td>21577.1</td>\n",
       "      <td>66.892</td>\n",
       "      <td>0.000060</td>\n",
       "      <td>25.025516</td>\n",
       "      <td>21576.45</td>\n",
       "      <td>21566.62</td>\n",
       "      <td>1</td>\n",
       "      <td>24.980008</td>\n",
       "    </tr>\n",
       "    <tr>\n",
       "      <th>2022-09-11 05:13:00</th>\n",
       "      <td>21575.8</td>\n",
       "      <td>21580.5</td>\n",
       "      <td>21281.1</td>\n",
       "      <td>21468.9</td>\n",
       "      <td>77.139</td>\n",
       "      <td>-0.005027</td>\n",
       "      <td>24.900024</td>\n",
       "      <td>21523.00</td>\n",
       "      <td>21549.38</td>\n",
       "      <td>-1</td>\n",
       "      <td>24.834868</td>\n",
       "    </tr>\n",
       "    <tr>\n",
       "      <th>2022-09-11 05:14:00</th>\n",
       "      <td>21577.1</td>\n",
       "      <td>21580.5</td>\n",
       "      <td>21567.5</td>\n",
       "      <td>21580.5</td>\n",
       "      <td>53.173</td>\n",
       "      <td>0.005185</td>\n",
       "      <td>25.029459</td>\n",
       "      <td>21524.70</td>\n",
       "      <td>21554.24</td>\n",
       "      <td>-1</td>\n",
       "      <td>24.705771</td>\n",
       "    </tr>\n",
       "    <tr>\n",
       "      <th>2022-09-11 05:15:00</th>\n",
       "      <td>21580.5</td>\n",
       "      <td>21580.5</td>\n",
       "      <td>21350.0</td>\n",
       "      <td>21350.0</td>\n",
       "      <td>29.071</td>\n",
       "      <td>-0.010738</td>\n",
       "      <td>24.762121</td>\n",
       "      <td>21465.25</td>\n",
       "      <td>21510.46</td>\n",
       "      <td>-1</td>\n",
       "      <td>24.972410</td>\n",
       "    </tr>\n",
       "    <tr>\n",
       "      <th>2022-09-11 05:16:00</th>\n",
       "      <td>21494.2</td>\n",
       "      <td>21580.5</td>\n",
       "      <td>21281.1</td>\n",
       "      <td>21569.3</td>\n",
       "      <td>97.245</td>\n",
       "      <td>0.010219</td>\n",
       "      <td>25.016469</td>\n",
       "      <td>21459.65</td>\n",
       "      <td>21509.16</td>\n",
       "      <td>-1</td>\n",
       "      <td>24.718727</td>\n",
       "    </tr>\n",
       "    <tr>\n",
       "      <th>...</th>\n",
       "      <td>...</td>\n",
       "      <td>...</td>\n",
       "      <td>...</td>\n",
       "      <td>...</td>\n",
       "      <td>...</td>\n",
       "      <td>...</td>\n",
       "      <td>...</td>\n",
       "      <td>...</td>\n",
       "      <td>...</td>\n",
       "      <td>...</td>\n",
       "      <td>...</td>\n",
       "    </tr>\n",
       "    <tr>\n",
       "      <th>2022-09-12 23:55:00</th>\n",
       "      <td>22177.0</td>\n",
       "      <td>22199.0</td>\n",
       "      <td>22052.0</td>\n",
       "      <td>22060.0</td>\n",
       "      <td>205.816</td>\n",
       "      <td>0.000898</td>\n",
       "      <td>25.585592</td>\n",
       "      <td>22050.10</td>\n",
       "      <td>22091.72</td>\n",
       "      <td>0</td>\n",
       "      <td>21.223683</td>\n",
       "    </tr>\n",
       "    <tr>\n",
       "      <th>2022-09-12 23:56:00</th>\n",
       "      <td>22198.0</td>\n",
       "      <td>22199.8</td>\n",
       "      <td>22060.0</td>\n",
       "      <td>22199.8</td>\n",
       "      <td>90.778</td>\n",
       "      <td>0.006317</td>\n",
       "      <td>25.747735</td>\n",
       "      <td>22129.90</td>\n",
       "      <td>22123.64</td>\n",
       "      <td>0</td>\n",
       "      <td>21.223683</td>\n",
       "    </tr>\n",
       "    <tr>\n",
       "      <th>2022-09-12 23:57:00</th>\n",
       "      <td>22199.8</td>\n",
       "      <td>22199.8</td>\n",
       "      <td>22060.0</td>\n",
       "      <td>22060.0</td>\n",
       "      <td>21.882</td>\n",
       "      <td>-0.006317</td>\n",
       "      <td>25.585592</td>\n",
       "      <td>22129.90</td>\n",
       "      <td>22095.86</td>\n",
       "      <td>0</td>\n",
       "      <td>21.223683</td>\n",
       "    </tr>\n",
       "    <tr>\n",
       "      <th>2022-09-12 23:58:00</th>\n",
       "      <td>22111.1</td>\n",
       "      <td>22199.8</td>\n",
       "      <td>22060.0</td>\n",
       "      <td>22199.5</td>\n",
       "      <td>23.642</td>\n",
       "      <td>0.006304</td>\n",
       "      <td>25.747387</td>\n",
       "      <td>22129.75</td>\n",
       "      <td>22111.90</td>\n",
       "      <td>0</td>\n",
       "      <td>21.223683</td>\n",
       "    </tr>\n",
       "    <tr>\n",
       "      <th>2022-09-12 23:59:00</th>\n",
       "      <td>22199.5</td>\n",
       "      <td>22199.8</td>\n",
       "      <td>22060.3</td>\n",
       "      <td>22199.8</td>\n",
       "      <td>160.474</td>\n",
       "      <td>0.000014</td>\n",
       "      <td>25.747735</td>\n",
       "      <td>22199.65</td>\n",
       "      <td>22143.82</td>\n",
       "      <td>0</td>\n",
       "      <td>21.223683</td>\n",
       "    </tr>\n",
       "  </tbody>\n",
       "</table>\n",
       "<p>2568 rows × 11 columns</p>\n",
       "</div>"
      ],
      "text/plain": [
       "                        Open     High      Low    Close   Volume   returns  \\\n",
       "Date                                                                         \n",
       "2022-09-11 05:12:00  21574.5  21580.5  21281.1  21577.1   66.892  0.000060   \n",
       "2022-09-11 05:13:00  21575.8  21580.5  21281.1  21468.9   77.139 -0.005027   \n",
       "2022-09-11 05:14:00  21577.1  21580.5  21567.5  21580.5   53.173  0.005185   \n",
       "2022-09-11 05:15:00  21580.5  21580.5  21350.0  21350.0   29.071 -0.010738   \n",
       "2022-09-11 05:16:00  21494.2  21580.5  21281.1  21569.3   97.245  0.010219   \n",
       "...                      ...      ...      ...      ...      ...       ...   \n",
       "2022-09-12 23:55:00  22177.0  22199.0  22052.0  22060.0  205.816  0.000898   \n",
       "2022-09-12 23:56:00  22198.0  22199.8  22060.0  22199.8   90.778  0.006317   \n",
       "2022-09-12 23:57:00  22199.8  22199.8  22060.0  22060.0   21.882 -0.006317   \n",
       "2022-09-12 23:58:00  22111.1  22199.8  22060.0  22199.5   23.642  0.006304   \n",
       "2022-09-12 23:59:00  22199.5  22199.8  22060.3  22199.8  160.474  0.000014   \n",
       "\n",
       "                     Hold Strategy  Close|SMA|2  Close|SMA|5  Position  \\\n",
       "Date                                                                     \n",
       "2022-09-11 05:12:00      25.025516     21576.45     21566.62         1   \n",
       "2022-09-11 05:13:00      24.900024     21523.00     21549.38        -1   \n",
       "2022-09-11 05:14:00      25.029459     21524.70     21554.24        -1   \n",
       "2022-09-11 05:15:00      24.762121     21465.25     21510.46        -1   \n",
       "2022-09-11 05:16:00      25.016469     21459.65     21509.16        -1   \n",
       "...                            ...          ...          ...       ...   \n",
       "2022-09-12 23:55:00      25.585592     22050.10     22091.72         0   \n",
       "2022-09-12 23:56:00      25.747735     22129.90     22123.64         0   \n",
       "2022-09-12 23:57:00      25.585592     22129.90     22095.86         0   \n",
       "2022-09-12 23:58:00      25.747387     22129.75     22111.90         0   \n",
       "2022-09-12 23:59:00      25.747735     22199.65     22143.82         0   \n",
       "\n",
       "                           NAV  \n",
       "Date                            \n",
       "2022-09-11 05:12:00  24.980008  \n",
       "2022-09-11 05:13:00  24.834868  \n",
       "2022-09-11 05:14:00  24.705771  \n",
       "2022-09-11 05:15:00  24.972410  \n",
       "2022-09-11 05:16:00  24.718727  \n",
       "...                        ...  \n",
       "2022-09-12 23:55:00  21.223683  \n",
       "2022-09-12 23:56:00  21.223683  \n",
       "2022-09-12 23:57:00  21.223683  \n",
       "2022-09-12 23:58:00  21.223683  \n",
       "2022-09-12 23:59:00  21.223683  \n",
       "\n",
       "[2568 rows x 11 columns]"
      ]
     },
     "execution_count": 104,
     "metadata": {},
     "output_type": "execute_result"
    }
   ],
   "source": [
    "bc.data #with new columns!!"
   ]
  },
  {
   "attachments": {},
   "cell_type": "markdown",
   "id": "0ef2f94b",
   "metadata": {},
   "source": [
    "### Testing buying and selling instrument by amount"
   ]
  },
  {
   "cell_type": "code",
   "execution_count": 327,
   "id": "97aa252b",
   "metadata": {},
   "outputs": [],
   "source": [
    "#put fees false to make calculations simpler\n",
    "bc = IterativeBacktest(\n",
    "    symbol = \"BTCUSD\", \n",
    "    start = \"2022-09-11\", \n",
    "    end = \"2022-09-12\", #take care of the length of period!! It will help to make tests faster \n",
    "    amount = 25, #Less amount means make tests faster\n",
    "    use_fee= True,\n",
    "    fee_maker = 0.0002,\n",
    "    fee_taker = 0.0004,\n",
    "    csv = \"data/btc-usdt_1m.csv\"\n",
    ")"
   ]
  },
  {
   "cell_type": "code",
   "execution_count": 328,
   "id": "ce9cd4c6",
   "metadata": {},
   "outputs": [
    {
     "data": {
      "text/plain": [
       "21555.1"
      ]
     },
     "execution_count": 328,
     "metadata": {},
     "output_type": "execute_result"
    }
   ],
   "source": [
    "#prints first period price\n",
    "bc.data.Close[0]"
   ]
  },
  {
   "cell_type": "code",
   "execution_count": 329,
   "id": "d62e7691",
   "metadata": {},
   "outputs": [
    {
     "data": {
      "text/plain": [
       "43110.2"
      ]
     },
     "execution_count": 329,
     "metadata": {},
     "output_type": "execute_result"
    }
   ],
   "source": [
    "#make the next period double of that to test it easier\n",
    "bc.data.Close[1] = bc.data.Close[0]*2\n",
    "bc.data.Close[1]"
   ]
  },
  {
   "cell_type": "code",
   "execution_count": 330,
   "id": "3a6c5af7",
   "metadata": {},
   "outputs": [
    {
     "data": {
      "text/plain": [
       "2"
      ]
     },
     "execution_count": 330,
     "metadata": {},
     "output_type": "execute_result"
    }
   ],
   "source": [
    "#put the leverage that you want\n",
    "bc.change_leverage(2)"
   ]
  },
  {
   "cell_type": "code",
   "execution_count": 331,
   "id": "b77be176",
   "metadata": {},
   "outputs": [
    {
     "data": {
      "text/plain": [
       "25"
      ]
     },
     "execution_count": 331,
     "metadata": {},
     "output_type": "execute_result"
    }
   ],
   "source": [
    "#available balance as declared on bc\n",
    "bc.available_balance"
   ]
  },
  {
   "cell_type": "code",
   "execution_count": 332,
   "id": "8b9909f1",
   "metadata": {},
   "outputs": [
    {
     "data": {
      "text/plain": [
       "25"
      ]
     },
     "execution_count": 332,
     "metadata": {},
     "output_type": "execute_result"
    }
   ],
   "source": [
    "#nav = Net Asset Value. Its the sum of your balance and current position. You dont have positions right now\n",
    "#must be same as bc.available_balance\n",
    "bc.get_nav(0)"
   ]
  },
  {
   "cell_type": "code",
   "execution_count": 333,
   "id": "e51b3186",
   "metadata": {},
   "outputs": [
    {
     "data": {
      "text/plain": [
       "50"
      ]
     },
     "execution_count": 333,
     "metadata": {},
     "output_type": "execute_result"
    }
   ],
   "source": [
    "#max amount of money you can spend is your available_balance times leverage\n",
    "#Important: to spend a certain amount you should do:\n",
    "#amount_for_function = amount_to_spend*leverage\n",
    "max_amount = bc.available_balance*bc.leverage\n",
    "max_amount"
   ]
  },
  {
   "cell_type": "code",
   "execution_count": 334,
   "id": "8f9b04a5",
   "metadata": {},
   "outputs": [
    {
     "name": "stdout",
     "output_type": "stream",
     "text": [
      "2022-09-11 |  Buying 0.002317782426173874 for 21555.1, leverage 2\n"
     ]
    }
   ],
   "source": [
    "#buy max amount of units permitted at certain price\n",
    "bc.submit_order(bar = 0, amount = abs(max_amount), pos = \"BUY\")"
   ]
  },
  {
   "cell_type": "code",
   "execution_count": 335,
   "id": "c9ee43d0",
   "metadata": {},
   "outputs": [
    {
     "data": {
      "text/plain": [
       "0.0"
      ]
     },
     "execution_count": 335,
     "metadata": {},
     "output_type": "execute_result"
    }
   ],
   "source": [
    "#must be 0, because you spent all your money buying units\n",
    "bc.available_balance"
   ]
  },
  {
   "cell_type": "code",
   "execution_count": 336,
   "id": "cbe8cf89",
   "metadata": {},
   "outputs": [
    {
     "data": {
      "text/plain": [
       "[LONG]"
      ]
     },
     "execution_count": 336,
     "metadata": {},
     "output_type": "execute_result"
    }
   ],
   "source": [
    "#opened positions are saved on this array\n",
    "bc.open_orders"
   ]
  },
  {
   "cell_type": "code",
   "execution_count": 337,
   "id": "181785c1",
   "metadata": {},
   "outputs": [
    {
     "data": {
      "text/plain": [
       "49.96003197442047"
      ]
     },
     "execution_count": 337,
     "metadata": {},
     "output_type": "execute_result"
    }
   ],
   "source": [
    "#you can get again the previous bought amount multiplying your units by buy price\n",
    "# if fees are true, it will be a little less because opening position fee was paid\n",
    "order = bc.open_orders[0]\n",
    "amount = order.units*bc.data.Close[0]\n",
    "amount"
   ]
  },
  {
   "cell_type": "code",
   "execution_count": 338,
   "id": "50530bed",
   "metadata": {},
   "outputs": [
    {
     "data": {
      "text/plain": [
       "24.960031974420467"
      ]
     },
     "execution_count": 338,
     "metadata": {},
     "output_type": "execute_result"
    }
   ],
   "source": [
    "#nav at time of buy, it must be the same as before buying\n",
    "#if fee is True it will be less than cell above, because this takes into account the closing position fee\n",
    "bc.get_nav(0)"
   ]
  },
  {
   "cell_type": "code",
   "execution_count": 339,
   "id": "84bd2f78",
   "metadata": {},
   "outputs": [
    {
     "data": {
      "text/plain": [
       "74.90007993605117"
      ]
     },
     "execution_count": 339,
     "metadata": {},
     "output_type": "execute_result"
    }
   ],
   "source": [
    "#nav if we sell at the next period, it must consider leverage profits (and fees)\n",
    "bc.get_nav(1)"
   ]
  },
  {
   "cell_type": "code",
   "execution_count": 342,
   "id": "f6468fc5",
   "metadata": {},
   "outputs": [
    {
     "name": "stdout",
     "output_type": "stream",
     "text": [
      "2022-09-11 |  Selling (closing) 0.002317782426173874 for 43110.2\n"
     ]
    }
   ],
   "source": [
    "#to sell all the units bought using \"amount\" you need to use defined function\n",
    "#MUST VERIFY THAT SELLS ALL BOUGHT UNITS\n",
    "bc.submit_order(bar = 1, amount = bc.current_invested_amount(), pos = \"SELL\")"
   ]
  },
  {
   "cell_type": "code",
   "execution_count": 343,
   "id": "0666e4a4",
   "metadata": {},
   "outputs": [
    {
     "data": {
      "text/plain": [
       "74.90007993605117"
      ]
     },
     "execution_count": 343,
     "metadata": {},
     "output_type": "execute_result"
    }
   ],
   "source": [
    "#must be same as predicted in bc.get_nav(1)\n",
    "bc.available_balance"
   ]
  },
  {
   "cell_type": "code",
   "execution_count": 344,
   "id": "d9df643e",
   "metadata": {},
   "outputs": [
    {
     "data": {
      "text/plain": [
       "74.90007993605117"
      ]
     },
     "execution_count": 344,
     "metadata": {},
     "output_type": "execute_result"
    }
   ],
   "source": [
    "#must be same as bc.available_balance (2 cells above) because now you dont have open positions\n",
    "bc.get_nav(1)"
   ]
  },
  {
   "cell_type": "code",
   "execution_count": 345,
   "id": "a4180677",
   "metadata": {},
   "outputs": [
    {
     "data": {
      "text/plain": [
       "[]"
      ]
     },
     "execution_count": 345,
     "metadata": {},
     "output_type": "execute_result"
    }
   ],
   "source": [
    "#must have now no open orders\n",
    "bc.open_orders"
   ]
  },
  {
   "cell_type": "code",
   "execution_count": 346,
   "id": "9d342949",
   "metadata": {},
   "outputs": [
    {
     "data": {
      "text/plain": [
       "[LONG]"
      ]
     },
     "execution_count": 346,
     "metadata": {},
     "output_type": "execute_result"
    }
   ],
   "source": [
    "#closed orders are saved on this array\n",
    "bc.closed_orders"
   ]
  },
  {
   "cell_type": "code",
   "execution_count": 347,
   "id": "4f96597a",
   "metadata": {},
   "outputs": [
    {
     "data": {
      "text/plain": [
       "0.019984012789768187"
      ]
     },
     "execution_count": 347,
     "metadata": {},
     "output_type": "execute_result"
    }
   ],
   "source": [
    "#you can see the opening paid fee of the order\n",
    "bc.closed_orders[0].opening_fee_as_amount"
   ]
  },
  {
   "cell_type": "code",
   "execution_count": 352,
   "id": "8ef0c64f",
   "metadata": {},
   "outputs": [
    {
     "data": {
      "text/plain": [
       "[0.039968025579536375]"
      ]
     },
     "execution_count": 352,
     "metadata": {},
     "output_type": "execute_result"
    }
   ],
   "source": [
    "#you can see the closing paid fee of the order\n",
    "#notice this is an array because order can be partially filled, so we pay multiple closing fees\n",
    "bc.closed_orders[0].closing_fee_as_amount"
   ]
  },
  {
   "attachments": {},
   "cell_type": "markdown",
   "id": "ae953afc",
   "metadata": {},
   "source": [
    "# Using technical indicator classes\n",
    "We can make a backtest straegy using a technical indicator class, this makes code cleaner. We will use SMA as an example, but you can find all available TIs on Technical Indicators notebook"
   ]
  },
  {
   "cell_type": "code",
   "execution_count": 370,
   "id": "7e423deb",
   "metadata": {},
   "outputs": [],
   "source": [
    "class SMA():\n",
    "    \n",
    "    def __init__(self, data, SMA_S, SMA_L, column, default_strategy = 1, weight = 1):\n",
    "        self.data = data # Dataframe\n",
    "        self.weight = weight #weight on the strategy (importance)\n",
    "        self.SMA_S = column + \"|SMA|\" + str(SMA_S) # short SMA\n",
    "        self.SMA_L = column + \"|SMA|\" + str(SMA_L) # long SMA\n",
    "        self.short = SMA_S\n",
    "        self.long = SMA_L\n",
    "        self.column = column # column to use SMA\n",
    "        self.default_strategy = default_strategy #strategy to use\n",
    "        \n",
    "    def calculate(self, force = False): #calculate for all dataframe\n",
    "        if not self.SMA_S in self.data.columns or force:\n",
    "            self.data[self.SMA_S] = self.data[self.column].rolling(self.short).mean()  \n",
    "        if not self.SMA_L in self.data.columns or force:    \n",
    "            self.data[self.SMA_L] = self.data[self.column].rolling(self.long).mean()\n",
    "        #DONT DROP NA BECAUSE OTHER INDICATORS NEED THAT ROWS!!!\n",
    "    \n",
    "    def calculate_for_last_row(self): #calculate just for last row\n",
    "        self.data.loc[self.data.index[-1],self.SMA_S] = self.data[self.column].iloc[-self.short:].rolling(self.short).mean()[-1]\n",
    "        self.data.loc[self.data.index[-1],self.SMA_L] = self.data[self.column].iloc[-self.long:].rolling(self.long).mean()[-1]\n",
    "    \n",
    "    def strategy(self, row, num = -1):\n",
    "        return self.strategy1(row)\n",
    "    \n",
    "    def strategy1(self, row):\n",
    "        '''Returns predicted position (1,0 or -1)'''\n",
    "        if self.data[self.SMA_S][row] > self.data[self.SMA_L][row]: # signal to go long\n",
    "            return 1\n",
    "        elif self.data[self.SMA_S][row] < self.data[self.SMA_L][row]: # signal to go short\n",
    "            return -1\n",
    "        else:\n",
    "            return 0"
   ]
  },
  {
   "cell_type": "code",
   "execution_count": 374,
   "id": "32f2ecef",
   "metadata": {},
   "outputs": [],
   "source": [
    "class IterativeBacktest(BinanceApi):\n",
    "    \n",
    "    def __init__(self, *args, **kwargs):\n",
    "        super().__init__(*args, **kwargs)\n",
    "        self.strategies = [] #keeps all the strategies used\n",
    "        self.predicted_pos = 0 #keeps current predicted position of strategies\n",
    "        self.ind_sum = 0 #keeps current indicators sum for predicted positions\n",
    "        self.weights_sum = 0 #keeps weight sum of strategies to use it with leverage\n",
    "        self.obv = None #stores OBV used to filter trades\n",
    "        self.lower_bound = 0.001 #Used for rnn strategy and leverage\n",
    "        self.upper_bound = 0.01\n",
    "        \n",
    "    # helper method\n",
    "    def go_long(self, bar, amount = None, prc = False, go_neutral_first = False):\n",
    "        if self.get_position() != 0 and go_neutral_first:\n",
    "            self.go_neutral(bar) #if some position, go neutral first\n",
    "        self.leverage_strategy(min_x = self.lower_bound, max_x = self.upper_bound)\n",
    "\n",
    "        if amount == \"all\":\n",
    "            amount = self.available_balance * self.leverage\n",
    "        elif prc: \n",
    "            amount = (self.available_balance * amount/100) * self.leverage    \n",
    "        amount = self.validate_order_amount(amount, self.leverage, bar)\n",
    "        if amount:\n",
    "            self.submit_order(bar, amount = amount, pos = \"BUY\")\n",
    "\n",
    "    # helper method\n",
    "    def go_short(self, bar, amount = None, prc = False, go_neutral_first = False):\n",
    "        if self.get_position() != 0 and go_neutral_first:\n",
    "            self.go_neutral(bar) #if some position, go neutral first\n",
    "        self.leverage_strategy(min_x = self.lower_bound, max_x = self.upper_bound)\n",
    "\n",
    "        if amount == \"all\":\n",
    "            amount = self.available_balance * self.leverage\n",
    "        elif prc: \n",
    "            amount = (self.available_balance * amount/100) * self.leverage    \n",
    "        amount = self.validate_order_amount(amount, self.leverage, bar)\n",
    "        if amount:\n",
    "            self.submit_order(bar, amount = amount, pos = \"SELL\")\n",
    "    \n",
    "    def go_neutral(self, bar):\n",
    "        if self.get_position() == 1: #if long, sell all\n",
    "            self.submit_order(bar, amount = self.current_invested_amount(), pos = \"SELL\")\n",
    "        elif self.get_position() == -1: #if short, buy all\n",
    "            self.submit_order(bar, amount = self.current_invested_amount(), pos = \"BUY\")\n",
    "            \n",
    "    def calculate_metrics(self, bar):\n",
    "        if not self.keep_metrics: return\n",
    "        self.positions.append( self.get_position() )\n",
    "        self.navs.append( self.get_nav(bar) )\n",
    "        \n",
    "    def add_metrics_to_data(self):\n",
    "        if not self.keep_metrics: return\n",
    "        self.data[\"Position\"] = self.positions + [0]*( self.data.shape[0] - len(self.positions) )\n",
    "        self.data[\"NAV\"] = self.navs + [ self.navs[-1] ]*( self.data.shape[0] - len(self.positions) )\n",
    "        \n",
    "    def close_final_position(self, bar):\n",
    "        date, price = self.get_values(bar)\n",
    "        self.go_neutral(bar) # if some position, go neutral\n",
    "        perf = (self.available_balance - self.initial_balance) / self.initial_balance * 100\n",
    "        good_trades = 0\n",
    "        bad_trades = 0\n",
    "        good_trades_prc = 0\n",
    "        bad_trades_prc = 0\n",
    "        if self.trades > 0 :\n",
    "            good_trades = np.sum(np.array(self.PnLs) > 0, axis = 0)\n",
    "            good_trades_prc = round(good_trades / self.trades *100,1)\n",
    "            bad_trades = np.sum(np.array(self.PnLs) <= 0, axis = 0)\n",
    "            bad_trades_prc = round(bad_trades / self.trades *100,1)\n",
    "            \n",
    "        if self.verbose:\n",
    "            self.print_available_balance(bar)\n",
    "            print(75 * \"-\")\n",
    "            print(\"+++ CLOSING FINAL POSITION +++\")\n",
    "            print(\"net performance (%) = {}\".format( round(perf, 2) ))\n",
    "            print(\"number of positions opened = {}\".format(self.trades)) \n",
    "            print(\"number of liquidated orders = {}\".format(self.liquidated_orders))\n",
    "            print(\"number of good PnL = {} ({}%)\".format(good_trades, good_trades_prc))\n",
    "            print(\"number of bad PnL = {} ({}%)\".format(bad_trades, bad_trades_prc))\n",
    "            print(\"Amount spent on fee = {} ({}% of initial balance)\".format(\n",
    "                self.paid_fees, round(self.paid_fees/self.initial_balance*100, 2))\n",
    "             ) \n",
    "            print(75 * \"-\")  \n",
    "    \n",
    "    def should_end_session(self, bar):\n",
    "        min_amount_to_invest = self.get_min_amount_to_invest(bar, leverage = self.leverage,just_margin = True)\n",
    "        #no money and no positions\n",
    "        if self.available_balance < min_amount_to_invest and self.get_position() == 0:\n",
    "            if self.verbose:\n",
    "                print(\"Not enough money to trade! Ending trading session.\")\n",
    "            return True\n",
    "        return False\n",
    "        \n",
    "    def leverage_strategy(self, min_x, max_x, min_y = 1, max_y = 1):\n",
    "        if max_y < min_y:\n",
    "            print(\"max leverage is less than min leverage\")\n",
    "            return -1\n",
    "        #y = y1 + m(x-x1) , m =(y2-y1)/(x2-x1)\n",
    "        #two points of the line: (min_x, min_y) and (max_x, max_y)\n",
    "        \n",
    "        x = min(max_x, abs(self.ind_sum)) #short or long, we want just abs number\n",
    "        m = (max_y-min_y)/(max_x-min_x)\n",
    "        new_leverage = round( min_y + m*( x - min_x ))\n",
    "        new_leverage = max(self.get_min_leverage(), new_leverage ) #open orders restrictions\n",
    "        self.change_leverage(new_leverage)\n",
    "        return new_leverage\n",
    "        \n",
    "        \n",
    "    def test_sma_strategy(self, SMA_S, SMA_L, leverage = 1,keep_metrics = True, verbose = True):\n",
    "        self.verbose = verbose \n",
    "        if self.verbose:\n",
    "            stm = \"Testing SMA strategy | {} | SMA_S = {} & SMA_L = {}\".format(self.symbol, SMA_S, SMA_L)\n",
    "            print(\"-\" * 75)\n",
    "            print(stm)\n",
    "            print(\"-\" * 75)\n",
    "        \n",
    "        # reset \n",
    "        self.trades = 0  # no trades yet\n",
    "        self.available_balance = self.initial_balance  # reset initial capital\n",
    "        self.get_data() # reset dataset\n",
    "        self.open_orders = []\n",
    "        self.closed_orders = []\n",
    "        self.paid_fees = 0\n",
    "        self.liquidated_orders = 0\n",
    "        self.leverage = leverage\n",
    "        \n",
    "        # prepare data\n",
    "        sma = SMA(\n",
    "            data = self.data,\n",
    "            SMA_S = SMA_S,\n",
    "            SMA_L = SMA_L,\n",
    "            column = \"Close\"\n",
    "             )\n",
    "        sma.calculate() #add columns to data\n",
    "        \n",
    "        self.data.dropna(inplace = True) #dropna after calculating the strategy\n",
    "        \n",
    "        #prepare metrics\n",
    "        self.keep_metrics = keep_metrics\n",
    "        self.positions, self.navs = [], []\n",
    "\n",
    "        for bar in range(len(self.data)-1): # all bars (except the last bar)\n",
    "            #date, price = self.get_values(bar) #useful to get current date and price\n",
    "            self.verify_not_liquidation(bar) #verify current order isnt liquidated\n",
    "            if self.should_end_session(bar): break #check if should end session  \n",
    "            ############### Algorithm ############### \n",
    "            position = sma.strategy1(bar)\n",
    "            if position == 1 and self.get_position() in [0, -1]:\n",
    "                self.go_long(bar, amount = \"all\", go_neutral_first = True) # go long with full amount\n",
    "            if position == -1 and self.get_position() in [0, 1]:\n",
    "                self.go_short(bar, amount = \"all\", go_neutral_first = True) # go short with full amount\n",
    "            ############## End Algorithm ############        \n",
    "            self.calculate_metrics(bar)\n",
    "            \n",
    "        self.verify_not_liquidation(bar+1)           \n",
    "        self.close_final_position(bar+1) # close the final open position\n",
    "        self.calculate_metrics(bar+1)\n",
    "        self.add_metrics_to_data()\n",
    "        return round(self.available_balance, 1)\n",
    "    \n",
    "    def optimize_parameters(self, SMA_S_range, SMA_L_range):\n",
    "        ''' Finds the optimal strategy (global maximum) given the SMA parameter ranges.\n",
    "\n",
    "        Parameters\n",
    "        ----------\n",
    "        SMA_S_range, SMA_L_range: tuple\n",
    "            tuples of the form (start, end, step size)\n",
    "        '''\n",
    "        sma_s_list = np.arange(*SMA_S_range)\n",
    "        sma_l_list = np.arange(*SMA_L_range)\n",
    "        combinations = list(product(\n",
    "            sma_s_list, \n",
    "            sma_l_list\n",
    "        ))\n",
    "        \n",
    "        # test all combinations\n",
    "        results = []\n",
    "        for comb in combinations:\n",
    "            results.append(self.test_sma_strategy(\n",
    "                SMA_S = comb[0], \n",
    "                SMA_L = comb[1], \n",
    "                leverage = 1, #higher leverage makes tests faster!\n",
    "                keep_metrics = False, #False makes the process faster\n",
    "                verbose = False #dont print order stuff\n",
    "            ))\n",
    "        \n",
    "        best_perf = np.max(results) # best performance\n",
    "        opt = combinations[np.argmax(results)] # optimal parameters\n",
    "        \n",
    "        # run/set the optimal strategy\n",
    "        self.test_sma_strategy(\n",
    "                SMA_S = opt[0], \n",
    "                SMA_L = opt[1], \n",
    "                leverage = 1,\n",
    "                keep_metrics = True, #False makes the process faster\n",
    "                verbose = False #dont print order stuff\n",
    "            )\n",
    "                   \n",
    "        # create a df with many results\n",
    "        many_results =  pd.DataFrame(data = combinations, columns = [\"SMA_S\", \"SMA_L\"])\n",
    "        many_results[\"performance\"] = results\n",
    "        self.results_overview = many_results\n",
    "                            \n",
    "        return opt, best_perf  "
   ]
  },
  {
   "cell_type": "code",
   "execution_count": 377,
   "id": "c8501767",
   "metadata": {},
   "outputs": [],
   "source": [
    "bc = IterativeBacktest(\n",
    "    symbol = \"BTCUSD\", \n",
    "    start = \"2022-01-31\", \n",
    "    end = \"2023-06-30\",\n",
    "    amount = 50, \n",
    "    use_fee= True,\n",
    "    fee_maker = 0.0002,\n",
    "    fee_taker = 0.0004\n",
    ")"
   ]
  },
  {
   "cell_type": "code",
   "execution_count": 378,
   "id": "45de4d11",
   "metadata": {},
   "outputs": [
    {
     "name": "stdout",
     "output_type": "stream",
     "text": [
      "---------------------------------------------------------------------------\n",
      "Testing SMA strategy | BTCUSD | SMA_S = 50 & SMA_L = 100\n",
      "---------------------------------------------------------------------------\n",
      "2022-07-12 |  Buying 0.002582946149705493 for 19350.0, leverage 1\n",
      "2022-07-12 |  Selling (closing) 0.002582946149705493 for 19471.6\n",
      "2022-07-12 |  Selling 0.0025808806189980115 for 19471.6, leverage 1\n",
      "2022-07-13 |  Buying (closing) 0.0025808806189980115 for 19500.2\n",
      "2022-07-13 |  Buying 0.0025712522885343488 for 19500.2, leverage 1\n",
      "2022-07-13 |  Selling (closing) 0.0025712522885343488 for 19304.6\n",
      "2022-07-13 |  Selling 0.002569196109175265 for 19304.6, leverage 1\n",
      "2022-07-13 |  Buying (closing) 0.002569196109175265 for 19729.2\n",
      "2022-07-13 |  Buying 0.0024566446140261585 for 19729.2, leverage 1\n",
      "2022-07-14 |  Selling (closing) 0.0024566446140261585 for 19972.9\n",
      "2022-07-14 |  Selling 0.0024546800841468894 for 19972.9, leverage 1\n",
      "2022-07-14 |  Buying (closing) 0.0024546800841468894 for 20273.3\n",
      "2022-07-14 |  Buying 0.0023800307619745603 for 20273.3, leverage 1\n",
      "2022-07-15 |  Selling (closing) 0.0023800307619745603 for 20460.0\n",
      "2022-07-15 |  Selling 0.002378127498670303 for 20460.0, leverage 1\n",
      "2022-07-15 |  Buying (closing) 0.002378127498670303 for 20387.4\n",
      "2022-07-15 |  Buying 0.002393149346445936 for 20387.4, leverage 1\n",
      "2022-07-15 |  Selling (closing) 0.002393149346445936 for 20805.4\n",
      "2022-07-15 |  Selling 0.00239123559247037 for 20805.4, leverage 1\n",
      "2022-07-15 |  Buying (closing) 0.00239123559247037 for 21148.4\n",
      "2022-07-15 |  Buying 0.002311819830506769 for 21148.4, leverage 1\n",
      "2022-07-16 |  Selling (closing) 0.002311819830506769 for 20779.9\n",
      "2022-07-16 |  Selling 0.002309971114128915 for 20779.9, leverage 1\n",
      "2022-07-16 |  Buying (closing) 0.002309971114128915 for 20735.3\n",
      "2022-07-16 |  Buying 0.0023180530620983404 for 20735.3, leverage 1\n",
      "2022-07-16 |  Selling (closing) 0.0023180530620983404 for 21231.4\n",
      "2022-07-16 |  Selling 0.0023161993611290495 for 21231.4, leverage 1\n",
      "2022-07-17 |  Buying (closing) 0.0023161993611290495 for 21181.6\n",
      "2022-07-17 |  Buying 0.0023252296526021688 for 21181.6, leverage 1\n",
      "2022-07-17 |  Selling (closing) 0.0023252296526021688 for 21358.1\n",
      "2022-07-17 |  Selling 0.0023233702126560654 for 21358.1, leverage 1\n",
      "2022-07-18 |  Buying (closing) 0.0023233702126560654 for 21500.0\n",
      "2022-07-18 |  Buying 0.00229086829783953 for 21500.0, leverage 1\n",
      "2022-07-18 |  Selling (closing) 0.00229086829783953 for 22136.4\n",
      "2022-07-18 |  Selling 0.002289036335986 for 22136.4, leverage 1\n",
      "2022-07-18 |  Buying (closing) 0.002289036335986 for 22210.5\n",
      "2022-07-18 |  Buying 0.002271944412972604 for 22210.5, leverage 1\n",
      "2022-07-18 |  Selling (closing) 0.002271944412972604 for 21896.1\n",
      "2022-07-18 |  Selling 0.002270127584173746 for 21896.1, leverage 1\n",
      "2022-07-19 |  Buying (closing) 0.002270127584173746 for 22636.2\n",
      "2022-07-19 |  Buying 0.002119985380844855 for 22636.2, leverage 1\n",
      "2022-07-19 |  Selling (closing) 0.002119985380844855 for 21842.5\n",
      "2022-07-19 |  Selling 0.002118290070664251 for 21842.5, leverage 1\n",
      "2022-07-19 |  Buying (closing) 0.002118290070664251 for 22360.0\n",
      "2022-07-19 |  Buying 0.002018623084872151 for 22360.0, leverage 1\n",
      "2022-07-20 |  Selling (closing) 0.002018623084872151 for 23153.9\n",
      "2022-07-20 |  Selling 0.0020170088321053606 for 23153.9, leverage 1\n",
      "2022-07-20 |  Buying (closing) 0.0020170088321053606 for 23720.0\n",
      "2022-07-20 |  Buying 0.0019191972528438176 for 23720.0, leverage 1\n",
      "2022-07-20 |  Selling (closing) 0.0019191972528438176 for 23503.1\n",
      "2022-07-20 |  Selling 0.0019176625089391047 for 23503.1, leverage 1\n",
      "2022-07-21 |  Buying (closing) 0.0019176625089391047 for 23488.3\n",
      "2022-07-21 |  Buying 0.001918543701711908 for 23488.3, leverage 1\n",
      "2022-07-21 |  Selling (closing) 0.001918543701711908 for 23300.0\n",
      "2022-07-21 |  Selling 0.0019170094804390474 for 23300.0, leverage 1\n",
      "2022-07-21 |  Buying (closing) 0.0019170094804390474 for 23348.2\n",
      "2022-07-21 |  Buying 0.0019075678706878634 for 23348.2, leverage 1\n",
      "2022-07-21 |  Selling (closing) 0.0019075678706878634 for 23344.0\n",
      "2022-07-21 |  Selling 0.001906042426568961 for 23344.0, leverage 1\n",
      "2022-07-21 |  Buying (closing) 0.001906042426568961 for 23364.0\n",
      "2022-07-21 |  Buying 0.0019012575993344971 for 23364.0, leverage 1\n",
      "2022-07-22 |  Selling (closing) 0.0019012575993344971 for 23400.0\n",
      "2022-07-22 |  Selling 0.0018997372014141977 for 23400.0, leverage 1\n",
      "2022-07-22 |  Buying (closing) 0.0018997372014141977 for 23616.2\n",
      "2022-07-22 |  Buying 0.0018634626619205394 for 23616.2, leverage 1\n",
      "2022-07-22 |  Selling (closing) 0.0018634626619205394 for 23157.8\n",
      "2022-07-22 |  Selling 0.001861972487860627 for 23157.8, leverage 1\n",
      "2022-07-22 |  Buying (closing) 0.001861972487860627 for 23251.4\n",
      "2022-07-22 |  Buying 0.0018455045144252207 for 23251.4, leverage 1\n",
      "2022-07-23 |  Selling (closing) 0.0018455045144252207 for 23224.0\n",
      "2022-07-23 |  Selling 0.0018440287011389951 for 23224.0, leverage 1\n",
      "2022-07-23 |  Buying (closing) 0.0018440287011389951 for 23399.0\n",
      "2022-07-23 |  Buying 0.0018149933208279863 for 23399.0, leverage 1\n",
      "2022-07-23 |  Selling (closing) 0.0018149933208279863 for 23068.0\n",
      "2022-07-23 |  Selling 0.0018135419067369604 for 23068.0, leverage 1\n",
      "2022-07-23 |  Buying (closing) 0.0018135419067369604 for 23144.0\n",
      "2022-07-23 |  Buying 0.0018001906020122332 for 23144.0, leverage 1\n",
      "2022-07-23 |  Selling (closing) 0.0018001906020122332 for 22926.0\n",
      "2022-07-23 |  Selling 0.001798751025361284 for 22926.0, leverage 1\n",
      "2022-07-23 |  Buying (closing) 0.001798751025361284 for 23172.0\n",
      "2022-07-23 |  Buying 0.00175915112057593 for 23172.0, leverage 1\n",
      "2022-07-23 |  Selling (closing) 0.00175915112057593 for 23004.0\n",
      "2022-07-23 |  Selling 0.0017577443623827467 for 23004.0, leverage 1\n",
      "2022-07-23 |  Buying (closing) 0.0017577443623827467 for 23289.1\n",
      "2022-07-23 |  Buying 0.0017133373103124698 for 23289.1, leverage 1\n",
      "2022-07-23 |  Selling (closing) 0.0017133373103124698 for 23360.0\n",
      "2022-07-23 |  Selling 0.0017119671885129396 for 23360.0, leverage 1\n",
      "2022-07-23 |  Buying (closing) 0.0017119671885129396 for 23084.0\n",
      "2022-07-23 |  Buying 0.0017515031262276223 for 23084.0, leverage 1\n",
      "2022-07-23 |  Selling (closing) 0.0017515031262276223 for 22864.0\n",
      "2022-07-23 |  Selling 0.0017501024839835378 for 22864.0, leverage 1\n",
      "2022-07-23 |  Buying (closing) 0.0017501024839835378 for 23440.0\n",
      "2022-07-23 |  Buying 0.0016627598810885153 for 23440.0, leverage 1\n",
      "2022-07-23 |  Selling (closing) 0.0016627598810885153 for 23160.0\n",
      "2022-07-23 |  Selling 0.0016614302050540584 for 23160.0, leverage 1\n",
      "2022-07-23 |  Buying (closing) 0.0016614302050540584 for 23377.2\n",
      "2022-07-23 |  Buying 0.0016292532387379923 for 23377.2, leverage 1\n",
      "2022-07-24 |  Selling (closing) 0.0016292532387379923 for 22940.1\n",
      "2022-07-24 |  Selling 0.0016279503572995773 for 22940.1, leverage 1\n",
      "2022-07-24 |  Buying (closing) 0.0016279503572995773 for 23350.0\n",
      "2022-07-24 |  Buying 0.00156953817707071 for 23350.0, leverage 1\n",
      "2022-07-24 |  Selling (closing) 0.00156953817707071 for 23288.0\n",
      "2022-07-24 |  Selling 0.0015682830485804493 for 23288.0, leverage 1\n",
      "2022-07-24 |  Buying (closing) 0.0015682830485804493 for 23152.5\n",
      "2022-07-24 |  Buying 0.0015853709964984437 for 23152.5, leverage 1\n",
      "2022-07-24 |  Selling (closing) 0.0015853709964984437 for 23244.0\n",
      "2022-07-24 |  Selling 0.0015841032068171176 for 23244.0, leverage 1\n",
      "2022-07-24 |  Buying (closing) 0.0015841032068171176 for 23620.0\n",
      "2022-07-24 |  Buying 0.0015324429933632154 for 23620.0, leverage 1\n",
      "2022-07-25 |  Selling (closing) 0.0015324429933632154 for 23298.3\n",
      "2022-07-25 |  Selling 0.0015312175291542086 for 23298.3, leverage 1\n",
      "2022-07-25 |  Buying (closing) 0.0015312175291542086 for 22464.0\n",
      "2022-07-25 |  Buying 0.0016436391629249842 for 22464.0, leverage 1\n",
      "2022-07-25 |  Selling (closing) 0.0016436391629249842 for 22155.5\n",
      "2022-07-25 |  Selling 0.0016423247773488749 for 22155.5, leverage 1\n",
      "2022-07-25 |  Buying (closing) 0.0016423247773488749 for 22682.4\n",
      "2022-07-25 |  Buying 0.0015647718095553778 for 22682.4, leverage 1\n",
      "2022-07-26 |  Selling (closing) 0.0015647718095553778 for 21681.9\n",
      "2022-07-26 |  Selling 0.0015635204926345019 for 21681.9, leverage 1\n",
      "2022-07-26 |  Buying (closing) 0.0015635204926345019 for 22179.4\n",
      "2022-07-26 |  Buying 0.0014921844740717507 for 22179.4, leverage 1\n",
      "2022-07-26 |  Selling (closing) 0.0014921844740717507 for 22280.0\n",
      "2022-07-26 |  Selling 0.0014909912038006017 for 22280.0, leverage 1\n",
      "2022-07-26 |  Buying (closing) 0.0014909912038006017 for 22339.0\n",
      "2022-07-26 |  Buying 0.0014819294097767719 for 22339.0, leverage 1\n",
      "2022-07-26 |  Selling (closing) 0.0014819294097767719 for 21904.0\n",
      "2022-07-26 |  Selling 0.0014807443402767503 for 21904.0, leverage 1\n",
      "2022-07-26 |  Buying (closing) 0.0014807443402767503 for 21804.0\n",
      "2022-07-26 |  Buying 0.0014931316752359888 for 21804.0, leverage 1\n",
      "2022-07-26 |  Selling (closing) 0.0014931316752359888 for 21784.0\n",
      "2022-07-26 |  Selling 0.001491937647506892 for 21784.0, leverage 1\n"
     ]
    },
    {
     "name": "stdout",
     "output_type": "stream",
     "text": [
      "2022-07-27 |  Buying (closing) 0.001491937647506892 for 22207.0\n",
      "2022-07-27 |  Buying 0.0014339530264518394 for 22207.0, leverage 1\n",
      "2022-07-27 |  Selling (closing) 0.0014339530264518394 for 21304.0\n",
      "2022-07-27 |  Selling 0.0014328063227121736 for 21304.0, leverage 1\n",
      "2022-07-27 |  Buying (closing) 0.0014328063227121736 for 21932.4\n",
      "2022-07-27 |  Buying 0.0013496215907732158 for 21932.4, leverage 1\n",
      "2022-07-27 |  Selling (closing) 0.0013496215907732158 for 21904.0\n",
      "2022-07-27 |  Selling 0.0013485423252068238 for 21904.0, leverage 1\n",
      "2022-07-27 |  Buying (closing) 0.0013485423252068238 for 22244.0\n",
      "2022-07-27 |  Buying 0.0013062718948600944 for 22244.0, leverage 1\n",
      "2022-07-28 |  Selling (closing) 0.0013062718948600944 for 23002.0\n",
      "2022-07-28 |  Selling 0.0013052272951840768 for 23002.0, leverage 1\n",
      "2022-07-28 |  Buying (closing) 0.0013052272951840768 for 23244.0\n",
      "2022-07-28 |  Buying 0.0012770270677262667 for 23244.0, leverage 1\n",
      "2022-07-29 |  Selling (closing) 0.0012770270677262667 for 23818.5\n",
      "2022-07-29 |  Selling 0.0012760058545573532 for 23818.5, leverage 1\n",
      "2022-07-29 |  Buying (closing) 0.0012760058545573532 for 23946.2\n",
      "2022-07-29 |  Buying 0.001261387004583275 for 23946.2, leverage 1\n",
      "2022-07-29 |  Selling (closing) 0.001261387004583275 for 23684.0\n",
      "2022-07-29 |  Selling 0.001260378298462057 for 23684.0, leverage 1\n",
      "2022-07-29 |  Buying (closing) 0.001260378298462057 for 23684.0\n",
      "2022-07-29 |  Buying 0.0012593703989830789 for 23684.0, leverage 1\n",
      "2022-07-29 |  Selling (closing) 0.0012593703989830789 for 23702.3\n",
      "2022-07-29 |  Selling 0.0012583633055012855 for 23702.3, leverage 1\n",
      "2022-07-29 |  Buying (closing) 0.0012583633055012855 for 23664.8\n",
      "2022-07-29 |  Buying 0.00126134191377113 for 23664.8, leverage 1\n",
      "2022-07-30 |  Selling (closing) 0.00126134191377113 for 23904.0\n",
      "2022-07-30 |  Selling 0.0012603332437081385 for 23904.0, leverage 1\n",
      "2022-07-30 |  Buying (closing) 0.0012603332437081385 for 23907.4\n",
      "2022-07-30 |  Buying 0.0012589671893810093 for 23907.4, leverage 1\n",
      "2022-07-30 |  Selling (closing) 0.0012589671893810093 for 23970.1\n",
      "2022-07-30 |  Selling 0.0012579604183379218 for 23970.1, leverage 1\n",
      "2022-07-31 |  Buying (closing) 0.0012579604183379218 for 23810.6\n",
      "2022-07-31 |  Buying 0.0012737943669786076 for 23810.6, leverage 1\n",
      "2022-07-31 |  Selling (closing) 0.0012737943669786076 for 23607.9\n",
      "2022-07-31 |  Selling 0.001272775738936242 for 23607.9, leverage 1\n",
      "2022-07-31 |  Buying (closing) 0.001272775738936242 for 23810.5\n",
      "2022-07-31 |  Buying 0.00125011552772996 for 23810.5, leverage 1\n",
      "2022-07-31 |  Selling (closing) 0.00125011552772996 for 23749.3\n",
      "2022-07-31 |  Selling 0.0012491158351847942 for 23749.3, leverage 1\n",
      "2022-07-31 |  Buying (closing) 0.0012491158351847942 for 23866.6\n",
      "2022-07-31 |  Buying 0.001235848406354076 for 23866.6, leverage 1\n",
      "2022-07-31 |  Selling (closing) 0.001235848406354076 for 23328.2\n",
      "2022-07-31 |  Selling 0.0012348601229423574 for 23328.2, leverage 1\n",
      "2022-08-01 |  Buying (closing) 0.0012348601229423574 for 24099.0\n",
      "2022-08-01 |  Buying 0.0011549424648483707 for 24099.0, leverage 1\n",
      "2022-08-01 |  Selling (closing) 0.0011549424648483707 for 23704.0\n",
      "2022-08-01 |  Selling 0.0011540188803103072 for 23704.0, leverage 1\n",
      "2022-08-02 |  Buying (closing) 0.0011540188803103072 for 23240.9\n",
      "2022-08-02 |  Buying 0.0011990493987584663 for 23240.9, leverage 1\n",
      "2022-08-02 |  Selling (closing) 0.0011990493987584663 for 23372.8\n",
      "2022-08-02 |  Selling 0.0011980905427818502 for 23372.8, leverage 1\n",
      "2022-08-02 |  Buying (closing) 0.0011980905427818502 for 23284.0\n",
      "2022-08-02 |  Buying 0.0012062636476975626 for 23284.0, leverage 1\n",
      "2022-08-02 |  Selling (closing) 0.0012062636476975626 for 23490.0\n",
      "2022-08-02 |  Selling 0.001205299022629432 for 23490.0, leverage 1\n",
      "2022-08-02 |  Buying (closing) 0.001205299022629432 for 23164.8\n",
      "2022-08-02 |  Buying 0.0012381493868129534 for 23164.8, leverage 1\n",
      "2022-08-02 |  Selling (closing) 0.0012381493868129534 for 22938.7\n",
      "2022-08-02 |  Selling 0.001237159263352887 for 22938.7, leverage 1\n",
      "2022-08-02 |  Buying (closing) 0.001237159263352887 for 23579.9\n",
      "2022-08-02 |  Buying 0.0011689404557067903 for 23579.9, leverage 1\n",
      "2022-08-02 |  Selling (closing) 0.0011689404557067903 for 23155.0\n",
      "2022-08-02 |  Selling 0.0011680056772536062 for 23155.0, leverage 1\n",
      "2022-08-03 |  Buying (closing) 0.0011680056772536062 for 23356.3\n",
      "2022-08-03 |  Buying 0.001146954459748814 for 23356.3, leverage 1\n",
      "2022-08-03 |  Selling (closing) 0.001146954459748814 for 23510.2\n",
      "2022-08-03 |  Selling 0.0011460372630596907 for 23510.2, leverage 1\n",
      "2022-08-03 |  Buying (closing) 0.0011460372630596907 for 23789.0\n",
      "2022-08-03 |  Buying 0.001118279849900205 for 23789.0, leverage 1\n",
      "2022-08-04 |  Selling (closing) 0.001118279849900205 for 23450.0\n",
      "2022-08-04 |  Selling 0.001117385583726754 for 23450.0, leverage 1\n",
      "2022-08-04 |  Buying (closing) 0.001117385583726754 for 23045.3\n",
      "2022-08-04 |  Buying 0.0011557056099064087 for 23045.3, leverage 1\n",
      "2022-08-04 |  Selling (closing) 0.0011557056099064087 for 22594.3\n",
      "2022-08-04 |  Selling 0.0011547814150964075 for 22594.3, leverage 1\n",
      "2022-08-04 |  Buying (closing) 0.0011547814150964075 for 23308.2\n",
      "2022-08-04 |  Buying 0.0010831756074552307 for 23308.2, leverage 1\n",
      "2022-08-04 |  Selling (closing) 0.0010831756074552307 for 22502.6\n",
      "2022-08-04 |  Selling 0.00108230941344687 for 22502.6, leverage 1\n",
      "2022-08-05 |  Buying (closing) 0.00108230941344687 for 23499.1\n",
      "2022-08-05 |  Buying 0.001007522133008654 for 23084.0, leverage 1\n",
      "2022-08-05 |  Selling (closing) 0.001007522133008654 for 23070.6\n",
      "2022-08-05 |  Selling 0.0010067164375804185 for 23070.6, leverage 1\n",
      "2022-08-05 |  Buying (closing) 0.0010067164375804185 for 23043.0\n",
      "2022-08-05 |  Buying 0.0010083210687201322 for 23043.0, leverage 1\n",
      "2022-08-06 |  Selling (closing) 0.0010083210687201322 for 23237.4\n",
      "2022-08-06 |  Selling 0.0010075147343988845 for 23237.4, leverage 1\n",
      "2022-08-06 |  Buying (closing) 0.0010075147343988845 for 23737.5\n",
      "Not enough money to trade! Ending trading session.\n",
      "2022-08-06 | Current Balance: 22.9\n",
      "---------------------------------------------------------------------------\n",
      "2022-08-06 | +++ CLOSING FINAL POSITION +++\n",
      "2022-08-06 | net performance (%) = -54.2\n",
      "2022-08-06 | number of trades executed = 110\n",
      "2022-08-06 | number of liquidated orders = 0\n",
      "2022-08-06 | number of good trades = 34 (30.9%)\n",
      "2022-08-06 | number of bad trades = 76 (69.1%)\n",
      "2022-08-06 | Amount spent on fee = 3.240734717716068 (6.48% of initial balance)\n",
      "---------------------------------------------------------------------------\n"
     ]
    },
    {
     "data": {
      "text/plain": [
       "22.9"
      ]
     },
     "execution_count": 378,
     "metadata": {},
     "output_type": "execute_result"
    }
   ],
   "source": [
    "bc.test_sma_strategy(SMA_S = 50, SMA_L = 100, leverage = 20, keep_metrics = False)"
   ]
  },
  {
   "attachments": {},
   "cell_type": "markdown",
   "id": "013f009a",
   "metadata": {},
   "source": [
    "# Optimizing the strategy\n",
    "You can optimize an strategy trying different values for variables. In this case wi will find the best SMAs with the new function 'optimize_parameters'."
   ]
  },
  {
   "cell_type": "code",
   "execution_count": 383,
   "id": "f7f87120",
   "metadata": {},
   "outputs": [
    {
     "data": {
      "text/plain": [
       "[(49, 199), (49, 200), (50, 199), (50, 200)]"
      ]
     },
     "execution_count": 383,
     "metadata": {},
     "output_type": "execute_result"
    }
   ],
   "source": [
    "#this way we can make combinations with pairs of params to test them\n",
    "#np.arange(inf, sup-1, step) makes list with numbers [inf, sup) with a separation \"step\"\n",
    "#np.linspace(0, 10, num=4) makes list with numbers [inf, sup] with specified number of elements\n",
    "#afer making lists, you use product to make all the combinations of all the lists\n",
    "sma_s_range = np.arange(49, 50+1, 1)\n",
    "sma_l_range = np.arange(199, 200+1, 1)\n",
    "combinations = list(  product(  sma_s_range, sma_l_range  )  )\n",
    "combinations"
   ]
  },
  {
   "cell_type": "code",
   "execution_count": 387,
   "id": "83a1c68d",
   "metadata": {},
   "outputs": [],
   "source": [
    "bc = IterativeBacktest(\n",
    "    symbol = \"BTCUSD\", \n",
    "    start = \"2022-07-12\", \n",
    "    end = \"2022-07-19\", #take care of the length of period!! It will help to make tests faster \n",
    "    amount = 25, #Less amount means make tests faster\n",
    "    use_fee= True,\n",
    "    fee_maker = 0.0002,\n",
    "    fee_taker = 0.0004\n",
    ")"
   ]
  },
  {
   "cell_type": "code",
   "execution_count": 388,
   "id": "054a654f",
   "metadata": {},
   "outputs": [
    {
     "data": {
      "text/plain": [
       "((41, 151), 24.4)"
      ]
     },
     "execution_count": 388,
     "metadata": {},
     "output_type": "execute_result"
    }
   ],
   "source": [
    "bc.optimize_parameters( \n",
    "        SMA_S_range = (40,40+2,1), \n",
    "        SMA_L_range = (150,150+2,1) \n",
    "    )"
   ]
  },
  {
   "cell_type": "code",
   "execution_count": 389,
   "id": "b261c891",
   "metadata": {},
   "outputs": [
    {
     "data": {
      "text/html": [
       "<div>\n",
       "<style scoped>\n",
       "    .dataframe tbody tr th:only-of-type {\n",
       "        vertical-align: middle;\n",
       "    }\n",
       "\n",
       "    .dataframe tbody tr th {\n",
       "        vertical-align: top;\n",
       "    }\n",
       "\n",
       "    .dataframe thead th {\n",
       "        text-align: right;\n",
       "    }\n",
       "</style>\n",
       "<table border=\"1\" class=\"dataframe\">\n",
       "  <thead>\n",
       "    <tr style=\"text-align: right;\">\n",
       "      <th></th>\n",
       "      <th>SMA_S</th>\n",
       "      <th>SMA_L</th>\n",
       "      <th>performance</th>\n",
       "    </tr>\n",
       "  </thead>\n",
       "  <tbody>\n",
       "    <tr>\n",
       "      <th>0</th>\n",
       "      <td>40</td>\n",
       "      <td>150</td>\n",
       "      <td>21.7</td>\n",
       "    </tr>\n",
       "    <tr>\n",
       "      <th>1</th>\n",
       "      <td>40</td>\n",
       "      <td>151</td>\n",
       "      <td>21.8</td>\n",
       "    </tr>\n",
       "    <tr>\n",
       "      <th>2</th>\n",
       "      <td>41</td>\n",
       "      <td>150</td>\n",
       "      <td>23.4</td>\n",
       "    </tr>\n",
       "    <tr>\n",
       "      <th>3</th>\n",
       "      <td>41</td>\n",
       "      <td>151</td>\n",
       "      <td>24.4</td>\n",
       "    </tr>\n",
       "  </tbody>\n",
       "</table>\n",
       "</div>"
      ],
      "text/plain": [
       "   SMA_S  SMA_L  performance\n",
       "0     40    150         21.7\n",
       "1     40    151         21.8\n",
       "2     41    150         23.4\n",
       "3     41    151         24.4"
      ]
     },
     "execution_count": 389,
     "metadata": {},
     "output_type": "execute_result"
    }
   ],
   "source": [
    "#Here you can see your results!\n",
    "bc.results_overview"
   ]
  },
  {
   "cell_type": "code",
   "execution_count": 35,
   "id": "c6a5398a",
   "metadata": {},
   "outputs": [
    {
     "data": {
      "text/plain": [
       "15"
      ]
     },
     "execution_count": 35,
     "metadata": {},
     "output_type": "execute_result"
    }
   ],
   "source": [
    "l = [1,3,2,4,5]\n",
    "sum(elem for elem in l)"
   ]
  },
  {
   "cell_type": "code",
   "execution_count": 119,
   "id": "397d3ab1",
   "metadata": {},
   "outputs": [],
   "source": [
    "l = [1,2,3]\n",
    "for idx in sorted(l, reverse = True):\n",
    "    continue"
   ]
  },
  {
   "cell_type": "code",
   "execution_count": 116,
   "id": "8e1d2987",
   "metadata": {},
   "outputs": [
    {
     "ename": "AttributeError",
     "evalue": "'list' object has no attribute 'sorted'",
     "output_type": "error",
     "traceback": [
      "\u001b[0;31m---------------------------------------------------------------------------\u001b[0m",
      "\u001b[0;31mAttributeError\u001b[0m                            Traceback (most recent call last)",
      "Input \u001b[0;32mIn [116]\u001b[0m, in \u001b[0;36m<cell line: 1>\u001b[0;34m()\u001b[0m\n\u001b[0;32m----> 1\u001b[0m \u001b[43ml\u001b[49m\u001b[38;5;241;43m.\u001b[39;49m\u001b[43msorted\u001b[49m(reverse\u001b[38;5;241m=\u001b[39m\u001b[38;5;28;01mTrue\u001b[39;00m)\n\u001b[1;32m      2\u001b[0m l\n",
      "\u001b[0;31mAttributeError\u001b[0m: 'list' object has no attribute 'sorted'"
     ]
    }
   ],
   "source": [
    "l.sorted(reverse=True)\n",
    "l"
   ]
  },
  {
   "cell_type": "code",
   "execution_count": null,
   "id": "7fe4155e",
   "metadata": {},
   "outputs": [],
   "source": []
  }
 ],
 "metadata": {
  "kernelspec": {
   "display_name": "Python 3 (ipykernel)",
   "language": "python",
   "name": "python3"
  },
  "language_info": {
   "codemirror_mode": {
    "name": "ipython",
    "version": 3
   },
   "file_extension": ".py",
   "mimetype": "text/x-python",
   "name": "python",
   "nbconvert_exporter": "python",
   "pygments_lexer": "ipython3",
   "version": "3.10.7"
  }
 },
 "nbformat": 4,
 "nbformat_minor": 5
}
