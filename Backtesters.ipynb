{
 "cells": [
  {
   "cell_type": "markdown",
   "id": "c6b7dec9",
   "metadata": {},
   "source": [
    "# Iterative Backtesting\n",
    "\n",
    "This implementation helps testing and optimizing SMA strategy with historical binance data."
   ]
  },
  {
   "cell_type": "code",
   "execution_count": 1,
   "id": "57240c89",
   "metadata": {},
   "outputs": [],
   "source": [
    "api_key = \"6ce63f3406fd8ebbff01054a66c25fe3c851c45932088c8ca3131a7005188462\"\n",
    "secret_key = \"aa3ea32929252467fa5ffeac5818c95beabfb5dba691ef445e7eaa31ea0d15f6\""
   ]
  },
  {
   "cell_type": "code",
   "execution_count": 2,
   "id": "14950968",
   "metadata": {},
   "outputs": [],
   "source": [
    "import pandas as pd\n",
    "import numpy as np\n",
    "import matplotlib.pyplot as plt\n",
    "plt.style.use(\"seaborn\")"
   ]
  },
  {
   "cell_type": "markdown",
   "id": "6e2031d0",
   "metadata": {},
   "source": [
    "### How open position units (buy or sell) are calculated?\n",
    "\n",
    "When you have leverage, you just want to spend the corresponding fracon of the ammount passed to function. For example, if you have leverage of 3 and you pass amount = 3000, then you just want to spend 1000 for buying or selling. With this in mind we build the next formulas that must hold true...\n",
    "\n",
    "$$myAmount=TotalAmount/ Leverage$$\n",
    "\n",
    "$$AmountForUnits + paidFee = myAmount$$\n",
    "\n",
    "$$paidFee = (totalAmountBought)*Fee = (AmountForUnits*Leverage)*Fee$$\n",
    "\n",
    "then, \n",
    "\n",
    "$$AmountForUnits + AmountForUnits*Leverage*fee = myAmount$$\n",
    "\n",
    "$$AmountForUnits = myAmount/( 1 + Leverage*fee )$$\n",
    "\n",
    "With this, you will spend your corresponding fraction of the money buying the correct units and paying the fee entirely.\n",
    "\n",
    "Important:\n",
    " \n",
    "$$AmountForUnits*Leverage + fee != myAmount*Leverage$$\n",
    "\n",
    "In other words, you dont use all the amount you pass to the function to buy or sell units, because you have to pay fees with that money. The money you pay for fees increases with leverage. \n"
   ]
  },
  {
   "cell_type": "markdown",
   "id": "47f6f6ae",
   "metadata": {},
   "source": [
    "### How close position units (buy or sell) are calculated?\n",
    "\n",
    "When you close a position, you also have to consider leverage, because when do it, it returns to you your units on \"amount\" and the profit of ALL the position. In other words, you have to return the units to the broker again. Dont forget to pay the comission of closing. We use the next formulas to calculate everything: \n",
    "\n",
    "$$Units = UnleveredUnits*Leverage$$\n",
    "$$myAssetEntryValue = unleveredUnits * entryPrice$$\n",
    "$$profit = Units * (currentPrice - entryPrice)$$\n",
    "$$payFee = abs(Units) * currentPrice * Fee$$ \n",
    "\n",
    "Then you consider all this to update your current balance:\n",
    "\n",
    "$$balance += myAssetEntryValue + profit - payFee\n",
    "\n",
    "Important: for short positions, units are negative, because you sell them, then the formulas have sense."
   ]
  },
  {
   "cell_type": "markdown",
   "id": "109d2490",
   "metadata": {},
   "source": [
    "# Order Class\n",
    "\n",
    "This class keeps track of each order calculations"
   ]
  },
  {
   "cell_type": "code",
   "execution_count": 276,
   "id": "4fa63a03",
   "metadata": {},
   "outputs": [],
   "source": [
    "class Order():\n",
    "    \n",
    "    def __repr__(self):\n",
    "        if self.position == 1:\n",
    "            return \"LONG\"\n",
    "        else:\n",
    "            return \"SHORT\"\n",
    "    \n",
    "    def __init__(self, amount, leverage, expected_entry_price, position, created_at, \n",
    "                 fee_maker, fee_taker, use_fee, order_type = \"MARKET\"):\n",
    "        self.order_type = order_type\n",
    "        self.amount = amount\n",
    "        self.leverage = leverage\n",
    "        self.amount_to_spend = self.amount/self.leverage #amount to really spend from my balance\n",
    "        self.expected_entry_price = expected_entry_price\n",
    "        self.position = position #long (1) or short (-1)\n",
    "        self.fee_maker = fee_maker #comision for limit order\n",
    "        self.fee_taker= fee_taker #comision for market order\n",
    "        self.use_fee = use_fee #True or False\n",
    "        self.created_at = created_at # creating position datetime\n",
    "        ########### Open position params ###########\n",
    "        self.entry_price = None\n",
    "        self.opening_at = None #opening position datetime\n",
    "        self.unlev_amount_to_buy_units = None\n",
    "        self.amount_to_buy_units = None\n",
    "        self.opening_fee_as_amount = None \n",
    "        self.opening_fee_as_units = None\n",
    "        self.unlev_units = None\n",
    "        self.units = None\n",
    "        ########### Close position params ###########\n",
    "        self.closing_at = None #close position datetime\n",
    "        self.closing_fee_as_amount = None \n",
    "        self.closing_fee_as_units = None\n",
    "        self.closing_price = None\n",
    "        \n",
    "    def open_position(self, date, entry_price):\n",
    "        self.opening_at = date # open position datetime\n",
    "        if entry_price is None: \n",
    "            self.entry_price = self.expected_entry_price #for limit orders\n",
    "        else:\n",
    "            self.entry_price = entry_price #market orders    \n",
    "        ##################### Works for long and short ##################    \n",
    "        self.unlev_amount_to_buy_units = self.amount_to_spend/( 1 + self.leverage*self.fee_taker*self.use_fee )\n",
    "        self.amount_to_buy_units = self.unlev_amount_to_buy_units*self.leverage\n",
    "        self.opening_fee_as_amount = self.amount_to_buy_units*self.fee_taker*self.use_fee\n",
    "        self.opening_fee_as_units = self.opening_fee_as_amount/self.entry_price\n",
    "        self.unlev_units = self.unlev_amount_to_buy_units/self.entry_price\n",
    "        self.units = self.unlev_units*self.leverage\n",
    "        if self.position == 1:\n",
    "            print(\"{} |  Buying {} for {}, leverage {}\".format(self.opening_at, self.units, round(self.entry_price, 5), self.leverage))\n",
    "        else:\n",
    "            print(\"{} |  Selling {} for {}, leverage {}\".format(self.opening_at, self.units, round(self.entry_price, 5), self.leverage))\n",
    "        return self.units, self.opening_fee_as_amount\n",
    "        \n",
    "    def get_close_fee(self, price, as_amount= True):\n",
    "        fee = self.units * self.fee_taker * self.use_fee\n",
    "        if as_amount: fee*=price\n",
    "        return fee\n",
    "    \n",
    "    def get_PnL(self, price, include_fee = False, as_amount = True):\n",
    "        #get profit (by default doesnt include fee as Binance)\n",
    "        PnL = self.position * self.units * (price - self.entry_price)\n",
    "        fee = self.get_close_fee(price, as_amount= True) * include_fee\n",
    "        profit = PnL - fee\n",
    "        if not as_amount: profit/=price\n",
    "        return profit\n",
    "    \n",
    "    def get_position_value(self, price, include_fee = True, as_amount = True):\n",
    "        #gets the spent money and profits of the position (subtracts closing fee if True)\n",
    "        profit = self.get_PnL(price = price, include_fee = include_fee, as_amount = True)\n",
    "        pos_val = self.unlev_amount_to_buy_units + profit\n",
    "        if not as_amount: pos_val /= price\n",
    "        return pos_val\n",
    "    \n",
    "    def close_position(self, date, price): #helper method for buy and sell instrument methods\n",
    "        self.closing_at = date\n",
    "        self.closing_price = price\n",
    "        self.closing_fee_as_amount = self.get_close_fee(price, as_amount = True)\n",
    "        self.closing_fee_as_units = self.get_close_fee(price, as_amount = False)\n",
    "        pos_value = self.get_position_value(price)\n",
    "        if self.position == -1:\n",
    "            print(\"{} |  Buying (closing) {} for {}\".format(date, self.units, round(price, 5)))\n",
    "        else:\n",
    "            print(\"{} |  Selling (closing) {} for {}\".format(date, self.units, round(price, 5)))  \n",
    "        return pos_value\n",
    "    \n",
    "    def is_open(self):\n",
    "        return self.closing_at is None\n",
    "    \n",
    "    def is_closed(self):\n",
    "        return not self.is_open()"
   ]
  },
  {
   "cell_type": "code",
   "execution_count": 202,
   "id": "3a28c54d",
   "metadata": {},
   "outputs": [
    {
     "name": "stdout",
     "output_type": "stream",
     "text": [
      "2022-08-21 01:47:54.101898 |  Selling 1.9984012789768186 for 100000, leverage 2\n"
     ]
    },
    {
     "data": {
      "text/plain": [
       "(1.9984012789768186, 79.93605115907275)"
      ]
     },
     "execution_count": 202,
     "metadata": {},
     "output_type": "execute_result"
    }
   ],
   "source": [
    "#initialize the order\n",
    "from datetime import datetime\n",
    "\n",
    "leverage = 2\n",
    "#initialize the order (it makes sense with limit orders because its like submit them)\n",
    "order = Order(amount = 100000*leverage, #more info of this on sections above\n",
    "              leverage = leverage, \n",
    "              expected_entry_price = 100000, #useful for limit orders, price when order is executed \n",
    "              position = -1, #1 for long, -1 for short\n",
    "              created_at = datetime.now(), #datetime when order is created        \n",
    "              fee_maker = 0.0002, \n",
    "              fee_taker = 0.0004, \n",
    "              use_fee = True)\n",
    "#execute the order \n",
    "#with market orders we use entry_price = expected_entry_price to simulate execution at the moment\n",
    "order.open_position(datetime.now(), entry_price = order.expected_entry_price)"
   ]
  },
  {
   "cell_type": "code",
   "execution_count": 195,
   "id": "a35a2e2e",
   "metadata": {},
   "outputs": [
    {
     "data": {
      "text/plain": [
       "79.93605115907275"
      ]
     },
     "execution_count": 195,
     "metadata": {},
     "output_type": "execute_result"
    }
   ],
   "source": [
    "#get closing fee of position at a certain price\n",
    "order.get_close_fee(price = 100000, as_amount = True)"
   ]
  },
  {
   "cell_type": "code",
   "execution_count": 196,
   "id": "b74e0e42",
   "metadata": {},
   "outputs": [
    {
     "data": {
      "text/plain": [
       "99880.0959232614"
      ]
     },
     "execution_count": 196,
     "metadata": {},
     "output_type": "execute_result"
    }
   ],
   "source": [
    "#prints current PnL of position at a certain price\n",
    "order.get_PnL(price = 50000, as_amount = True, include_fee = True)"
   ]
  },
  {
   "cell_type": "code",
   "execution_count": 197,
   "id": "5a8334a3",
   "metadata": {},
   "outputs": [
    {
     "data": {
      "text/plain": [
       "199800.15987210232"
      ]
     },
     "execution_count": 197,
     "metadata": {},
     "output_type": "execute_result"
    }
   ],
   "source": [
    "#returns all money that you will receive if position is closed (including invested one) at a certain price\n",
    "order.get_position_value(price = 50000, as_amount = True, include_fee = True)"
   ]
  },
  {
   "cell_type": "code",
   "execution_count": 192,
   "id": "cc4e3d27",
   "metadata": {},
   "outputs": [
    {
     "data": {
      "text/plain": [
       "True"
      ]
     },
     "execution_count": 192,
     "metadata": {},
     "output_type": "execute_result"
    }
   ],
   "source": [
    "#True if position is open\n",
    "order.is_open()"
   ]
  },
  {
   "cell_type": "code",
   "execution_count": 193,
   "id": "f1296fbb",
   "metadata": {},
   "outputs": [
    {
     "name": "stdout",
     "output_type": "stream",
     "text": [
      "2022-08-21 01:11:32.249853 |  Buying (closing) 1.9984012789768186 for 50000\n"
     ]
    }
   ],
   "source": [
    "#closes the position and returns profits at a certain price...\n",
    "pos_val = order.close_position(datetime.now(), price = 50000)"
   ]
  },
  {
   "cell_type": "code",
   "execution_count": 194,
   "id": "8f679b77",
   "metadata": {},
   "outputs": [
    {
     "data": {
      "text/plain": [
       "True"
      ]
     },
     "execution_count": 194,
     "metadata": {},
     "output_type": "execute_result"
    }
   ],
   "source": [
    "#True if position is closed\n",
    "order.is_closed()"
   ]
  },
  {
   "cell_type": "markdown",
   "id": "6692b494",
   "metadata": {},
   "source": [
    "# BinanceApi Class\n",
    "This class helps to keep track of actions made in \"account\"."
   ]
  },
  {
   "cell_type": "code",
   "execution_count": 457,
   "id": "06221850",
   "metadata": {},
   "outputs": [],
   "source": [
    "class BinanceApi():\n",
    "\n",
    "    def __init__(self, symbol, start, end, amount, use_fee = True, fee_maker=0, fee_taker=0):\n",
    "        self.symbol = symbol\n",
    "        self.start = start\n",
    "        self.end = end\n",
    "        self.initial_balance = amount\n",
    "        self.available_balance= amount #keeps unlevered balance (real balance)\n",
    "        self.open_orders = []\n",
    "        self.closed_orders= []\n",
    "        self.trades = 0\n",
    "        self.use_fee = use_fee\n",
    "        self.fee_maker = fee_maker #limit orders fee\n",
    "        self.fee_taker = fee_taker #market orders fee (higher)\n",
    "        self.leverage = 1\n",
    "        self.get_data()\n",
    "\n",
    "    def get_data(self):\n",
    "        raw = pd.read_csv(\"5m.csv\", parse_dates = [\"Date\"], index_col = \"Date\").dropna()\n",
    "        raw = raw.loc[self.start:self.end]\n",
    "        raw = raw[[\"Close\"]].rename(columns={\"Close\": \"price\"}) #just use these columns\n",
    "        raw[\"returns\"] = np.log(raw.price / raw.price.shift(1))\n",
    "        raw[\"Hold Strategy\"] = raw[\"returns\"].cumsum().apply(np.exp) * self.initial_balance\n",
    "        self.data = raw\n",
    "\n",
    "    def plot_data(self, cols = None):  \n",
    "        if cols is None:\n",
    "            cols = \"price\"\n",
    "        self.data[cols].plot(figsize = (12, 8), title = self.symbol)\n",
    "    \n",
    "    def get_values(self, bar):\n",
    "        date = str(self.data.index[bar].date())\n",
    "        price = round(self.data.price.iloc[bar], 5)\n",
    "        return date, price\n",
    "    \n",
    "    def print_available_balance(self, bar):\n",
    "        date, price = self.get_values(bar)\n",
    "        print(\"{} | Current Balance: {}\".format(date, round(self.available_balance, 2)))\n",
    "        \n",
    "    def buy_instrument(self, bar, units = None, amount = None):\n",
    "        date, price = self.get_values(bar)\n",
    "        \n",
    "        if self.get_position() in [0]: #open long position\n",
    "            if amount is None: amount = units*price\n",
    "            order = Order(amount = amount, \n",
    "              leverage = self.leverage, \n",
    "              expected_entry_price = price,\n",
    "              position = 1, \n",
    "              created_at = date,       \n",
    "              fee_maker = self.fee_maker, \n",
    "              fee_taker = self.fee_taker, \n",
    "              use_fee = self.use_fee)\n",
    "            order.open_position(date = date, entry_price = price)              \n",
    "            self.open_orders.append(order)\n",
    "            self.available_balance -= order.amount_to_spend\n",
    "            self.trades += 1\n",
    "        elif self.get_position() in [-1]: #closing short position\n",
    "            order = self.open_orders[0]\n",
    "            pos_value = order.close_position(date = date, price = price)\n",
    "            self.available_balance += pos_value\n",
    "            self.open_orders = []\n",
    "            self.closed_orders.append(order)\n",
    "                    \n",
    "    def sell_instrument(self, bar, units = None, amount = None):\n",
    "        date, price = self.get_values(bar)\n",
    "        \n",
    "        if self.get_position() in [0]: #open short position\n",
    "            if amount is None: amount = units*price\n",
    "            order = Order(amount = amount, \n",
    "              leverage = self.leverage, \n",
    "              expected_entry_price = price,\n",
    "              position = -1, \n",
    "              created_at = date,       \n",
    "              fee_maker = self.fee_maker, \n",
    "              fee_taker = self.fee_taker, \n",
    "              use_fee = self.use_fee)\n",
    "            order.open_position(date = date, entry_price = price)              \n",
    "            self.open_orders.append(order)\n",
    "            self.available_balance -= order.amount_to_spend\n",
    "            self.trades += 1\n",
    "        elif self.get_position() in [1]: #closing long position\n",
    "            order = self.open_orders[0]\n",
    "            pos_value = order.close_position(date = date, price = price)\n",
    "            self.available_balance += pos_value\n",
    "            self.open_orders = []\n",
    "            self.closed_orders.append(order)\n",
    "            \n",
    "    def print_current_nav(self, bar):\n",
    "        nav = self.get_nav(bar)\n",
    "        print(\"{} |  Net Asset Value = {}\".format(date, round(nav, 2)))\n",
    "        \n",
    "    def get_nav(self, bar):\n",
    "        if len(self.open_orders) == 0: return self.available_balance\n",
    "        date, price = self.get_values(bar)\n",
    "        order = self.open_orders[0]\n",
    "        pos_value = order.get_position_value(price = price, include_fee = True, as_amount = True)\n",
    "        return self.available_balance + pos_value\n",
    "\n",
    "    def get_position(self):\n",
    "        if len(self.open_orders) == 0:\n",
    "            return 0\n",
    "        return self.open_orders[0].position"
   ]
  },
  {
   "cell_type": "markdown",
   "id": "04d61fae",
   "metadata": {},
   "source": [
    "# Backtest class\n",
    "keeps strategies for automated trading"
   ]
  },
  {
   "cell_type": "code",
   "execution_count": 507,
   "id": "a0c1b8b0",
   "metadata": {},
   "outputs": [],
   "source": [
    "class IterativeBacktest(BinanceApi):\n",
    "\n",
    "    # helper method\n",
    "    def go_long(self, bar, units = None, amount = None):\n",
    "        if self.get_position() == -1:\n",
    "            self.buy_instrument(bar, units = self.open_orders[0].units) # if short position, go neutral first\n",
    "        if units:\n",
    "            self.buy_instrument(bar, units = units)\n",
    "        elif amount:\n",
    "            if amount == \"all\":\n",
    "                amount = self.available_balance * self.leverage\n",
    "            self.buy_instrument(bar, amount = amount) # go long\n",
    "\n",
    "    # helper method\n",
    "    def go_short(self, bar, units = None, amount = None):\n",
    "        if self.get_position() == 1:\n",
    "            self.sell_instrument(bar, units = self.open_orders[0].units) # if long position, go neutral first\n",
    "        if units:\n",
    "            self.sell_instrument(bar, units = units)\n",
    "        elif amount:\n",
    "            if amount == \"all\":\n",
    "                amount = self.available_balance * self.leverage\n",
    "            self.sell_instrument(bar, amount = amount) # go short\n",
    "\n",
    "    def test_sma_strategy(self, SMA_S, SMA_L, leverage = 1,keep_metrics = True):\n",
    "        \n",
    "        # nice printout\n",
    "        stm = \"Testing SMA strategy | {} | SMA_S = {} & SMA_L = {}\".format(self.symbol, SMA_S, SMA_L)\n",
    "        print(\"-\" * 75)\n",
    "        print(stm)\n",
    "        print(\"-\" * 75)\n",
    "        \n",
    "        # reset \n",
    "        self.position = 0  # initial neutral position\n",
    "        self.trades = 0  # no trades yet\n",
    "        self.available_balance = self.initial_balance  # reset initial capital\n",
    "        self.get_data() # reset dataset\n",
    "        self.open_orders = []\n",
    "        self.closed_orders = []\n",
    "        \n",
    "        # prepare data\n",
    "        self.data[\"SMA_S\"] = self.data[\"price\"].rolling(SMA_S).mean()\n",
    "        self.data[\"SMA_L\"] = self.data[\"price\"].rolling(SMA_L).mean()\n",
    "        self.data.dropna(inplace = True)\n",
    "        \n",
    "        #prepare metrics\n",
    "        self.keep_metrics = keep_metrics\n",
    "        self.positions, self.navs = [], []\n",
    "        self.leverage = leverage\n",
    "        # sma crossover strategy\n",
    "        for bar in range(len(self.data)-1): # all bars (except the last bar)\n",
    "            if self.data[\"SMA_S\"].iloc[bar] > self.data[\"SMA_L\"].iloc[bar]: # signal to go long\n",
    "                if self.get_position() in [0, -1]:\n",
    "                    self.go_long(bar, amount = \"all\") # go long with full amount\n",
    "            elif self.data[\"SMA_S\"].iloc[bar] < self.data[\"SMA_L\"].iloc[bar]: # signal to go short\n",
    "                if self.get_position() in [0, 1]:\n",
    "                    self.go_short(bar, amount = \"all\") # go short with full amount\n",
    "            self.calculate_metrics(bar)        \n",
    "                    \n",
    "        self.close_final_position(bar+1) # close position at the last bar\n",
    "        self.calculate_metrics(bar+1)\n",
    "        self.add_metrics_to_data()\n",
    "        \n",
    "    def calculate_metrics(self, bar):\n",
    "        if not self.keep_metrics: return\n",
    "        self.positions.append( self.position )\n",
    "        self.navs.append( self.get_nav(bar) )\n",
    "    def add_metrics_to_data(self):\n",
    "        if not self.keep_metrics: return\n",
    "        self.data[\"Position\"] = self.positions\n",
    "        self.data[\"NAV\"] = self.navs\n",
    "        \n",
    "    def close_final_position(self, bar):\n",
    "        date, price = self.get_values(bar)\n",
    "        print(75 * \"-\")\n",
    "        print(\"{} | +++ CLOSING FINAL POSITION +++\".format(date))\n",
    "        if self.get_position() in [-1]:\n",
    "            self.buy_instrument(bar, units = self.open_orders[0].units)\n",
    "        elif self.get_position() in [1]:    \n",
    "            self.sell_instrument(bar, units = self.open_orders[0].units)\n",
    "        perf = (self.available_balance - self.initial_balance) / self.initial_balance * 100\n",
    "        self.print_available_balance(bar)\n",
    "        print(\"{} | net performance (%) = {}\".format(date, round(perf, 2) ))\n",
    "        print(\"{} | number of trades executed = {}\".format(date, self.trades))\n",
    "        print(75 * \"-\")    "
   ]
  },
  {
   "cell_type": "markdown",
   "id": "3946c50e",
   "metadata": {},
   "source": [
    "### Test strategy"
   ]
  },
  {
   "cell_type": "code",
   "execution_count": 508,
   "id": "5ca12278",
   "metadata": {},
   "outputs": [],
   "source": [
    "bc = IterativeBacktest(symbol = \"BTCUSD\", \n",
    "                       start = \"2022-01-31\", \n",
    "                       end = \"2023-06-30\", \n",
    "                       amount = 100000, \n",
    "                       use_fee= True,\n",
    "                       fee_maker = 0.0002,\n",
    "                       fee_taker = 0.0004\n",
    "                    )"
   ]
  },
  {
   "cell_type": "code",
   "execution_count": 509,
   "id": "3b118094",
   "metadata": {},
   "outputs": [
    {
     "data": {
      "text/html": [
       "<div>\n",
       "<style scoped>\n",
       "    .dataframe tbody tr th:only-of-type {\n",
       "        vertical-align: middle;\n",
       "    }\n",
       "\n",
       "    .dataframe tbody tr th {\n",
       "        vertical-align: top;\n",
       "    }\n",
       "\n",
       "    .dataframe thead th {\n",
       "        text-align: right;\n",
       "    }\n",
       "</style>\n",
       "<table border=\"1\" class=\"dataframe\">\n",
       "  <thead>\n",
       "    <tr style=\"text-align: right;\">\n",
       "      <th></th>\n",
       "      <th>price</th>\n",
       "      <th>returns</th>\n",
       "      <th>Hold Strategy</th>\n",
       "    </tr>\n",
       "    <tr>\n",
       "      <th>Date</th>\n",
       "      <th></th>\n",
       "      <th></th>\n",
       "      <th></th>\n",
       "    </tr>\n",
       "  </thead>\n",
       "  <tbody>\n",
       "    <tr>\n",
       "      <th>2022-07-12 11:15:00</th>\n",
       "      <td>19729.8</td>\n",
       "      <td>NaN</td>\n",
       "      <td>NaN</td>\n",
       "    </tr>\n",
       "    <tr>\n",
       "      <th>2022-07-12 11:20:00</th>\n",
       "      <td>19713.8</td>\n",
       "      <td>-0.000811</td>\n",
       "      <td>99918.904398</td>\n",
       "    </tr>\n",
       "    <tr>\n",
       "      <th>2022-07-12 11:25:00</th>\n",
       "      <td>19772.7</td>\n",
       "      <td>0.002983</td>\n",
       "      <td>100217.437582</td>\n",
       "    </tr>\n",
       "    <tr>\n",
       "      <th>2022-07-12 11:30:00</th>\n",
       "      <td>19823.3</td>\n",
       "      <td>0.002556</td>\n",
       "      <td>100473.902422</td>\n",
       "    </tr>\n",
       "    <tr>\n",
       "      <th>2022-07-12 11:35:00</th>\n",
       "      <td>19766.9</td>\n",
       "      <td>-0.002849</td>\n",
       "      <td>100188.040426</td>\n",
       "    </tr>\n",
       "    <tr>\n",
       "      <th>...</th>\n",
       "      <td>...</td>\n",
       "      <td>...</td>\n",
       "      <td>...</td>\n",
       "    </tr>\n",
       "    <tr>\n",
       "      <th>2022-08-16 04:10:00</th>\n",
       "      <td>24550.0</td>\n",
       "      <td>0.002039</td>\n",
       "      <td>124431.063670</td>\n",
       "    </tr>\n",
       "    <tr>\n",
       "      <th>2022-08-16 04:15:00</th>\n",
       "      <td>24450.0</td>\n",
       "      <td>-0.004082</td>\n",
       "      <td>123924.216160</td>\n",
       "    </tr>\n",
       "    <tr>\n",
       "      <th>2022-08-16 04:20:00</th>\n",
       "      <td>24508.3</td>\n",
       "      <td>0.002382</td>\n",
       "      <td>124219.708259</td>\n",
       "    </tr>\n",
       "    <tr>\n",
       "      <th>2022-08-16 04:25:00</th>\n",
       "      <td>24550.0</td>\n",
       "      <td>0.001700</td>\n",
       "      <td>124431.063670</td>\n",
       "    </tr>\n",
       "    <tr>\n",
       "      <th>2022-08-16 04:30:00</th>\n",
       "      <td>24450.0</td>\n",
       "      <td>-0.004082</td>\n",
       "      <td>123924.216160</td>\n",
       "    </tr>\n",
       "  </tbody>\n",
       "</table>\n",
       "<p>10000 rows × 3 columns</p>\n",
       "</div>"
      ],
      "text/plain": [
       "                       price   returns  Hold Strategy\n",
       "Date                                                 \n",
       "2022-07-12 11:15:00  19729.8       NaN            NaN\n",
       "2022-07-12 11:20:00  19713.8 -0.000811   99918.904398\n",
       "2022-07-12 11:25:00  19772.7  0.002983  100217.437582\n",
       "2022-07-12 11:30:00  19823.3  0.002556  100473.902422\n",
       "2022-07-12 11:35:00  19766.9 -0.002849  100188.040426\n",
       "...                      ...       ...            ...\n",
       "2022-08-16 04:10:00  24550.0  0.002039  124431.063670\n",
       "2022-08-16 04:15:00  24450.0 -0.004082  123924.216160\n",
       "2022-08-16 04:20:00  24508.3  0.002382  124219.708259\n",
       "2022-08-16 04:25:00  24550.0  0.001700  124431.063670\n",
       "2022-08-16 04:30:00  24450.0 -0.004082  123924.216160\n",
       "\n",
       "[10000 rows x 3 columns]"
      ]
     },
     "execution_count": 509,
     "metadata": {},
     "output_type": "execute_result"
    }
   ],
   "source": [
    "bc.data"
   ]
  },
  {
   "cell_type": "code",
   "execution_count": 512,
   "id": "84ad1887",
   "metadata": {},
   "outputs": [
    {
     "name": "stdout",
     "output_type": "stream",
     "text": [
      "---------------------------------------------------------------------------\n",
      "Testing SMA strategy | BTCUSD | SMA_S = 50 & SMA_L = 200\n",
      "---------------------------------------------------------------------------\n",
      "2022-07-13 |  Selling 5.130732858735619 for 19482.6, leverage 1\n",
      "2022-07-13 |  Buying (closing) 5.130732858735619 for 19830.9\n",
      "2022-07-13 |  Buying 4.946474728858771 for 19830.9, leverage 1\n",
      "2022-07-13 |  Selling (closing) 4.946474728858771 for 19605.6\n",
      "2022-07-13 |  Selling 4.942519131314701 for 19605.6, leverage 1\n",
      "2022-07-13 |  Buying (closing) 4.942519131314701 for 19740.0\n",
      "2022-07-13 |  Buying 4.87129121900348 for 19740.0, leverage 1\n",
      "2022-07-14 |  Selling (closing) 4.87129121900348 for 19748.5\n",
      "2022-07-14 |  Selling 4.867395744218191 for 19748.5, leverage 1\n",
      "2022-07-14 |  Buying (closing) 4.867395744218191 for 20199.8\n",
      "2022-07-14 |  Buying 4.646097530210663 for 20199.8, leverage 1\n",
      "2022-07-16 |  Selling (closing) 4.646097530210663 for 20690.8\n",
      "2022-07-16 |  Selling 4.642382138343241 for 20690.8, leverage 1\n",
      "2022-07-16 |  Buying (closing) 4.642382138343241 for 20803.3\n",
      "2022-07-16 |  Buying 4.5884796836257875 for 20803.3, leverage 1\n",
      "2022-07-17 |  Selling (closing) 4.5884796836257875 for 21192.8\n",
      "2022-07-17 |  Selling 4.584810367605296 for 21192.8, leverage 1\n",
      "2022-07-18 |  Buying (closing) 4.584810367605296 for 21206.0\n",
      "2022-07-18 |  Buying 4.575438496970868 for 21206.0, leverage 1\n",
      "2022-07-18 |  Selling (closing) 4.575438496970868 for 21363.7\n",
      "2022-07-18 |  Selling 4.571779609728188 for 21363.7, leverage 1\n",
      "2022-07-18 |  Buying (closing) 4.571779609728188 for 21598.0\n",
      "2022-07-18 |  Buying 4.468971905977234 for 21598.0, leverage 1\n",
      "2022-07-18 |  Selling (closing) 4.468971905977234 for 21500.0\n",
      "2022-07-18 |  Selling 4.465398157951663 for 21500.0, leverage 1\n",
      "2022-07-19 |  Buying (closing) 4.465398157951663 for 22191.0\n",
      "2022-07-19 |  Buying 4.183844627558688 for 22191.0, leverage 1\n",
      "2022-07-19 |  Selling (closing) 4.183844627558688 for 22058.5\n",
      "2022-07-19 |  Selling 4.180498890151605 for 22058.5, leverage 1\n",
      "2022-07-19 |  Buying (closing) 4.180498890151605 for 21875.8\n",
      "2022-07-19 |  Buying 4.24695640776554 for 21875.8, leverage 1\n",
      "2022-07-19 |  Selling (closing) 4.24695640776554 for 21879.5\n",
      "2022-07-19 |  Selling 4.243560201121986 for 21879.5, leverage 1\n",
      "2022-07-19 |  Buying (closing) 4.243560201121986 for 22214.2\n",
      "2022-07-19 |  Buying 4.112342913089334 for 22214.2, leverage 1\n",
      "2022-07-19 |  Selling (closing) 4.112342913089334 for 22052.2\n",
      "2022-07-19 |  Selling 4.109054354182426 for 22052.2, leverage 1\n",
      "2022-07-19 |  Buying (closing) 4.109054354182426 for 22349.9\n",
      "2022-07-19 |  Buying 3.9963472311779706 for 22349.9, leverage 1\n",
      "2022-07-20 |  Selling (closing) 3.9963472311779706 for 23510.0\n",
      "2022-07-20 |  Selling 3.993151431712814 for 23510.0, leverage 1\n",
      "2022-07-21 |  Buying (closing) 3.993151431712814 for 23431.0\n",
      "2022-07-21 |  Buying 4.016874054022921 for 23431.0, leverage 1\n",
      "2022-07-22 |  Selling (closing) 4.016874054022921 for 23384.0\n",
      "2022-07-22 |  Selling 4.013661839665446 for 23384.0, leverage 1\n",
      "2022-07-22 |  Buying (closing) 4.013661839665446 for 23498.9\n",
      "2022-07-22 |  Buying 3.9712175616872893 for 23498.9, leverage 1\n",
      "2022-07-22 |  Selling (closing) 3.9712175616872893 for 23299.8\n",
      "2022-07-22 |  Selling 3.968041857919447 for 23299.8, leverage 1\n",
      "2022-07-23 |  Buying (closing) 3.968041857919447 for 23242.0\n",
      "2022-07-23 |  Buying 3.9845968681193975 for 23242.0, leverage 1\n",
      "2022-07-23 |  Selling (closing) 3.9845968681193975 for 23404.0\n",
      "2022-07-23 |  Selling 3.9814104651860758 for 23404.0, leverage 1\n",
      "2022-07-23 |  Buying (closing) 3.9814104651860758 for 23424.0\n",
      "2022-07-23 |  Buying 3.9714304721424525 for 23424.0, leverage 1\n",
      "2022-07-23 |  Selling (closing) 3.9714304721424525 for 22714.4\n",
      "2022-07-23 |  Selling 3.9682545981143496 for 22714.4, leverage 1\n",
      "2022-07-23 |  Buying (closing) 3.9682545981143496 for 23155.0\n",
      "2022-07-23 |  Buying 3.8141234671491664 for 23155.0, leverage 1\n",
      "2022-07-24 |  Selling (closing) 3.8141234671491664 for 23264.0\n",
      "2022-07-24 |  Selling 3.8110733884069448 for 23264.0, leverage 1\n",
      "2022-07-24 |  Buying (closing) 3.8110733884069448 for 23399.8\n",
      "2022-07-24 |  Buying 3.7638085476295844 for 23399.8, leverage 1\n",
      "2022-07-24 |  Selling (closing) 3.7638085476295844 for 23200.0\n",
      "2022-07-24 |  Selling 3.760798704728641 for 23200.0, leverage 1\n",
      "2022-07-24 |  Buying (closing) 3.760798704728641 for 23224.0\n",
      "2022-07-24 |  Buying 3.750021454781141 for 23224.0, leverage 1\n",
      "2022-07-24 |  Selling (closing) 3.750021454781141 for 23244.7\n",
      "2022-07-24 |  Selling 3.747022637144371 for 23244.7, leverage 1\n",
      "2022-07-24 |  Buying (closing) 3.747022637144371 for 23244.0\n",
      "2022-07-24 |  Buying 3.744251812775348 for 23244.0, leverage 1\n",
      "2022-07-24 |  Selling (closing) 3.744251812775348 for 23379.2\n",
      "2022-07-24 |  Selling 3.7412576090066354 for 23379.2, leverage 1\n",
      "2022-07-24 |  Buying (closing) 3.7412576090066354 for 23620.0\n",
      "2022-07-24 |  Buying 3.6620139267895406 for 23620.0, leverage 1\n",
      "2022-07-25 |  Selling (closing) 3.6620139267895406 for 22908.0\n",
      "2022-07-25 |  Selling 3.6590854870240155 for 22908.0, leverage 1\n",
      "2022-07-25 |  Buying (closing) 3.6590854870240155 for 22301.0\n",
      "2022-07-25 |  Buying 3.8552694576710045 for 22301.0, leverage 1\n",
      "2022-07-25 |  Selling (closing) 3.8552694576710045 for 22480.0\n",
      "2022-07-25 |  Selling 3.852186475297817 for 22480.0, leverage 1\n",
      "2022-07-25 |  Buying (closing) 3.852186475297817 for 22664.0\n",
      "2022-07-25 |  Buying 3.7865822287185407 for 22664.0, leverage 1\n",
      "2022-07-26 |  Selling (closing) 3.7865822287185407 for 21647.3\n",
      "2022-07-26 |  Selling 3.7835541741573904 for 21647.3, leverage 1\n",
      "2022-07-27 |  Buying (closing) 3.7835541741573904 for 22000.0\n",
      "2022-07-27 |  Buying 3.6592625422685194 for 22000.0, leverage 1\n",
      "2022-07-28 |  Selling (closing) 3.6592625422685194 for 23023.4\n",
      "2022-07-28 |  Selling 3.65633630273052 for 23023.4, leverage 1\n",
      "2022-07-28 |  Buying (closing) 3.65633630273052 for 23012.4\n",
      "2022-07-28 |  Buying 3.6569064862540626 for 23012.4, leverage 1\n",
      "2022-07-28 |  Selling (closing) 3.6569064862540626 for 22603.0\n",
      "2022-07-28 |  Selling 3.6539821308072384 for 22603.0, leverage 1\n",
      "2022-07-28 |  Buying (closing) 3.6539821308072384 for 23083.4\n",
      "2022-07-28 |  Buying 3.4990312839119575 for 23083.4, leverage 1\n",
      "2022-07-28 |  Selling (closing) 3.4990312839119575 for 22881.6\n",
      "2022-07-28 |  Selling 3.4962331781271416 for 22881.6, leverage 1\n",
      "2022-07-28 |  Buying (closing) 3.4962331781271416 for 23076.5\n",
      "2022-07-28 |  Buying 3.4344038005989295 for 23076.5, leverage 1\n",
      "2022-07-28 |  Selling (closing) 3.4344038005989295 for 22884.4\n",
      "2022-07-28 |  Selling 3.4316573761282387 for 22884.4, leverage 1\n",
      "2022-07-28 |  Buying (closing) 3.4316573761282387 for 23524.0\n",
      "2022-07-28 |  Buying 3.24237935659145 for 23524.0, leverage 1\n",
      "2022-07-29 |  Selling (closing) 3.24237935659145 for 23668.2\n",
      "2022-07-29 |  Selling 3.2397864902527127 for 23668.2, leverage 1\n",
      "2022-07-29 |  Buying (closing) 3.2397864902527127 for 23780.9\n",
      "2022-07-29 |  Buying 3.2065006483027325 for 23780.9, leverage 1\n",
      "2022-07-30 |  Selling (closing) 3.2065006483027325 for 23769.8\n",
      "2022-07-30 |  Selling 3.20393647345403 for 23769.8, leverage 1\n",
      "2022-07-30 |  Buying (closing) 3.20393647345403 for 23933.3\n",
      "2022-07-30 |  Buying 3.1576165589543295 for 23933.3, leverage 1\n",
      "2022-07-30 |  Selling (closing) 3.1576165589543295 for 23680.9\n",
      "2022-07-30 |  Selling 3.155091475740452 for 23680.9, leverage 1\n",
      "2022-07-31 |  Buying (closing) 3.155091475740452 for 23801.3\n",
      "2022-07-31 |  Buying 3.12066081638275 for 23801.3, leverage 1\n",
      "2022-07-31 |  Selling (closing) 3.12066081638275 for 23749.3\n",
      "2022-07-31 |  Selling 3.1181652859418203 for 23749.3, leverage 1\n",
      "2022-07-31 |  Buying (closing) 3.1181652859418203 for 24067.9\n",
      "2022-07-31 |  Buying 3.0331510293353063 for 24067.9, leverage 1\n",
      "2022-07-31 |  Selling (closing) 3.0331510293353063 for 23697.0\n",
      "2022-07-31 |  Selling 3.03072547873208 for 23697.0, leverage 1\n",
      "2022-07-31 |  Buying (closing) 3.03072547873208 for 23871.4\n",
      "2022-07-31 |  Buying 2.984035743090517 for 23871.4, leverage 1\n",
      "2022-07-31 |  Selling (closing) 2.984035743090517 for 23328.2\n",
      "2022-07-31 |  Selling 2.9816494690056787 for 23328.2, leverage 1\n",
      "2022-08-01 |  Buying (closing) 2.9816494690056787 for 24000.0\n",
      "2022-08-01 |  Buying 2.8124091694437983 for 24000.0, leverage 1\n",
      "2022-08-01 |  Selling (closing) 2.8124091694437983 for 23492.9\n",
      "2022-08-01 |  Selling 2.8101601417193334 for 23492.9, leverage 1\n"
     ]
    },
    {
     "name": "stdout",
     "output_type": "stream",
     "text": [
      "2022-08-02 |  Buying (closing) 2.8101601417193334 for 23949.0\n",
      "2022-08-02 |  Buying 2.7009187532413788 for 23949.0, leverage 1\n",
      "2022-08-02 |  Selling (closing) 2.7009187532413788 for 23264.0\n",
      "2022-08-02 |  Selling 2.6987588821872075 for 23264.0, leverage 1\n",
      "2022-08-02 |  Buying (closing) 2.6987588821872075 for 23513.1\n",
      "2022-08-02 |  Buying 2.639441789435064 for 23513.1, leverage 1\n",
      "2022-08-02 |  Selling (closing) 2.639441789435064 for 23268.9\n",
      "2022-08-02 |  Selling 2.6373310802871752 for 23268.9, leverage 1\n",
      "2022-08-03 |  Buying (closing) 2.6373310802871752 for 23588.7\n",
      "2022-08-03 |  Buying 2.56374026927813 for 23588.7, leverage 1\n",
      "2022-08-04 |  Selling (closing) 2.56374026927813 for 23844.0\n",
      "2022-08-04 |  Selling 2.5616900971315664 for 23844.0, leverage 1\n",
      "2022-08-05 |  Buying (closing) 2.5616900971315664 for 23148.3\n",
      "2022-08-05 |  Buying 2.713558285650516 for 23148.3, leverage 1\n",
      "2022-08-05 |  Selling (closing) 2.713558285650516 for 23018.0\n",
      "2022-08-05 |  Selling 2.7113883070134506 for 23018.0, leverage 1\n",
      "2022-08-06 |  Buying (closing) 2.7113883070134506 for 23605.3\n",
      "2022-08-06 |  Buying 2.5743552961723046 for 23605.3, leverage 1\n",
      "2022-08-06 |  Selling (closing) 2.5743552961723046 for 23208.4\n",
      "2022-08-06 |  Selling 2.5722966353996757 for 23208.4, leverage 1\n",
      "2022-08-07 |  Buying (closing) 2.5722966353996757 for 23259.1\n",
      "2022-08-07 |  Buying 2.559029961529674 for 23259.1, leverage 1\n",
      "2022-08-08 |  Selling (closing) 2.559029961529674 for 23821.7\n",
      "2022-08-08 |  Selling 2.556983556122613 for 23821.7, leverage 1\n",
      "2022-08-09 |  Buying (closing) 2.556983556122613 for 24300.0\n",
      "2022-08-09 |  Buying 2.4543201675637194 for 24300.0, leverage 1\n",
      "2022-08-09 |  Selling (closing) 2.4543201675637194 for 23584.1\n",
      "2022-08-09 |  Selling 2.4523574964980948 for 23584.1, leverage 1\n",
      "2022-08-10 |  Buying (closing) 2.4523574964980948 for 23793.8\n",
      "2022-08-10 |  Buying 2.407187345061513 for 23793.8, leverage 1\n",
      "2022-08-11 |  Selling (closing) 2.407187345061513 for 24144.0\n",
      "2022-08-11 |  Selling 2.4052623651774176 for 24144.0, leverage 1\n",
      "2022-08-12 |  Buying (closing) 2.4052623651774176 for 24280.0\n",
      "2022-08-12 |  Buying 2.3764044199078542 for 24280.0, leverage 1\n",
      "2022-08-12 |  Selling (closing) 2.3764044199078542 for 23774.9\n",
      "2022-08-12 |  Selling 2.374504056517284 for 23774.9, leverage 1\n",
      "2022-08-12 |  Buying (closing) 2.374504056517284 for 24184.0\n",
      "2022-08-12 |  Buying 2.292302434026821 for 24184.0, leverage 1\n",
      "2022-08-13 |  Selling (closing) 2.292302434026821 for 24373.4\n",
      "2022-08-13 |  Selling 2.2904693253230812 for 24373.4, leverage 1\n",
      "2022-08-14 |  Buying (closing) 2.2904693253230812 for 24650.4\n",
      "2022-08-14 |  Buying 2.2371816152280335 for 24650.4, leverage 1\n",
      "2022-08-14 |  Selling (closing) 2.2371816152280335 for 24345.9\n",
      "2022-08-14 |  Selling 2.235392585547723 for 24345.9, leverage 1\n",
      "2022-08-15 |  Buying (closing) 2.235392585547723 for 24948.0\n",
      "2022-08-15 |  Buying 2.1257493091843886 for 24948.0, leverage 1\n",
      "2022-08-15 |  Selling (closing) 2.1257493091843886 for 24429.6\n",
      "2022-08-15 |  Selling 2.1240493897048327 for 24429.6, leverage 1\n",
      "2022-08-16 |  Buying (closing) 2.1240493897048327 for 24314.7\n",
      "2022-08-16 |  Buying 2.1424173484390545 for 24314.7, leverage 1\n",
      "---------------------------------------------------------------------------\n",
      "2022-08-16 | +++ CLOSING FINAL POSITION +++\n",
      "2022-08-16 |  Selling (closing) 2.1424173484390545 for 24450.0\n",
      "2022-08-16 | Current Balance: 52361.15\n",
      "2022-08-16 | net performance (%) = -47.64\n",
      "2022-08-16 | number of trades executed = 90\n",
      "---------------------------------------------------------------------------\n"
     ]
    }
   ],
   "source": [
    "bc.test_sma_strategy(50, 200, 1, True)"
   ]
  },
  {
   "cell_type": "code",
   "execution_count": 511,
   "id": "6914bea6",
   "metadata": {},
   "outputs": [
    {
     "data": {
      "image/png": "[encoded data removed]",
      "text/plain": [
       "<Figure size 864x576 with 1 Axes>"
      ]
     },
     "metadata": {},
     "output_type": "display_data"
    }
   ],
   "source": [
    "bc.plot_data([\"Hold Strategy\", \"NAV\"])"
   ]
  },
  {
   "cell_type": "code",
   "execution_count": 505,
   "id": "12139003",
   "metadata": {},
   "outputs": [
    {
     "data": {
      "text/plain": [
       "90"
      ]
     },
     "execution_count": 505,
     "metadata": {},
     "output_type": "execute_result"
    }
   ],
   "source": [
    "len(bc.closed_orders)"
   ]
  },
  {
   "cell_type": "markdown",
   "id": "0ef2f94b",
   "metadata": {},
   "source": [
    "### Testing buying and selling instrument by amount"
   ]
  },
  {
   "cell_type": "code",
   "execution_count": 459,
   "id": "97aa252b",
   "metadata": {},
   "outputs": [],
   "source": [
    "#put fees false to make calculations simpler\n",
    "bc = IterativeBacktest(symbol = \"BTCUSD\", \n",
    "                       start = \"2022-01-31\", \n",
    "                       end = \"2023-06-30\", \n",
    "                       amount = 100000, \n",
    "                       use_fee= True,\n",
    "                       fee_maker = 0.0002,\n",
    "                       fee_taker = 0.0004\n",
    "                    )"
   ]
  },
  {
   "cell_type": "code",
   "execution_count": 460,
   "id": "ce9cd4c6",
   "metadata": {},
   "outputs": [
    {
     "data": {
      "text/plain": [
       "19729.8"
      ]
     },
     "execution_count": 460,
     "metadata": {},
     "output_type": "execute_result"
    }
   ],
   "source": [
    "#prints first period price\n",
    "bc.data.price[0]"
   ]
  },
  {
   "cell_type": "code",
   "execution_count": 461,
   "id": "d62e7691",
   "metadata": {},
   "outputs": [
    {
     "data": {
      "text/plain": [
       "9864.9"
      ]
     },
     "execution_count": 461,
     "metadata": {},
     "output_type": "execute_result"
    }
   ],
   "source": [
    "#make the next period double of that to test it easier\n",
    "bc.data.price[1] = bc.data.price[0]*2\n",
    "bc.data.price[1]"
   ]
  },
  {
   "cell_type": "code",
   "execution_count": 462,
   "id": "3a6c5af7",
   "metadata": {},
   "outputs": [],
   "source": [
    "#put the leverage that you want\n",
    "bc.leverage = 2"
   ]
  },
  {
   "cell_type": "code",
   "execution_count": 463,
   "id": "b77be176",
   "metadata": {},
   "outputs": [
    {
     "data": {
      "text/plain": [
       "100000"
      ]
     },
     "execution_count": 463,
     "metadata": {},
     "output_type": "execute_result"
    }
   ],
   "source": [
    "#available balance as declared on bc\n",
    "bc.available_balance"
   ]
  },
  {
   "cell_type": "code",
   "execution_count": 464,
   "id": "8b9909f1",
   "metadata": {},
   "outputs": [
    {
     "data": {
      "text/plain": [
       "100000"
      ]
     },
     "execution_count": 464,
     "metadata": {},
     "output_type": "execute_result"
    }
   ],
   "source": [
    "#nav = Net Asset Value. Its the sum of your balance and current position. You dont have positions right now\n",
    "#must be same as bc.available_balance\n",
    "bc.get_nav(0)"
   ]
  },
  {
   "cell_type": "code",
   "execution_count": 465,
   "id": "e51b3186",
   "metadata": {},
   "outputs": [
    {
     "data": {
      "text/plain": [
       "200000"
      ]
     },
     "execution_count": 465,
     "metadata": {},
     "output_type": "execute_result"
    }
   ],
   "source": [
    "#max amount of money you can spend is your available_balance times leverage\n",
    "#Important: to spend a certain amount you should do:\n",
    "#amount_for_function = amount_to_spend*leverage\n",
    "max_amount = bc.available_balance*bc.leverage\n",
    "max_amount"
   ]
  },
  {
   "cell_type": "code",
   "execution_count": 466,
   "id": "8f9b04a5",
   "metadata": {},
   "outputs": [
    {
     "name": "stdout",
     "output_type": "stream",
     "text": [
      "2022-07-12 |  Selling 10.128847119468109 for 19729.8, leverage 2\n"
     ]
    }
   ],
   "source": [
    "#buy max amount of units permitted at certain price\n",
    "bc.buy_instrument(bar = 0, amount = abs(max_amount))"
   ]
  },
  {
   "cell_type": "code",
   "execution_count": 467,
   "id": "c9ee43d0",
   "metadata": {},
   "outputs": [
    {
     "data": {
      "text/plain": [
       "0.0"
      ]
     },
     "execution_count": 467,
     "metadata": {},
     "output_type": "execute_result"
    }
   ],
   "source": [
    "#must be 0, because you spent all your money buying units\n",
    "bc.available_balance"
   ]
  },
  {
   "cell_type": "code",
   "execution_count": 468,
   "id": "cbe8cf89",
   "metadata": {},
   "outputs": [
    {
     "data": {
      "text/plain": [
       "[SHORT]"
      ]
     },
     "execution_count": 468,
     "metadata": {},
     "output_type": "execute_result"
    }
   ],
   "source": [
    "#opened positions are saved on this array\n",
    "bc.open_orders"
   ]
  },
  {
   "cell_type": "code",
   "execution_count": 469,
   "id": "181785c1",
   "metadata": {},
   "outputs": [
    {
     "data": {
      "text/plain": [
       "199840.12789768187"
      ]
     },
     "execution_count": 469,
     "metadata": {},
     "output_type": "execute_result"
    }
   ],
   "source": [
    "#you can get again the previous bought amount multiplying your units by buy price\n",
    "# if fees are true, it will be a little less because opening position fee was paid\n",
    "order = bc.open_orders[0]\n",
    "amount = order.units*bc.data.price[0]\n",
    "amount"
   ]
  },
  {
   "cell_type": "code",
   "execution_count": 470,
   "id": "50530bed",
   "metadata": {},
   "outputs": [
    {
     "data": {
      "text/plain": [
       "99840.12789768186"
      ]
     },
     "execution_count": 470,
     "metadata": {},
     "output_type": "execute_result"
    }
   ],
   "source": [
    "#nav at time of buy, it must be the same as before buying\n",
    "#if fee is True it will be less than cell above, because this takes into account the closing position fee\n",
    "bc.get_nav(0)"
   ]
  },
  {
   "cell_type": "code",
   "execution_count": 471,
   "id": "84bd2f78",
   "metadata": {},
   "outputs": [
    {
     "data": {
      "text/plain": [
       "199800.15987210232"
      ]
     },
     "execution_count": 471,
     "metadata": {},
     "output_type": "execute_result"
    }
   ],
   "source": [
    "#nav if we sell at the next period, it must consider leverage profits (and fees)\n",
    "bc.get_nav(1)"
   ]
  },
  {
   "cell_type": "code",
   "execution_count": 472,
   "id": "f6468fc5",
   "metadata": {},
   "outputs": [
    {
     "data": {
      "text/plain": [
       "99920.06394884094"
      ]
     },
     "execution_count": 472,
     "metadata": {},
     "output_type": "execute_result"
    }
   ],
   "source": [
    "#to sell all the units bought using \"amount\" you need to consider this: \n",
    "#The amount that you have changes when price moves, because you have units of the instrument!!!!!\n",
    "#the current amount to sell is the total of units you have multiplied by the current price.\n",
    "available_amount = bc.open_orders[0].units*bc.data.price[1]\n",
    "available_amount"
   ]
  },
  {
   "cell_type": "code",
   "execution_count": 473,
   "id": "ac654166",
   "metadata": {},
   "outputs": [
    {
     "name": "stdout",
     "output_type": "stream",
     "text": [
      "2022-07-12 |  Buying (closing) 10.128847119468109 for 9864.9\n"
     ]
    }
   ],
   "source": [
    "#MUST VERIFY THAT SELLS ALL BOUGHT UNITS\n",
    "bc.sell_instrument(1, amount = abs(available_amount) )"
   ]
  },
  {
   "cell_type": "code",
   "execution_count": 474,
   "id": "0666e4a4",
   "metadata": {},
   "outputs": [
    {
     "data": {
      "text/plain": [
       "199800.15987210232"
      ]
     },
     "execution_count": 474,
     "metadata": {},
     "output_type": "execute_result"
    }
   ],
   "source": [
    "#must be same as predicted in bc.get_nav(1)\n",
    "bc.available_balance"
   ]
  },
  {
   "cell_type": "code",
   "execution_count": 475,
   "id": "d9df643e",
   "metadata": {},
   "outputs": [
    {
     "data": {
      "text/plain": [
       "199800.15987210232"
      ]
     },
     "execution_count": 475,
     "metadata": {},
     "output_type": "execute_result"
    }
   ],
   "source": [
    "#must be same as bc.available_balance (2 cells above) because now you dont have open positions\n",
    "bc.get_nav(1)"
   ]
  },
  {
   "cell_type": "code",
   "execution_count": 476,
   "id": "a4180677",
   "metadata": {},
   "outputs": [
    {
     "data": {
      "text/plain": [
       "[]"
      ]
     },
     "execution_count": 476,
     "metadata": {},
     "output_type": "execute_result"
    }
   ],
   "source": [
    "#must have now no open orders\n",
    "bc.open_orders"
   ]
  },
  {
   "cell_type": "code",
   "execution_count": 477,
   "id": "9d342949",
   "metadata": {},
   "outputs": [
    {
     "data": {
      "text/plain": [
       "[SHORT]"
      ]
     },
     "execution_count": 477,
     "metadata": {},
     "output_type": "execute_result"
    }
   ],
   "source": [
    "#closed orders are saved on this array\n",
    "bc.closed_orders"
   ]
  },
  {
   "cell_type": "code",
   "execution_count": 478,
   "id": "4f96597a",
   "metadata": {},
   "outputs": [
    {
     "data": {
      "text/plain": [
       "79.93605115907275"
      ]
     },
     "execution_count": 478,
     "metadata": {},
     "output_type": "execute_result"
    }
   ],
   "source": [
    "#you can see the opening paid fee of the order\n",
    "bc.closed_orders[0].opening_fee_as_amount"
   ]
  },
  {
   "cell_type": "code",
   "execution_count": 479,
   "id": "8ef0c64f",
   "metadata": {},
   "outputs": [
    {
     "data": {
      "text/plain": [
       "39.96802557953638"
      ]
     },
     "execution_count": 479,
     "metadata": {},
     "output_type": "execute_result"
    }
   ],
   "source": [
    "#you can see the closing paid fee of the order\n",
    "bc.closed_orders[0].closing_fee_as_amount"
   ]
  },
  {
   "cell_type": "code",
   "execution_count": null,
   "id": "54dc507d",
   "metadata": {},
   "outputs": [],
   "source": []
  }
 ],
 "metadata": {
  "kernelspec": {
   "display_name": "Python 3 (ipykernel)",
   "language": "python",
   "name": "python3"
  },
  "language_info": {
   "codemirror_mode": {
    "name": "ipython",
    "version": 3
   },
   "file_extension": ".py",
   "mimetype": "text/x-python",
   "name": "python",
   "nbconvert_exporter": "python",
   "pygments_lexer": "ipython3",
   "version": "3.9.12"
  }
 },
 "nbformat": 4,
 "nbformat_minor": 5
}
