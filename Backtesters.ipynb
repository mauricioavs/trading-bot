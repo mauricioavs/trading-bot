{
 "cells": [
  {
   "cell_type": "markdown",
   "id": "a41e36ca",
   "metadata": {},
   "source": [
    "# Iterative Backtesting\n",
    "\n",
    "This implementation helps testing strategies with binance"
   ]
  },
  {
   "cell_type": "code",
   "execution_count": 2,
   "id": "9f01b691",
   "metadata": {},
   "outputs": [],
   "source": [
    "api_key = \"6ce63f3406fd8ebbff01054a66c25fe3c851c45932088c8ca3131a7005188462\"\n",
    "secret_key = \"aa3ea32929252467fa5ffeac5818c95beabfb5dba691ef445e7eaa31ea0d15f6\""
   ]
  },
  {
   "cell_type": "code",
   "execution_count": null,
   "id": "614ace4f",
   "metadata": {},
   "outputs": [],
   "source": []
  }
 ],
 "metadata": {
  "kernelspec": {
   "display_name": "Python 3 (ipykernel)",
   "language": "python",
   "name": "python3"
  },
  "language_info": {
   "codemirror_mode": {
    "name": "ipython",
    "version": 3
   },
   "file_extension": ".py",
   "mimetype": "text/x-python",
   "name": "python",
   "nbconvert_exporter": "python",
   "pygments_lexer": "ipython3",
   "version": "3.9.12"
  }
 },
 "nbformat": 4,
 "nbformat_minor": 5
}
