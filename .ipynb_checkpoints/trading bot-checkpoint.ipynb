{
 "cells": [
  {
   "cell_type": "markdown",
   "id": "ee94aecb",
   "metadata": {},
   "source": [
    "# Credentials"
   ]
  },
  {
   "cell_type": "markdown",
   "id": "985dabbc",
   "metadata": {},
   "source": [
    "__Put Testnet or Prod credentials here__:\n",
    "(Testnet here: https://testnet.binancefuture.com/en/futures/BTCUSDT)\n",
    "\n",
    "Testnet resets each day, but your credentials wont change."
   ]
  },
  {
   "cell_type": "code",
   "execution_count": 4,
   "id": "a47694df",
   "metadata": {},
   "outputs": [],
   "source": [
    "api_key = \"6ce63f3406fd8ebbff01054a66c25fe3c851c45932088c8ca3131a7005188462\"\n",
    "secret_key = \"aa3ea32929252467fa5ffeac5818c95beabfb5dba691ef445e7eaa31ea0d15f6\""
   ]
  },
  {
   "cell_type": "markdown",
   "id": "85904240",
   "metadata": {},
   "source": [
    "# Python Api Wrapper"
   ]
  },
  {
   "cell_type": "markdown",
   "id": "9efef379",
   "metadata": {},
   "source": [
    "It is important to install python wrappers of binance API (one is not made by Binance, use at your own risk), just run on terminal:\n",
    "\n",
    "__pip install python-binance__\n",
    "\n",
    "__pip install binance-futures-connector__\n",
    "\n",
    "Currently unofficial wrapper has problems retrieving real-time prices (problem with websockets), so we use the official Api wrapper of Binance to this task.\n",
    "\n",
    "Useful links:\n",
    "\n",
    "__Binance Official Api Docs__: https://binance-docs.github.io/apidocs/futures/en/#account-trades-endpoints\n",
    "\n",
    "__Unofficial Python Api Wrapper__: https://python-binance.readthedocs.io/en/latest/overview.html\n",
    "\n",
    "__Official Binance Api Wrapper__: https://github.com/binance/binance-futures-connector-python \n",
    "\n",
    "Api Wrapper sometimes its not specific on arguments for functions, so it´s useful to check that args on official Api docs"
   ]
  },
  {
   "cell_type": "markdown",
   "id": "1c49586a",
   "metadata": {},
   "source": [
    "__This is the code for live streaming that is going to be replaced with official api__"
   ]
  },
  {
   "cell_type": "code",
   "execution_count": 5,
   "id": "ad78fe8b",
   "metadata": {},
   "outputs": [
    {
     "data": {
      "text/plain": [
       "'btcusdt_perpetual@continuousKline_1m'"
      ]
     },
     "execution_count": 5,
     "metadata": {},
     "output_type": "execute_result"
    },
    {
     "name": "stderr",
     "output_type": "stream",
     "text": [
      "CANCEL read_loop\n",
      "Task exception was never retrieved\n",
      "future: <Task finished name='Task-8' coro=<ThreadedApiManager.start_listener() done, defined at /home/mauricio/anaconda3/lib/python3.9/site-packages/binance/threaded_stream.py:42> exception=RuntimeError(\"Task <Task pending name='Task-14' coro=<Queue.get() running at /home/mauricio/anaconda3/lib/python3.9/asyncio/queues.py:166> cb=[_release_waiter(<Future pendi...112a0c370>()]>)() at /home/mauricio/anaconda3/lib/python3.9/asyncio/tasks.py:416]> got Future <Future pending> attached to a different loop\")>\n",
      "Traceback (most recent call last):\n",
      "  File \"/home/mauricio/anaconda3/lib/python3.9/site-packages/binance/threaded_stream.py\", line 46, in start_listener\n",
      "    msg = await asyncio.wait_for(s.recv(), 3)\n",
      "  File \"/home/mauricio/anaconda3/lib/python3.9/asyncio/tasks.py\", line 479, in wait_for\n",
      "    return fut.result()\n",
      "  File \"/home/mauricio/anaconda3/lib/python3.9/site-packages/binance/streams.py\", line 197, in recv\n",
      "    res = await asyncio.wait_for(self._queue.get(), timeout=self.TIMEOUT)\n",
      "  File \"/home/mauricio/anaconda3/lib/python3.9/asyncio/tasks.py\", line 479, in wait_for\n",
      "    return fut.result()\n",
      "  File \"/home/mauricio/anaconda3/lib/python3.9/asyncio/queues.py\", line 166, in get\n",
      "    await getter\n",
      "RuntimeError: Task <Task pending name='Task-14' coro=<Queue.get() running at /home/mauricio/anaconda3/lib/python3.9/asyncio/queues.py:166> cb=[_release_waiter(<Future pendi...112a0c370>()]>)() at /home/mauricio/anaconda3/lib/python3.9/asyncio/tasks.py:416]> got Future <Future pending> attached to a different loop\n"
     ]
    }
   ],
   "source": [
    "from binance import ThreadedWebsocketManager\n",
    "import time\n",
    "twm = ThreadedWebsocketManager(testnet = True)\n",
    "twm.start()\n",
    "twm.start_kline_futures_socket(callback = stream_candles, symbol = \"BTCUSDT\", interval = \"1m\")\n",
    "time.sleep(10)\n",
    "twm.stop()"
   ]
  },
  {
   "cell_type": "markdown",
   "id": "db9e4119",
   "metadata": {},
   "source": [
    "__Useful code for streaming__"
   ]
  },
  {
   "cell_type": "code",
   "execution_count": 1,
   "id": "72c318ae",
   "metadata": {},
   "outputs": [
    {
     "name": "stdout",
     "output_type": "stream",
     "text": [
      "{'id': 12, 'result': None}\n",
      "{'e': 'kline', 'E': 1660195857694, 's': 'BTCUSD_PERP', 'k': {'t': 1660195800000, 'T': 1660195859999, 's': 'BTCUSD_PERP', 'i': '1m', 'f': 503625452, 'L': 503625859, 'o': '24543.9', 'c': '24551.8', 'h': '24551.9', 'l': '24541.2', 'v': '27159', 'n': 408, 'x': False, 'q': '110.64557737', 'V': '16652', 'Q': '67.84340992', 'B': '0'}}\n",
      "{'e': 'kline', 'E': 1660195858380, 's': 'BTCUSD_PERP', 'k': {'t': 1660195800000, 'T': 1660195859999, 's': 'BTCUSD_PERP', 'i': '1m', 'f': 503625452, 'L': 503625860, 'o': '24543.9', 'c': '24551.9', 'h': '24551.9', 'l': '24541.2', 'v': '27160', 'n': 409, 'x': False, 'q': '110.64965038', 'V': '16653', 'Q': '67.84748292', 'B': '0'}}\n",
      "{'e': 'kline', 'E': 1660195858814, 's': 'BTCUSD_PERP', 'k': {'t': 1660195800000, 'T': 1660195859999, 's': 'BTCUSD_PERP', 'i': '1m', 'f': 503625452, 'L': 503625861, 'o': '24543.9', 'c': '24551.9', 'h': '24551.9', 'l': '24541.2', 'v': '27282', 'n': 410, 'x': False, 'q': '111.14655693', 'V': '16775', 'Q': '68.34438948', 'B': '0'}}\n",
      "{'e': 'kline', 'E': 1660195859070, 's': 'BTCUSD_PERP', 'k': {'t': 1660195800000, 'T': 1660195859999, 's': 'BTCUSD_PERP', 'i': '1m', 'f': 503625452, 'L': 503625907, 'o': '24543.9', 'c': '24555.9', 'h': '24555.9', 'l': '24541.2', 'v': '29107', 'n': 456, 'x': False, 'q': '118.57963091', 'V': '18595', 'Q': '75.75710175', 'B': '0'}}\n",
      "{'e': 'kline', 'E': 1660195859339, 's': 'BTCUSD_PERP', 'k': {'t': 1660195800000, 'T': 1660195859999, 's': 'BTCUSD_PERP', 'i': '1m', 'f': 503625452, 'L': 503625909, 'o': '24543.9', 'c': '24555.9', 'h': '24555.9', 'l': '24541.2', 'v': '29133', 'n': 458, 'x': False, 'q': '118.68551178', 'V': '18595', 'Q': '75.75710175', 'B': '0'}}\n",
      "{'e': 'kline', 'E': 1660195860035, 's': 'BTCUSD_PERP', 'k': {'t': 1660195800000, 'T': 1660195859999, 's': 'BTCUSD_PERP', 'i': '1m', 'f': 503625452, 'L': 503625909, 'o': '24543.9', 'c': '24555.9', 'h': '24555.9', 'l': '24541.2', 'v': '29133', 'n': 458, 'x': True, 'q': '118.68551178', 'V': '18595', 'Q': '75.75710175', 'B': '0'}}\n",
      "{'e': 'kline', 'E': 1660195863106, 's': 'BTCUSD_PERP', 'k': {'t': 1660195860000, 'T': 1660195919999, 's': 'BTCUSD_PERP', 'i': '1m', 'f': 503625910, 'L': 503625925, 'o': '24556.0', 'c': '24557.9', 'h': '24557.9', 'l': '24556.0', 'v': '409', 'n': 16, 'x': False, 'q': '1.66557468', 'V': '409', 'Q': '1.66557468', 'B': '0'}}\n"
     ]
    },
    {
     "name": "stderr",
     "output_type": "stream",
     "text": [
      "WARNING:root:WebSocket connection closed: connection was closed uncleanly (\"peer dropped the TCP connection without previous WebSocket closing handshake\"), code: 1006, clean: False, reason: connection was closed uncleanly (\"peer dropped the TCP connection without previous WebSocket closing handshake\")\n"
     ]
    }
   ],
   "source": [
    "import time\n",
    "#import logging\n",
    "#from binance.lib.utils import config_logging\n",
    "from binance.websocket.cm_futures.websocket_client import CMFuturesWebsocketClient\n",
    "\n",
    "#config_logging(logging, logging.DEBUG)\n",
    "\n",
    "\n",
    "def message_handler(message):\n",
    "    print(message)\n",
    "\n",
    "\n",
    "my_client = CMFuturesWebsocketClient()\n",
    "my_client.start()\n",
    "\n",
    "my_client.kline(\n",
    "    symbol=\"btcusd_perp\",\n",
    "    id=12,\n",
    "    interval=\"1m\",\n",
    "    callback=message_handler,\n",
    ")\n",
    "\n",
    "time.sleep(10)\n",
    "\n",
    "#logging.debug(\"closing ws connection\")\n",
    "my_client.stop()"
   ]
  },
  {
   "cell_type": "markdown",
   "id": "735ceb81",
   "metadata": {},
   "source": [
    "# Streaming data"
   ]
  },
  {
   "cell_type": "markdown",
   "id": "c9916458",
   "metadata": {},
   "source": [
    "This is a simple class for streaming candles. It adds bars to a dataframe on a specified time.\n",
    "\n",
    "__Important__: You maybe need to restart kernel each time you close a connection."
   ]
  },
  {
   "cell_type": "code",
   "execution_count": 1,
   "id": "528f057b",
   "metadata": {},
   "outputs": [],
   "source": [
    "from binance.client import Client\n",
    "from binance.websocket.cm_futures.websocket_client import CMFuturesWebsocketClient\n",
    "import pandas as pd\n",
    "import numpy as np\n",
    "from datetime import datetime, timedelta\n",
    "import time"
   ]
  },
  {
   "cell_type": "code",
   "execution_count": 2,
   "id": "af155ecc",
   "metadata": {},
   "outputs": [],
   "source": [
    "class FuturesTrader():\n",
    "    def __init__(self, interval = \"1m\"):\n",
    "        self.stream = None\n",
    "        self.data = pd.DataFrame(columns = [\"Date\", \"Open\", \"High\", \"Low\", \"Close\", \"Volume\", \"Complete\"])\n",
    "        self.data[\"Date\"] = pd.to_datetime(self.data.iloc[:,0], unit = \"ms\")\n",
    "        self.data.set_index(\"Date\", inplace = True)\n",
    "        self.interval = interval\n",
    "        \n",
    "    def message_handler(self, message):\n",
    "        if 'result' in message.keys(): #skip first message\n",
    "            return\n",
    "        # extract the required items from msg\n",
    "        event_time = pd.to_datetime(message[\"E\"], unit = \"ms\")\n",
    "        start_time = pd.to_datetime(message[\"k\"][\"t\"], unit = \"ms\")\n",
    "        first   = float(message[\"k\"][\"o\"])\n",
    "        high    = float(message[\"k\"][\"h\"])\n",
    "        low     = float(message[\"k\"][\"l\"])\n",
    "        close   = float(message[\"k\"][\"c\"])\n",
    "        volume  = float(message[\"k\"][\"v\"])\n",
    "        complete=       message[\"k\"][\"x\"]\n",
    "        \n",
    "        # print out\n",
    "        print(\".\", end = \"\", flush = True) \n",
    "    \n",
    "        # feed df (add new bar / update latest bar)\n",
    "        self.data.loc[start_time] = [first, high, low, close, volume, complete]\n",
    "        \n",
    "    def start_streaming(self):\n",
    "        self.stream = CMFuturesWebsocketClient()\n",
    "        self.stream.start()\n",
    "        self.stream.kline(\n",
    "            symbol=\"btcusdt_perp\",\n",
    "            id=1,\n",
    "            interval=self.interval,\n",
    "            callback=self.message_handler,\n",
    "        )\n",
    "        \n",
    "    def stop_streaming(self):\n",
    "        self.stream.stop()"
   ]
  },
  {
   "cell_type": "code",
   "execution_count": 3,
   "id": "e6c0b269",
   "metadata": {},
   "outputs": [
    {
     "name": "stdout",
     "output_type": "stream",
     "text": [
      "1m\n"
     ]
    }
   ],
   "source": [
    "trader = FuturesTrader()"
   ]
  },
  {
   "cell_type": "code",
   "execution_count": 4,
   "id": "50694e70",
   "metadata": {},
   "outputs": [],
   "source": [
    "trader.start_streaming()"
   ]
  },
  {
   "cell_type": "code",
   "execution_count": 5,
   "id": "50392246",
   "metadata": {},
   "outputs": [
    {
     "name": "stderr",
     "output_type": "stream",
     "text": [
      "WARNING:root:WebSocket connection closed: connection was closed uncleanly (\"peer dropped the TCP connection without previous WebSocket closing handshake\"), code: 1006, clean: False, reason: connection was closed uncleanly (\"peer dropped the TCP connection without previous WebSocket closing handshake\")\n"
     ]
    }
   ],
   "source": [
    "trader.stop_streaming()"
   ]
  },
  {
   "cell_type": "code",
   "execution_count": 6,
   "id": "a1b61022",
   "metadata": {},
   "outputs": [
    {
     "data": {
      "text/html": [
       "<div>\n",
       "<style scoped>\n",
       "    .dataframe tbody tr th:only-of-type {\n",
       "        vertical-align: middle;\n",
       "    }\n",
       "\n",
       "    .dataframe tbody tr th {\n",
       "        vertical-align: top;\n",
       "    }\n",
       "\n",
       "    .dataframe thead th {\n",
       "        text-align: right;\n",
       "    }\n",
       "</style>\n",
       "<table border=\"1\" class=\"dataframe\">\n",
       "  <thead>\n",
       "    <tr style=\"text-align: right;\">\n",
       "      <th></th>\n",
       "      <th>Open</th>\n",
       "      <th>High</th>\n",
       "      <th>Low</th>\n",
       "      <th>Close</th>\n",
       "      <th>Volume</th>\n",
       "      <th>Complete</th>\n",
       "    </tr>\n",
       "    <tr>\n",
       "      <th>Date</th>\n",
       "      <th></th>\n",
       "      <th></th>\n",
       "      <th></th>\n",
       "      <th></th>\n",
       "      <th></th>\n",
       "      <th></th>\n",
       "    </tr>\n",
       "  </thead>\n",
       "  <tbody>\n",
       "  </tbody>\n",
       "</table>\n",
       "</div>"
      ],
      "text/plain": [
       "Empty DataFrame\n",
       "Columns: [Open, High, Low, Close, Volume, Complete]\n",
       "Index: []"
      ]
     },
     "execution_count": 6,
     "metadata": {},
     "output_type": "execute_result"
    }
   ],
   "source": [
    "trader.data"
   ]
  },
  {
   "cell_type": "markdown",
   "id": "e20dc8b3",
   "metadata": {},
   "source": [
    "# Retrieving historical data\n",
    "\n",
    "When running the bot trader, we need the latest historical data to process all the needed metrics in real time. This method retrieves the latest __n__ candlesticks data on the required interval.\n",
    "\n",
    "This lines are useful for saving candlesticks info for Neural Networks\n",
    "\n",
    "api info:  https://binance-docs.github.io/apidocs/futures/en/#kline-candlestick-data\n",
    "\n",
    "api wrapper method info: https://python-binance.readthedocs.io/en/latest/market_data.html#id7\n",
    "\n",
    "__Important__: \n",
    "\n",
    "1. The used __function \"futures_historical_klines\" doesn't behave according the restrictions of binance api__, for example, the limit is not 1500 records as binance says. For example, if you want more than 1500 candlesticks, i think it makes more than one request and prepares the result for you...\n",
    "\n",
    "2. Also, notice that __the code shows all the info retrieved by Binance API__, if you want one that is not used, add it to section \"Use this info\".\n",
    "\n",
    "3. Notice that __the last record retrieved has not completed his time period__, so its not accurate info."
   ]
  },
  {
   "cell_type": "code",
   "execution_count": 65,
   "id": "7a23a6d7",
   "metadata": {},
   "outputs": [
    {
     "data": {
      "text/html": [
       "<div>\n",
       "<style scoped>\n",
       "    .dataframe tbody tr th:only-of-type {\n",
       "        vertical-align: middle;\n",
       "    }\n",
       "\n",
       "    .dataframe tbody tr th {\n",
       "        vertical-align: top;\n",
       "    }\n",
       "\n",
       "    .dataframe thead th {\n",
       "        text-align: right;\n",
       "    }\n",
       "</style>\n",
       "<table border=\"1\" class=\"dataframe\">\n",
       "  <thead>\n",
       "    <tr style=\"text-align: right;\">\n",
       "      <th></th>\n",
       "      <th>Open</th>\n",
       "      <th>High</th>\n",
       "      <th>Low</th>\n",
       "      <th>Close</th>\n",
       "      <th>Volume</th>\n",
       "    </tr>\n",
       "    <tr>\n",
       "      <th>Date</th>\n",
       "      <th></th>\n",
       "      <th></th>\n",
       "      <th></th>\n",
       "      <th></th>\n",
       "      <th></th>\n",
       "    </tr>\n",
       "  </thead>\n",
       "  <tbody>\n",
       "    <tr>\n",
       "      <th>2022-08-11 05:18:00</th>\n",
       "      <td>24564.4</td>\n",
       "      <td>24581.6</td>\n",
       "      <td>24561.3</td>\n",
       "      <td>24574.6</td>\n",
       "      <td>89.676</td>\n",
       "    </tr>\n",
       "    <tr>\n",
       "      <th>2022-08-11 05:19:00</th>\n",
       "      <td>24562.0</td>\n",
       "      <td>24580.8</td>\n",
       "      <td>24561.3</td>\n",
       "      <td>24580.3</td>\n",
       "      <td>91.211</td>\n",
       "    </tr>\n",
       "    <tr>\n",
       "      <th>2022-08-11 05:20:00</th>\n",
       "      <td>24580.3</td>\n",
       "      <td>24593.5</td>\n",
       "      <td>24561.3</td>\n",
       "      <td>24561.3</td>\n",
       "      <td>71.991</td>\n",
       "    </tr>\n",
       "    <tr>\n",
       "      <th>2022-08-11 05:21:00</th>\n",
       "      <td>24561.3</td>\n",
       "      <td>24589.7</td>\n",
       "      <td>24561.3</td>\n",
       "      <td>24564.8</td>\n",
       "      <td>57.017</td>\n",
       "    </tr>\n",
       "    <tr>\n",
       "      <th>2022-08-11 05:22:00</th>\n",
       "      <td>24564.8</td>\n",
       "      <td>24577.2</td>\n",
       "      <td>24561.3</td>\n",
       "      <td>24577.2</td>\n",
       "      <td>80.791</td>\n",
       "    </tr>\n",
       "  </tbody>\n",
       "</table>\n",
       "</div>"
      ],
      "text/plain": [
       "                        Open     High      Low    Close  Volume\n",
       "Date                                                           \n",
       "2022-08-11 05:18:00  24564.4  24581.6  24561.3  24574.6  89.676\n",
       "2022-08-11 05:19:00  24562.0  24580.8  24561.3  24580.3  91.211\n",
       "2022-08-11 05:20:00  24580.3  24593.5  24561.3  24561.3  71.991\n",
       "2022-08-11 05:21:00  24561.3  24589.7  24561.3  24564.8  57.017\n",
       "2022-08-11 05:22:00  24564.8  24577.2  24561.3  24577.2  80.791"
      ]
     },
     "execution_count": 65,
     "metadata": {},
     "output_type": "execute_result"
    }
   ],
   "source": [
    "from binance.client import Client\n",
    "import pandas as pd\n",
    "\n",
    "#### VARIABLES ####\n",
    "max_number_of_candles = 5 \n",
    "interval_of_candles = \"1m\"\n",
    "symbol = \"BTCUSDT\"\n",
    "#### Available intervals for candles ####\n",
    "time_to_past = {\n",
    " \"1m\"  : timedelta(minutes=max_number_of_candles),\n",
    " \"3m\"  : timedelta(minutes=max_number_of_candles*3),\n",
    " \"5m\"  : timedelta(minutes=max_number_of_candles*5),\n",
    " \"15m\" : timedelta(minutes=max_number_of_candles*15),\n",
    " \"30m\" : timedelta(minutes=max_number_of_candles*30),\n",
    " \"1h\"  : timedelta(hours=max_number_of_candles),\n",
    " \"2h\"  : timedelta(hours=max_number_of_candles*2),\n",
    " \"4h\"  : timedelta(hours=max_number_of_candles*4),\n",
    " \"6h\"  : timedelta(hours=max_number_of_candles*6),\n",
    " \"8h\"  : timedelta(hours=max_number_of_candles*8),\n",
    " \"12h\" : timedelta(hours=max_number_of_candles*12),\n",
    " \"1d\"  : timedelta(days=max_number_of_candles),\n",
    " \"3d\"  : timedelta(days=max_number_of_candles*3),\n",
    " \"1w\"  : timedelta(days=max_number_of_candles*7),\n",
    " \"1M\"  : timedelta(days=max_number_of_candles*28) #this may give less than the desired candles because each month has different amount of days\n",
    "}\n",
    "#### Request info ####\n",
    "\n",
    "client = Client(api_key = api_key, api_secret = secret_key, tld = \"com\", testnet = True) # Testnet!!!\n",
    "\n",
    "now = datetime.utcnow()\n",
    "past = str(now - time_to_past[interval_of_candles])\n",
    "\n",
    "bars = client.futures_historical_klines(symbol = symbol, \n",
    "                                        interval = interval_of_candles, \n",
    "                                        start_str =past,\n",
    "                                        end_str = None)\n",
    "#### Prepare dataframe ####\n",
    "df = pd.DataFrame(bars)\n",
    "df[\"Date\"] = pd.to_datetime(df.iloc[:,0], unit = \"ms\")\n",
    "#### Info given by Binance ####\n",
    "df.columns = [\"Open Time\", \"Open\", \"High\", \"Low\", \"Close\", \"Volume\",\n",
    "              \"Close Time\", \"Quote Asset Volume\", \"Number of Trades\",\n",
    "              \"Taker Buy Base Asset Volume\", \"Taker Buy Quote Asset Volume\", \"Ignore\", \"Date\"]\n",
    "#### Use this info ####\n",
    "use_columns = [\"Date\", \"Open\", \"High\", \"Low\", \"Close\", \"Volume\"]\n",
    "######################\n",
    "df = df[use_columns].copy()\n",
    "df.set_index(\"Date\", inplace = True)\n",
    "for column in df.columns:\n",
    "    df[column] = pd.to_numeric(df[column], errors = \"coerce\")\n",
    "df"
   ]
  },
  {
   "cell_type": "markdown",
   "id": "c0bd3945",
   "metadata": {},
   "source": [
    "Then we can save the data to prevent requesting too many times from futures api"
   ]
  },
  {
   "cell_type": "code",
   "execution_count": 42,
   "id": "cb04a9dd",
   "metadata": {},
   "outputs": [],
   "source": [
    "df.to_csv(\"out.csv\")"
   ]
  },
  {
   "cell_type": "markdown",
   "id": "f08e13c3",
   "metadata": {},
   "source": [
    "You can load the data running:"
   ]
  },
  {
   "cell_type": "code",
   "execution_count": 63,
   "id": "a23e7fb6",
   "metadata": {},
   "outputs": [
    {
     "data": {
      "text/html": [
       "<div>\n",
       "<style scoped>\n",
       "    .dataframe tbody tr th:only-of-type {\n",
       "        vertical-align: middle;\n",
       "    }\n",
       "\n",
       "    .dataframe tbody tr th {\n",
       "        vertical-align: top;\n",
       "    }\n",
       "\n",
       "    .dataframe thead th {\n",
       "        text-align: right;\n",
       "    }\n",
       "</style>\n",
       "<table border=\"1\" class=\"dataframe\">\n",
       "  <thead>\n",
       "    <tr style=\"text-align: right;\">\n",
       "      <th></th>\n",
       "      <th>Open</th>\n",
       "      <th>High</th>\n",
       "      <th>Low</th>\n",
       "      <th>Close</th>\n",
       "      <th>Volume</th>\n",
       "    </tr>\n",
       "    <tr>\n",
       "      <th>Date</th>\n",
       "      <th></th>\n",
       "      <th></th>\n",
       "      <th></th>\n",
       "      <th></th>\n",
       "      <th></th>\n",
       "    </tr>\n",
       "  </thead>\n",
       "  <tbody>\n",
       "    <tr>\n",
       "      <th>2022-08-04 05:50:00</th>\n",
       "      <td>23780.0</td>\n",
       "      <td>23780.0</td>\n",
       "      <td>23198.0</td>\n",
       "      <td>23198.0</td>\n",
       "      <td>84.921</td>\n",
       "    </tr>\n",
       "    <tr>\n",
       "      <th>2022-08-04 05:51:00</th>\n",
       "      <td>23228.2</td>\n",
       "      <td>23900.0</td>\n",
       "      <td>23198.0</td>\n",
       "      <td>23900.0</td>\n",
       "      <td>84.941</td>\n",
       "    </tr>\n",
       "    <tr>\n",
       "      <th>2022-08-04 05:52:00</th>\n",
       "      <td>23852.2</td>\n",
       "      <td>23898.0</td>\n",
       "      <td>23198.0</td>\n",
       "      <td>23898.0</td>\n",
       "      <td>132.174</td>\n",
       "    </tr>\n",
       "    <tr>\n",
       "      <th>2022-08-04 05:53:00</th>\n",
       "      <td>23898.0</td>\n",
       "      <td>23900.0</td>\n",
       "      <td>23198.0</td>\n",
       "      <td>23228.2</td>\n",
       "      <td>74.257</td>\n",
       "    </tr>\n",
       "    <tr>\n",
       "      <th>2022-08-04 05:54:00</th>\n",
       "      <td>23520.4</td>\n",
       "      <td>23946.0</td>\n",
       "      <td>23198.0</td>\n",
       "      <td>23653.4</td>\n",
       "      <td>83.717</td>\n",
       "    </tr>\n",
       "    <tr>\n",
       "      <th>...</th>\n",
       "      <td>...</td>\n",
       "      <td>...</td>\n",
       "      <td>...</td>\n",
       "      <td>...</td>\n",
       "      <td>...</td>\n",
       "    </tr>\n",
       "    <tr>\n",
       "      <th>2022-08-11 04:26:00</th>\n",
       "      <td>24344.5</td>\n",
       "      <td>24344.5</td>\n",
       "      <td>24200.0</td>\n",
       "      <td>24317.6</td>\n",
       "      <td>75.895</td>\n",
       "    </tr>\n",
       "    <tr>\n",
       "      <th>2022-08-11 04:27:00</th>\n",
       "      <td>24312.2</td>\n",
       "      <td>24317.6</td>\n",
       "      <td>24150.0</td>\n",
       "      <td>24308.0</td>\n",
       "      <td>99.008</td>\n",
       "    </tr>\n",
       "    <tr>\n",
       "      <th>2022-08-11 04:28:00</th>\n",
       "      <td>24310.1</td>\n",
       "      <td>24313.6</td>\n",
       "      <td>24305.6</td>\n",
       "      <td>24311.0</td>\n",
       "      <td>21.804</td>\n",
       "    </tr>\n",
       "    <tr>\n",
       "      <th>2022-08-11 04:29:00</th>\n",
       "      <td>24305.6</td>\n",
       "      <td>24311.0</td>\n",
       "      <td>24305.6</td>\n",
       "      <td>24305.6</td>\n",
       "      <td>168.102</td>\n",
       "    </tr>\n",
       "    <tr>\n",
       "      <th>2022-08-11 04:30:00</th>\n",
       "      <td>24305.6</td>\n",
       "      <td>24305.6</td>\n",
       "      <td>24296.9</td>\n",
       "      <td>24301.4</td>\n",
       "      <td>25.503</td>\n",
       "    </tr>\n",
       "  </tbody>\n",
       "</table>\n",
       "<p>10001 rows × 5 columns</p>\n",
       "</div>"
      ],
      "text/plain": [
       "                        Open     High      Low    Close   Volume\n",
       "Date                                                            \n",
       "2022-08-04 05:50:00  23780.0  23780.0  23198.0  23198.0   84.921\n",
       "2022-08-04 05:51:00  23228.2  23900.0  23198.0  23900.0   84.941\n",
       "2022-08-04 05:52:00  23852.2  23898.0  23198.0  23898.0  132.174\n",
       "2022-08-04 05:53:00  23898.0  23900.0  23198.0  23228.2   74.257\n",
       "2022-08-04 05:54:00  23520.4  23946.0  23198.0  23653.4   83.717\n",
       "...                      ...      ...      ...      ...      ...\n",
       "2022-08-11 04:26:00  24344.5  24344.5  24200.0  24317.6   75.895\n",
       "2022-08-11 04:27:00  24312.2  24317.6  24150.0  24308.0   99.008\n",
       "2022-08-11 04:28:00  24310.1  24313.6  24305.6  24311.0   21.804\n",
       "2022-08-11 04:29:00  24305.6  24311.0  24305.6  24305.6  168.102\n",
       "2022-08-11 04:30:00  24305.6  24305.6  24296.9  24301.4   25.503\n",
       "\n",
       "[10001 rows x 5 columns]"
      ]
     },
     "execution_count": 63,
     "metadata": {},
     "output_type": "execute_result"
    }
   ],
   "source": [
    "loaded = pd.read_csv('out.csv')\n",
    "loaded.set_index(\"Date\", inplace = True)\n",
    "loaded"
   ]
  },
  {
   "cell_type": "code",
   "execution_count": null,
   "id": "5a5fbbf7",
   "metadata": {},
   "outputs": [],
   "source": []
  }
 ],
 "metadata": {
  "kernelspec": {
   "display_name": "Python 3 (ipykernel)",
   "language": "python",
   "name": "python3"
  },
  "language_info": {
   "codemirror_mode": {
    "name": "ipython",
    "version": 3
   },
   "file_extension": ".py",
   "mimetype": "text/x-python",
   "name": "python",
   "nbconvert_exporter": "python",
   "pygments_lexer": "ipython3",
   "version": "3.9.12"
  }
 },
 "nbformat": 4,
 "nbformat_minor": 5
}
