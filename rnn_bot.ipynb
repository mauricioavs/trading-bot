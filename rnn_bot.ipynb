{
 "cells": [
  {
   "cell_type": "code",
   "execution_count": 1,
   "metadata": {},
   "outputs": [],
   "source": [
    "import pandas as pd\n",
    "import numpy as np\n",
    "import helpers.functions as helpers"
   ]
  },
  {
   "cell_type": "markdown",
   "metadata": {},
   "source": [
    "### Preprocess data\n",
    "\n",
    "Here we take the data from source (in this case csv), then add/remove columns we need in order for the model to properly work"
   ]
  },
  {
   "cell_type": "code",
   "execution_count": 2,
   "metadata": {},
   "outputs": [
    {
     "name": "stderr",
     "output_type": "stream",
     "text": [
      "/Users/diego/Documents/Projects/trading-bot/helpers/functions.py:30: SettingWithCopyWarning: \n",
      "A value is trying to be set on a copy of a slice from a DataFrame.\n",
      "Try using .loc[row_indexer,col_indexer] = value instead\n",
      "\n",
      "See the caveats in the documentation: https://pandas.pydata.org/pandas-docs/stable/user_guide/indexing.html#returning-a-view-versus-a-copy\n",
      "  dataframe['future'] = dataframe['Close'].shift(-future_n_rows)\n"
     ]
    }
   ],
   "source": [
    "\n",
    "# Load data into memory\n",
    "df = pd.read_csv(\"out.csv\")\n",
    "\n",
    "## preprocess\n",
    "\n",
    "# number of rows in the future\n",
    "# in this case we want to predict 5 minutes into the future\n",
    "FUTURE_PRICE_ROWS=5\n",
    "\n",
    "data = helpers.preprocess_df(df, future_n_rows=FUTURE_PRICE_ROWS)\n",
    "data = data.to_numpy()"
   ]
  },
  {
   "cell_type": "markdown",
   "metadata": {},
   "source": [
    "### Scale data\n",
    "\n",
    "We want 2 things here\n",
    "\n",
    "1. Use the same scale for all data\n",
    "\n",
    "2. Fit data between 0 and 1"
   ]
  },
  {
   "cell_type": "code",
   "execution_count": 3,
   "metadata": {},
   "outputs": [],
   "source": [
    "# TBD"
   ]
  },
  {
   "cell_type": "markdown",
   "metadata": {},
   "source": [
    "### Split and load data\n",
    "\n",
    "Split data and load them into dataloaders.\n",
    "\n",
    "Dataloaders are a great way to abstract and handle data for training process, this way you don't have to work with matrices, but objects (dataloaders)"
   ]
  },
  {
   "cell_type": "code",
   "execution_count": 4,
   "metadata": {},
   "outputs": [
    {
     "name": "stdout",
     "output_type": "stream",
     "text": [
      "(9496, 3)\n",
      "(500, 3)\n"
     ]
    }
   ],
   "source": [
    "# split data\n",
    "train_data, test_data = helpers.split_np_matrix(data, test_percent=5)\n",
    "print(train_data.shape)\n",
    "print(test_data.shape)"
   ]
  },
  {
   "cell_type": "code",
   "execution_count": 5,
   "metadata": {},
   "outputs": [],
   "source": [
    "## Dataloader\n",
    "from helpers.dataloaders import StockDataloader\n",
    "from torch.utils.data import DataLoader\n",
    "train_dataset = StockDataloader(train_data)\n",
    "test_dataset = StockDataloader(test_data)\n",
    "\n",
    "BATCH_SIZE = 8\n",
    "\n",
    "train_dataloader = DataLoader(train_dataset, batch_size=BATCH_SIZE)\n",
    "test_dataloader = DataLoader(train_dataset, batch_size=BATCH_SIZE)"
   ]
  },
  {
   "cell_type": "markdown",
   "metadata": {},
   "source": [
    "### Set up model and training loop\n",
    "\n",
    "Here we instantiate the model. In this case we use a simple RNN model, but we can do any sorts of combinations we want\n",
    "\n",
    "We also set up the training process. This will be the same most of the time, so its easier to just to use a library for this to handle for us\n",
    "\n",
    "Training data is uploaded to [wandb.ai](https://wandb.ai/). In there you can visualize the results"
   ]
  },
  {
   "cell_type": "code",
   "execution_count": 6,
   "metadata": {},
   "outputs": [
    {
     "ename": "ModuleNotFoundError",
     "evalue": "No module named 'models.resursive_nets'",
     "output_type": "error",
     "traceback": [
      "\u001b[0;31m---------------------------------------------------------------------------\u001b[0m",
      "\u001b[0;31mModuleNotFoundError\u001b[0m                       Traceback (most recent call last)",
      "\u001b[1;32m/Users/diego/Documents/Projects/trading-bot/rnn_bot.ipynb Celda 10\u001b[0m in \u001b[0;36m<cell line: 1>\u001b[0;34m()\u001b[0m\n\u001b[0;32m----> <a href='vscode-notebook-cell:/Users/diego/Documents/Projects/trading-bot/rnn_bot.ipynb#ch0000003?line=0'>1</a>\u001b[0m \u001b[39mfrom\u001b[39;00m \u001b[39mmodels\u001b[39;00m\u001b[39m.\u001b[39;00m\u001b[39mresursive_nets\u001b[39;00m \u001b[39mimport\u001b[39;00m StockRNN\n\u001b[1;32m      <a href='vscode-notebook-cell:/Users/diego/Documents/Projects/trading-bot/rnn_bot.ipynb#ch0000003?line=1'>2</a>\u001b[0m model \u001b[39m=\u001b[39m StockRNN(\u001b[39m3\u001b[39m, \u001b[39m10\u001b[39m, \u001b[39m1\u001b[39m)\n",
      "\u001b[0;31mModuleNotFoundError\u001b[0m: No module named 'models.resursive_nets'"
     ]
    }
   ],
   "source": [
    "import models.recursive_nets as model\n",
    "model = model.StockRNN(3, 10, 1)"
   ]
  },
  {
   "cell_type": "markdown",
   "metadata": {},
   "source": [
    "### Save model"
   ]
  },
  {
   "cell_type": "markdown",
   "metadata": {},
   "source": []
  }
 ],
 "metadata": {
  "kernelspec": {
   "display_name": "Python 3.10.0 64-bit ('3.10.0')",
   "language": "python",
   "name": "python3"
  },
  "language_info": {
   "codemirror_mode": {
    "name": "ipython",
    "version": 3
   },
   "file_extension": ".py",
   "mimetype": "text/x-python",
   "name": "python",
   "nbconvert_exporter": "python",
   "pygments_lexer": "ipython3",
   "version": "3.10.0"
  },
  "orig_nbformat": 4,
  "vscode": {
   "interpreter": {
    "hash": "f30f51bc56000a195e6d49ff68ef4ff29ded5771bbf1acb3eb1f71a2a06bdb24"
   }
  }
 },
 "nbformat": 4,
 "nbformat_minor": 2
}
