{
 "cells": [
  {
   "cell_type": "code",
   "execution_count": 1,
   "metadata": {},
   "outputs": [],
   "source": [
    "import pandas as pd\n",
    "import numpy as np\n",
    "import helpers.functions as helpers"
   ]
  },
  {
   "cell_type": "markdown",
   "metadata": {},
   "source": [
    "### Preprocess data\n",
    "\n",
    "Here we take the data from source (in this case csv), then add/remove columns we need in order for the model to properly work"
   ]
  },
  {
   "cell_type": "code",
   "execution_count": 2,
   "metadata": {},
   "outputs": [
    {
     "name": "stderr",
     "output_type": "stream",
     "text": [
      "/Users/diego/Documents/Projects/trading-bot/helpers/functions.py:30: SettingWithCopyWarning: \n",
      "A value is trying to be set on a copy of a slice from a DataFrame.\n",
      "Try using .loc[row_indexer,col_indexer] = value instead\n",
      "\n",
      "See the caveats in the documentation: https://pandas.pydata.org/pandas-docs/stable/user_guide/indexing.html#returning-a-view-versus-a-copy\n",
      "  dataframe['future'] = dataframe['Close'].shift(-future_n_rows)\n"
     ]
    }
   ],
   "source": [
    "\n",
    "# Load data into memory\n",
    "df = pd.read_csv(\"out.csv\")\n",
    "\n",
    "## preprocess\n",
    "\n",
    "# number of rows in the future\n",
    "# in this case we want to predict 5 minutes into the future\n",
    "FUTURE_PRICE_ROWS=5\n",
    "\n",
    "data = helpers.preprocess_df(df, future_n_rows=FUTURE_PRICE_ROWS)\n",
    "data = data.to_numpy()"
   ]
  },
  {
   "cell_type": "markdown",
   "metadata": {},
   "source": [
    "### Scale data\n",
    "\n",
    "We want 2 things here\n",
    "\n",
    "1. Use the same scale for all data\n",
    "\n",
    "2. Fit data between 0 and 1"
   ]
  },
  {
   "cell_type": "code",
   "execution_count": 3,
   "metadata": {},
   "outputs": [],
   "source": [
    "# TBD"
   ]
  },
  {
   "cell_type": "markdown",
   "metadata": {},
   "source": [
    "### Split and load data\n",
    "\n",
    "Split data and load them into dataloaders.\n",
    "\n",
    "Dataloaders are a great way to abstract and handle data for training process, this way you don't have to work with matrices, but objects (dataloaders)"
   ]
  },
  {
   "cell_type": "code",
   "execution_count": 4,
   "metadata": {},
   "outputs": [
    {
     "name": "stdout",
     "output_type": "stream",
     "text": [
      "(9496, 3)\n",
      "(500, 3)\n",
      "[23655.1 23637.9 23644.1 23632.2 23647.8 23653.2 23658.8 23653.7 23467.6\n",
      " 23645.2 23659.3 23668.2 23682.8 23675.5 23673.4 23677.6 23683.4 23699.5\n",
      " 23679.2 23700.  23714.5 23687.9 23740.  23719.8 23739.  23627.5 23547.6\n",
      " 23740.9 23717.3 23713.9 23716.9 23722.2 23730.5 23725.4 23715.1 23751.6\n",
      " 23743.  23715.1 23758.  23758.  23750.  23700.  23700.  23812.5 23801.5\n",
      " 23819.9 23819.9 23800.  23836.9 23400.  23587.6 23450.  23836.8 23787.6\n",
      " 23779.6 23778.2 23781.  23781.  23836.8 23450.  23823.4 23809.7 23820.5\n",
      " 23831.8 23823.2 23819.6 23812.5 23815.  23833.6 23811.6 23836.8 23940.\n",
      " 23940.8 23936.  23936.6 23944.7 23950.  23450.  23707.6 23949.9 23929.2\n",
      " 23867.6 23587.6 23267.6 23625.6 23900.  23949.3 23636.9 23937.9 23867.6\n",
      " 23687.1 23908.6 23933.8 23904.  23932.1 23927.2 23923.7 23945.5 23945.5\n",
      " 23900.  23908.1 23507.6 23921.2 23686.8 23867.6 23963.5 23950.  23960.\n",
      " 23954.4 23962.3 23977.4 23960.8 23924.1 23919.5 23912.7 23923.  23976.2\n",
      " 23977.3 23968.4 23991.4 23971.7 23962.6 23951.5 23787.6 23910.5 23876.8\n",
      " 23899.8 23897.8 23888.7 23747.6 23909.3 23915.5 23921.7 23917.  23707.6\n",
      " 23903.3 23920.  23747.6 23941.1 23941.6 23927.8 23903.4 23894.1 23898.\n",
      " 23887.8 23547.6 23893.5 23897.  23883.6 23883.6 23885.2 23898.  23872.7\n",
      " 23870.8 23871.3 23747.6 23865.1 23856.5 23874.  23871.2 23849.4 23827.5\n",
      " 23817.4 23815.  23844.4 23848.6 23838.  23831.3 23833.3 23858.3 23853.3\n",
      " 23828.  23832.5 23846.5 23578.  23858.8 23892.  23885.7 23888.1 23874.8\n",
      " 23871.9 23889.  23884.6 23923.1 23909.8 23892.3 23902.7 23917.7 23910.5\n",
      " 23915.8 23667.6 23900.  23901.  23352.6 23908.  23898.4 23894.5 23886.6\n",
      " 23880.4 23865.5 23865.5 23890.4 23891.5 23903.4 23894.1 23907.1 23907.1\n",
      " 23896.5 23901.9 23900.  23772.3 23547.6 23900.  23667.6 23890.  23687.5\n",
      " 23639.8 23900.  23747.6 23650.  23707.6 23890.  23880.  23890.  23880.\n",
      " 23500.  23707.6 23712.5 23750.  23559.2 23400.  23400.  23467.6 23707.6\n",
      " 23547.6 23450.  23770.  23441.6 23830.  23507.6 23787.6 23547.6 23627.6\n",
      " 23797.  23747.6 23940.  23907.6 23787.6 23507.6 23467.6 23341.4 23965.9\n",
      " 23899.7 23507.6 23867.6 23575.1 23547.6 23907.6 23938.1 23930.2 23900.\n",
      " 23912.3 23934.6 23832.4 23919.8 23941.4 23707.6 23900.  23587.6 23707.6\n",
      " 23707.6 23628.8 23965.  23965.  23960.  23832.1 23965.  23965.  23707.6\n",
      " 23965.  23513.2 23587.6 23540.  23940.  23747.6 23747.6 23596.  23851.9\n",
      " 23627.6 23939.6 23547.6 23987.6 23987.6 23707.6 23939.6 23987.6 23907.6\n",
      " 23987.6 23987.6 23667.6 23707.6 23759.4 23747.6 23590.  24000.  24000.\n",
      " 23747.6 23636.6 23897.6 23999.9 23917.2 23892.  24000.  23784.4 23999.9\n",
      " 23999.9 23787.6 23803.2 23707.6 24031.8 24140.  24140.  24221.6 24067.6\n",
      " 24400.4 24415.7 24403.8 24381.5 24339.2 24328.2 24313.7 24298.1 24291.9\n",
      " 24296.1 24282.9 24316.  24360.2 24407.3 24221.7 24377.5 24377.5 24227.6\n",
      " 24042.3 24414.7 24422.3 24398.1 24388.5 24383.6 24403.5 24383.6 24415.\n",
      " 24437.1 24419.9 24408.7 24408.7 24354.8 24357.8 24357.3 24370.3 24359.7\n",
      " 24367.  24337.4 24323.9 24339.8 24331.8 24308.8 24274.6 24285.4 24298.\n",
      " 24303.5 24303.5 24333.7 24298.8 24306.5 24320.6 24312.1 24312.9 24321.9\n",
      " 24307.6 24304.2 24291.  24338.5 24342.4 24346.2 24346.2 24167.  24335.8\n",
      " 24337.8 24330.  24343.6 24330.  24297.1 24282.6 24227.8 24227.9 24261.3\n",
      " 24240.4 23916.6 24021.1 23707.6 24115.  24246.5 24246.5 24107.6 23911.7\n",
      " 23620.1 24164.4 23620.1 24246.5 23650.  24246.5 23931.5 24107.6 24227.6\n",
      " 24227.6 24246.5 24027.6 23947.6 24147.6 24150.  23787.6 23867.6 23867.6\n",
      " 24161.8 24227.6 23653.  24173.2 24213.8 23862.8 23994.6 23827.6 24180.\n",
      " 24010.9 23878.4 24085.9 24107.6 24187.6 23657.1 23818.5 23753.6 23907.6\n",
      " 24123.6 23947.6 24101.7 23867.6 23907.6 23827.6 24090.9 24107.6 24227.6\n",
      " 24187.6 24187.6 24027.6 23947.6 23987.6 24187.6 23947.6 23672.  23907.6\n",
      " 23700.  24102.  24187.6 24122.8 23907.6 24187.6 24128.  23827.6 23867.6\n",
      " 23827.6 24330.4 24330.4 24300.  23947.6 24067.6 24300.  24300.  24227.6\n",
      " 24174.1 24107.6 24343.  24353.8 24340.  24340.  24340.  24340.  24100.\n",
      " 24120.  24120.  24187.6 24364.  24360.8 24342.8 24358.9 24357.  24344.5\n",
      " 24317.6 24308.  24311.  24305.6 24301.4]\n"
     ]
    }
   ],
   "source": [
    "# split data\n",
    "train_data, test_data = helpers.split_np_matrix(data, test_percent=5)\n",
    "print(train_data.shape)\n",
    "print(test_data.shape)\n",
    "print(test_data[:, -1])"
   ]
  },
  {
   "cell_type": "code",
   "execution_count": 10,
   "metadata": {},
   "outputs": [
    {
     "data": {
      "text/plain": [
       "(tensor([23632.0000,    87.1690]), tensor(23610.5996))"
      ]
     },
     "execution_count": 10,
     "metadata": {},
     "output_type": "execute_result"
    }
   ],
   "source": [
    "## Dataloader\n",
    "from helpers.dataloaders import StockDataloader\n",
    "train_dataset = StockDataloader(train_data)\n",
    "test_dataset = StockDataloader(test_data)"
   ]
  },
  {
   "cell_type": "markdown",
   "metadata": {},
   "source": [
    "### Set up model and training loop\n",
    "\n",
    "Here we instantiate the model. In this case we use a simple RNN model, but we can do any sorts of combinations we want\n",
    "\n",
    "We also set up the training process. This will be the same most of the time, so its easier to just to use a library for this to handle for us\n",
    "\n",
    "Training data is uploaded to [wandb.ai](https://wandb.ai/). In there you can visualize the results"
   ]
  },
  {
   "cell_type": "code",
   "execution_count": null,
   "metadata": {},
   "outputs": [],
   "source": []
  },
  {
   "cell_type": "markdown",
   "metadata": {},
   "source": [
    "### Save model"
   ]
  },
  {
   "cell_type": "markdown",
   "metadata": {},
   "source": []
  }
 ],
 "metadata": {
  "kernelspec": {
   "display_name": "Python 3.10.0 64-bit ('3.10.0')",
   "language": "python",
   "name": "python3"
  },
  "language_info": {
   "codemirror_mode": {
    "name": "ipython",
    "version": 3
   },
   "file_extension": ".py",
   "mimetype": "text/x-python",
   "name": "python",
   "nbconvert_exporter": "python",
   "pygments_lexer": "ipython3",
   "version": "3.10.0"
  },
  "orig_nbformat": 4,
  "vscode": {
   "interpreter": {
    "hash": "f30f51bc56000a195e6d49ff68ef4ff29ded5771bbf1acb3eb1f71a2a06bdb24"
   }
  }
 },
 "nbformat": 4,
 "nbformat_minor": 2
}
