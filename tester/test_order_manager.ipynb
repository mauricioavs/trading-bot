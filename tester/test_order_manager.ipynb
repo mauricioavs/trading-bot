{
 "cells": [
  {
   "cell_type": "code",
   "execution_count": 1,
   "metadata": {},
   "outputs": [],
   "source": [
    "from orders import OrderManager, Position, OrderType\n",
    "from datetime import datetime"
   ]
  },
  {
   "cell_type": "code",
   "execution_count": 2,
   "metadata": {},
   "outputs": [],
   "source": [
    "om = OrderManager(\n",
    "    verbose=True,\n",
    "    pair=\"BTCUSDT\",\n",
    "    difficulty=\"MEDIUM\",\n",
    "    use_fee=True,\n",
    "    fee_maker=0.0002,\n",
    "    fee_taker=0.0004,\n",
    "    system=\"NETTING\"\n",
    ")"
   ]
  },
  {
   "cell_type": "code",
   "execution_count": 7,
   "metadata": {},
   "outputs": [
    {
     "name": "stdout",
     "output_type": "stream",
     "text": [
      "Cant change leverage to 6, current is 10 with open position\n"
     ]
    },
    {
     "data": {
      "text/plain": [
       "False"
      ]
     },
     "execution_count": 7,
     "metadata": {},
     "output_type": "execute_result"
    }
   ],
   "source": [
    "om.change_leverage(6)"
   ]
  },
  {
   "cell_type": "code",
   "execution_count": 4,
   "metadata": {},
   "outputs": [
    {
     "name": "stdout",
     "output_type": "stream",
     "text": [
      "2024-01-05 14:19:05.232262 | \u001b[92mBuying\u001b[0m 96.2 quote for 10179.5, leverage 5\n"
     ]
    },
    {
     "data": {
      "text/plain": [
       "-19.259380314779502"
      ]
     },
     "execution_count": 4,
     "metadata": {},
     "output_type": "execute_result"
    }
   ],
   "source": [
    "om.execute_order(\n",
    "    creation_date=datetime.now(),\n",
    "    execution_date=datetime.now(),\n",
    "    low=10000,\n",
    "    close=11000,\n",
    "    high=12000,\n",
    "    expected_execution_price=10500,\n",
    "    quote=100,\n",
    "    position=Position.LONG,\n",
    "    order_type=OrderType.LIMIT,\n",
    "    reduce_only = False\n",
    ")"
   ]
  },
  {
   "cell_type": "code",
   "execution_count": 4,
   "metadata": {},
   "outputs": [
    {
     "data": {
      "text/plain": [
       "[LONG]"
      ]
     },
     "execution_count": 4,
     "metadata": {},
     "output_type": "execute_result"
    }
   ],
   "source": [
    "om.open_orders"
   ]
  },
  {
   "cell_type": "code",
   "execution_count": 5,
   "metadata": {},
   "outputs": [
    {
     "data": {
      "text/plain": [
       "10275.548250458482"
      ]
     },
     "execution_count": 5,
     "metadata": {},
     "output_type": "execute_result"
    }
   ],
   "source": [
    "om.netting_liquidation"
   ]
  },
  {
   "cell_type": "code",
   "execution_count": 6,
   "metadata": {},
   "outputs": [
    {
     "name": "stdout",
     "output_type": "stream",
     "text": [
      "2024-01-04 18:14:06.687276 |  Selling (\u001b[96mliquidating\u001b[0m) 97.1 quote for 10275.5\n"
     ]
    }
   ],
   "source": [
    "om.check_liquidation(\n",
    "    low=8000,\n",
    "    high=13000,\n",
    "    date=datetime.now()\n",
    ")"
   ]
  },
  {
   "cell_type": "code",
   "execution_count": 7,
   "metadata": {},
   "outputs": [
    {
     "data": {
      "text/plain": [
       "[]"
      ]
     },
     "execution_count": 7,
     "metadata": {},
     "output_type": "execute_result"
    }
   ],
   "source": [
    "om.open_orders"
   ]
  },
  {
   "cell_type": "code",
   "execution_count": 8,
   "metadata": {},
   "outputs": [
    {
     "data": {
      "text/plain": [
       "[LONG]"
      ]
     },
     "execution_count": 8,
     "metadata": {},
     "output_type": "execute_result"
    }
   ],
   "source": [
    "om.closed_orders"
   ]
  },
  {
   "cell_type": "code",
   "execution_count": 3,
   "metadata": {},
   "outputs": [
    {
     "name": "stdout",
     "output_type": "stream",
     "text": [
      "2024-01-03 19:38:34.534313 | \u001b[92mBuying\u001b[0m 94.4 quote for 10493.8, leverage 100\n"
     ]
    },
    {
     "data": {
      "text/plain": [
       "0.9633339662863057"
      ]
     },
     "execution_count": 3,
     "metadata": {},
     "output_type": "execute_result"
    }
   ],
   "source": [
    "om.submit_order(\n",
    "    creation_date=datetime.now(),\n",
    "    low=10000,\n",
    "    close=11000,\n",
    "    high=12000,\n",
    "    expected_exec_quote=10500,\n",
    "    quote=100,\n",
    "    leverage=100,\n",
    "    position=Position.LONG,\n",
    "    order_type=OrderType.LIMIT\n",
    ")"
   ]
  },
  {
   "cell_type": "code",
   "execution_count": 17,
   "metadata": {},
   "outputs": [
    {
     "data": {
      "text/plain": [
       "[LONG]"
      ]
     },
     "execution_count": 17,
     "metadata": {},
     "output_type": "execute_result"
    }
   ],
   "source": [
    "om.open_orders"
   ]
  },
  {
   "cell_type": "code",
   "execution_count": 14,
   "metadata": {},
   "outputs": [
    {
     "name": "stdout",
     "output_type": "stream",
     "text": [
      "MIN_INVEST:  5.779851000000001\n",
      "quote:  17.339553000000002\n",
      "2024-01-05 11:18:10.505867 | \u001b[92mBuying\u001b[0m 16.8 quote for 7989.2, leverage 2\n"
     ]
    },
    {
     "data": {
      "text/plain": [
       "-8.395668024327218"
      ]
     },
     "execution_count": 14,
     "metadata": {},
     "output_type": "execute_result"
    }
   ],
   "source": [
    "om.submit_order(\n",
    "    creation_date=datetime.now(),\n",
    "    low=7970,\n",
    "    close=8000,\n",
    "    high=8000,\n",
    "    expected_exec_quote=11000,\n",
    "    quote=22.6,\n",
    "    leverage=2,\n",
    "    position=Position.LONG,\n",
    "    order_type=OrderType.MARKET\n",
    ")"
   ]
  },
  {
   "cell_type": "code",
   "execution_count": 13,
   "metadata": {},
   "outputs": [
    {
     "name": "stdout",
     "output_type": "stream",
     "text": [
      "MIN_INVEST:  5.779851000000001\n",
      "quote:  17.339553000000002\n",
      "2024-01-05 11:18:05.666067 |  Selling (\u001b[93mclosing\u001b[0m) 9.3 quote for 8473.1\n"
     ]
    },
    {
     "data": {
      "text/plain": [
       "4.832602119189084"
      ]
     },
     "execution_count": 13,
     "metadata": {},
     "output_type": "execute_result"
    }
   ],
   "source": [
    "om.submit_order(\n",
    "    creation_date=datetime.now(),\n",
    "    low=7970,\n",
    "    close=8300,\n",
    "    high=9000,\n",
    "    expected_exec_quote=11000,\n",
    "    quote=22.5,\n",
    "    leverage=2,\n",
    "    position=Position.SHORT,\n",
    "    order_type=OrderType.MARKET,\n",
    "    reduce_only=True\n",
    ")"
   ]
  },
  {
   "cell_type": "code",
   "execution_count": 7,
   "metadata": {},
   "outputs": [
    {
     "data": {
      "text/plain": [
       "0"
      ]
     },
     "execution_count": 7,
     "metadata": {},
     "output_type": "execute_result"
    }
   ],
   "source": [
    "om.get_invested_notional_value(11189)"
   ]
  },
  {
   "cell_type": "code",
   "execution_count": 3,
   "metadata": {},
   "outputs": [
    {
     "name": "stdout",
     "output_type": "stream",
     "text": [
      "MIN_INVEST:  4.201764\n",
      "quote:  21.00882\n",
      "LONG: [LONG]\n",
      "SHORT: []\n"
     ]
    },
    {
     "data": {
      "text/plain": [
       "-21.00882"
      ]
     },
     "execution_count": 3,
     "metadata": {},
     "output_type": "execute_result"
    }
   ],
   "source": [
    "om.submit_order(\n",
    "    creation_date=datetime.now(),\n",
    "    low=10800,\n",
    "    close=11000,\n",
    "    high=11300,\n",
    "    expected_exec_quote=8000,\n",
    "    quote=22.6,\n",
    "    leverage=2,\n",
    "    position=Position.LONG,\n",
    "    order_type=OrderType.LIMIT\n",
    ")"
   ]
  },
  {
   "cell_type": "code",
   "execution_count": 7,
   "metadata": {},
   "outputs": [
    {
     "data": {
      "text/plain": [
       "[]"
      ]
     },
     "execution_count": 7,
     "metadata": {},
     "output_type": "execute_result"
    }
   ],
   "source": [
    "om.limit_orders"
   ]
  },
  {
   "cell_type": "code",
   "execution_count": 6,
   "metadata": {},
   "outputs": [
    {
     "name": "stdout",
     "output_type": "stream",
     "text": [
      "MIN_INVEST:  4.201764\n",
      "quote:  21.00882\n",
      "2024-01-05 11:16:15.244475 | \u001b[92mBuying\u001b[0m 16.8 quote for 7986.1, leverage 2\n"
     ]
    },
    {
     "data": {
      "text/plain": [
       "12.619856245856088"
      ]
     },
     "execution_count": 6,
     "metadata": {},
     "output_type": "execute_result"
    }
   ],
   "source": [
    "om.check_limit_orders(\n",
    "    date=datetime.now(),\n",
    "    low=7970,\n",
    "    close=8300,\n",
    "    high=9000,\n",
    ")"
   ]
  }
 ],
 "metadata": {
  "kernelspec": {
   "display_name": "bot",
   "language": "python",
   "name": "python3"
  },
  "language_info": {
   "codemirror_mode": {
    "name": "ipython",
    "version": 3
   },
   "file_extension": ".py",
   "mimetype": "text/x-python",
   "name": "python",
   "nbconvert_exporter": "python",
   "pygments_lexer": "ipython3",
   "version": "3.10.7"
  }
 },
 "nbformat": 4,
 "nbformat_minor": 2
}
