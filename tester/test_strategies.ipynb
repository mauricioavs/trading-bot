{
 "cells": [
  {
   "cell_type": "code",
   "execution_count": 6,
   "metadata": {},
   "outputs": [
    {
     "name": "stdout",
     "output_type": "stream",
     "text": [
      "Trying to load info from directory...\n",
      "Trying to download info from API...\n",
      "Data loaded.\n"
     ]
    }
   ],
   "source": [
    "from binance_api import BinanceAPI\n",
    "api = BinanceAPI(\n",
    "    verbose=True,\n",
    "    pair=\"BTCUSDT\",\n",
    "    difficulty=\"MEDIUM\",\n",
    "    use_fee=True,\n",
    "    fee_maker=0.0002,\n",
    "    fee_taker=0.0004,\n",
    "    system=\"NETTING\"\n",
    ")\n",
    "data = api.load_data(\n",
    "    interval_of_candles=\"1h\",\n",
    "    start_date_utc=\"2021-01-01\",\n",
    "    end_date_utc=\"2021-01-15\",\n",
    ")"
   ]
  },
  {
   "cell_type": "code",
   "execution_count": 7,
   "metadata": {},
   "outputs": [],
   "source": [
    "from strategies import RNN"
   ]
  },
  {
   "cell_type": "code",
   "execution_count": 8,
   "metadata": {},
   "outputs": [],
   "source": [
    "rnn = RNN(\n",
    "    data = data,\n",
    "    model_dir = 'strategies/models/simple_current.h5',\n",
    "    scaler_dir = 'strategies/models/scaler.pkl',\n",
    "    scaler_obj_dir = 'strategies/models/scaler_obj.pkl'\n",
    ")"
   ]
  },
  {
   "cell_type": "code",
   "execution_count": 9,
   "metadata": {},
   "outputs": [
    {
     "name": "stdout",
     "output_type": "stream",
     "text": [
      "<class 'keras.src.engine.sequential.Sequential'>\n",
      "<class 'sklearn.preprocessing._data.StandardScaler'>\n"
     ]
    },
    {
     "name": "stderr",
     "output_type": "stream",
     "text": [
      "/home/mauricio/.pyenv/versions/3.10.7/envs/bot/lib/python3.10/site-packages/sklearn/base.py:348: InconsistentVersionWarning: Trying to unpickle estimator StandardScaler from version 1.2.2 when using version 1.3.2. This might lead to breaking code or invalid results. Use at your own risk. For more info please refer to:\n",
      "https://scikit-learn.org/stable/model_persistence.html#security-maintainability-limitations\n",
      "  warnings.warn(\n"
     ]
    }
   ],
   "source": [
    "rnn.load_model()"
   ]
  },
  {
   "cell_type": "code",
   "execution_count": 11,
   "metadata": {},
   "outputs": [
    {
     "name": "stderr",
     "output_type": "stream",
     "text": [
      "/home/mauricio/.pyenv/versions/3.10.7/envs/bot/lib/python3.10/site-packages/sklearn/base.py:458: UserWarning: X has feature names, but StandardScaler was fitted without feature names\n",
      "  warnings.warn(\n"
     ]
    }
   ],
   "source": [
    "rnn.calculate()\n",
    "rnn.calculate_for_last_row()"
   ]
  },
  {
   "cell_type": "code",
   "execution_count": 16,
   "metadata": {},
   "outputs": [
    {
     "data": {
      "text/plain": [
       "<Position.LONG: 1>"
      ]
     },
     "execution_count": 16,
     "metadata": {},
     "output_type": "execute_result"
    }
   ],
   "source": [
    "rnn.strategy(row=335)"
   ]
  }
 ],
 "metadata": {
  "kernelspec": {
   "display_name": "bot",
   "language": "python",
   "name": "python3"
  },
  "language_info": {
   "codemirror_mode": {
    "name": "ipython",
    "version": 3
   },
   "file_extension": ".py",
   "mimetype": "text/x-python",
   "name": "python",
   "nbconvert_exporter": "python",
   "pygments_lexer": "ipython3",
   "version": "3.10.7"
  }
 },
 "nbformat": 4,
 "nbformat_minor": 2
}
