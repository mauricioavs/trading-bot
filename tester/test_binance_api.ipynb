{
 "cells": [
  {
   "cell_type": "code",
   "execution_count": 1,
   "metadata": {},
   "outputs": [],
   "source": [
    "from binance_api import BinanceAPI"
   ]
  },
  {
   "cell_type": "code",
   "execution_count": 2,
   "metadata": {},
   "outputs": [],
   "source": [
    "api = BinanceAPI(\n",
    "    verbose=True,\n",
    "    pair=\"BTCUSDT\",\n",
    "    difficulty=\"MEDIUM\",\n",
    "    use_fee=True,\n",
    "    fee_maker=0.0002,\n",
    "    fee_taker=0.0004,\n",
    "    system=\"NETTING\"\n",
    ")"
   ]
  },
  {
   "cell_type": "code",
   "execution_count": 3,
   "metadata": {},
   "outputs": [
    {
     "name": "stdout",
     "output_type": "stream",
     "text": [
      "Trying to load info from directory...\n",
      "Data loaded.\n"
     ]
    }
   ],
   "source": [
    "data = api.load_data(\n",
    "    interval_of_candles=\"2h\",\n",
    "    start_date_utc=\"2021-01-01\",\n",
    "    end_date_utc=\"2021-01-03\",\n",
    ")"
   ]
  },
  {
   "cell_type": "code",
   "execution_count": 11,
   "metadata": {},
   "outputs": [
    {
     "name": "stdout",
     "output_type": "stream",
     "text": [
      "Trying to load info from directory...\n",
      "Data loaded.\n",
      "---------------------------------------------------------------------------\n",
      "Testing strategy | BTCUSDT\n",
      "---------------------------------------------------------------------------\n",
      "---------------------------------------------------------------------------\n",
      "+++ CLOSING FINAL POSITION +++\n",
      "net performance (%) = 0.0\n",
      "number of positions opened = 0\n",
      "number of liquidated orders = 0\n",
      "number of good orders = 0 (0%)\n",
      "number of bad orders = 0 (0%)\n",
      "Amount spent on fee = 0 (0.0% of initial balance)\n",
      "---------------------------------------------------------------------------\n"
     ]
    },
    {
     "data": {
      "text/plain": [
       "100"
      ]
     },
     "execution_count": 11,
     "metadata": {},
     "output_type": "execute_result"
    }
   ],
   "source": [
    "api.test_strategy(\n",
    "    interval_of_candles=\"2h\",\n",
    "    start_date_utc=\"2021-01-01\",\n",
    "    end_date_utc=\"2021-01-03\",\n",
    "    initial_quote=100,\n",
    "    initial_leverage=1\n",
    ")"
   ]
  },
  {
   "cell_type": "code",
   "execution_count": null,
   "metadata": {},
   "outputs": [],
   "source": [
    "api.plot_data(show_pos=True)"
   ]
  },
  {
   "cell_type": "code",
   "execution_count": 4,
   "metadata": {},
   "outputs": [
    {
     "name": "stdout",
     "output_type": "stream",
     "text": [
      "100.0\n",
      "min_quote:  30.779522386200004\n",
      "JAJA:  100.0\n",
      "mq:  30.779522386200004\n",
      "JEJE:  92.33856715860001\n",
      "Ominquote:  29.33188163352009\n",
      "2021-01-01 02:00:00 | \u001b[92mBuying\u001b[0m 88.0 quote for 29320.2, leverage 1\n"
     ]
    }
   ],
   "source": [
    "api.init_order_manager()\n",
    "api.wallet.balance = 100\n",
    "api.go_long(\n",
    "    bar=1,\n",
    "    quote=100,\n",
    "    wallet_prc=True,\n",
    "    go_neutral_first=True,\n",
    "    order_type=\"MARKET\"\n",
    ")"
   ]
  },
  {
   "cell_type": "code",
   "execution_count": 5,
   "metadata": {},
   "outputs": [
    {
     "data": {
      "text/plain": [
       "12.004355099439735"
      ]
     },
     "execution_count": 5,
     "metadata": {},
     "output_type": "execute_result"
    }
   ],
   "source": [
    "api.wallet.balance"
   ]
  },
  {
   "cell_type": "code",
   "execution_count": 7,
   "metadata": {},
   "outputs": [],
   "source": [
    "api.go_neutral(2)"
   ]
  }
 ],
 "metadata": {
  "kernelspec": {
   "display_name": "bot",
   "language": "python",
   "name": "python3"
  },
  "language_info": {
   "codemirror_mode": {
    "name": "ipython",
    "version": 3
   },
   "file_extension": ".py",
   "mimetype": "text/x-python",
   "name": "python",
   "nbconvert_exporter": "python",
   "pygments_lexer": "ipython3",
   "version": "3.10.7"
  }
 },
 "nbformat": 4,
 "nbformat_minor": 2
}
