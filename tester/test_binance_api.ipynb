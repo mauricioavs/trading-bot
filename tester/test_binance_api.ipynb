{
 "cells": [
  {
   "cell_type": "code",
   "execution_count": 1,
   "metadata": {},
   "outputs": [],
   "source": [
    "from binance_api import BinanceAPI"
   ]
  },
  {
   "cell_type": "code",
   "execution_count": 2,
   "metadata": {},
   "outputs": [],
   "source": [
    "api = BinanceAPI(\n",
    "    verbose=True,\n",
    "    pair=\"BTCUSDT\",\n",
    "    difficulty=\"MEDIUM\",\n",
    "    use_fee=True,\n",
    "    fee_maker=0.0002,\n",
    "    fee_taker=0.0004,\n",
    "    system=\"NETTING\"\n",
    ")"
   ]
  },
  {
   "cell_type": "code",
   "execution_count": 3,
   "metadata": {},
   "outputs": [
    {
     "name": "stdout",
     "output_type": "stream",
     "text": [
      "Trying to load info from directory...\n",
      "Data loaded.\n"
     ]
    }
   ],
   "source": [
    "data = api.load_data(\n",
    "    interval_of_candles=\"2h\",\n",
    "    start_date_utc=\"2021-01-01\",\n",
    "    end_date_utc=\"2021-01-03\",\n",
    ")"
   ]
  },
  {
   "cell_type": "code",
   "execution_count": 11,
   "metadata": {},
   "outputs": [
    {
     "name": "stdout",
     "output_type": "stream",
     "text": [
      "Trying to load info from directory...\n",
      "Data loaded.\n",
      "---------------------------------------------------------------------------\n",
      "Testing strategy | BTCUSDT\n",
      "---------------------------------------------------------------------------\n",
      "---------------------------------------------------------------------------\n",
      "+++ CLOSING FINAL POSITION +++\n",
      "net performance (%) = 0.0\n",
      "number of positions opened = 0\n",
      "number of liquidated orders = 0\n",
      "number of good orders = 0 (0%)\n",
      "number of bad orders = 0 (0%)\n",
      "Amount spent on fee = 0 (0.0% of initial balance)\n",
      "---------------------------------------------------------------------------\n"
     ]
    },
    {
     "data": {
      "text/plain": [
       "100"
      ]
     },
     "execution_count": 11,
     "metadata": {},
     "output_type": "execute_result"
    }
   ],
   "source": [
    "api.test_strategy(\n",
    "    interval_of_candles=\"2h\",\n",
    "    start_date_utc=\"2021-01-01\",\n",
    "    end_date_utc=\"2021-01-03\",\n",
    "    initial_quote=100,\n",
    "    initial_leverage=1\n",
    ")"
   ]
  },
  {
   "cell_type": "code",
   "execution_count": null,
   "metadata": {},
   "outputs": [],
   "source": [
    "api.plot_data(show_pos=True)"
   ]
  },
  {
   "cell_type": "code",
   "execution_count": 14,
   "metadata": {},
   "outputs": [
    {
     "name": "stdout",
     "output_type": "stream",
     "text": [
      "2021-01-01 02:00:00 | \u001b[92mBuying\u001b[0m 88.5 quote for 29500, leverage 1\n"
     ]
    }
   ],
   "source": [
    "api.init_order_manager()\n",
    "api.wallet.balance = 100\n",
    "api.go_long(\n",
    "    bar=1,\n",
    "    quote=100,\n",
    "    wallet_prc=True,\n",
    "    go_neutral_first=True,\n",
    "    order_type=\"LIMIT\",\n",
    "    expected_exec_quote=29500\n",
    ")"
   ]
  },
  {
   "cell_type": "code",
   "execution_count": 11,
   "metadata": {},
   "outputs": [
    {
     "data": {
      "text/html": [
       "<div>\n",
       "<style scoped>\n",
       "    .dataframe tbody tr th:only-of-type {\n",
       "        vertical-align: middle;\n",
       "    }\n",
       "\n",
       "    .dataframe tbody tr th {\n",
       "        vertical-align: top;\n",
       "    }\n",
       "\n",
       "    .dataframe thead th {\n",
       "        text-align: right;\n",
       "    }\n",
       "</style>\n",
       "<table border=\"1\" class=\"dataframe\">\n",
       "  <thead>\n",
       "    <tr style=\"text-align: right;\">\n",
       "      <th></th>\n",
       "      <th>Open</th>\n",
       "      <th>High</th>\n",
       "      <th>Low</th>\n",
       "      <th>Close</th>\n",
       "      <th>Volume</th>\n",
       "      <th>Quote Asset Volume</th>\n",
       "      <th>Number of Trades</th>\n",
       "      <th>Taker Buy Base Asset Volume</th>\n",
       "      <th>Taker Buy Quote Asset Volume</th>\n",
       "    </tr>\n",
       "    <tr>\n",
       "      <th>Date</th>\n",
       "      <th></th>\n",
       "      <th></th>\n",
       "      <th></th>\n",
       "      <th></th>\n",
       "      <th></th>\n",
       "      <th></th>\n",
       "      <th></th>\n",
       "      <th></th>\n",
       "      <th></th>\n",
       "    </tr>\n",
       "  </thead>\n",
       "  <tbody>\n",
       "    <tr>\n",
       "      <th>2021-01-01</th>\n",
       "      <td>28948.19</td>\n",
       "      <td>29546.42</td>\n",
       "      <td>28706.0</td>\n",
       "      <td>29448.4</td>\n",
       "      <td>299107.138</td>\n",
       "      <td>8.709701e+09</td>\n",
       "      <td>13169</td>\n",
       "      <td>166595.865</td>\n",
       "      <td>4.851186e+09</td>\n",
       "    </tr>\n",
       "  </tbody>\n",
       "</table>\n",
       "</div>"
      ],
      "text/plain": [
       "                Open      High      Low    Close      Volume  \\\n",
       "Date                                                           \n",
       "2021-01-01  28948.19  29546.42  28706.0  29448.4  299107.138   \n",
       "\n",
       "            Quote Asset Volume  Number of Trades  Taker Buy Base Asset Volume  \\\n",
       "Date                                                                            \n",
       "2021-01-01        8.709701e+09             13169                   166595.865   \n",
       "\n",
       "            Taker Buy Quote Asset Volume  \n",
       "Date                                      \n",
       "2021-01-01                  4.851186e+09  "
      ]
     },
     "execution_count": 11,
     "metadata": {},
     "output_type": "execute_result"
    }
   ],
   "source": [
    "api.data[:1]"
   ]
  },
  {
   "cell_type": "code",
   "execution_count": 7,
   "metadata": {},
   "outputs": [],
   "source": [
    "api.go_neutral(2)"
   ]
  }
 ],
 "metadata": {
  "kernelspec": {
   "display_name": "bot",
   "language": "python",
   "name": "python3"
  },
  "language_info": {
   "codemirror_mode": {
    "name": "ipython",
    "version": 3
   },
   "file_extension": ".py",
   "mimetype": "text/x-python",
   "name": "python",
   "nbconvert_exporter": "python",
   "pygments_lexer": "ipython3",
   "version": "3.10.7"
  }
 },
 "nbformat": 4,
 "nbformat_minor": 2
}
