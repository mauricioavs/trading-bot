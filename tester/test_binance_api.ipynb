{
 "cells": [
  {
   "cell_type": "code",
   "execution_count": 1,
   "metadata": {},
   "outputs": [],
   "source": [
    "from binance_api import BinanceAPI"
   ]
  },
  {
   "cell_type": "code",
   "execution_count": 2,
   "metadata": {},
   "outputs": [],
   "source": [
    "api = BinanceAPI(\n",
    "    verbose=True,\n",
    "    pair=\"BTCUSDT\",\n",
    "    difficulty=\"MEDIUM\",\n",
    "    use_fee=True,\n",
    "    fee_maker=0.0002,\n",
    "    fee_taker=0.0004,\n",
    "    system=\"NETTING\"\n",
    ")"
   ]
  },
  {
   "cell_type": "code",
   "execution_count": 3,
   "metadata": {},
   "outputs": [
    {
     "name": "stdout",
     "output_type": "stream",
     "text": [
      "Trying to load info from directory...\n",
      "Data loaded.\n"
     ]
    }
   ],
   "source": [
    "start = [\"2023-10-01\", \"2023-08-01\", \"2023-12-10\", \"2023-11-01\", \"2024-02-03 23:47:00\", \"2019-09-02\"]\n",
    "end = [\"2023-11-19\", \"2023-09-01\", \"2024-01-10\", \"2024-01-30\", \"2024-02-04 05:01:00\", \"2022-12-31\"]\n",
    "num = 0\n",
    "data = api.load_data(\n",
    "    interval_of_candles=\"1h\",\n",
    "    start_date_utc=start[num],\n",
    "    end_date_utc=end[num],\n",
    ")\n",
    "# data"
   ]
  },
  {
   "cell_type": "code",
   "execution_count": 4,
   "metadata": {},
   "outputs": [
    {
     "name": "stdout",
     "output_type": "stream",
     "text": [
      "Trying to load info from directory...\n",
      "Data loaded.\n",
      "---------------------------------------------------------------------------\n",
      "Testing strategy | BTCUSDT\n",
      "---------------------------------------------------------------------------\n",
      "---------------------------------------------------------------------------\n",
      "+++ CLOSING FINAL POSITION +++\n",
      "net performance (%) = 0.0\n",
      "number of positions opened = 0\n",
      "number of liquidated orders = 0\n",
      "number of good orders = 0 (0%)\n",
      "number of bad orders = 0 (0%)\n",
      "Amount spent on fee = 0 (0.0% of initial balance)\n",
      "---------------------------------------------------------------------------\n"
     ]
    },
    {
     "data": {
      "text/plain": [
       "100"
      ]
     },
     "execution_count": 4,
     "metadata": {},
     "output_type": "execute_result"
    }
   ],
   "source": [
    "api.test_strategy(\n",
    "    interval_of_candles=\"2h\",\n",
    "    start_date_utc=start[num],\n",
    "    end_date_utc=end[num],\n",
    "    initial_quote=100,\n",
    "    initial_leverage=1\n",
    ")"
   ]
  },
  {
   "cell_type": "code",
   "execution_count": null,
   "metadata": {},
   "outputs": [],
   "source": [
    "api.plot_data(show_pos=True)"
   ]
  },
  {
   "cell_type": "code",
   "execution_count": 13,
   "metadata": {},
   "outputs": [
    {
     "name": "stdout",
     "output_type": "stream",
     "text": [
      "Open                                        26951.0\n",
      "High                                        26986.6\n",
      "Low                                         26939.0\n",
      "Close                                       26976.9\n",
      "Volume                                     2733.691\n",
      "Quote Asset Volume                    73701819.9177\n",
      "Number of Trades                            36206.0\n",
      "Taker Buy Base Asset Volume                1615.927\n",
      "Taker Buy Quote Asset Volume          43571737.8496\n",
      "Date                            2023-10-01 00:00:00\n",
      "Name: 2023-10-01 00:00:00, dtype: object\n"
     ]
    }
   ],
   "source": [
    "num = 0\n",
    "bar = api.data.iloc[num].copy()\n",
    "bar[\"Date\"] = bar.name\n",
    "print(bar)"
   ]
  },
  {
   "cell_type": "code",
   "execution_count": 14,
   "metadata": {},
   "outputs": [],
   "source": [
    "api.init_order_manager()\n",
    "api.wallet.balance = 100\n",
    "api.go_long(\n",
    "    bar=bar,\n",
    "    quote=100,\n",
    "    wallet_prc=True,\n",
    "    go_neutral_first=True,\n",
    "    order_type=\"LIMIT\",\n",
    "    expected_exec_quote=26964\n",
    ")"
   ]
  },
  {
   "cell_type": "code",
   "execution_count": 15,
   "metadata": {},
   "outputs": [
    {
     "name": "stdout",
     "output_type": "stream",
     "text": [
      "Open                                        26976.9\n",
      "High                                        27026.8\n",
      "Low                                         26963.8\n",
      "Close                                       27005.1\n",
      "Volume                                     3161.822\n",
      "Quote Asset Volume                    85364341.5274\n",
      "Number of Trades                            38429.0\n",
      "Taker Buy Base Asset Volume                1787.589\n",
      "Taker Buy Quote Asset Volume          48264820.1573\n",
      "Date                            2023-10-01 01:00:00\n",
      "Name: 2023-10-01 01:00:00, dtype: object\n"
     ]
    }
   ],
   "source": [
    "bar2 = api.data.iloc[num+1].copy()\n",
    "bar2[\"Date\"] = bar2.name\n",
    "print(bar2)"
   ]
  },
  {
   "cell_type": "code",
   "execution_count": 16,
   "metadata": {},
   "outputs": [
    {
     "name": "stdout",
     "output_type": "stream",
     "text": [
      "EXEC PRICE:  26964.0\n",
      "2023-10-01 01:00:00 | \u001b[92mBuying\u001b[0m 80.9 quote for 26964.0, leverage 1\n"
     ]
    }
   ],
   "source": [
    "api.system_checks(bar=bar2)"
   ]
  }
 ],
 "metadata": {
  "kernelspec": {
   "display_name": "bot",
   "language": "python",
   "name": "python3"
  },
  "language_info": {
   "codemirror_mode": {
    "name": "ipython",
    "version": 3
   },
   "file_extension": ".py",
   "mimetype": "text/x-python",
   "name": "python",
   "nbconvert_exporter": "python",
   "pygments_lexer": "ipython3",
   "version": "3.10.7"
  }
 },
 "nbformat": 4,
 "nbformat_minor": 2
}
