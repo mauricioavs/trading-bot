{
 "cells": [
  {
   "cell_type": "code",
   "execution_count": 4,
   "metadata": {},
   "outputs": [],
   "source": [
    "from tester_rnn import Tester"
   ]
  },
  {
   "cell_type": "code",
   "execution_count": 5,
   "metadata": {},
   "outputs": [],
   "source": [
    "tester = Tester(\n",
    "    verbose=True,\n",
    "    pair=\"BTCUSDT\",\n",
    "    difficulty=\"HIGH\",\n",
    "    use_fee=True,\n",
    "    fee_maker=0.0002,\n",
    "    fee_taker=0.0004,\n",
    "    system=\"NETTING\"\n",
    ")"
   ]
  },
  {
   "cell_type": "code",
   "execution_count": 6,
   "metadata": {},
   "outputs": [
    {
     "name": "stdout",
     "output_type": "stream",
     "text": [
      "Trying to load info from directory...\n",
      "Data loaded.\n",
      "---------------------------------------------------------------------------\n",
      "Testing strategy | BTCUSDT\n",
      "---------------------------------------------------------------------------\n"
     ]
    },
    {
     "name": "stderr",
     "output_type": "stream",
     "text": [
      "/home/mauricio/.pyenv/versions/3.10.7/envs/bot/lib/python3.10/site-packages/sklearn/base.py:493: UserWarning: X does not have valid feature names, but StandardScaler was fitted with feature names\n",
      "  warnings.warn(\n"
     ]
    },
    {
     "name": "stdout",
     "output_type": "stream",
     "text": [
      "2023-08-08 02:00:00 | \u001b[91mSelling\u001b[0m 4939.9 quote for 29229.9, leverage 50\n",
      "2023-08-08 02:00:00 |  Buying (\u001b[93mclosing\u001b[0m) 4931.5 quote for 29180.5\n",
      "2023-08-08 14:00:00 | \u001b[91mSelling\u001b[0m 5001.5 quote for 29420.5, leverage 50\n",
      "2023-08-08 14:00:00 |  Buying (\u001b[93mclosing\u001b[0m) 5000.7 quote for 29416.0\n",
      "2023-08-10 05:00:00 | \u001b[91mSelling\u001b[0m 4971.7 quote for 29770.6, leverage 50\n",
      "2023-08-10 05:00:00 |  Buying (\u001b[93mclosing\u001b[0m) 4939.9 quote for 29580.4\n",
      "2023-08-10 09:00:00 | \u001b[92mBuying\u001b[0m 5286.5 quote for 29369.3, leverage 50\n",
      "2023-08-10 09:00:00 |  Selling (\u001b[93mclosing\u001b[0m) 5319.0 quote for 29550.0\n",
      "2023-08-10 11:00:00 | \u001b[92mBuying\u001b[0m 5580.5 quote for 29370.9, leverage 50\n",
      "2023-08-10 11:00:00 |  Selling (\u001b[93mclosing\u001b[0m) 5622.9 quote for 29594.3\n",
      "2023-08-11 03:00:00 | \u001b[92mBuying\u001b[0m 5986.8 quote for 29347.1, leverage 50\n",
      "2023-08-11 03:00:00 |  Selling (\u001b[93mclosing\u001b[0m) 5997.1 quote for 29397.7\n",
      "2023-08-11 05:00:00 | \u001b[92mBuying\u001b[0m 6045.7 quote for 29348.0, leverage 50\n",
      "2023-08-11 05:00:00 |  Selling (\u001b[93mclosing\u001b[0m) 6064.5 quote for 29439.4\n",
      "2023-08-11 12:00:00 | \u001b[91mSelling\u001b[0m 6225.9 quote for 29647.2, leverage 50\n",
      "2023-08-11 12:00:00 |  Buying (\u001b[93mclosing\u001b[0m) 6168.7 quote for 29374.6\n",
      "2023-08-11 15:00:00 | \u001b[91mSelling\u001b[0m 6759.6 quote for 29647.2, leverage 50\n",
      "2023-08-11 15:00:00 |  Buying (\u001b[93mclosing\u001b[0m) 6696.4 quote for 29370.0\n",
      "2023-08-11 17:00:00 | \u001b[92mBuying\u001b[0m 7366.0 quote for 29346.5, leverage 50\n",
      "2023-08-11 17:00:00 |  Selling (\u001b[93mclosing\u001b[0m) 7366.3 quote for 29348.0\n",
      "2023-08-11 19:00:00 | \u001b[91mSelling\u001b[0m 7351.9 quote for 29644.6, leverage 50\n",
      "2023-08-11 19:00:00 |  Buying (\u001b[93mclosing\u001b[0m) 7339.5 quote for 29594.9\n",
      "2023-08-12 08:00:00 | \u001b[91mSelling\u001b[0m 7430.1 quote for 29601.9, leverage 50\n",
      "2023-08-12 08:00:00 |  Buying (\u001b[93mclosing\u001b[0m) 7375.1 quote for 29382.9\n",
      "2023-08-12 17:00:00 | \u001b[91mSelling\u001b[0m 7937.9 quote for 29619.2, leverage 50\n",
      "2023-08-12 17:00:00 |  Buying (\u001b[93mclosing\u001b[0m) 7896.1 quote for 29463.0\n",
      "2023-08-13 05:00:00 | \u001b[91mSelling\u001b[0m 8327.0 quote for 29633.5, leverage 50\n",
      "2023-08-13 05:00:00 |  Buying (\u001b[93mclosing\u001b[0m) 8292.5 quote for 29510.5\n",
      "2023-08-13 07:00:00 | \u001b[91mSelling\u001b[0m 8650.4 quote for 29624.7, leverage 50\n",
      "2023-08-13 07:00:00 |  Buying (\u001b[93mclosing\u001b[0m) 8637.9 quote for 29582.0\n",
      "2023-08-13 12:00:00 | \u001b[91mSelling\u001b[0m 8739.9 quote for 29626.7, leverage 50\n",
      "2023-08-13 12:00:00 |  Buying (\u001b[93mclosing\u001b[0m) 8711.1 quote for 29529.3\n",
      "2023-08-13 14:00:00 | \u001b[92mBuying\u001b[0m 8978.8 quote for 29438.6, leverage 50\n",
      "2023-08-13 14:00:00 |  Selling (\u001b[93mclosing\u001b[0m) 8999.5 quote for 29506.6\n",
      "2023-08-13 18:00:00 | \u001b[91mSelling\u001b[0m 9154.8 quote for 29627.1, leverage 50\n",
      "2023-08-13 18:00:00 |  Buying (\u001b[93mclosing\u001b[0m) 9109.3 quote for 29480.0\n",
      "2023-08-13 20:00:00 | \u001b[92mBuying\u001b[0m 9559.9 quote for 29415.0, leverage 50\n",
      "2023-08-13 20:00:00 |  Selling (\u001b[93mclosing\u001b[0m) 9562.2 quote for 29422.0\n",
      "2023-08-14 07:00:00 | \u001b[91mSelling\u001b[0m 9556.0 quote for 29585.0, leverage 50\n",
      "2023-08-14 07:00:00 |  Buying (\u001b[93mclosing\u001b[0m) 9498.9 quote for 29408.4\n",
      "2023-08-14 10:00:00 | \u001b[91mSelling\u001b[0m 10061.5 quote for 29592.6, leverage 50\n",
      "2023-08-14 10:00:00 |  Buying (\u001b[93mclosing\u001b[0m) 10016.5 quote for 29460.4\n",
      "2023-08-14 14:00:00 | \u001b[91mSelling\u001b[0m 10476.1 quote for 29593.5, leverage 50\n",
      "2023-08-14 14:00:00 |  Buying (\u001b[93mclosing\u001b[0m) 10451.0 quote for 29522.6\n",
      "2023-08-15 11:00:00 | \u001b[91mSelling\u001b[0m 10679.7 quote for 29583.6, leverage 50\n",
      "2023-08-15 11:00:00 |  Buying (\u001b[93mclosing\u001b[0m) 10633.4 quote for 29455.3\n",
      "2023-08-15 21:00:00 | \u001b[91mSelling\u001b[0m 11091.1 quote for 29655.4, leverage 50\n",
      "2023-08-15 21:00:00 |  Buying (\u001b[93mclosing\u001b[0m) 11107.7 quote for 29699.8\n",
      "2023-08-16 04:00:00 | \u001b[92mBuying\u001b[0m 10890.7 quote for 29434.2, leverage 50\n",
      "2023-08-16 04:00:00 |  Selling (\u001b[93mclosing\u001b[0m) 10886.9 quote for 29424.1\n",
      "2023-08-16 07:00:00 | \u001b[92mBuying\u001b[0m 10802.3 quote for 29434.1, leverage 50\n",
      "2023-08-16 07:00:00 |  Selling (\u001b[93mclosing\u001b[0m) 10799.3 quote for 29426.0\n",
      "2023-08-16 11:00:00 | \u001b[92mBuying\u001b[0m 10741.7 quote for 29429.4, leverage 50\n",
      "2023-08-16 11:00:00 |  Selling (\u001b[93mclosing\u001b[0m) 10800.0 quote for 29589.0\n",
      "2023-08-16 15:00:00 | \u001b[92mBuying\u001b[0m 11289.2 quote for 29322.7, leverage 50\n",
      "2023-08-16 15:00:00 |  Selling (\u001b[93mclosing\u001b[0m) 11269.9 quote for 29272.5\n",
      "2023-08-16 20:00:00 | \u001b[92mBuying\u001b[0m 11052.1 quote for 28932.3, leverage 50\n",
      "2023-08-16 20:00:00 |  Selling (\u001b[93mclosing\u001b[0m) 11061.7 quote for 28957.4\n",
      "2023-08-18 20:00:00 | \u001b[91mSelling\u001b[0m 11080.8 quote for 26895.2, leverage 50\n",
      "2023-08-18 20:00:00 |  Buying (\u001b[93mclosing\u001b[0m) 10960.5 quote for 26603.1\n",
      "2023-08-18 22:00:00 | \u001b[91mSelling\u001b[0m 12244.6 quote for 27029.9, leverage 50\n",
      "2023-08-18 22:00:00 |  Buying (\u001b[93mclosing\u001b[0m) 12253.6 quote for 27050.0\n",
      "2023-08-19 02:00:00 | \u001b[91mSelling\u001b[0m 12109.9 quote for 27336.2, leverage 50\n",
      "2023-08-19 02:00:00 |  Buying (\u001b[93mclosing\u001b[0m) 12108.0 quote for 27331.9\n",
      "2023-08-19 10:00:00 | \u001b[92mBuying\u001b[0m 12066.9 quote for 26404.7, leverage 50\n",
      "2023-08-19 10:00:00 |  Selling (\u001b[93mclosing\u001b[0m) 12092.2 quote for 26460.0\n",
      "2023-08-20 18:00:00 | \u001b[92mBuying\u001b[0m 12266.3 quote for 27258.5, leverage 50\n",
      "2023-08-20 18:00:00 |  Selling (\u001b[93mclosing\u001b[0m) 12292.8 quote for 27317.3\n",
      "2023-08-20 23:00:00 | \u001b[92mBuying\u001b[0m 12477.7 quote for 27008.1, leverage 50\n",
      "2023-08-20 23:00:00 |  Selling (\u001b[93mclosing\u001b[0m) 12523.7 quote for 27107.6\n",
      "2023-08-21 02:00:00 | \u001b[92mBuying\u001b[0m 12901.0 quote for 26933.2, leverage 50\n",
      "2023-08-21 02:00:00 |  Selling (\u001b[93mclosing\u001b[0m) 13072.4 quote for 27291.1\n",
      "2023-08-21 04:00:00 | \u001b[92mBuying\u001b[0m 14543.2 quote for 26931.8, leverage 50\n",
      "2023-08-21 04:00:00 |  Selling (\u001b[93mclosing\u001b[0m) 14608.4 quote for 27052.6\n",
      "2023-08-21 08:00:00 | \u001b[92mBuying\u001b[0m 15127.4 quote for 26821.7, leverage 50\n",
      "2023-08-21 08:00:00 |  Selling (\u001b[93mclosing\u001b[0m) 15250.1 quote for 27039.2\n",
      "2023-08-21 10:00:00 | \u001b[92mBuying\u001b[0m 16280.1 quote for 26820.7, leverage 50\n",
      "2023-08-21 10:00:00 |  Selling (\u001b[93mclosing\u001b[0m) 16548.1 quote for 27262.1\n",
      "2023-08-21 13:00:00 | \u001b[91mSelling\u001b[0m 18863.6 quote for 27822.4, leverage 50\n",
      "2023-08-21 13:00:00 |  Buying (\u001b[96mliquidating\u001b[0m) 19164.2 quote for 28265.8\n",
      "2023-08-22 06:00:00 | \u001b[92mBuying\u001b[0m 15087.8 quote for 26894.5, leverage 50\n",
      "2023-08-22 06:00:00 |  Selling (\u001b[93mclosing\u001b[0m) 15090.9 quote for 26900.0\n",
      "2023-08-22 10:00:00 | \u001b[92mBuying\u001b[0m 15057.3 quote for 26888.1, leverage 50\n",
      "2023-08-22 10:00:00 |  Selling (\u001b[93mclosing\u001b[0m) 15040.5 quote for 26858.1\n",
      "2023-08-22 15:00:00 | \u001b[92mBuying\u001b[0m 14837.0 quote for 26878.6, leverage 50\n",
      "2023-08-22 15:00:00 |  Selling (\u001b[93mclosing\u001b[0m) 14813.9 quote for 26836.7\n",
      "2023-08-23 02:00:00 | \u001b[92mBuying\u001b[0m 14566.3 quote for 26484.2, leverage 50\n",
      "2023-08-23 02:00:00 |  Selling (\u001b[93mclosing\u001b[0m) 14800.5 quote for 26910.0\n",
      "2023-08-23 05:00:00 | \u001b[92mBuying\u001b[0m 16803.4 quote for 26420.5, leverage 50\n",
      "2023-08-23 05:00:00 |  Selling (\u001b[93mclosing\u001b[0m) 16968.5 quote for 26680.0\n",
      "2023-08-23 09:00:00 | \u001b[92mBuying\u001b[0m 18376.3 quote for 26364.8, leverage 50\n",
      "2023-08-23 09:00:00 |  Selling (\u001b[93mclosing\u001b[0m) 18514.2 quote for 26562.7\n",
      "2023-08-23 14:00:00 | \u001b[91mSelling\u001b[0m 19678.9 quote for 26883.7, leverage 50\n",
      "2023-08-23 14:00:00 |  Buying (\u001b[93mclosing\u001b[0m) 19653.5 quote for 26849.0\n",
      "2023-08-24 11:00:00 | \u001b[92mBuying\u001b[0m 19840.4 quote for 26418.6, leverage 50\n",
      "2023-08-24 11:00:00 |  Selling (\u001b[93mclosing\u001b[0m) 20044.2 quote for 26690.0\n",
      "2023-08-24 13:00:00 | \u001b[92mBuying\u001b[0m 21793.3 quote for 26416.1, leverage 50\n",
      "2023-08-24 13:00:00 |  Selling (\u001b[93mclosing\u001b[0m) 21788.2 quote for 26410.0\n",
      "2023-08-24 15:00:00 | \u001b[92mBuying\u001b[0m 21658.5 quote for 26412.8, leverage 50\n",
      "2023-08-24 15:00:00 |  Selling (\u001b[93mclosing\u001b[0m) 21843.6 quote for 26638.5\n",
      "2023-08-24 17:00:00 | \u001b[92mBuying\u001b[0m 23400.1 quote for 26411.0, leverage 50\n",
      "2023-08-24 17:00:00 |  Selling (\u001b[93mclosing\u001b[0m) 23475.2 quote for 26495.7\n",
      "2023-08-25 00:00:00 | \u001b[91mSelling\u001b[0m 24042.8 quote for 26684.6, leverage 50\n",
      "2023-08-25 00:00:00 |  Buying (\u001b[93mclosing\u001b[0m) 23778.3 quote for 26391.0\n",
      "2023-08-25 02:00:00 | \u001b[92mBuying\u001b[0m 26564.4 quote for 26301.4, leverage 50\n",
      "2023-08-25 02:00:00 |  Selling (\u001b[93mclosing\u001b[0m) 26854.9 quote for 26589.0\n",
      "2023-08-25 04:00:00 | \u001b[92mBuying\u001b[0m 29352.0 quote for 26301.0, leverage 50\n",
      "2023-08-25 04:00:00 |  Selling (\u001b[93mclosing\u001b[0m) 29320.7 quote for 26273.0\n",
      "2023-08-25 07:00:00 | \u001b[92mBuying\u001b[0m 28927.5 quote for 26297.7, leverage 50\n",
      "2023-08-25 07:00:00 |  Selling (\u001b[93mclosing\u001b[0m) 29138.9 quote for 26489.9\n",
      "2023-08-25 09:00:00 | \u001b[92mBuying\u001b[0m 30899.4 quote for 26297.4, leverage 50\n",
      "2023-08-25 09:00:00 |  Selling (\u001b[93mclosing\u001b[0m) 31220.9 quote for 26571.0\n",
      "2023-08-25 11:00:00 | \u001b[92mBuying\u001b[0m 33949.6 quote for 26297.1, leverage 50\n",
      "2023-08-25 11:00:00 |  Selling (\u001b[93mclosing\u001b[0m) 33921.0 quote for 26275.0\n",
      "2023-08-25 13:00:00 | \u001b[92mBuying\u001b[0m 33550.3 quote for 26231.7, leverage 50\n",
      "2023-08-25 13:00:00 |  Selling (\u001b[93mclosing\u001b[0m) 33831.3 quote for 26451.4\n",
      "2023-08-25 15:00:00 | \u001b[92mBuying\u001b[0m 36198.2 quote for 26192.7, leverage 50\n",
      "2023-08-25 15:00:00 |  Selling (\u001b[93mclosing\u001b[0m) 36346.6 quote for 26300.0\n",
      "2023-08-25 23:00:00 | \u001b[91mSelling\u001b[0m 37513.5 quote for 26567.6, leverage 50\n",
      "2023-08-25 23:00:00 |  Buying (\u001b[93mclosing\u001b[0m) 37554.8 quote for 26596.9\n",
      "2023-08-26 01:00:00 | \u001b[91mSelling\u001b[0m 36963.2 quote for 26573.1, leverage 50\n",
      "2023-08-26 01:00:00 |  Buying (\u001b[93mclosing\u001b[0m) 36608.2 quote for 26317.9\n",
      "2023-08-26 19:00:00 | \u001b[92mBuying\u001b[0m 40316.5 quote for 26213.6, leverage 50\n",
      "2023-08-26 19:00:00 |  Selling (\u001b[93mclosing\u001b[0m) 40357.1 quote for 26240.0\n",
      "2023-08-26 22:00:00 | \u001b[91mSelling\u001b[0m 40555.4 quote for 26506.8, leverage 50\n",
      "2023-08-26 22:00:00 |  Buying (\u001b[93mclosing\u001b[0m) 40214.1 quote for 26283.7\n",
      "2023-08-27 00:00:00 | \u001b[92mBuying\u001b[0m 43776.7 quote for 26213.6, leverage 50\n",
      "2023-08-27 00:00:00 |  Selling (\u001b[93mclosing\u001b[0m) 44351.7 quote for 26557.9\n",
      "2023-08-27 15:00:00 | \u001b[91mSelling\u001b[0m 49316.1 quote for 26556.9, leverage 50\n",
      "2023-08-27 15:00:00 |  Buying (\u001b[93mclosing\u001b[0m) 49341.4 quote for 26570.5\n",
      "2023-08-27 18:00:00 | \u001b[92mBuying\u001b[0m 48850.0 quote for 26207.1, leverage 50\n",
      "2023-08-27 18:00:00 |  Selling (\u001b[93mclosing\u001b[0m) 49207.7 quote for 26399.0\n",
      "2023-08-27 20:00:00 | \u001b[91mSelling\u001b[0m 52217.4 quote for 26560.2, leverage 50\n",
      "2023-08-27 20:00:00 |  Buying (\u001b[93mclosing\u001b[0m) 51558.4 quote for 26225.0\n",
      "2023-08-27 22:00:00 | \u001b[91mSelling\u001b[0m 58532.9 quote for 26557.6, leverage 50\n",
      "2023-08-27 22:00:00 |  Buying (\u001b[93mclosing\u001b[0m) 57923.3 quote for 26281.0\n",
      "2023-08-28 02:00:00 | \u001b[91mSelling\u001b[0m 64342.6 quote for 26554.9, leverage 50\n",
      "2023-08-28 02:00:00 |  Buying (\u001b[93mclosing\u001b[0m) 64367.0 quote for 26565.0\n",
      "2023-08-28 07:00:00 | \u001b[91mSelling\u001b[0m 63823.3 quote for 26559.8, leverage 50\n",
      "2023-08-28 07:00:00 |  Buying (\u001b[93mclosing\u001b[0m) 63843.9 quote for 26568.4\n",
      "2023-08-28 09:00:00 | \u001b[91mSelling\u001b[0m 63372.0 quote for 26559.9, leverage 50\n",
      "2023-08-28 09:00:00 |  Buying (\u001b[93mclosing\u001b[0m) 63348.3 quote for 26550.0\n",
      "2023-08-28 11:00:00 | \u001b[92mBuying\u001b[0m 63355.8 quote for 26245.2, leverage 50\n",
      "2023-08-28 11:00:00 |  Selling (\u001b[93mclosing\u001b[0m) 63686.1 quote for 26382.0\n",
      "2023-08-28 15:00:00 | \u001b[92mBuying\u001b[0m 66380.1 quote for 26247.6, leverage 50\n",
      "2023-08-28 15:00:00 |  Selling (\u001b[93mclosing\u001b[0m) 66401.4 quote for 26256.0\n",
      "2023-08-28 22:00:00 | \u001b[92mBuying\u001b[0m 66332.2 quote for 26239.0, leverage 50\n",
      "2023-08-28 22:00:00 |  Selling (\u001b[93mclosing\u001b[0m) 66940.4 quote for 26479.6\n",
      "2023-08-29 06:00:00 | \u001b[92mBuying\u001b[0m 72076.7 quote for 26124.2, leverage 50\n",
      "2023-08-29 06:00:00 |  Selling (\u001b[93mclosing\u001b[0m) 72219.6 quote for 26176.0\n",
      "2023-08-30 07:00:00 | \u001b[92mBuying\u001b[0m 73219.6 quote for 27259.7, leverage 50\n",
      "2023-08-30 07:00:00 |  Selling (\u001b[93mclosing\u001b[0m) 73446.3 quote for 27344.1\n",
      "2023-08-30 09:00:00 | \u001b[92mBuying\u001b[0m 75181.1 quote for 27259.3, leverage 50\n",
      "2023-08-30 09:00:00 |  Selling (\u001b[93mclosing\u001b[0m) 76024.3 quote for 27565.0\n",
      "2023-08-30 11:00:00 | \u001b[92mBuying\u001b[0m 83211.5 quote for 27237.8, leverage 50\n",
      "2023-08-30 11:00:00 |  Selling (\u001b[93mclosing\u001b[0m) 83526.8 quote for 27341.0\n",
      "2023-08-30 16:00:00 | \u001b[92mBuying\u001b[0m 86011.4 quote for 27090.2, leverage 50\n",
      "2023-08-30 16:00:00 |  Selling (\u001b[93mclosing\u001b[0m) 85547.5 quote for 26944.1\n",
      "2023-08-31 05:00:00 | \u001b[91mSelling\u001b[0m 81077.5 quote for 27465.3, leverage 50\n",
      "2023-08-31 05:00:00 |  Buying (\u001b[93mclosing\u001b[0m) 80821.3 quote for 27378.5\n",
      "2023-08-31 15:00:00 | \u001b[92mBuying\u001b[0m 83281.7 quote for 27074.7, leverage 50\n",
      "2023-08-31 15:00:00 |  Selling (\u001b[93mclosing\u001b[0m) 83251.9 quote for 27065.0\n",
      "2023-08-31 20:00:00 | \u001b[92mBuying\u001b[0m 82682.3 quote for 26357.1, leverage 50\n",
      "2023-08-31 20:00:00 |  Selling (\u001b[93mclosing\u001b[0m) 82722.7 quote for 26370.0\n",
      "---------------------------------------------------------------------------\n",
      "+++ CLOSING FINAL POSITION +++\n",
      "net performance (%) = 1571.65\n",
      "number of positions opened = 82\n",
      "number of liquidated orders = 1\n",
      "number of good orders = 65 (79.3%)\n",
      "number of bad orders = 17 (20.7%)\n",
      "Amount spent on fee = 82 (16.4% of initial balance)\n",
      "---------------------------------------------------------------------------\n"
     ]
    },
    {
     "data": {
      "text/plain": [
       "8358.258559635526"
      ]
     },
     "execution_count": 6,
     "metadata": {},
     "output_type": "execute_result"
    }
   ],
   "source": [
    "start = [\"2023-10-01\", \"2023-08-01\", \"2023-12-10\", \"2023-11-01\"]\n",
    "end = [\"2023-11-19\", \"2023-09-01\", \"2024-01-10\", \"2024-01-30\"]\n",
    "num = 1\n",
    "tester.test_strategy(\n",
    "    interval_of_candles=\"1h\",\n",
    "    start_date_utc=start[num],\n",
    "    end_date_utc=end[num],\n",
    "    initial_quote=500,\n",
    "    initial_leverage=50\n",
    ")"
   ]
  },
  {
   "cell_type": "code",
   "execution_count": 8,
   "metadata": {},
   "outputs": [
    {
     "data": {
      "image/png": "[encoded data removed]",
      "text/plain": [
       "<Figure size 1200x800 with 1 Axes>"
      ]
     },
     "metadata": {},
     "output_type": "display_data"
    }
   ],
   "source": [
    "tester.plot_data(show_pos=False, cols=[\"Hold Strategy\"])"
   ]
  },
  {
   "cell_type": "code",
   "execution_count": 9,
   "metadata": {},
   "outputs": [
    {
     "data": {
      "text/plain": [
       "34497.3"
      ]
     },
     "execution_count": 9,
     "metadata": {},
     "output_type": "execute_result"
    }
   ],
   "source": [
    "tester.data.iloc[1][\"Close\"]"
   ]
  },
  {
   "cell_type": "code",
   "execution_count": 7,
   "metadata": {},
   "outputs": [
    {
     "data": {
      "text/plain": [
       "Timestamp('2023-11-01 00:00:00')"
      ]
     },
     "execution_count": 7,
     "metadata": {},
     "output_type": "execute_result"
    }
   ],
   "source": [
    "tester.data.index[0]"
   ]
  }
 ],
 "metadata": {
  "kernelspec": {
   "display_name": "bot",
   "language": "python",
   "name": "python3"
  },
  "language_info": {
   "codemirror_mode": {
    "name": "ipython",
    "version": 3
   },
   "file_extension": ".py",
   "mimetype": "text/x-python",
   "name": "python",
   "nbconvert_exporter": "python",
   "pygments_lexer": "ipython3",
   "version": "3.10.7"
  }
 },
 "nbformat": 4,
 "nbformat_minor": 2
}
