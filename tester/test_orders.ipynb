{
 "cells": [
  {
   "cell_type": "code",
   "execution_count": 5,
   "metadata": {},
   "outputs": [
    {
     "name": "stdout",
     "output_type": "stream",
     "text": [
      "2023-12-20 12:45:44.960096 |  \u001b[91mSelling\u001b[0m 1987.5 quote for 19485.0, leverage 10\n"
     ]
    },
    {
     "data": {
      "text/plain": [
       "{'valid': True, 'quote_spent': 198.74741082115315}"
      ]
     },
     "execution_count": 5,
     "metadata": {},
     "output_type": "execute_result"
    }
   ],
   "source": [
    "from order import Order, OrderType\n",
    "from datetime import datetime\n",
    "\n",
    "order = Order(\n",
    "    verbose=True,\n",
    "    pair=\"BTCUSDT\",\n",
    "    expected_quote=2000,\n",
    "    expected_entry_price=21700,\n",
    "    position=-1,\n",
    "    leverage=10,\n",
    "    use_fee=False,\n",
    "    fee_maker=0.002,\n",
    "    fee_taker=0.004,\n",
    "    order_type=\"LIMIT\".upper(),\n",
    "    difficulty=\"HIGH\".upper(),\n",
    "    created_at=datetime.now(),\n",
    ")\n",
    "#execute the order \n",
    "#with market orders we use low and high of candles to grab a random number\n",
    "\n",
    "order.open_position(\n",
    "    date = datetime.now(),\n",
    "    low = 18000,\n",
    "    close = 22500,\n",
    "    high = 25000,\n",
    ")"
   ]
  },
  {
   "cell_type": "code",
   "execution_count": 6,
   "metadata": {},
   "outputs": [
    {
     "name": "stdout",
     "output_type": "stream",
     "text": [
      "21348.151697454105\n",
      "0.0\n"
     ]
    }
   ],
   "source": [
    "print(order.liquidation_price)\n",
    "print(order.opening_fee_quote)"
   ]
  },
  {
   "cell_type": "code",
   "execution_count": 7,
   "metadata": {},
   "outputs": [
    {
     "name": "stdout",
     "output_type": "stream",
     "text": [
      "2023-12-20 12:45:48.239541 |  Buying (\u001b[93mclosing\u001b[0m partially) quote 993.7 for 19758.1\n"
     ]
    },
    {
     "data": {
      "text/plain": [
       "85.44993476713493"
      ]
     },
     "execution_count": 7,
     "metadata": {},
     "output_type": "execute_result"
    }
   ],
   "source": [
    "order.close_position(\n",
    "    date=datetime.now(),\n",
    "    low=19000,\n",
    "    close=19500,\n",
    "    high=20000,\n",
    "    expected_close_price=19700,\n",
    "    order_type=OrderType.LIMIT,\n",
    "    notional_quote_close=50,\n",
    "    prc=True\n",
    ")"
   ]
  },
  {
   "cell_type": "code",
   "execution_count": 4,
   "metadata": {},
   "outputs": [
    {
     "name": "stdout",
     "output_type": "stream",
     "text": [
      "True\n",
      "[0.0]\n"
     ]
    }
   ],
   "source": [
    "print(order.is_open)\n",
    "print(order.closing_fee_quotes)"
   ]
  },
  {
   "cell_type": "code",
   "execution_count": 8,
   "metadata": {},
   "outputs": [
    {
     "name": "stdout",
     "output_type": "stream",
     "text": [
      "2023-12-20 12:46:00.552102 |  Buying (\u001b[93mclosing\u001b[0m) quote 993.7 for 19773.1\n"
     ]
    },
    {
     "data": {
      "text/plain": [
       "84.68184201081645"
      ]
     },
     "execution_count": 8,
     "metadata": {},
     "output_type": "execute_result"
    }
   ],
   "source": [
    "order.close_position(\n",
    "    date=datetime.now(),\n",
    "    low=19000,\n",
    "    close=19500,\n",
    "    high=20000,\n",
    "    expected_close_price=19700,\n",
    "    order_type=OrderType.LIMIT,\n",
    "    notional_quote_close=100,\n",
    "    prc=True\n",
    ")"
   ]
  },
  {
   "cell_type": "code",
   "execution_count": 6,
   "metadata": {},
   "outputs": [
    {
     "name": "stdout",
     "output_type": "stream",
     "text": [
      "[-44.61414358506124, -45.90730252771017]\n",
      "[983.2200643062359, 1002.1281424659713]\n",
      "1985.3482067722073\n"
     ]
    }
   ],
   "source": [
    "print(order.PnLs)\n",
    "print(order.closed_size_quotes)\n",
    "print(order.size_quote)"
   ]
  },
  {
   "cell_type": "code",
   "execution_count": 4,
   "metadata": {},
   "outputs": [
    {
     "name": "stdout",
     "output_type": "stream",
     "text": [
      "Order already \u001b[96mliquidated\u001b[0m\n"
     ]
    }
   ],
   "source": [
    "order.liquidate_position(\n",
    "    date=datetime.now(),\n",
    "    liquidation_price=order.liquidation_price\n",
    ")"
   ]
  },
  {
   "cell_type": "code",
   "execution_count": 1,
   "metadata": {},
   "outputs": [
    {
     "name": "stdout",
     "output_type": "stream",
     "text": [
      "\u001b[91mRojo\u001b[0m\n",
      "\u001b[92mVerde claro\u001b[0m\n",
      "\u001b[93mAmarillo\u001b[0m\n",
      "\u001b[94mAzul claro\u001b[0m\n",
      "\u001b[95mPúrpura\u001b[0m\n",
      "\u001b[96mCian\u001b[0m\n",
      "\u001b[97mBlanco\u001b[0m\n",
      "\u001b[93mAmarillo: Posición cerrada\u001b[0m\n"
     ]
    }
   ],
   "source": []
  }
 ],
 "metadata": {
  "kernelspec": {
   "display_name": "bot",
   "language": "python",
   "name": "python3"
  },
  "language_info": {
   "codemirror_mode": {
    "name": "ipython",
    "version": 3
   },
   "file_extension": ".py",
   "mimetype": "text/x-python",
   "name": "python",
   "nbconvert_exporter": "python",
   "pygments_lexer": "ipython3",
   "version": "3.10.7"
  }
 },
 "nbformat": 4,
 "nbformat_minor": 2
}
