{
 "cells": [
  {
   "cell_type": "markdown",
   "id": "ee94aecb",
   "metadata": {},
   "source": [
    "# Credentials"
   ]
  },
  {
   "cell_type": "markdown",
   "id": "985dabbc",
   "metadata": {},
   "source": [
    "__Put Testnet or Prod credentials here__:\n",
    "(Testnet here: https://testnet.binancefuture.com/en/futures/BTCUSDT)\n",
    "\n",
    "Testnet resets each day, but your credentials wont change."
   ]
  },
  {
   "cell_type": "code",
   "execution_count": 1,
   "id": "a47694df",
   "metadata": {},
   "outputs": [],
   "source": [
    "api_key = \"6ce63f3406fd8ebbff01054a66c25fe3c851c45932088c8ca3131a7005188462\"\n",
    "secret_key = \"aa3ea32929252467fa5ffeac5818c95beabfb5dba691ef445e7eaa31ea0d15f6\""
   ]
  },
  {
   "cell_type": "markdown",
   "id": "85904240",
   "metadata": {},
   "source": [
    "# Python Api Wrapper"
   ]
  },
  {
   "cell_type": "markdown",
   "id": "9efef379",
   "metadata": {},
   "source": [
    "It is important to install python wrappers of binance API (one is not made by Binance, use at your own risk), just run on terminal:\n",
    "\n",
    "__pip install python-binance__\n",
    "\n",
    "__pip install binance-futures-connector__\n",
    "\n",
    "Currently unofficial wrapper has problems retrieving real-time prices (problem with websockets), so we use the official Api wrapper of Binance to this task.\n",
    "\n",
    "Useful links:\n",
    "\n",
    "__Binance Official Api Docs__: https://binance-docs.github.io/apidocs/futures/en/#account-trades-endpoints\n",
    "\n",
    "__Unofficial Python Api Wrapper__: https://python-binance.readthedocs.io/en/latest/overview.html\n",
    "\n",
    "__Official Binance Api Wrapper__: https://github.com/binance/binance-futures-connector-python \n",
    "\n",
    "Api Wrapper sometimes its not specific on arguments for functions, so it´s useful to check that args on official Api docs"
   ]
  },
  {
   "cell_type": "markdown",
   "id": "1c49586a",
   "metadata": {},
   "source": [
    "__This is the code for live streaming that is going to be replaced with official api__"
   ]
  },
  {
   "cell_type": "code",
   "execution_count": 5,
   "id": "ad78fe8b",
   "metadata": {},
   "outputs": [
    {
     "data": {
      "text/plain": [
       "'btcusdt_perpetual@continuousKline_1m'"
      ]
     },
     "execution_count": 5,
     "metadata": {},
     "output_type": "execute_result"
    },
    {
     "name": "stderr",
     "output_type": "stream",
     "text": [
      "CANCEL read_loop\n",
      "Task exception was never retrieved\n",
      "future: <Task finished name='Task-8' coro=<ThreadedApiManager.start_listener() done, defined at /home/mauricio/anaconda3/lib/python3.9/site-packages/binance/threaded_stream.py:42> exception=RuntimeError(\"Task <Task pending name='Task-14' coro=<Queue.get() running at /home/mauricio/anaconda3/lib/python3.9/asyncio/queues.py:166> cb=[_release_waiter(<Future pendi...112a0c370>()]>)() at /home/mauricio/anaconda3/lib/python3.9/asyncio/tasks.py:416]> got Future <Future pending> attached to a different loop\")>\n",
      "Traceback (most recent call last):\n",
      "  File \"/home/mauricio/anaconda3/lib/python3.9/site-packages/binance/threaded_stream.py\", line 46, in start_listener\n",
      "    msg = await asyncio.wait_for(s.recv(), 3)\n",
      "  File \"/home/mauricio/anaconda3/lib/python3.9/asyncio/tasks.py\", line 479, in wait_for\n",
      "    return fut.result()\n",
      "  File \"/home/mauricio/anaconda3/lib/python3.9/site-packages/binance/streams.py\", line 197, in recv\n",
      "    res = await asyncio.wait_for(self._queue.get(), timeout=self.TIMEOUT)\n",
      "  File \"/home/mauricio/anaconda3/lib/python3.9/asyncio/tasks.py\", line 479, in wait_for\n",
      "    return fut.result()\n",
      "  File \"/home/mauricio/anaconda3/lib/python3.9/asyncio/queues.py\", line 166, in get\n",
      "    await getter\n",
      "RuntimeError: Task <Task pending name='Task-14' coro=<Queue.get() running at /home/mauricio/anaconda3/lib/python3.9/asyncio/queues.py:166> cb=[_release_waiter(<Future pendi...112a0c370>()]>)() at /home/mauricio/anaconda3/lib/python3.9/asyncio/tasks.py:416]> got Future <Future pending> attached to a different loop\n"
     ]
    }
   ],
   "source": [
    "from binance import ThreadedWebsocketManager\n",
    "import time\n",
    "twm = ThreadedWebsocketManager(testnet = True)\n",
    "twm.start()\n",
    "twm.start_kline_futures_socket(callback = stream_candles, symbol = \"BTCUSDT\", interval = \"1m\")\n",
    "time.sleep(10)\n",
    "twm.stop()"
   ]
  },
  {
   "cell_type": "markdown",
   "id": "db9e4119",
   "metadata": {},
   "source": [
    "__Useful code for streaming__"
   ]
  },
  {
   "cell_type": "code",
   "execution_count": 1,
   "id": "72c318ae",
   "metadata": {},
   "outputs": [
    {
     "name": "stdout",
     "output_type": "stream",
     "text": [
      "{'id': 12, 'result': None}\n",
      "{'e': 'kline', 'E': 1660196910471, 's': 'BTCUSD_PERP', 'k': {'t': 1660196880000, 'T': 1660196939999, 's': 'BTCUSD_PERP', 'i': '1m', 'f': 503634938, 'L': 503635180, 'o': '24634.7', 'c': '24633.5', 'h': '24636.7', 'l': '24627.9', 'v': '11179', 'n': 243, 'x': False, 'q': '45.38384832', 'V': '5765', 'Q': '23.40584244', 'B': '0'}}\n",
      "{'e': 'kline', 'E': 1660196911325, 's': 'BTCUSD_PERP', 'k': {'t': 1660196880000, 'T': 1660196939999, 's': 'BTCUSD_PERP', 'i': '1m', 'f': 503634938, 'L': 503635181, 'o': '24634.7', 'c': '24633.5', 'h': '24636.7', 'l': '24627.9', 'v': '11180', 'n': 244, 'x': False, 'q': '45.38790783', 'V': '5766', 'Q': '23.40990195', 'B': '0'}}\n",
      "{'e': 'kline', 'E': 1660196911577, 's': 'BTCUSD_PERP', 'k': {'t': 1660196880000, 'T': 1660196939999, 's': 'BTCUSD_PERP', 'i': '1m', 'f': 503634938, 'L': 503635240, 'o': '24634.7', 'c': '24637.9', 'h': '24637.9', 'l': '24627.9', 'v': '13463', 'n': 303, 'x': False, 'q': '54.65514345', 'V': '8049', 'Q': '32.67713757', 'B': '0'}}\n",
      "{'e': 'kline', 'E': 1660196918116, 's': 'BTCUSD_PERP', 'k': {'t': 1660196880000, 'T': 1660196939999, 's': 'BTCUSD_PERP', 'i': '1m', 'f': 503634938, 'L': 503635245, 'o': '24634.7', 'c': '24639.8', 'h': '24639.8', 'l': '24627.9', 'v': '13475', 'n': 308, 'x': False, 'q': '54.70384773', 'V': '8061', 'Q': '32.72584185', 'B': '0'}}\n"
     ]
    },
    {
     "name": "stderr",
     "output_type": "stream",
     "text": [
      "WARNING:root:WebSocket connection closed: connection was closed uncleanly (\"peer dropped the TCP connection without previous WebSocket closing handshake\"), code: 1006, clean: False, reason: connection was closed uncleanly (\"peer dropped the TCP connection without previous WebSocket closing handshake\")\n"
     ]
    }
   ],
   "source": [
    "import time\n",
    "#import logging\n",
    "#from binance.lib.utils import config_logging\n",
    "from binance.websocket.cm_futures.websocket_client import CMFuturesWebsocketClient\n",
    "\n",
    "#config_logging(logging, logging.DEBUG)\n",
    "\n",
    "\n",
    "def message_handler(message):\n",
    "    print(message)\n",
    "\n",
    "\n",
    "my_client = CMFuturesWebsocketClient()\n",
    "my_client.start()\n",
    "\n",
    "my_client.kline(\n",
    "    symbol=\"btcusd_perp\",\n",
    "    id=12,\n",
    "    interval=\"1m\",\n",
    "    callback=message_handler,\n",
    ")\n",
    "\n",
    "time.sleep(10)\n",
    "\n",
    "#logging.debug(\"closing ws connection\")\n",
    "my_client.stop()"
   ]
  },
  {
   "cell_type": "markdown",
   "id": "735ceb81",
   "metadata": {},
   "source": [
    "# Streaming data"
   ]
  },
  {
   "cell_type": "markdown",
   "id": "c9916458",
   "metadata": {},
   "source": [
    "This is a simple class for streaming candles. It adds bars to a dataframe on a specified time.\n",
    "\n",
    "__Important__: You maybe need to restart kernel each time you close a connection."
   ]
  },
  {
   "cell_type": "code",
   "execution_count": 1,
   "id": "528f057b",
   "metadata": {},
   "outputs": [],
   "source": [
    "from binance.websocket.cm_futures.websocket_client import CMFuturesWebsocketClient\n",
    "import pandas as pd\n",
    "import numpy as np"
   ]
  },
  {
   "cell_type": "code",
   "execution_count": 2,
   "id": "af155ecc",
   "metadata": {},
   "outputs": [],
   "source": [
    "class FuturesTrader():\n",
    "    def __init__(self, interval = \"1m\", symbol=\"btcusd\"):\n",
    "        self.stream = None\n",
    "        self.data = pd.DataFrame(columns = [\"Date\", \"Open\", \"High\", \"Low\", \"Close\", \"Volume\", \"Complete\"])\n",
    "        self.data[\"Date\"] = pd.to_datetime(self.data.iloc[:,0], unit = \"ms\")\n",
    "        self.data.set_index(\"Date\", inplace = True)\n",
    "        self.interval = interval\n",
    "        self.symbol = symbol\n",
    "        \n",
    "    def message_handler(self, msg):\n",
    "        if 'result' in msg.keys(): #skip first message\n",
    "            return\n",
    "        # extract the required items from msg\n",
    "        event_time = pd.to_datetime(msg[\"E\"], unit = \"ms\")\n",
    "        start_time = pd.to_datetime(msg[\"k\"][\"t\"], unit = \"ms\")\n",
    "        first   = float(msg[\"k\"][\"o\"])\n",
    "        high    = float(msg[\"k\"][\"h\"])\n",
    "        low     = float(msg[\"k\"][\"l\"])\n",
    "        close   = float(msg[\"k\"][\"c\"])\n",
    "        volume  = float(msg[\"k\"][\"v\"])\n",
    "        complete=       msg[\"k\"][\"x\"]\n",
    "        \n",
    "        # print out\n",
    "        print(\".\", end = \"\", flush = True) \n",
    "    \n",
    "        # feed df (add new bar / update latest bar)\n",
    "        self.data.loc[start_time] = [first, high, low, close, volume, complete]\n",
    "        \n",
    "    def start_streaming(self):\n",
    "        self.stream = CMFuturesWebsocketClient()\n",
    "        self.stream.start()\n",
    "        self.stream.kline(\n",
    "            symbol=self.symbol.lower() +\"_perp\",\n",
    "            id=1,\n",
    "            interval=self.interval,\n",
    "            callback=self.message_handler,\n",
    "        )\n",
    "        \n",
    "    def stop_streaming(self):\n",
    "        self.stream.stop()"
   ]
  },
  {
   "cell_type": "code",
   "execution_count": 3,
   "id": "e6c0b269",
   "metadata": {},
   "outputs": [],
   "source": [
    "trader = FuturesTrader(interval=\"1m\", symbol=\"btcusd\")"
   ]
  },
  {
   "cell_type": "code",
   "execution_count": 4,
   "id": "50694e70",
   "metadata": {},
   "outputs": [
    {
     "name": "stdout",
     "output_type": "stream",
     "text": [
      "."
     ]
    }
   ],
   "source": [
    "trader.start_streaming()"
   ]
  },
  {
   "cell_type": "code",
   "execution_count": 5,
   "id": "50392246",
   "metadata": {},
   "outputs": [
    {
     "name": "stderr",
     "output_type": "stream",
     "text": [
      "WARNING:root:WebSocket connection closed: connection was closed uncleanly (\"peer dropped the TCP connection without previous WebSocket closing handshake\"), code: 1006, clean: False, reason: connection was closed uncleanly (\"peer dropped the TCP connection without previous WebSocket closing handshake\")\n"
     ]
    }
   ],
   "source": [
    "trader.stop_streaming()"
   ]
  },
  {
   "cell_type": "code",
   "execution_count": 6,
   "id": "a1b61022",
   "metadata": {},
   "outputs": [
    {
     "data": {
      "text/html": [
       "<div>\n",
       "<style scoped>\n",
       "    .dataframe tbody tr th:only-of-type {\n",
       "        vertical-align: middle;\n",
       "    }\n",
       "\n",
       "    .dataframe tbody tr th {\n",
       "        vertical-align: top;\n",
       "    }\n",
       "\n",
       "    .dataframe thead th {\n",
       "        text-align: right;\n",
       "    }\n",
       "</style>\n",
       "<table border=\"1\" class=\"dataframe\">\n",
       "  <thead>\n",
       "    <tr style=\"text-align: right;\">\n",
       "      <th></th>\n",
       "      <th>Open</th>\n",
       "      <th>High</th>\n",
       "      <th>Low</th>\n",
       "      <th>Close</th>\n",
       "      <th>Volume</th>\n",
       "      <th>Complete</th>\n",
       "    </tr>\n",
       "    <tr>\n",
       "      <th>Date</th>\n",
       "      <th></th>\n",
       "      <th></th>\n",
       "      <th></th>\n",
       "      <th></th>\n",
       "      <th></th>\n",
       "      <th></th>\n",
       "    </tr>\n",
       "  </thead>\n",
       "  <tbody>\n",
       "    <tr>\n",
       "      <th>2022-08-11 21:59:00</th>\n",
       "      <td>24183.7</td>\n",
       "      <td>24183.7</td>\n",
       "      <td>24183.7</td>\n",
       "      <td>24183.7</td>\n",
       "      <td>818.0</td>\n",
       "      <td>False</td>\n",
       "    </tr>\n",
       "  </tbody>\n",
       "</table>\n",
       "</div>"
      ],
      "text/plain": [
       "                        Open     High      Low    Close  Volume  Complete\n",
       "Date                                                                     \n",
       "2022-08-11 21:59:00  24183.7  24183.7  24183.7  24183.7   818.0     False"
      ]
     },
     "execution_count": 6,
     "metadata": {},
     "output_type": "execute_result"
    }
   ],
   "source": [
    "trader.data"
   ]
  },
  {
   "cell_type": "markdown",
   "id": "e20dc8b3",
   "metadata": {},
   "source": [
    "# Retrieving historical data\n",
    "\n",
    "When running the bot trader, we need the latest historical data to process all the needed metrics in real time. This method retrieves the latest __n__ candlesticks data on the required interval.\n",
    "\n",
    "This lines are useful for saving candlesticks info for Neural Networks\n",
    "\n",
    "api info:  https://binance-docs.github.io/apidocs/futures/en/#kline-candlestick-data\n",
    "\n",
    "api wrapper method info: https://python-binance.readthedocs.io/en/latest/market_data.html#id7\n",
    "\n",
    "__Important__: \n",
    "\n",
    "1. The used __function \"futures_historical_klines\" doesn't behave according the restrictions of binance api__, for example, the limit is not 1500 records as binance says. For example, if you want more than 1500 candlesticks, i think it makes more than one request and prepares the result for you...\n",
    "\n",
    "2. Also, notice that __the code shows all the info retrieved by Binance API__, if you want one that is not used, add it to section \"Use this info\".\n",
    "\n",
    "3. Notice that __the last record retrieved has not completed his time period__, so its not accurate info."
   ]
  },
  {
   "cell_type": "code",
   "execution_count": 4,
   "id": "7a23a6d7",
   "metadata": {},
   "outputs": [
    {
     "data": {
      "text/html": [
       "<div>\n",
       "<style scoped>\n",
       "    .dataframe tbody tr th:only-of-type {\n",
       "        vertical-align: middle;\n",
       "    }\n",
       "\n",
       "    .dataframe tbody tr th {\n",
       "        vertical-align: top;\n",
       "    }\n",
       "\n",
       "    .dataframe thead th {\n",
       "        text-align: right;\n",
       "    }\n",
       "</style>\n",
       "<table border=\"1\" class=\"dataframe\">\n",
       "  <thead>\n",
       "    <tr style=\"text-align: right;\">\n",
       "      <th></th>\n",
       "      <th>Open</th>\n",
       "      <th>High</th>\n",
       "      <th>Low</th>\n",
       "      <th>Close</th>\n",
       "      <th>Volume</th>\n",
       "    </tr>\n",
       "    <tr>\n",
       "      <th>Date</th>\n",
       "      <th></th>\n",
       "      <th></th>\n",
       "      <th></th>\n",
       "      <th></th>\n",
       "      <th></th>\n",
       "    </tr>\n",
       "  </thead>\n",
       "  <tbody>\n",
       "    <tr>\n",
       "      <th>2022-08-11 22:05:00</th>\n",
       "      <td>24158.4</td>\n",
       "      <td>24175.4</td>\n",
       "      <td>24158.4</td>\n",
       "      <td>24168.4</td>\n",
       "      <td>68.066</td>\n",
       "    </tr>\n",
       "    <tr>\n",
       "      <th>2022-08-11 22:06:00</th>\n",
       "      <td>24161.0</td>\n",
       "      <td>24169.6</td>\n",
       "      <td>24091.2</td>\n",
       "      <td>24091.2</td>\n",
       "      <td>87.734</td>\n",
       "    </tr>\n",
       "    <tr>\n",
       "      <th>2022-08-11 22:07:00</th>\n",
       "      <td>24129.8</td>\n",
       "      <td>24141.3</td>\n",
       "      <td>24117.3</td>\n",
       "      <td>24117.3</td>\n",
       "      <td>53.005</td>\n",
       "    </tr>\n",
       "    <tr>\n",
       "      <th>2022-08-11 22:08:00</th>\n",
       "      <td>24117.3</td>\n",
       "      <td>24154.7</td>\n",
       "      <td>24117.3</td>\n",
       "      <td>24117.3</td>\n",
       "      <td>171.187</td>\n",
       "    </tr>\n",
       "    <tr>\n",
       "      <th>2022-08-11 22:09:00</th>\n",
       "      <td>24140.8</td>\n",
       "      <td>24157.1</td>\n",
       "      <td>24132.5</td>\n",
       "      <td>24157.1</td>\n",
       "      <td>38.092</td>\n",
       "    </tr>\n",
       "  </tbody>\n",
       "</table>\n",
       "</div>"
      ],
      "text/plain": [
       "                        Open     High      Low    Close   Volume\n",
       "Date                                                            \n",
       "2022-08-11 22:05:00  24158.4  24175.4  24158.4  24168.4   68.066\n",
       "2022-08-11 22:06:00  24161.0  24169.6  24091.2  24091.2   87.734\n",
       "2022-08-11 22:07:00  24129.8  24141.3  24117.3  24117.3   53.005\n",
       "2022-08-11 22:08:00  24117.3  24154.7  24117.3  24117.3  171.187\n",
       "2022-08-11 22:09:00  24140.8  24157.1  24132.5  24157.1   38.092"
      ]
     },
     "execution_count": 4,
     "metadata": {},
     "output_type": "execute_result"
    }
   ],
   "source": [
    "from binance.client import Client\n",
    "from datetime import datetime, timedelta\n",
    "import pandas as pd\n",
    "\n",
    "#### VARIABLES ####\n",
    "max_number_of_candles = 5 \n",
    "interval_of_candles = \"1m\"\n",
    "symbol = \"btcusdt\"\n",
    "#### Available intervals for candles ####\n",
    "time_to_past = {\n",
    " \"1m\"  : timedelta(minutes=max_number_of_candles),\n",
    " \"3m\"  : timedelta(minutes=max_number_of_candles*3),\n",
    " \"5m\"  : timedelta(minutes=max_number_of_candles*5),\n",
    " \"15m\" : timedelta(minutes=max_number_of_candles*15),\n",
    " \"30m\" : timedelta(minutes=max_number_of_candles*30),\n",
    " \"1h\"  : timedelta(hours=max_number_of_candles),\n",
    " \"2h\"  : timedelta(hours=max_number_of_candles*2),\n",
    " \"4h\"  : timedelta(hours=max_number_of_candles*4),\n",
    " \"6h\"  : timedelta(hours=max_number_of_candles*6),\n",
    " \"8h\"  : timedelta(hours=max_number_of_candles*8),\n",
    " \"12h\" : timedelta(hours=max_number_of_candles*12),\n",
    " \"1d\"  : timedelta(days=max_number_of_candles),\n",
    " \"3d\"  : timedelta(days=max_number_of_candles*3),\n",
    " \"1w\"  : timedelta(days=max_number_of_candles*7),\n",
    " \"1M\"  : timedelta(days=max_number_of_candles*28) #this may give less than the desired candles because each month has different amount of days\n",
    "}\n",
    "#### Request info ####\n",
    "\n",
    "client = Client(api_key = api_key, api_secret = secret_key, tld = \"com\", testnet = True) # Testnet!!!\n",
    "\n",
    "now = datetime.utcnow()\n",
    "past = str(now - time_to_past[interval_of_candles])\n",
    "\n",
    "bars = client.futures_historical_klines(symbol = symbol, \n",
    "                                        interval = interval_of_candles, \n",
    "                                        start_str =past,\n",
    "                                        end_str = None)\n",
    "#### Prepare dataframe ####\n",
    "df = pd.DataFrame(bars)\n",
    "df[\"Date\"] = pd.to_datetime(df.iloc[:,0], unit = \"ms\")\n",
    "#### Info given by Binance ####\n",
    "df.columns = [\"Open Time\", \"Open\", \"High\", \"Low\", \"Close\", \"Volume\",\n",
    "              \"Close Time\", \"Quote Asset Volume\", \"Number of Trades\",\n",
    "              \"Taker Buy Base Asset Volume\", \"Taker Buy Quote Asset Volume\", \"Ignore\", \"Date\"]\n",
    "#### Use this info ####\n",
    "use_columns = [\"Date\", \"Open\", \"High\", \"Low\", \"Close\", \"Volume\"]\n",
    "######################\n",
    "df = df[use_columns].copy()\n",
    "df.set_index(\"Date\", inplace = True)\n",
    "for column in df.columns:\n",
    "    df[column] = pd.to_numeric(df[column], errors = \"coerce\")\n",
    "df"
   ]
  },
  {
   "cell_type": "markdown",
   "id": "c0bd3945",
   "metadata": {},
   "source": [
    "Then we can save the data to prevent requesting too many times from futures api"
   ]
  },
  {
   "cell_type": "code",
   "execution_count": 42,
   "id": "cb04a9dd",
   "metadata": {},
   "outputs": [],
   "source": [
    "df.to_csv(\"out.csv\")"
   ]
  },
  {
   "cell_type": "markdown",
   "id": "f08e13c3",
   "metadata": {},
   "source": [
    "You can load the data running:"
   ]
  },
  {
   "cell_type": "code",
   "execution_count": 63,
   "id": "a23e7fb6",
   "metadata": {},
   "outputs": [
    {
     "data": {
      "text/html": [
       "<div>\n",
       "<style scoped>\n",
       "    .dataframe tbody tr th:only-of-type {\n",
       "        vertical-align: middle;\n",
       "    }\n",
       "\n",
       "    .dataframe tbody tr th {\n",
       "        vertical-align: top;\n",
       "    }\n",
       "\n",
       "    .dataframe thead th {\n",
       "        text-align: right;\n",
       "    }\n",
       "</style>\n",
       "<table border=\"1\" class=\"dataframe\">\n",
       "  <thead>\n",
       "    <tr style=\"text-align: right;\">\n",
       "      <th></th>\n",
       "      <th>Open</th>\n",
       "      <th>High</th>\n",
       "      <th>Low</th>\n",
       "      <th>Close</th>\n",
       "      <th>Volume</th>\n",
       "    </tr>\n",
       "    <tr>\n",
       "      <th>Date</th>\n",
       "      <th></th>\n",
       "      <th></th>\n",
       "      <th></th>\n",
       "      <th></th>\n",
       "      <th></th>\n",
       "    </tr>\n",
       "  </thead>\n",
       "  <tbody>\n",
       "    <tr>\n",
       "      <th>2022-08-04 05:50:00</th>\n",
       "      <td>23780.0</td>\n",
       "      <td>23780.0</td>\n",
       "      <td>23198.0</td>\n",
       "      <td>23198.0</td>\n",
       "      <td>84.921</td>\n",
       "    </tr>\n",
       "    <tr>\n",
       "      <th>2022-08-04 05:51:00</th>\n",
       "      <td>23228.2</td>\n",
       "      <td>23900.0</td>\n",
       "      <td>23198.0</td>\n",
       "      <td>23900.0</td>\n",
       "      <td>84.941</td>\n",
       "    </tr>\n",
       "    <tr>\n",
       "      <th>2022-08-04 05:52:00</th>\n",
       "      <td>23852.2</td>\n",
       "      <td>23898.0</td>\n",
       "      <td>23198.0</td>\n",
       "      <td>23898.0</td>\n",
       "      <td>132.174</td>\n",
       "    </tr>\n",
       "    <tr>\n",
       "      <th>2022-08-04 05:53:00</th>\n",
       "      <td>23898.0</td>\n",
       "      <td>23900.0</td>\n",
       "      <td>23198.0</td>\n",
       "      <td>23228.2</td>\n",
       "      <td>74.257</td>\n",
       "    </tr>\n",
       "    <tr>\n",
       "      <th>2022-08-04 05:54:00</th>\n",
       "      <td>23520.4</td>\n",
       "      <td>23946.0</td>\n",
       "      <td>23198.0</td>\n",
       "      <td>23653.4</td>\n",
       "      <td>83.717</td>\n",
       "    </tr>\n",
       "    <tr>\n",
       "      <th>...</th>\n",
       "      <td>...</td>\n",
       "      <td>...</td>\n",
       "      <td>...</td>\n",
       "      <td>...</td>\n",
       "      <td>...</td>\n",
       "    </tr>\n",
       "    <tr>\n",
       "      <th>2022-08-11 04:26:00</th>\n",
       "      <td>24344.5</td>\n",
       "      <td>24344.5</td>\n",
       "      <td>24200.0</td>\n",
       "      <td>24317.6</td>\n",
       "      <td>75.895</td>\n",
       "    </tr>\n",
       "    <tr>\n",
       "      <th>2022-08-11 04:27:00</th>\n",
       "      <td>24312.2</td>\n",
       "      <td>24317.6</td>\n",
       "      <td>24150.0</td>\n",
       "      <td>24308.0</td>\n",
       "      <td>99.008</td>\n",
       "    </tr>\n",
       "    <tr>\n",
       "      <th>2022-08-11 04:28:00</th>\n",
       "      <td>24310.1</td>\n",
       "      <td>24313.6</td>\n",
       "      <td>24305.6</td>\n",
       "      <td>24311.0</td>\n",
       "      <td>21.804</td>\n",
       "    </tr>\n",
       "    <tr>\n",
       "      <th>2022-08-11 04:29:00</th>\n",
       "      <td>24305.6</td>\n",
       "      <td>24311.0</td>\n",
       "      <td>24305.6</td>\n",
       "      <td>24305.6</td>\n",
       "      <td>168.102</td>\n",
       "    </tr>\n",
       "    <tr>\n",
       "      <th>2022-08-11 04:30:00</th>\n",
       "      <td>24305.6</td>\n",
       "      <td>24305.6</td>\n",
       "      <td>24296.9</td>\n",
       "      <td>24301.4</td>\n",
       "      <td>25.503</td>\n",
       "    </tr>\n",
       "  </tbody>\n",
       "</table>\n",
       "<p>10001 rows × 5 columns</p>\n",
       "</div>"
      ],
      "text/plain": [
       "                        Open     High      Low    Close   Volume\n",
       "Date                                                            \n",
       "2022-08-04 05:50:00  23780.0  23780.0  23198.0  23198.0   84.921\n",
       "2022-08-04 05:51:00  23228.2  23900.0  23198.0  23900.0   84.941\n",
       "2022-08-04 05:52:00  23852.2  23898.0  23198.0  23898.0  132.174\n",
       "2022-08-04 05:53:00  23898.0  23900.0  23198.0  23228.2   74.257\n",
       "2022-08-04 05:54:00  23520.4  23946.0  23198.0  23653.4   83.717\n",
       "...                      ...      ...      ...      ...      ...\n",
       "2022-08-11 04:26:00  24344.5  24344.5  24200.0  24317.6   75.895\n",
       "2022-08-11 04:27:00  24312.2  24317.6  24150.0  24308.0   99.008\n",
       "2022-08-11 04:28:00  24310.1  24313.6  24305.6  24311.0   21.804\n",
       "2022-08-11 04:29:00  24305.6  24311.0  24305.6  24305.6  168.102\n",
       "2022-08-11 04:30:00  24305.6  24305.6  24296.9  24301.4   25.503\n",
       "\n",
       "[10001 rows x 5 columns]"
      ]
     },
     "execution_count": 63,
     "metadata": {},
     "output_type": "execute_result"
    }
   ],
   "source": [
    "loaded = pd.read_csv('out.csv')\n",
    "loaded.set_index(\"Date\", inplace = True)\n",
    "loaded"
   ]
  },
  {
   "cell_type": "markdown",
   "id": "5619bd06",
   "metadata": {},
   "source": [
    "# Combining historical and streaming data in a class\n",
    "\n",
    "This is a class that __keeps historical data and updates it with streaming info__. It is useful for our trading bot to have accurate metrics when first loading."
   ]
  },
  {
   "cell_type": "code",
   "execution_count": 2,
   "id": "9960e00b",
   "metadata": {},
   "outputs": [],
   "source": [
    "from binance.client import Client\n",
    "from binance.websocket.cm_futures.websocket_client import CMFuturesWebsocketClient\n",
    "import pandas as pd\n",
    "import numpy as np\n",
    "from datetime import datetime, timedelta"
   ]
  },
  {
   "cell_type": "code",
   "execution_count": 3,
   "id": "a6819739",
   "metadata": {},
   "outputs": [],
   "source": [
    "class FuturesTrader():\n",
    "    def __init__(self, symbol=\"btcusd\", testnet = True):\n",
    "        ####API CONNECTIONS ####\n",
    "        self.stream = None\n",
    "        self.client = Client(api_key = api_key, api_secret = secret_key, tld = \"com\", testnet = testnet)\n",
    "        #######################\n",
    "        self.data = None\n",
    "        self.symbol = symbol \n",
    "        \n",
    "    def message_handler(self, msg):\n",
    "        if 'result' in msg.keys(): #skip first message\n",
    "            return\n",
    "        # extract the required items from msg\n",
    "        event_time = pd.to_datetime(msg[\"E\"], unit = \"ms\")\n",
    "        start_time = pd.to_datetime(msg[\"k\"][\"t\"], unit = \"ms\")\n",
    "        first   = float(msg[\"k\"][\"o\"])\n",
    "        high    = float(msg[\"k\"][\"h\"])\n",
    "        low     = float(msg[\"k\"][\"l\"])\n",
    "        close   = float(msg[\"k\"][\"c\"])\n",
    "        volume  = float(msg[\"k\"][\"v\"])\n",
    "        complete=       msg[\"k\"][\"x\"]\n",
    "        \n",
    "        # print out\n",
    "        print(\".\", end = \"\", flush = True) \n",
    "    \n",
    "        # feed df (add new bar / update latest bar)\n",
    "        self.data.loc[start_time] = [first, high, low, close, volume, complete]\n",
    "        # prepare features and define strategy/trading positions whenever the latest bar is complete\n",
    "        if complete == True:\n",
    "            print(\"candle completed\", end=\"\")\n",
    "            #execute trading functions here!!\n",
    "        \n",
    "    def start_streaming(self, interval=\"1m\"):\n",
    "        self.stream = CMFuturesWebsocketClient()\n",
    "        self.stream.start()\n",
    "        self.stream.kline(\n",
    "            symbol=self.symbol.lower() +\"_perp\",\n",
    "            id=1,\n",
    "            interval=interval,\n",
    "            callback=self.message_handler,\n",
    "        )\n",
    "        \n",
    "    def stop_streaming(self):\n",
    "        self.stream.stop()\n",
    "        \n",
    "    def get_most_recent_data(self, num_candles=100, interval = \"1m\"):\n",
    "        #### Get start time for candles ####\n",
    "        now = datetime.utcnow()\n",
    "        past = str(now - self.available_intervals(num_candles)[interval])\n",
    "        #### \"BTCUSD\" is not valid with this method ####\n",
    "        symbol = self.symbol + \"t\" if self.symbol.endswith('usd') else self.symbol\n",
    "        #### Request candles and prepare the df ####\n",
    "        bars = self.client.futures_historical_klines(symbol = symbol, \n",
    "                                        interval = interval, \n",
    "                                        start_str =past,\n",
    "                                        end_str = None)\n",
    "        df = pd.DataFrame(bars)\n",
    "        df[\"Date\"] = pd.to_datetime(df.iloc[:,0], unit = \"ms\")\n",
    "        df.columns = [\"Open Time\", \"Open\", \"High\", \"Low\", \"Close\", \"Volume\",\n",
    "                      \"Close Time\", \"Quote Asset Volume\", \"Number of Trades\",\n",
    "                      \"Taker Buy Base Asset Volume\", \"Taker Buy Quote Asset Volume\", \"Ignore\", \"Date\"]\n",
    "        df = df[[\"Date\", \"Open\", \"High\", \"Low\", \"Close\", \"Volume\"]].copy()\n",
    "        df.set_index(\"Date\", inplace = True)\n",
    "        for column in df.columns:\n",
    "            df[column] = pd.to_numeric(df[column], errors = \"coerce\")\n",
    "        df[\"Complete\"] = [True for row in range(len(df)-1)] + [False]    \n",
    "        self.data = df\n",
    "    \n",
    "    def start_trading(self, num_candles = 100, interval = \"1m\"):\n",
    "        if interval in self.available_intervals(num_candles).keys():\n",
    "            self.get_most_recent_data(num_candles = num_candles, interval=interval)\n",
    "            self.start_streaming(interval)\n",
    "        else:\n",
    "            print(\"That interval is not available\")\n",
    "            \n",
    "    def stop_trading(self):\n",
    "        self.stop_streaming()\n",
    "        #print ending metrics here!!\n",
    "        \n",
    "    def available_intervals(self, candles_required):\n",
    "        '''\n",
    "        Helper function for \"get_most_recent_data\" method.\n",
    "        \n",
    "        '''\n",
    "        return {\n",
    "            \"1m\"  : timedelta(minutes=candles_required),\n",
    "            \"3m\"  : timedelta(minutes=candles_required*3),\n",
    "            \"5m\"  : timedelta(minutes=candles_required*5),\n",
    "            \"15m\" : timedelta(minutes=candles_required*15),\n",
    "            \"30m\" : timedelta(minutes=candles_required*30),\n",
    "            \"1h\"  : timedelta(hours=candles_required),\n",
    "            \"2h\"  : timedelta(hours=candles_required*2),\n",
    "            \"4h\"  : timedelta(hours=candles_required*4),\n",
    "            \"6h\"  : timedelta(hours=candles_required*6),\n",
    "            \"8h\"  : timedelta(hours=candles_required*8),\n",
    "            \"12h\" : timedelta(hours=candles_required*12),\n",
    "            \"1d\"  : timedelta(days=candles_required),\n",
    "            \"3d\"  : timedelta(days=candles_required*3),\n",
    "            \"1w\"  : timedelta(days=candles_required*7),\n",
    "            \"1M\"  : timedelta(days=candles_required*28) #this may give less than the desired candles because each month has different amount of days\n",
    "        }     "
   ]
  },
  {
   "cell_type": "code",
   "execution_count": 4,
   "id": "1d5a45d4",
   "metadata": {},
   "outputs": [],
   "source": [
    "trader = FuturesTrader(symbol=\"btcusd\", testnet = True)"
   ]
  },
  {
   "cell_type": "code",
   "execution_count": 5,
   "id": "be6d839d",
   "metadata": {},
   "outputs": [
    {
     "name": "stdout",
     "output_type": "stream",
     "text": [
      "......"
     ]
    }
   ],
   "source": [
    "trader.start_trading(interval=\"1m\", num_candles=3)"
   ]
  },
  {
   "cell_type": "code",
   "execution_count": 6,
   "id": "f37c34b1",
   "metadata": {},
   "outputs": [
    {
     "name": "stderr",
     "output_type": "stream",
     "text": [
      "WARNING:root:WebSocket connection closed: connection was closed uncleanly (\"peer dropped the TCP connection without previous WebSocket closing handshake\"), code: 1006, clean: False, reason: connection was closed uncleanly (\"peer dropped the TCP connection without previous WebSocket closing handshake\")\n"
     ]
    }
   ],
   "source": [
    "trader.stop_trading()"
   ]
  },
  {
   "cell_type": "code",
   "execution_count": 7,
   "id": "7e121d63",
   "metadata": {},
   "outputs": [
    {
     "data": {
      "text/html": [
       "<div>\n",
       "<style scoped>\n",
       "    .dataframe tbody tr th:only-of-type {\n",
       "        vertical-align: middle;\n",
       "    }\n",
       "\n",
       "    .dataframe tbody tr th {\n",
       "        vertical-align: top;\n",
       "    }\n",
       "\n",
       "    .dataframe thead th {\n",
       "        text-align: right;\n",
       "    }\n",
       "</style>\n",
       "<table border=\"1\" class=\"dataframe\">\n",
       "  <thead>\n",
       "    <tr style=\"text-align: right;\">\n",
       "      <th></th>\n",
       "      <th>Open</th>\n",
       "      <th>High</th>\n",
       "      <th>Low</th>\n",
       "      <th>Close</th>\n",
       "      <th>Volume</th>\n",
       "      <th>Complete</th>\n",
       "    </tr>\n",
       "    <tr>\n",
       "      <th>Date</th>\n",
       "      <th></th>\n",
       "      <th></th>\n",
       "      <th></th>\n",
       "      <th></th>\n",
       "      <th></th>\n",
       "      <th></th>\n",
       "    </tr>\n",
       "  </thead>\n",
       "  <tbody>\n",
       "    <tr>\n",
       "      <th>2022-08-11 23:33:00</th>\n",
       "      <td>24224.2</td>\n",
       "      <td>24229.4</td>\n",
       "      <td>23905.7</td>\n",
       "      <td>23910.1</td>\n",
       "      <td>25.989</td>\n",
       "      <td>True</td>\n",
       "    </tr>\n",
       "    <tr>\n",
       "      <th>2022-08-11 23:34:00</th>\n",
       "      <td>23910.1</td>\n",
       "      <td>24615.0</td>\n",
       "      <td>23887.5</td>\n",
       "      <td>23894.8</td>\n",
       "      <td>360.989</td>\n",
       "      <td>True</td>\n",
       "    </tr>\n",
       "    <tr>\n",
       "      <th>2022-08-11 23:35:00</th>\n",
       "      <td>23891.5</td>\n",
       "      <td>23891.5</td>\n",
       "      <td>23869.8</td>\n",
       "      <td>23869.9</td>\n",
       "      <td>18675.000</td>\n",
       "      <td>True</td>\n",
       "    </tr>\n",
       "    <tr>\n",
       "      <th>2022-08-11 23:36:00</th>\n",
       "      <td>23869.8</td>\n",
       "      <td>23880.2</td>\n",
       "      <td>23869.8</td>\n",
       "      <td>23880.2</td>\n",
       "      <td>10447.000</td>\n",
       "      <td>False</td>\n",
       "    </tr>\n",
       "  </tbody>\n",
       "</table>\n",
       "</div>"
      ],
      "text/plain": [
       "                        Open     High      Low    Close     Volume  Complete\n",
       "Date                                                                        \n",
       "2022-08-11 23:33:00  24224.2  24229.4  23905.7  23910.1     25.989      True\n",
       "2022-08-11 23:34:00  23910.1  24615.0  23887.5  23894.8    360.989      True\n",
       "2022-08-11 23:35:00  23891.5  23891.5  23869.8  23869.9  18675.000      True\n",
       "2022-08-11 23:36:00  23869.8  23880.2  23869.8  23880.2  10447.000     False"
      ]
     },
     "execution_count": 7,
     "metadata": {},
     "output_type": "execute_result"
    }
   ],
   "source": [
    "trader.data"
   ]
  },
  {
   "cell_type": "code",
   "execution_count": null,
   "id": "0cf6001e",
   "metadata": {},
   "outputs": [],
   "source": []
  }
 ],
 "metadata": {
  "kernelspec": {
   "display_name": "Python 3 (ipykernel)",
   "language": "python",
   "name": "python3"
  },
  "language_info": {
   "codemirror_mode": {
    "name": "ipython",
    "version": 3
   },
   "file_extension": ".py",
   "mimetype": "text/x-python",
   "name": "python",
   "nbconvert_exporter": "python",
   "pygments_lexer": "ipython3",
   "version": "3.9.12"
  }
 },
 "nbformat": 4,
 "nbformat_minor": 5
}
