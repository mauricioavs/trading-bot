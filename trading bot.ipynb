{
 "cells": [
  {
   "cell_type": "markdown",
   "id": "ee94aecb",
   "metadata": {},
   "source": [
    "# Credentials"
   ]
  },
  {
   "cell_type": "markdown",
   "id": "985dabbc",
   "metadata": {},
   "source": [
    "__Put Testnet or Prod credentials here__:\n",
    "(Testnet here: https://testnet.binancefuture.com/en/futures/BTCUSDT)\n",
    "\n",
    "Testnet resets each day, but your credentials wont change."
   ]
  },
  {
   "cell_type": "code",
   "execution_count": 2,
   "id": "a47694df",
   "metadata": {},
   "outputs": [],
   "source": [
    "api_key = \"6ce63f3406fd8ebbff01054a66c25fe3c851c45932088c8ca3131a7005188462\"\n",
    "secret_key = \"aa3ea32929252467fa5ffeac5818c95beabfb5dba691ef445e7eaa31ea0d15f6\""
   ]
  },
  {
   "cell_type": "markdown",
   "id": "85904240",
   "metadata": {},
   "source": [
    "# Python Api Wrapper"
   ]
  },
  {
   "cell_type": "markdown",
   "id": "9efef379",
   "metadata": {},
   "source": [
    "It is important to install python wrappers of binance API (one is not made by Binance, use at your own risk), just run on terminal:\n",
    "\n",
    "__pip install python-binance__\n",
    "\n",
    "__pip install binance-futures-connector__\n",
    "\n",
    "Currently unofficial wrapper has problems retrieving real-time prices (problem with websockets), so we use the official Api wrapper of Binance to this task.\n",
    "\n",
    "Useful links:\n",
    "\n",
    "__Binance Official Api Docs__: https://binance-docs.github.io/apidocs/futures/en/#account-trades-endpoints\n",
    "\n",
    "__Unofficial Python Api Wrapper__: https://python-binance.readthedocs.io/en/latest/overview.html\n",
    "\n",
    "__Official Binance Api Wrapper__: https://github.com/binance/binance-futures-connector-python \n",
    "\n",
    "Api Wrapper sometimes its not specific on arguments for functions, so it´s useful to check that args on official Api docs"
   ]
  },
  {
   "cell_type": "markdown",
   "id": "1c49586a",
   "metadata": {},
   "source": [
    "__This is the code for live streaming that is going to be replaced with official api__"
   ]
  },
  {
   "cell_type": "code",
   "execution_count": 5,
   "id": "ad78fe8b",
   "metadata": {},
   "outputs": [
    {
     "data": {
      "text/plain": [
       "'btcusdt_perpetual@continuousKline_1m'"
      ]
     },
     "execution_count": 5,
     "metadata": {},
     "output_type": "execute_result"
    },
    {
     "name": "stderr",
     "output_type": "stream",
     "text": [
      "CANCEL read_loop\n",
      "Task exception was never retrieved\n",
      "future: <Task finished name='Task-8' coro=<ThreadedApiManager.start_listener() done, defined at /home/mauricio/anaconda3/lib/python3.9/site-packages/binance/threaded_stream.py:42> exception=RuntimeError(\"Task <Task pending name='Task-14' coro=<Queue.get() running at /home/mauricio/anaconda3/lib/python3.9/asyncio/queues.py:166> cb=[_release_waiter(<Future pendi...112a0c370>()]>)() at /home/mauricio/anaconda3/lib/python3.9/asyncio/tasks.py:416]> got Future <Future pending> attached to a different loop\")>\n",
      "Traceback (most recent call last):\n",
      "  File \"/home/mauricio/anaconda3/lib/python3.9/site-packages/binance/threaded_stream.py\", line 46, in start_listener\n",
      "    msg = await asyncio.wait_for(s.recv(), 3)\n",
      "  File \"/home/mauricio/anaconda3/lib/python3.9/asyncio/tasks.py\", line 479, in wait_for\n",
      "    return fut.result()\n",
      "  File \"/home/mauricio/anaconda3/lib/python3.9/site-packages/binance/streams.py\", line 197, in recv\n",
      "    res = await asyncio.wait_for(self._queue.get(), timeout=self.TIMEOUT)\n",
      "  File \"/home/mauricio/anaconda3/lib/python3.9/asyncio/tasks.py\", line 479, in wait_for\n",
      "    return fut.result()\n",
      "  File \"/home/mauricio/anaconda3/lib/python3.9/asyncio/queues.py\", line 166, in get\n",
      "    await getter\n",
      "RuntimeError: Task <Task pending name='Task-14' coro=<Queue.get() running at /home/mauricio/anaconda3/lib/python3.9/asyncio/queues.py:166> cb=[_release_waiter(<Future pendi...112a0c370>()]>)() at /home/mauricio/anaconda3/lib/python3.9/asyncio/tasks.py:416]> got Future <Future pending> attached to a different loop\n"
     ]
    }
   ],
   "source": [
    "from binance import ThreadedWebsocketManager\n",
    "import time\n",
    "twm = ThreadedWebsocketManager(testnet = True)\n",
    "twm.start()\n",
    "twm.start_kline_futures_socket(callback = stream_candles, symbol = \"BTCUSDT\", interval = \"1m\")\n",
    "time.sleep(10)\n",
    "twm.stop()"
   ]
  },
  {
   "cell_type": "markdown",
   "id": "db9e4119",
   "metadata": {},
   "source": [
    "__Useful code for streaming__"
   ]
  },
  {
   "cell_type": "code",
   "execution_count": 9,
   "id": "72c318ae",
   "metadata": {},
   "outputs": [
    {
     "ename": "NameError",
     "evalue": "name 'time' is not defined",
     "output_type": "error",
     "traceback": [
      "\u001b[0;31m---------------------------------------------------------------------------\u001b[0m",
      "\u001b[0;31mNameError\u001b[0m                                 Traceback (most recent call last)",
      "Input \u001b[0;32mIn [9]\u001b[0m, in \u001b[0;36m<cell line: 23>\u001b[0;34m()\u001b[0m\n\u001b[1;32m     14\u001b[0m my_client\u001b[38;5;241m.\u001b[39mstart()\n\u001b[1;32m     16\u001b[0m my_client\u001b[38;5;241m.\u001b[39mkline(\n\u001b[1;32m     17\u001b[0m     symbol\u001b[38;5;241m=\u001b[39m\u001b[38;5;124m\"\u001b[39m\u001b[38;5;124mbtcusd_perp\u001b[39m\u001b[38;5;124m\"\u001b[39m,\n\u001b[1;32m     18\u001b[0m     \u001b[38;5;28mid\u001b[39m\u001b[38;5;241m=\u001b[39m\u001b[38;5;241m12\u001b[39m,\n\u001b[1;32m     19\u001b[0m     interval\u001b[38;5;241m=\u001b[39m\u001b[38;5;124m\"\u001b[39m\u001b[38;5;124m1m\u001b[39m\u001b[38;5;124m\"\u001b[39m,\n\u001b[1;32m     20\u001b[0m     callback\u001b[38;5;241m=\u001b[39mmessage_handler,\n\u001b[1;32m     21\u001b[0m )\n\u001b[0;32m---> 23\u001b[0m \u001b[43mtime\u001b[49m\u001b[38;5;241m.\u001b[39msleep(\u001b[38;5;241m10\u001b[39m)\n\u001b[1;32m     25\u001b[0m \u001b[38;5;66;03m#logging.debug(\"closing ws connection\")\u001b[39;00m\n\u001b[1;32m     26\u001b[0m my_client\u001b[38;5;241m.\u001b[39mstop()\n",
      "\u001b[0;31mNameError\u001b[0m: name 'time' is not defined"
     ]
    },
    {
     "name": "stdout",
     "output_type": "stream",
     "text": [
      "{'id': 12, 'result': None}\n",
      "{'e': 'kline', 'E': 1660090959479, 's': 'BTCUSD_PERP', 'k': {'t': 1660090920000, 'T': 1660090979999, 's': 'BTCUSD_PERP', 'i': '1m', 'f': 502650223, 'L': 502650364, 'o': '23043.9', 'c': '23036.2', 'h': '23043.9', 'l': '23036.1', 'v': '3901', 'n': 142, 'x': False, 'q': '16.93072912', 'V': '26', 'Q': '0.11283734', 'B': '0'}}\n",
      "{'e': 'kline', 'E': 1660090966288, 's': 'BTCUSD_PERP', 'k': {'t': 1660090920000, 'T': 1660090979999, 's': 'BTCUSD_PERP', 'i': '1m', 'f': 502650223, 'L': 502650366, 'o': '23043.9', 'c': '23036.1', 'h': '23043.9', 'l': '23036.1', 'v': '3923', 'n': 144, 'x': False, 'q': '17.02623105', 'V': '44', 'Q': '0.19097522', 'B': '0'}}\n",
      "{'e': 'kline', 'E': 1660090969052, 's': 'BTCUSD_PERP', 'k': {'t': 1660090920000, 'T': 1660090979999, 's': 'BTCUSD_PERP', 'i': '1m', 'f': 502650223, 'L': 502650368, 'o': '23043.9', 'c': '23036.1', 'h': '23043.9', 'l': '23036.1', 'v': '3998', 'n': 146, 'x': False, 'q': '17.35180568', 'V': '114', 'Q': '0.49484478', 'B': '0'}}\n",
      "{'e': 'kline', 'E': 1660090969781, 's': 'BTCUSD_PERP', 'k': {'t': 1660090920000, 'T': 1660090979999, 's': 'BTCUSD_PERP', 'i': '1m', 'f': 502650223, 'L': 502650370, 'o': '23043.9', 'c': '23036.2', 'h': '23043.9', 'l': '23036.1', 'v': '4017', 'n': 148, 'x': False, 'q': '17.43428463', 'V': '129', 'Q': '0.55995969', 'B': '0'}}\n"
     ]
    }
   ],
   "source": [
    "import time\n",
    "#import logging\n",
    "#from binance.lib.utils import config_logging\n",
    "from binance.websocket.cm_futures.websocket_client import CMFuturesWebsocketClient\n",
    "\n",
    "#config_logging(logging, logging.DEBUG)\n",
    "\n",
    "\n",
    "def message_handler(message):\n",
    "    print(message)\n",
    "\n",
    "\n",
    "my_client = CMFuturesWebsocketClient()\n",
    "my_client.start()\n",
    "\n",
    "my_client.kline(\n",
    "    symbol=\"btcusd_perp\",\n",
    "    id=12,\n",
    "    interval=\"1m\",\n",
    "    callback=message_handler,\n",
    ")\n",
    "\n",
    "time.sleep(10)\n",
    "\n",
    "#logging.debug(\"closing ws connection\")\n",
    "my_client.stop()"
   ]
  },
  {
   "cell_type": "code",
   "execution_count": 10,
   "id": "fd176b90",
   "metadata": {},
   "outputs": [
    {
     "name": "stdout",
     "output_type": "stream",
     "text": [
      "{'e': 'kline', 'E': 1660090978689, 's': 'BTCUSD_PERP', 'k': {'t': 1660090920000, 'T': 1660090979999, 's': 'BTCUSD_PERP', 'i': '1m', 'f': 502650223, 'L': 502650371, 'o': '23043.9', 'c': '23036.1', 'h': '23043.9', 'l': '23036.1', 'v': '4018', 'n': 149, 'x': False, 'q': '17.43862565', 'V': '129', 'Q': '0.55995969', 'B': '0'}}\n"
     ]
    },
    {
     "name": "stderr",
     "output_type": "stream",
     "text": [
      "WARNING:root:WebSocket connection closed: connection was closed uncleanly (\"peer dropped the TCP connection without previous WebSocket closing handshake\"), code: 1006, clean: False, reason: connection was closed uncleanly (\"peer dropped the TCP connection without previous WebSocket closing handshake\")\n"
     ]
    }
   ],
   "source": []
  }
 ],
 "metadata": {
  "kernelspec": {
   "display_name": "Python 3 (ipykernel)",
   "language": "python",
   "name": "python3"
  },
  "language_info": {
   "codemirror_mode": {
    "name": "ipython",
    "version": 3
   },
   "file_extension": ".py",
   "mimetype": "text/x-python",
   "name": "python",
   "nbconvert_exporter": "python",
   "pygments_lexer": "ipython3",
   "version": "3.9.12"
  }
 },
 "nbformat": 4,
 "nbformat_minor": 5
}
