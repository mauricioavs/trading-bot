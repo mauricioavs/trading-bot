{
 "cells": [
  {
   "cell_type": "markdown",
   "id": "ee94aecb",
   "metadata": {},
   "source": [
    "# Credentials"
   ]
  },
  {
   "cell_type": "markdown",
   "id": "985dabbc",
   "metadata": {},
   "source": [
    "__Put Testnet or Prod credentials here__:\n",
    "(Testnet here: https://testnet.binancefuture.com/en/futures/BTCUSDT)\n",
    "\n",
    "Testnet resets each day, but your credentials wont change."
   ]
  },
  {
   "cell_type": "code",
   "execution_count": 4,
   "id": "a47694df",
   "metadata": {},
   "outputs": [],
   "source": [
    "api_key = \"6ce63f3406fd8ebbff01054a66c25fe3c851c45932088c8ca3131a7005188462\"\n",
    "secret_key = \"aa3ea32929252467fa5ffeac5818c95beabfb5dba691ef445e7eaa31ea0d15f6\""
   ]
  },
  {
   "cell_type": "markdown",
   "id": "85904240",
   "metadata": {},
   "source": [
    "# Python Api Wrapper"
   ]
  },
  {
   "cell_type": "markdown",
   "id": "9efef379",
   "metadata": {},
   "source": [
    "It is important to install python wrappers of binance API (one is not made by Binance, use at your own risk), just run on terminal:\n",
    "\n",
    "__pip install python-binance__\n",
    "\n",
    "__pip install binance-futures-connector__\n",
    "\n",
    "Currently unofficial wrapper has problems retrieving real-time prices (problem with websockets), so we use the official Api wrapper of Binance to this task.\n",
    "\n",
    "Useful links:\n",
    "\n",
    "__Binance Official Api Docs__: https://binance-docs.github.io/apidocs/futures/en/#account-trades-endpoints\n",
    "\n",
    "__Unofficial Python Api Wrapper__: https://python-binance.readthedocs.io/en/latest/overview.html\n",
    "\n",
    "__Official Binance Api Wrapper__: https://github.com/binance/binance-futures-connector-python \n",
    "\n",
    "Api Wrapper sometimes its not specific on arguments for functions, so it´s useful to check that args on official Api docs"
   ]
  },
  {
   "cell_type": "markdown",
   "id": "1c49586a",
   "metadata": {},
   "source": [
    "__This is the code for live streaming that is going to be replaced with official api__"
   ]
  },
  {
   "cell_type": "code",
   "execution_count": 5,
   "id": "ad78fe8b",
   "metadata": {},
   "outputs": [
    {
     "data": {
      "text/plain": [
       "'btcusdt_perpetual@continuousKline_1m'"
      ]
     },
     "execution_count": 5,
     "metadata": {},
     "output_type": "execute_result"
    },
    {
     "name": "stderr",
     "output_type": "stream",
     "text": [
      "CANCEL read_loop\n",
      "Task exception was never retrieved\n",
      "future: <Task finished name='Task-8' coro=<ThreadedApiManager.start_listener() done, defined at /home/mauricio/anaconda3/lib/python3.9/site-packages/binance/threaded_stream.py:42> exception=RuntimeError(\"Task <Task pending name='Task-14' coro=<Queue.get() running at /home/mauricio/anaconda3/lib/python3.9/asyncio/queues.py:166> cb=[_release_waiter(<Future pendi...112a0c370>()]>)() at /home/mauricio/anaconda3/lib/python3.9/asyncio/tasks.py:416]> got Future <Future pending> attached to a different loop\")>\n",
      "Traceback (most recent call last):\n",
      "  File \"/home/mauricio/anaconda3/lib/python3.9/site-packages/binance/threaded_stream.py\", line 46, in start_listener\n",
      "    msg = await asyncio.wait_for(s.recv(), 3)\n",
      "  File \"/home/mauricio/anaconda3/lib/python3.9/asyncio/tasks.py\", line 479, in wait_for\n",
      "    return fut.result()\n",
      "  File \"/home/mauricio/anaconda3/lib/python3.9/site-packages/binance/streams.py\", line 197, in recv\n",
      "    res = await asyncio.wait_for(self._queue.get(), timeout=self.TIMEOUT)\n",
      "  File \"/home/mauricio/anaconda3/lib/python3.9/asyncio/tasks.py\", line 479, in wait_for\n",
      "    return fut.result()\n",
      "  File \"/home/mauricio/anaconda3/lib/python3.9/asyncio/queues.py\", line 166, in get\n",
      "    await getter\n",
      "RuntimeError: Task <Task pending name='Task-14' coro=<Queue.get() running at /home/mauricio/anaconda3/lib/python3.9/asyncio/queues.py:166> cb=[_release_waiter(<Future pendi...112a0c370>()]>)() at /home/mauricio/anaconda3/lib/python3.9/asyncio/tasks.py:416]> got Future <Future pending> attached to a different loop\n"
     ]
    }
   ],
   "source": [
    "from binance import ThreadedWebsocketManager\n",
    "import time\n",
    "twm = ThreadedWebsocketManager(testnet = True)\n",
    "twm.start()\n",
    "twm.start_kline_futures_socket(callback = stream_candles, symbol = \"BTCUSDT\", interval = \"1m\")\n",
    "time.sleep(10)\n",
    "twm.stop()"
   ]
  },
  {
   "cell_type": "markdown",
   "id": "db9e4119",
   "metadata": {},
   "source": [
    "__Useful code for streaming__"
   ]
  },
  {
   "cell_type": "code",
   "execution_count": 1,
   "id": "72c318ae",
   "metadata": {},
   "outputs": [
    {
     "name": "stdout",
     "output_type": "stream",
     "text": [
      "{'id': 12, 'result': None}\n",
      "{'e': 'kline', 'E': 1660163725943, 's': 'BTCUSD_PERP', 'k': {'t': 1660163700000, 'T': 1660163759999, 's': 'BTCUSD_PERP', 'i': '1m', 'f': 503333722, 'L': 503333888, 'o': '23733.3', 'c': '23736.7', 'h': '23736.7', 'l': '23729.6', 'v': '6253', 'n': 167, 'x': False, 'q': '26.34858933', 'V': '3303', 'Q': '13.91798633', 'B': '0'}}\n",
      "{'e': 'kline', 'E': 1660163728294, 's': 'BTCUSD_PERP', 'k': {'t': 1660163700000, 'T': 1660163759999, 's': 'BTCUSD_PERP', 'i': '1m', 'f': 503333722, 'L': 503333889, 'o': '23733.3', 'c': '23736.8', 'h': '23736.8', 'l': '23729.6', 'v': '6254', 'n': 168, 'x': False, 'q': '26.35280220', 'V': '3304', 'Q': '13.92219920', 'B': '0'}}\n",
      "{'e': 'kline', 'E': 1660163730635, 's': 'BTCUSD_PERP', 'k': {'t': 1660163700000, 'T': 1660163759999, 's': 'BTCUSD_PERP', 'i': '1m', 'f': 503333722, 'L': 503333891, 'o': '23733.3', 'c': '23736.8', 'h': '23736.8', 'l': '23729.6', 'v': '6414', 'n': 170, 'x': False, 'q': '27.02686105', 'V': '3464', 'Q': '14.59625805', 'B': '0'}}\n",
      "{'e': 'kline', 'E': 1660163733572, 's': 'BTCUSD_PERP', 'k': {'t': 1660163700000, 'T': 1660163759999, 's': 'BTCUSD_PERP', 'i': '1m', 'f': 503333722, 'L': 503333892, 'o': '23733.3', 'c': '23736.8', 'h': '23736.8', 'l': '23729.6', 'v': '6419', 'n': 171, 'x': False, 'q': '27.04792539', 'V': '3469', 'Q': '14.61732239', 'B': '0'}}\n"
     ]
    },
    {
     "name": "stderr",
     "output_type": "stream",
     "text": [
      "WARNING:root:WebSocket connection closed: connection was closed uncleanly (\"peer dropped the TCP connection without previous WebSocket closing handshake\"), code: 1006, clean: False, reason: connection was closed uncleanly (\"peer dropped the TCP connection without previous WebSocket closing handshake\")\n"
     ]
    }
   ],
   "source": [
    "import time\n",
    "#import logging\n",
    "#from binance.lib.utils import config_logging\n",
    "from binance.websocket.cm_futures.websocket_client import CMFuturesWebsocketClient\n",
    "\n",
    "#config_logging(logging, logging.DEBUG)\n",
    "\n",
    "\n",
    "def message_handler(message):\n",
    "    print(message)\n",
    "\n",
    "\n",
    "my_client = CMFuturesWebsocketClient()\n",
    "my_client.start()\n",
    "\n",
    "my_client.kline(\n",
    "    symbol=\"btcusd_perp\",\n",
    "    id=12,\n",
    "    interval=\"1m\",\n",
    "    callback=message_handler,\n",
    ")\n",
    "\n",
    "time.sleep(10)\n",
    "\n",
    "#logging.debug(\"closing ws connection\")\n",
    "my_client.stop()"
   ]
  },
  {
   "cell_type": "markdown",
   "id": "735ceb81",
   "metadata": {},
   "source": [
    "# Streaming data"
   ]
  },
  {
   "cell_type": "markdown",
   "id": "c9916458",
   "metadata": {},
   "source": [
    "This is a simple class for streaming candles. It adds bars to a dataframe on a specified time.\n",
    "\n",
    "__Important__: You maybe need to restart kernel each time you close a connection."
   ]
  },
  {
   "cell_type": "code",
   "execution_count": 1,
   "id": "528f057b",
   "metadata": {},
   "outputs": [],
   "source": [
    "from binance.client import Client\n",
    "from binance.websocket.cm_futures.websocket_client import CMFuturesWebsocketClient\n",
    "import pandas as pd\n",
    "import numpy as np\n",
    "from datetime import datetime, timedelta\n",
    "import time"
   ]
  },
  {
   "cell_type": "code",
   "execution_count": 2,
   "id": "af155ecc",
   "metadata": {},
   "outputs": [],
   "source": [
    "class FuturesTrader():\n",
    "    def __init__(self, interval = \"1m\"):\n",
    "        self.stream = None\n",
    "        self.data = pd.DataFrame(columns = [\"Date\", \"Open\", \"High\", \"Low\", \"Close\", \"Volume\", \"Complete\"])\n",
    "        self.data[\"Date\"] = pd.to_datetime(self.data.iloc[:,0], unit = \"ms\")\n",
    "        self.data.set_index(\"Date\", inplace = True)\n",
    "        self.interval = interval\n",
    "        \n",
    "    def message_handler(self, message):\n",
    "        if 'result' in message.keys(): #skip first message\n",
    "            return\n",
    "        # extract the required items from msg\n",
    "        event_time = pd.to_datetime(message[\"E\"], unit = \"ms\")\n",
    "        start_time = pd.to_datetime(message[\"k\"][\"t\"], unit = \"ms\")\n",
    "        first   = float(message[\"k\"][\"o\"])\n",
    "        high    = float(message[\"k\"][\"h\"])\n",
    "        low     = float(message[\"k\"][\"l\"])\n",
    "        close   = float(message[\"k\"][\"c\"])\n",
    "        volume  = float(message[\"k\"][\"v\"])\n",
    "        complete=       message[\"k\"][\"x\"]\n",
    "        \n",
    "        # print out\n",
    "        print(\".\", end = \"\", flush = True) \n",
    "    \n",
    "        # feed df (add new bar / update latest bar)\n",
    "        self.data.loc[start_time] = [first, high, low, close, volume, complete]\n",
    "        \n",
    "    def start_streaming(self):\n",
    "        self.stream = CMFuturesWebsocketClient()\n",
    "        self.stream.start()\n",
    "        self.stream.kline(\n",
    "            symbol=\"btcusd_perp\",\n",
    "            id=12,\n",
    "            interval=self.interval,\n",
    "            callback=self.message_handler,\n",
    "        )\n",
    "        \n",
    "    def stop_streaming(self):\n",
    "        self.stream.stop()"
   ]
  },
  {
   "cell_type": "code",
   "execution_count": 3,
   "id": "e6c0b269",
   "metadata": {},
   "outputs": [],
   "source": [
    "trader = FuturesTrader()"
   ]
  },
  {
   "cell_type": "code",
   "execution_count": 4,
   "id": "50694e70",
   "metadata": {},
   "outputs": [
    {
     "name": "stdout",
     "output_type": "stream",
     "text": [
      "............................................................................................................................................................................................................................................................................................................................................."
     ]
    }
   ],
   "source": [
    "trader.start_streaming()"
   ]
  },
  {
   "cell_type": "code",
   "execution_count": 5,
   "id": "50392246",
   "metadata": {},
   "outputs": [
    {
     "name": "stderr",
     "output_type": "stream",
     "text": [
      "WARNING:root:WebSocket connection closed: connection was closed uncleanly (\"peer dropped the TCP connection without previous WebSocket closing handshake\"), code: 1006, clean: False, reason: connection was closed uncleanly (\"peer dropped the TCP connection without previous WebSocket closing handshake\")\n"
     ]
    }
   ],
   "source": [
    "trader.stop_streaming()"
   ]
  },
  {
   "cell_type": "code",
   "execution_count": 6,
   "id": "a1b61022",
   "metadata": {},
   "outputs": [
    {
     "data": {
      "text/html": [
       "<div>\n",
       "<style scoped>\n",
       "    .dataframe tbody tr th:only-of-type {\n",
       "        vertical-align: middle;\n",
       "    }\n",
       "\n",
       "    .dataframe tbody tr th {\n",
       "        vertical-align: top;\n",
       "    }\n",
       "\n",
       "    .dataframe thead th {\n",
       "        text-align: right;\n",
       "    }\n",
       "</style>\n",
       "<table border=\"1\" class=\"dataframe\">\n",
       "  <thead>\n",
       "    <tr style=\"text-align: right;\">\n",
       "      <th></th>\n",
       "      <th>Open</th>\n",
       "      <th>High</th>\n",
       "      <th>Low</th>\n",
       "      <th>Close</th>\n",
       "      <th>Volume</th>\n",
       "      <th>Complete</th>\n",
       "    </tr>\n",
       "    <tr>\n",
       "      <th>Date</th>\n",
       "      <th></th>\n",
       "      <th></th>\n",
       "      <th></th>\n",
       "      <th></th>\n",
       "      <th></th>\n",
       "      <th></th>\n",
       "    </tr>\n",
       "  </thead>\n",
       "  <tbody>\n",
       "    <tr>\n",
       "      <th>2022-08-10 21:42:00</th>\n",
       "      <td>23931.1</td>\n",
       "      <td>23931.1</td>\n",
       "      <td>23871.4</td>\n",
       "      <td>23908.6</td>\n",
       "      <td>37001.0</td>\n",
       "      <td>True</td>\n",
       "    </tr>\n",
       "    <tr>\n",
       "      <th>2022-08-10 21:43:00</th>\n",
       "      <td>23908.9</td>\n",
       "      <td>23932.5</td>\n",
       "      <td>23908.9</td>\n",
       "      <td>23932.5</td>\n",
       "      <td>4748.0</td>\n",
       "      <td>True</td>\n",
       "    </tr>\n",
       "    <tr>\n",
       "      <th>2022-08-10 21:44:00</th>\n",
       "      <td>23932.4</td>\n",
       "      <td>23932.4</td>\n",
       "      <td>23896.2</td>\n",
       "      <td>23897.6</td>\n",
       "      <td>37548.0</td>\n",
       "      <td>True</td>\n",
       "    </tr>\n",
       "    <tr>\n",
       "      <th>2022-08-10 21:45:00</th>\n",
       "      <td>23897.6</td>\n",
       "      <td>23934.2</td>\n",
       "      <td>23897.6</td>\n",
       "      <td>23928.9</td>\n",
       "      <td>32553.0</td>\n",
       "      <td>True</td>\n",
       "    </tr>\n",
       "    <tr>\n",
       "      <th>2022-08-10 21:46:00</th>\n",
       "      <td>23928.8</td>\n",
       "      <td>23943.4</td>\n",
       "      <td>23925.0</td>\n",
       "      <td>23925.0</td>\n",
       "      <td>18477.0</td>\n",
       "      <td>True</td>\n",
       "    </tr>\n",
       "    <tr>\n",
       "      <th>2022-08-10 21:47:00</th>\n",
       "      <td>23925.0</td>\n",
       "      <td>23946.3</td>\n",
       "      <td>23922.6</td>\n",
       "      <td>23939.1</td>\n",
       "      <td>19230.0</td>\n",
       "      <td>True</td>\n",
       "    </tr>\n",
       "    <tr>\n",
       "      <th>2022-08-10 21:48:00</th>\n",
       "      <td>23939.2</td>\n",
       "      <td>23941.8</td>\n",
       "      <td>23932.8</td>\n",
       "      <td>23935.7</td>\n",
       "      <td>11189.0</td>\n",
       "      <td>True</td>\n",
       "    </tr>\n",
       "    <tr>\n",
       "      <th>2022-08-10 21:49:00</th>\n",
       "      <td>23935.7</td>\n",
       "      <td>23937.5</td>\n",
       "      <td>23935.7</td>\n",
       "      <td>23937.5</td>\n",
       "      <td>1452.0</td>\n",
       "      <td>True</td>\n",
       "    </tr>\n",
       "    <tr>\n",
       "      <th>2022-08-10 21:50:00</th>\n",
       "      <td>23937.5</td>\n",
       "      <td>23937.5</td>\n",
       "      <td>23905.5</td>\n",
       "      <td>23905.5</td>\n",
       "      <td>5986.0</td>\n",
       "      <td>False</td>\n",
       "    </tr>\n",
       "  </tbody>\n",
       "</table>\n",
       "</div>"
      ],
      "text/plain": [
       "                        Open     High      Low    Close   Volume  Complete\n",
       "Date                                                                      \n",
       "2022-08-10 21:42:00  23931.1  23931.1  23871.4  23908.6  37001.0      True\n",
       "2022-08-10 21:43:00  23908.9  23932.5  23908.9  23932.5   4748.0      True\n",
       "2022-08-10 21:44:00  23932.4  23932.4  23896.2  23897.6  37548.0      True\n",
       "2022-08-10 21:45:00  23897.6  23934.2  23897.6  23928.9  32553.0      True\n",
       "2022-08-10 21:46:00  23928.8  23943.4  23925.0  23925.0  18477.0      True\n",
       "2022-08-10 21:47:00  23925.0  23946.3  23922.6  23939.1  19230.0      True\n",
       "2022-08-10 21:48:00  23939.2  23941.8  23932.8  23935.7  11189.0      True\n",
       "2022-08-10 21:49:00  23935.7  23937.5  23935.7  23937.5   1452.0      True\n",
       "2022-08-10 21:50:00  23937.5  23937.5  23905.5  23905.5   5986.0     False"
      ]
     },
     "execution_count": 6,
     "metadata": {},
     "output_type": "execute_result"
    }
   ],
   "source": [
    "trader.data"
   ]
  },
  {
   "cell_type": "markdown",
   "id": "799c5c8e",
   "metadata": {},
   "source": [
    "# Retrieving historical data\n",
    "\n",
    "When running the bot trader, we need the latest historical data to process all the needed metrics in real time. This method retrieves the latest __n__ candlesticks data on the required interval.\n",
    "\n",
    "This lines are useful for saving candlesticks info for Neural Networks\n",
    "\n",
    "params info at:  https://binance-docs.github.io/apidocs/futures/en/#kline-candlestick-data"
   ]
  },
  {
   "cell_type": "code",
   "execution_count": 39,
   "id": "09e3920e",
   "metadata": {},
   "outputs": [
    {
     "data": {
      "text/html": [
       "<div>\n",
       "<style scoped>\n",
       "    .dataframe tbody tr th:only-of-type {\n",
       "        vertical-align: middle;\n",
       "    }\n",
       "\n",
       "    .dataframe tbody tr th {\n",
       "        vertical-align: top;\n",
       "    }\n",
       "\n",
       "    .dataframe thead th {\n",
       "        text-align: right;\n",
       "    }\n",
       "</style>\n",
       "<table border=\"1\" class=\"dataframe\">\n",
       "  <thead>\n",
       "    <tr style=\"text-align: right;\">\n",
       "      <th></th>\n",
       "      <th>Open</th>\n",
       "      <th>High</th>\n",
       "      <th>Low</th>\n",
       "      <th>Close</th>\n",
       "      <th>Volume</th>\n",
       "    </tr>\n",
       "    <tr>\n",
       "      <th>Date</th>\n",
       "      <th></th>\n",
       "      <th></th>\n",
       "      <th></th>\n",
       "      <th></th>\n",
       "      <th></th>\n",
       "    </tr>\n",
       "  </thead>\n",
       "  <tbody>\n",
       "    <tr>\n",
       "      <th>2022-08-04 05:50:00</th>\n",
       "      <td>23780.0</td>\n",
       "      <td>23780.0</td>\n",
       "      <td>23198.0</td>\n",
       "      <td>23198.0</td>\n",
       "      <td>84.921</td>\n",
       "    </tr>\n",
       "    <tr>\n",
       "      <th>2022-08-04 05:51:00</th>\n",
       "      <td>23228.2</td>\n",
       "      <td>23900.0</td>\n",
       "      <td>23198.0</td>\n",
       "      <td>23900.0</td>\n",
       "      <td>84.941</td>\n",
       "    </tr>\n",
       "    <tr>\n",
       "      <th>2022-08-04 05:52:00</th>\n",
       "      <td>23852.2</td>\n",
       "      <td>23898.0</td>\n",
       "      <td>23198.0</td>\n",
       "      <td>23898.0</td>\n",
       "      <td>132.174</td>\n",
       "    </tr>\n",
       "    <tr>\n",
       "      <th>2022-08-04 05:53:00</th>\n",
       "      <td>23898.0</td>\n",
       "      <td>23900.0</td>\n",
       "      <td>23198.0</td>\n",
       "      <td>23228.2</td>\n",
       "      <td>74.257</td>\n",
       "    </tr>\n",
       "    <tr>\n",
       "      <th>2022-08-04 05:54:00</th>\n",
       "      <td>23520.4</td>\n",
       "      <td>23946.0</td>\n",
       "      <td>23198.0</td>\n",
       "      <td>23653.4</td>\n",
       "      <td>83.717</td>\n",
       "    </tr>\n",
       "    <tr>\n",
       "      <th>...</th>\n",
       "      <td>...</td>\n",
       "      <td>...</td>\n",
       "      <td>...</td>\n",
       "      <td>...</td>\n",
       "      <td>...</td>\n",
       "    </tr>\n",
       "    <tr>\n",
       "      <th>2022-08-11 04:26:00</th>\n",
       "      <td>24344.5</td>\n",
       "      <td>24344.5</td>\n",
       "      <td>24200.0</td>\n",
       "      <td>24317.6</td>\n",
       "      <td>75.895</td>\n",
       "    </tr>\n",
       "    <tr>\n",
       "      <th>2022-08-11 04:27:00</th>\n",
       "      <td>24312.2</td>\n",
       "      <td>24317.6</td>\n",
       "      <td>24150.0</td>\n",
       "      <td>24308.0</td>\n",
       "      <td>99.008</td>\n",
       "    </tr>\n",
       "    <tr>\n",
       "      <th>2022-08-11 04:28:00</th>\n",
       "      <td>24310.1</td>\n",
       "      <td>24313.6</td>\n",
       "      <td>24305.6</td>\n",
       "      <td>24311.0</td>\n",
       "      <td>21.804</td>\n",
       "    </tr>\n",
       "    <tr>\n",
       "      <th>2022-08-11 04:29:00</th>\n",
       "      <td>24305.6</td>\n",
       "      <td>24311.0</td>\n",
       "      <td>24305.6</td>\n",
       "      <td>24305.6</td>\n",
       "      <td>168.102</td>\n",
       "    </tr>\n",
       "    <tr>\n",
       "      <th>2022-08-11 04:30:00</th>\n",
       "      <td>24305.6</td>\n",
       "      <td>24305.6</td>\n",
       "      <td>24296.9</td>\n",
       "      <td>24301.4</td>\n",
       "      <td>25.503</td>\n",
       "    </tr>\n",
       "  </tbody>\n",
       "</table>\n",
       "<p>10001 rows × 5 columns</p>\n",
       "</div>"
      ],
      "text/plain": [
       "                        Open     High      Low    Close   Volume\n",
       "Date                                                            \n",
       "2022-08-04 05:50:00  23780.0  23780.0  23198.0  23198.0   84.921\n",
       "2022-08-04 05:51:00  23228.2  23900.0  23198.0  23900.0   84.941\n",
       "2022-08-04 05:52:00  23852.2  23898.0  23198.0  23898.0  132.174\n",
       "2022-08-04 05:53:00  23898.0  23900.0  23198.0  23228.2   74.257\n",
       "2022-08-04 05:54:00  23520.4  23946.0  23198.0  23653.4   83.717\n",
       "...                      ...      ...      ...      ...      ...\n",
       "2022-08-11 04:26:00  24344.5  24344.5  24200.0  24317.6   75.895\n",
       "2022-08-11 04:27:00  24312.2  24317.6  24150.0  24308.0   99.008\n",
       "2022-08-11 04:28:00  24310.1  24313.6  24305.6  24311.0   21.804\n",
       "2022-08-11 04:29:00  24305.6  24311.0  24305.6  24305.6  168.102\n",
       "2022-08-11 04:30:00  24305.6  24305.6  24296.9  24301.4   25.503\n",
       "\n",
       "[10001 rows x 5 columns]"
      ]
     },
     "execution_count": 39,
     "metadata": {},
     "output_type": "execute_result"
    }
   ],
   "source": [
    "from binance.client import Client\n",
    "import pandas as pd\n",
    "\n",
    "#### VARIABLES ####\n",
    "max_number_of_candles = 10000 \n",
    "interval_of_candles = \"1m\"\n",
    "symbol = \"BTCUSDT\"\n",
    "#### Available intervals for candles ####\n",
    "time_to_past = {\n",
    " \"1m\"  : timedelta(minutes=max_number_of_candles),\n",
    " \"3m\"  : timedelta(minutes=max_number_of_candles*3),\n",
    " \"5m\"  : timedelta(minutes=max_number_of_candles*5),\n",
    " \"15m\" : timedelta(minutes=max_number_of_candles*15),\n",
    " \"30m\" : timedelta(minutes=max_number_of_candles*30),\n",
    " \"1h\"  : timedelta(hours=max_number_of_candles),\n",
    " \"2h\"  : timedelta(hours=max_number_of_candles*2),\n",
    " \"4h\"  : timedelta(hours=max_number_of_candles*4),\n",
    " \"6h\"  : timedelta(hours=max_number_of_candles*6),\n",
    " \"8h\"  : timedelta(hours=max_number_of_candles*8),\n",
    " \"12h\" : timedelta(hours=max_number_of_candles*12),\n",
    " \"1d\"  : timedelta(days=max_number_of_candles),\n",
    " \"3d\"  : timedelta(days=max_number_of_candles*3),\n",
    " \"1w\"  : timedelta(days=max_number_of_candles*7),\n",
    " \"1M\"  : timedelta(days=max_number_of_candles*28) #this may give less than the desired candles because each month has different amount of days\n",
    "}\n",
    "########################################\n",
    "\n",
    "client = Client(api_key = api_key, api_secret = secret_key, tld = \"com\", testnet = True) # Testnet!!!\n",
    "\n",
    "now = datetime.utcnow()\n",
    "past = str(now - time_to_past[interval_of_candles])\n",
    "\n",
    "bars = client.futures_historical_klines(symbol = symbol, \n",
    "                                        interval = interval_of_candles, \n",
    "                                        start_str =past,\n",
    "                                        end_str = None)\n",
    "df = pd.DataFrame(bars)\n",
    "df[\"Date\"] = pd.to_datetime(df.iloc[:,0], unit = \"ms\")\n",
    "df.columns = [\"Open Time\", \"Open\", \"High\", \"Low\", \"Close\", \"Volume\",\n",
    "              \"Close Time\", \"Quote Asset Volume\", \"Number of Trades\",\n",
    "              \"Taker Buy Base Asset Volume\", \"Taker Buy Quote Asset Volume\", \"Ignore\", \"Date\"]\n",
    "df = df[[\"Date\", \"Open\", \"High\", \"Low\", \"Close\", \"Volume\"]].copy()\n",
    "df.set_index(\"Date\", inplace = True)\n",
    "for column in df.columns:\n",
    "    df[column] = pd.to_numeric(df[column], errors = \"coerce\")\n",
    "df"
   ]
  },
  {
   "cell_type": "markdown",
   "id": "45ad9df2",
   "metadata": {},
   "source": [
    "Then we can save the data to prevent requesting too many times from futures api"
   ]
  },
  {
   "cell_type": "code",
   "execution_count": 42,
   "id": "08f9771e",
   "metadata": {},
   "outputs": [],
   "source": [
    "df.to_csv(\"out.csv\")"
   ]
  },
  {
   "cell_type": "markdown",
   "id": "c30ece0d",
   "metadata": {},
   "source": [
    "You can load the data running:"
   ]
  },
  {
   "cell_type": "code",
   "execution_count": 62,
   "id": "7e4bac41",
   "metadata": {},
   "outputs": [
    {
     "name": "stdout",
     "output_type": "stream",
     "text": [
      "<class 'pandas.core.frame.DataFrame'>\n",
      "Index: 10001 entries, 2022-08-04 05:50:00 to 2022-08-11 04:30:00\n",
      "Data columns (total 5 columns):\n",
      " #   Column  Non-Null Count  Dtype  \n",
      "---  ------  --------------  -----  \n",
      " 0   Open    10001 non-null  float64\n",
      " 1   High    10001 non-null  float64\n",
      " 2   Low     10001 non-null  float64\n",
      " 3   Close   10001 non-null  float64\n",
      " 4   Volume  10001 non-null  float64\n",
      "dtypes: float64(5)\n",
      "memory usage: 468.8+ KB\n"
     ]
    }
   ],
   "source": [
    "loaded = pd.read_csv('out.csv')\n",
    "loaded.set_index(\"Date\", inplace = True)\n",
    "loaded.info()"
   ]
  },
  {
   "cell_type": "code",
   "execution_count": null,
   "id": "29169f5c",
   "metadata": {},
   "outputs": [],
   "source": []
  }
 ],
 "metadata": {
  "kernelspec": {
   "display_name": "Python 3 (ipykernel)",
   "language": "python",
   "name": "python3"
  },
  "language_info": {
   "codemirror_mode": {
    "name": "ipython",
    "version": 3
   },
   "file_extension": ".py",
   "mimetype": "text/x-python",
   "name": "python",
   "nbconvert_exporter": "python",
   "pygments_lexer": "ipython3",
   "version": "3.9.12"
  }
 },
 "nbformat": 4,
 "nbformat_minor": 5
}
