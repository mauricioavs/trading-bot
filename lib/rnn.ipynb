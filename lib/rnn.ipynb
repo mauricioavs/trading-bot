{
 "cells": [
  {
   "cell_type": "markdown",
   "metadata": {
    "colab_type": "text",
    "id": "xpAuMVCwfWs8"
   },
   "source": [
    "# Recurrent Neural Network"
   ]
  },
  {
   "cell_type": "markdown",
   "metadata": {},
   "source": [
    "## Part 0 - Get the data"
   ]
  },
  {
   "cell_type": "code",
   "execution_count": 100,
   "metadata": {},
   "outputs": [],
   "source": [
    "import yfinance as yf #docs at https://pypi.org/project/yfinance/"
   ]
  },
  {
   "cell_type": "code",
   "execution_count": 136,
   "metadata": {},
   "outputs": [
    {
     "name": "stdout",
     "output_type": "stream",
     "text": [
      "[*********************100%***********************]  1 of 1 completed\n"
     ]
    }
   ],
   "source": [
    "#get the data\n",
    "stock = \"BTC-USD\"\n",
    "period = \"1d\" # 1d,5d,1mo,3mo,6mo,1y,2y,5y,10y,ytd,max ( default '1mo')\n",
    "interval = \"5m\" # 1m,2m,5m,15m,30m,60m,90m,1h,1d,5d,1wk,1mo,3mo (default '1d')\n",
    "data = yf.download(tickers=stock, period = period, interval = interval)"
   ]
  },
  {
   "cell_type": "code",
   "execution_count": 137,
   "metadata": {},
   "outputs": [],
   "source": [
    "#save it\n",
    "data.to_csv(\"../data/yf_\"+\"_\".join([stock,period,interval]))"
   ]
  },
  {
   "cell_type": "markdown",
   "metadata": {
    "colab_type": "text",
    "id": "nxJfRe4bfYVA"
   },
   "source": [
    "## Part 1 - Data Preprocessing"
   ]
  },
  {
   "cell_type": "markdown",
   "metadata": {
    "colab_type": "text",
    "id": "ir9zwETrfbrp"
   },
   "source": [
    "### Importing the libraries"
   ]
  },
  {
   "cell_type": "code",
   "execution_count": 1,
   "metadata": {
    "colab": {},
    "colab_type": "code",
    "id": "ZT1f24vHffuf"
   },
   "outputs": [],
   "source": [
    "import numpy as np\n",
    "import matplotlib.pyplot as plt\n",
    "import pandas as pd"
   ]
  },
  {
   "cell_type": "markdown",
   "metadata": {
    "colab_type": "text",
    "id": "nQ47JAxrgmaL"
   },
   "source": [
    "### Importing the training set"
   ]
  },
  {
   "cell_type": "code",
   "execution_count": 176,
   "metadata": {},
   "outputs": [
    {
     "data": {
      "text/html": [
       "<div>\n",
       "<style scoped>\n",
       "    .dataframe tbody tr th:only-of-type {\n",
       "        vertical-align: middle;\n",
       "    }\n",
       "\n",
       "    .dataframe tbody tr th {\n",
       "        vertical-align: top;\n",
       "    }\n",
       "\n",
       "    .dataframe thead th {\n",
       "        text-align: right;\n",
       "    }\n",
       "</style>\n",
       "<table border=\"1\" class=\"dataframe\">\n",
       "  <thead>\n",
       "    <tr style=\"text-align: right;\">\n",
       "      <th></th>\n",
       "      <th>Open</th>\n",
       "      <th>High</th>\n",
       "      <th>Low</th>\n",
       "      <th>Close</th>\n",
       "      <th>Volume</th>\n",
       "    </tr>\n",
       "    <tr>\n",
       "      <th>Date</th>\n",
       "      <th></th>\n",
       "      <th></th>\n",
       "      <th></th>\n",
       "      <th></th>\n",
       "      <th></th>\n",
       "    </tr>\n",
       "  </thead>\n",
       "  <tbody>\n",
       "    <tr>\n",
       "      <th>2022-09-17 12:28:00</th>\n",
       "      <td>19850.1</td>\n",
       "      <td>20091.7</td>\n",
       "      <td>19850.0</td>\n",
       "      <td>19850.1</td>\n",
       "      <td>36.404</td>\n",
       "    </tr>\n",
       "    <tr>\n",
       "      <th>2022-09-17 12:29:00</th>\n",
       "      <td>19850.1</td>\n",
       "      <td>20090.0</td>\n",
       "      <td>19850.1</td>\n",
       "      <td>19850.1</td>\n",
       "      <td>28.577</td>\n",
       "    </tr>\n",
       "    <tr>\n",
       "      <th>2022-09-17 12:30:00</th>\n",
       "      <td>19855.6</td>\n",
       "      <td>20092.0</td>\n",
       "      <td>19850.0</td>\n",
       "      <td>19852.9</td>\n",
       "      <td>131.046</td>\n",
       "    </tr>\n",
       "    <tr>\n",
       "      <th>2022-09-17 12:31:00</th>\n",
       "      <td>19886.1</td>\n",
       "      <td>20092.0</td>\n",
       "      <td>19850.0</td>\n",
       "      <td>19850.2</td>\n",
       "      <td>40.902</td>\n",
       "    </tr>\n",
       "    <tr>\n",
       "      <th>2022-09-17 12:32:00</th>\n",
       "      <td>19850.2</td>\n",
       "      <td>20091.7</td>\n",
       "      <td>19850.0</td>\n",
       "      <td>20091.6</td>\n",
       "      <td>62.320</td>\n",
       "    </tr>\n",
       "    <tr>\n",
       "      <th>...</th>\n",
       "      <td>...</td>\n",
       "      <td>...</td>\n",
       "      <td>...</td>\n",
       "      <td>...</td>\n",
       "      <td>...</td>\n",
       "    </tr>\n",
       "    <tr>\n",
       "      <th>2022-09-18 05:03:00</th>\n",
       "      <td>20228.8</td>\n",
       "      <td>20320.0</td>\n",
       "      <td>20220.0</td>\n",
       "      <td>20227.0</td>\n",
       "      <td>45.804</td>\n",
       "    </tr>\n",
       "    <tr>\n",
       "      <th>2022-09-18 05:04:00</th>\n",
       "      <td>20267.1</td>\n",
       "      <td>20320.0</td>\n",
       "      <td>20186.0</td>\n",
       "      <td>20196.3</td>\n",
       "      <td>100.617</td>\n",
       "    </tr>\n",
       "    <tr>\n",
       "      <th>2022-09-18 05:05:00</th>\n",
       "      <td>20221.5</td>\n",
       "      <td>20320.0</td>\n",
       "      <td>20186.0</td>\n",
       "      <td>20186.0</td>\n",
       "      <td>51.793</td>\n",
       "    </tr>\n",
       "    <tr>\n",
       "      <th>2022-09-18 05:06:00</th>\n",
       "      <td>20186.0</td>\n",
       "      <td>20320.0</td>\n",
       "      <td>20186.0</td>\n",
       "      <td>20215.7</td>\n",
       "      <td>22.845</td>\n",
       "    </tr>\n",
       "    <tr>\n",
       "      <th>2022-09-18 05:07:00</th>\n",
       "      <td>20209.8</td>\n",
       "      <td>20249.9</td>\n",
       "      <td>20209.8</td>\n",
       "      <td>20249.9</td>\n",
       "      <td>0.007</td>\n",
       "    </tr>\n",
       "  </tbody>\n",
       "</table>\n",
       "<p>1000 rows × 5 columns</p>\n",
       "</div>"
      ],
      "text/plain": [
       "                        Open     High      Low    Close   Volume\n",
       "Date                                                            \n",
       "2022-09-17 12:28:00  19850.1  20091.7  19850.0  19850.1   36.404\n",
       "2022-09-17 12:29:00  19850.1  20090.0  19850.1  19850.1   28.577\n",
       "2022-09-17 12:30:00  19855.6  20092.0  19850.0  19852.9  131.046\n",
       "2022-09-17 12:31:00  19886.1  20092.0  19850.0  19850.2   40.902\n",
       "2022-09-17 12:32:00  19850.2  20091.7  19850.0  20091.6   62.320\n",
       "...                      ...      ...      ...      ...      ...\n",
       "2022-09-18 05:03:00  20228.8  20320.0  20220.0  20227.0   45.804\n",
       "2022-09-18 05:04:00  20267.1  20320.0  20186.0  20196.3  100.617\n",
       "2022-09-18 05:05:00  20221.5  20320.0  20186.0  20186.0   51.793\n",
       "2022-09-18 05:06:00  20186.0  20320.0  20186.0  20215.7   22.845\n",
       "2022-09-18 05:07:00  20209.8  20249.9  20209.8  20249.9    0.007\n",
       "\n",
       "[1000 rows x 5 columns]"
      ]
     },
     "execution_count": 176,
     "metadata": {},
     "output_type": "execute_result"
    }
   ],
   "source": [
    "#Load data\n",
    "#stock = \"BTC-USD\"\n",
    "#period = \"1d\" \n",
    "#interval = \"1m\" \n",
    "#dataset_location = \"../data/yf_\"+\"_\".join([stock,period,interval])\n",
    "#dataset = pd.read_csv(dataset_location, index_col = \"Datetime\", parse_dates = [\"Datetime\"])\n",
    "dataset = pd.read_csv(\"../data/btc-usdt_1m.csv\", index_col = \"Date\", parse_dates = [\"Date\"])\n",
    "#split into training and test sets\n",
    "num_records = dataset.shape[0]\n",
    "test_size = min(int(num_records*0.2), 1000) #limits max number of test records\n",
    "train_size = num_records - test_size\n",
    "dataset_train = dataset.iloc[:train_size]\n",
    "dataset_test = dataset.iloc[train_size:]\n",
    "dataset_test"
   ]
  },
  {
   "cell_type": "code",
   "execution_count": 148,
   "metadata": {
    "colab": {},
    "colab_type": "code",
    "id": "1xiv3pJOgqY3"
   },
   "outputs": [
    {
     "data": {
      "text/plain": [
       "array([[21560.   ,    81.565],\n",
       "       [21555.1  ,    41.665],\n",
       "       [21548.   ,    33.66 ],\n",
       "       ...,\n",
       "       [19850.2  ,    98.354],\n",
       "       [19851.2  ,   128.869],\n",
       "       [19891.6  ,    26.129]])"
      ]
     },
     "execution_count": 148,
     "metadata": {},
     "output_type": "execute_result"
    }
   ],
   "source": [
    "cols = [\"Open\", \"Volume\"] #cols to use (the first has to be the predicted one)\n",
    "training_set = dataset_train[cols].loc[:].values\n",
    "training_set\n"
   ]
  },
  {
   "cell_type": "markdown",
   "metadata": {
    "colab_type": "text",
    "id": "HT8_2UJegtG5"
   },
   "source": [
    "### Feature Scaling"
   ]
  },
  {
   "cell_type": "code",
   "execution_count": 188,
   "metadata": {
    "colab": {},
    "colab_type": "code",
    "id": "OTrF2kR7gx9x"
   },
   "outputs": [
    {
     "data": {
      "text/plain": [
       "array([[0.61291839, 0.07298036],\n",
       "       [0.61127337, 0.03727761],\n",
       "       [0.60888978, 0.03011469],\n",
       "       ...,\n",
       "       [0.03890959, 0.08800325],\n",
       "       [0.03924531, 0.11530825],\n",
       "       [0.05280827, 0.02337591]])"
      ]
     },
     "execution_count": 188,
     "metadata": {},
     "output_type": "execute_result"
    }
   ],
   "source": [
    "from sklearn.preprocessing import MinMaxScaler\n",
    "sc = MinMaxScaler(feature_range = (0, 1))\n",
    "training_set_scaled = sc.fit_transform(training_set)\n",
    "training_set_scaled"
   ]
  },
  {
   "cell_type": "markdown",
   "metadata": {
    "colab_type": "text",
    "id": "JyYgYocqhNUg"
   },
   "source": [
    "### Creating a data structure with 60 timesteps and 1 output"
   ]
  },
  {
   "cell_type": "code",
   "execution_count": 190,
   "metadata": {
    "colab": {},
    "colab_type": "code",
    "id": "iofU21B0i6ST"
   },
   "outputs": [
    {
     "name": "stdout",
     "output_type": "stream",
     "text": [
      "[[[0.61291839 0.07298036]\n",
      "  [0.61127337 0.03727761]\n",
      "  [0.60888978 0.03011469]\n",
      "  ...\n",
      "  [0.62601135 0.05628328]\n",
      "  [0.62567563 0.11165923]\n",
      "  [0.62295632 0.03656803]]\n",
      "\n",
      " [[0.61127337 0.03727761]\n",
      "  [0.60888978 0.03011469]\n",
      "  [0.61600698 0.06106512]\n",
      "  ...\n",
      "  [0.62567563 0.11165923]\n",
      "  [0.62295632 0.03656803]\n",
      "  [0.62473562 0.05263874]]\n",
      "\n",
      " [[0.60888978 0.03011469]\n",
      "  [0.61600698 0.06106512]\n",
      "  [0.61778628 0.05985087]\n",
      "  ...\n",
      "  [0.62295632 0.03656803]\n",
      "  [0.62473562 0.05263874]\n",
      "  [0.62527277 0.0290445 ]]\n",
      "\n",
      " ...\n",
      "\n",
      " [[0.0966529  0.02058322]\n",
      "  [0.072817   0.05016549]\n",
      "  [0.06063048 0.00846128]\n",
      "  ...\n",
      "  [0.03884245 0.07704546]\n",
      "  [0.03884245 0.06380054]\n",
      "  [0.03884245 0.05244546]]\n",
      "\n",
      " [[0.072817   0.05016549]\n",
      "  [0.06063048 0.00846128]\n",
      "  [0.08601068 0.04419267]\n",
      "  ...\n",
      "  [0.03884245 0.06380054]\n",
      "  [0.03884245 0.05244546]\n",
      "  [0.03890959 0.08800325]]\n",
      "\n",
      " [[0.06063048 0.00846128]\n",
      "  [0.08601068 0.04419267]\n",
      "  [0.05401685 0.01973136]\n",
      "  ...\n",
      "  [0.03884245 0.05244546]\n",
      "  [0.03890959 0.08800325]\n",
      "  [0.03924531 0.11530825]]]\n",
      "0.6247356229227519\n"
     ]
    }
   ],
   "source": [
    "X_train = []\n",
    "y_train = []\n",
    "records = training_set_scaled.shape[0]\n",
    "for i in range(60, records):\n",
    "    X_train.append(training_set_scaled[i-60:i])\n",
    "    y_train.append(training_set_scaled[i, 0])\n",
    "X_train, y_train = np.array(X_train), np.array(y_train)\n",
    "print(X_train) \n",
    "print(y_train[0])"
   ]
  },
  {
   "cell_type": "markdown",
   "metadata": {
    "colab_type": "text",
    "id": "D8yaN7Zvi95l"
   },
   "source": [
    "### Reshaping"
   ]
  },
  {
   "cell_type": "code",
   "execution_count": 151,
   "metadata": {
    "colab": {},
    "colab_type": "code",
    "id": "FOXqJHmNjBkz"
   },
   "outputs": [],
   "source": [
    "#X_train = np.reshape(X_train, (X_train.shape[0], X_train.shape[1], 1))"
   ]
  },
  {
   "cell_type": "markdown",
   "metadata": {
    "colab_type": "text",
    "id": "ZRRSOJeVjEWV"
   },
   "source": [
    "## Part 2 - Building and Training the RNN"
   ]
  },
  {
   "cell_type": "markdown",
   "metadata": {
    "colab_type": "text",
    "id": "k4XV88JMjHXG"
   },
   "source": [
    "### Importing the Keras libraries and packages"
   ]
  },
  {
   "cell_type": "code",
   "execution_count": 192,
   "metadata": {
    "colab": {
     "base_uri": "https://localhost:8080/",
     "height": 34
    },
    "colab_type": "code",
    "id": "9JRnqsxEjKsD",
    "outputId": "b3e23e78-18aa-4396-c923-c877b8de60e4"
   },
   "outputs": [],
   "source": [
    "from keras.models import Sequential\n",
    "from keras.layers import Dense\n",
    "from keras.layers import LSTM\n",
    "from keras.layers import Dropout"
   ]
  },
  {
   "cell_type": "markdown",
   "metadata": {
    "colab_type": "text",
    "id": "FEIE-1s9jNzC"
   },
   "source": [
    "### Initialising the RNN"
   ]
  },
  {
   "cell_type": "code",
   "execution_count": 193,
   "metadata": {
    "colab": {},
    "colab_type": "code",
    "id": "1338dJ0UjRKH"
   },
   "outputs": [],
   "source": [
    "regressor = Sequential()"
   ]
  },
  {
   "cell_type": "markdown",
   "metadata": {
    "colab_type": "text",
    "id": "62eg1OPGjT8z"
   },
   "source": [
    "### Adding the first LSTM layer and some Dropout regularisation"
   ]
  },
  {
   "cell_type": "code",
   "execution_count": 194,
   "metadata": {
    "colab": {},
    "colab_type": "code",
    "id": "2hIinyXUjbVU"
   },
   "outputs": [],
   "source": [
    "regressor.add(LSTM(units = 50, return_sequences = True, input_shape = (X_train.shape[1], X_train.shape[2])))\n",
    "regressor.add(Dropout(0.2))"
   ]
  },
  {
   "cell_type": "markdown",
   "metadata": {
    "colab_type": "text",
    "id": "3XBIYLyOjlMx"
   },
   "source": [
    "### Adding a second LSTM layer and some Dropout regularisation"
   ]
  },
  {
   "cell_type": "code",
   "execution_count": 195,
   "metadata": {
    "colab": {},
    "colab_type": "code",
    "id": "UG7nrVaSjuZ2"
   },
   "outputs": [],
   "source": [
    "regressor.add(LSTM(units = 50, return_sequences = True))\n",
    "regressor.add(Dropout(0.2))"
   ]
  },
  {
   "cell_type": "markdown",
   "metadata": {
    "colab_type": "text",
    "id": "Ey3fHVnGj1cu"
   },
   "source": [
    "### Adding a third LSTM layer and some Dropout regularisation"
   ]
  },
  {
   "cell_type": "code",
   "execution_count": 196,
   "metadata": {
    "colab": {},
    "colab_type": "code",
    "id": "PuNi6PgFj7jO"
   },
   "outputs": [],
   "source": [
    "regressor.add(LSTM(units = 50, return_sequences = True))\n",
    "regressor.add(Dropout(0.2))"
   ]
  },
  {
   "cell_type": "markdown",
   "metadata": {
    "colab_type": "text",
    "id": "SYTrtfTmj933"
   },
   "source": [
    "### Adding a fourth LSTM layer and some Dropout regularisation"
   ]
  },
  {
   "cell_type": "code",
   "execution_count": 197,
   "metadata": {
    "colab": {},
    "colab_type": "code",
    "id": "Jp4Ty8fRkBYV"
   },
   "outputs": [],
   "source": [
    "regressor.add(LSTM(units = 50))\n",
    "regressor.add(Dropout(0.2))"
   ]
  },
  {
   "cell_type": "markdown",
   "metadata": {
    "colab_type": "text",
    "id": "9ABI6rOIkHhk"
   },
   "source": [
    "### Adding the output layer"
   ]
  },
  {
   "cell_type": "code",
   "execution_count": 198,
   "metadata": {
    "colab": {},
    "colab_type": "code",
    "id": "aM6R1z4WkME8"
   },
   "outputs": [],
   "source": [
    "regressor.add(Dense(units = 1))"
   ]
  },
  {
   "cell_type": "markdown",
   "metadata": {
    "colab_type": "text",
    "id": "zLx4K7uUkPSh"
   },
   "source": [
    "### Compiling the RNN"
   ]
  },
  {
   "cell_type": "code",
   "execution_count": 199,
   "metadata": {
    "colab": {},
    "colab_type": "code",
    "id": "XTrhVN-tkbko"
   },
   "outputs": [],
   "source": [
    "regressor.compile(optimizer = 'adam', loss = 'mean_squared_error')"
   ]
  },
  {
   "cell_type": "markdown",
   "metadata": {
    "colab_type": "text",
    "id": "-mPhwKGkkebi"
   },
   "source": [
    "### Fitting the RNN to the Training set"
   ]
  },
  {
   "cell_type": "code",
   "execution_count": 200,
   "metadata": {
    "colab": {
     "base_uri": "https://localhost:8080/",
     "height": 1000
    },
    "colab_type": "code",
    "id": "I06Nkrz5kkb-",
    "outputId": "dc9d947a-4d5c-4dbc-ed45-31bf44b98dfb"
   },
   "outputs": [
    {
     "name": "stdout",
     "output_type": "stream",
     "text": [
      "Epoch 1/5\n",
      "141/141 [==============================] - 103s 591ms/step - loss: 0.0103\n",
      "Epoch 2/5\n",
      "141/141 [==============================] - 67s 472ms/step - loss: 0.0037\n",
      "Epoch 3/5\n",
      "141/141 [==============================] - 81s 574ms/step - loss: 0.0032\n",
      "Epoch 4/5\n",
      "141/141 [==============================] - 94s 662ms/step - loss: 0.0030\n",
      "Epoch 5/5\n",
      "141/141 [==============================] - 78s 553ms/step - loss: 0.0029\n"
     ]
    },
    {
     "data": {
      "text/plain": [
       "<keras.callbacks.History at 0x7fb03fcb3970>"
      ]
     },
     "execution_count": 200,
     "metadata": {},
     "output_type": "execute_result"
    }
   ],
   "source": [
    "regressor.fit(X_train, y_train, epochs = 5, batch_size = 64)"
   ]
  },
  {
   "cell_type": "code",
   "execution_count": 202,
   "metadata": {},
   "outputs": [],
   "source": [
    "regressor.save('rnn.h5')\n",
    "#load model\n",
    "#regressor = keras.models.load_model('rnn.h5')"
   ]
  },
  {
   "cell_type": "markdown",
   "metadata": {
    "colab_type": "text",
    "id": "4hRau_lIkrE8"
   },
   "source": [
    "## Part 3 - Making the predictions and visualising the results"
   ]
  },
  {
   "cell_type": "markdown",
   "metadata": {
    "colab_type": "text",
    "id": "GrvrLblxkz42"
   },
   "source": [
    "### Getting the predicted stock price"
   ]
  },
  {
   "cell_type": "code",
   "execution_count": 233,
   "metadata": {
    "colab": {},
    "colab_type": "code",
    "id": "emikTvUpk3Ck"
   },
   "outputs": [
    {
     "name": "stdout",
     "output_type": "stream",
     "text": [
      "32/32 [==============================] - 4s 114ms/step\n"
     ]
    }
   ],
   "source": [
    "#concatenate all data to have all values\n",
    "dataset_total = pd.concat((dataset_train[cols], dataset_test[cols]), axis = 0)\n",
    "inputs = dataset_total[len(dataset_total) - len(dataset_test) - 60:].values\n",
    "#inputs = inputs.reshape(-1, len(cols))\n",
    "inputs = sc.transform(inputs)\n",
    "X_test = []\n",
    "for i in range(60, len(inputs)):\n",
    "    X_test.append(inputs[i-60:i])\n",
    "X_test = np.array(X_test)\n",
    "#X_test = np.reshape(X_test, (X_test.shape[0], X_test.shape[1], 1))\n",
    "predicted_stock_price = regressor.predict(X_test)\n",
    "#concatenate a columns of zeroes to inverse transform\n",
    "predicted_stock_price = np.concatenate((predicted_stock_price, np.zeros((1000,1))), axis=1) #inverse transform needs same dimensions\n",
    "predicted_stock_price = sc.inverse_transform(predicted_stock_price)\n",
    "#return to one column\n",
    "predicted_stock_price = np.delete(predicted_stock_price, np.s_[1::], 1)"
   ]
  },
  {
   "cell_type": "code",
   "execution_count": 242,
   "metadata": {},
   "outputs": [
    {
     "data": {
      "text/plain": [
       "array([19850.1, 19850.1, 19855.6, 19886.1, 19850.2, 19906.1, 19918.3,\n",
       "       20054.6, 20085.3, 19864.4, 19862.2, 19898.4, 19930. , 19930. ,\n",
       "       19952.4, 20015.7, 20029. , 20015.8, 20028.6, 19856.9, 19929.6,\n",
       "       19999.4, 20050.3, 19963.6, 20027.8, 19867.3, 20124. , 20038.3,\n",
       "       20019.7, 20061.6, 20056.2, 20045. , 20109.9, 20112.9, 20116. ,\n",
       "       19979.7, 20065.6, 20092.1, 20087.6, 19861.3, 19862.5, 19944. ,\n",
       "       19897.1, 19969.7, 19903.1, 19939.7, 19988. , 20037.5, 20031.7,\n",
       "       20014.7, 20002.9, 20006.3, 20014.5, 19981.2, 20031.8, 19954.6,\n",
       "       19954.6, 19914.7, 19870.2, 19919.7, 20027.9, 19871.2, 19871.6,\n",
       "       19871.6, 19877.2, 19878.8, 19909. , 19902.9, 19960.8, 19924. ,\n",
       "       19902.8, 19914. , 19924.6, 19884.6, 19984.1, 19880. , 19889.9,\n",
       "       19885. , 19885. , 19903.1, 19925.7, 19951.1, 19950.7, 19958.3,\n",
       "       19881.8, 19878.5, 19879.7, 19876.2, 19947.5, 19927.4, 19942. ,\n",
       "       19900.9, 19902.4, 19905. , 19915.4, 19925.9, 19968.5, 19976.3,\n",
       "       19981.2, 19967.4, 20070.8, 20098. , 20002.7, 20090. , 19926.1,\n",
       "       19929.1, 19939.5, 20013.1, 19954.9, 19923.5, 20024.4, 19933. ,\n",
       "       19933. , 19924.5, 19920.5, 19939.4, 19922. , 19939.4, 19939.4,\n",
       "       19950. , 19950.2, 19937.5, 19937.1, 19924.9, 19971.4, 19960.7,\n",
       "       19973.4, 19971.7, 19930. , 19935.1, 19923. , 19938.3, 19945.6,\n",
       "       19930. , 19978.1, 19979.5, 20042. , 19926.2, 20056.2, 20047.4,\n",
       "       20090.9, 20069.7, 20049.9, 19938. , 19911.6, 19976.6, 19935. ,\n",
       "       19980.1, 20017.9, 19908.2, 19907. , 19913.4, 19917.4, 19911.1,\n",
       "       19979.5, 19992.2, 20008.9, 19962.7, 19910. , 19989.3, 19937.3,\n",
       "       19920.1, 19955.5, 20001. , 19976. , 19979.5, 19997.9, 20009.3,\n",
       "       20028.4, 19909.3, 19964.4, 19967.8, 19969.3, 19930. , 20032.3,\n",
       "       20059.9, 20067.3, 20006.6, 19919.7, 20003.5, 19974.6, 20036.4,\n",
       "       19951.5, 19948.3, 19973.1, 19934.4, 19960. , 19942.9, 19954.6,\n",
       "       19958.2, 19994.5, 19983.9, 19964.3, 19967.7, 20031.7, 19986.1,\n",
       "       20021.7, 20088.7, 20052.2, 20085.5, 20097.5, 20085.4, 20017.4,\n",
       "       20110.9, 20143.5, 20129.1, 20120. , 20124.8, 20098.2, 20098.4,\n",
       "       20020.1, 20051.1, 20054.8, 20071.7, 20036.8, 20069.4, 20058.2,\n",
       "       20116.6, 20150. , 20108.3, 20020.1, 20109.9, 20081.1, 20110.6,\n",
       "       20076.1, 20087.3, 20073.2, 20094.7, 20109.5, 20160.1, 20175.7,\n",
       "       20169.9, 20172.8, 20144.1, 20125.6, 20137. , 20150. , 20088.7,\n",
       "       20098.8, 20132.7, 20068. , 20151.4, 20034.7, 20083.7, 20151.3,\n",
       "       20069.5, 20059. , 20066.2, 20113.9, 20059.6, 20173.2, 20058. ,\n",
       "       20089.7, 20100.4, 20094.6, 20143.9, 20141.8, 20175.7, 20139.1,\n",
       "       20145.5, 20132. , 20175.7, 20134.4, 20114.4, 20129.9, 20123. ,\n",
       "       20116. , 20126.3, 20121.9, 20159.6, 20159.6, 20143.3, 20125.7,\n",
       "       20128.5, 20144.8, 20128.9, 20134.4, 20110.8, 20136.6, 20156.8,\n",
       "       20170. , 20177.6, 20168.2, 20176.9, 20145.7, 20145.5, 20105.2,\n",
       "       20154.1, 20155. , 20138.7, 20120. , 20122. , 20120. , 20174.3,\n",
       "       20179.7, 20160.1, 20200. , 20233.2, 20211.4, 20200.5, 20243.3,\n",
       "       20287.1, 20254.4, 20190.1, 20200. , 20216.3, 20245.7, 20313.8,\n",
       "       20240. , 20306.8, 20327.6, 20302.2, 20253.1, 20267.9, 20263.8,\n",
       "       20305.8, 20316.8, 20178.3, 20163. , 20191.7, 20200.5, 20244.4,\n",
       "       20234.9, 20304.4, 20232.4, 20225.7, 20198.3, 20196.1, 20288.2,\n",
       "       20265.8, 20292.7, 20169. , 20200.6, 20140.4, 20217.7, 20295.1,\n",
       "       20254.4, 20222.6, 20247.2, 20205.5, 20146. , 20185.5, 20185.5,\n",
       "       20170. , 20162.5, 20170. , 20169.4, 20177.1, 20188.2, 20335. ,\n",
       "       20152. , 20218.9, 20195.7, 20202.1, 20190.5, 20143.2, 20226.2,\n",
       "       20189.7, 20268.1, 20198.3, 20201.7, 20211.5, 20167.8, 20158.4,\n",
       "       20160.7, 20200.1, 20226.3, 20184.4, 20186. , 20216.5, 20150.1,\n",
       "       20177.9, 20217.6, 20264.2, 20281.4, 20286.9, 20296.4, 20238.5,\n",
       "       20316.1, 20197.2, 20212.7, 20237. , 20212.1, 20215.1, 20201.6,\n",
       "       20219.1, 20308.2, 20313. , 20298.9, 20160. , 20281.6, 20335.5,\n",
       "       20294.2, 20300. , 20274.8, 20252.2, 20262.2, 20189.1, 20206.3,\n",
       "       20162.4, 20251.9, 20260.3, 20234.1, 20278.1, 20389.9, 20380. ,\n",
       "       20187.2, 20278.5, 20280.6, 20204.8, 20214.5, 20225.4, 20241.4,\n",
       "       20283.9, 20295.3, 20385. , 20389.9, 20249.8, 20349.1, 20267.7,\n",
       "       20293.1, 20278.1, 20256.2, 20294.5, 20300. , 20178.6, 20268.8,\n",
       "       20320. , 20280. , 20271.1, 20260.6, 20280.5, 20387.8, 20308.4,\n",
       "       20241.6, 20350. , 20218.9, 20242.8, 20196. , 20213.6, 20246.6,\n",
       "       20284.3, 20370. , 20257.9, 20389.8, 20389.9, 20236.2, 20257.1,\n",
       "       20227.3, 20329.5, 20226.9, 20201.1, 20209.3, 20265.3, 20283.3,\n",
       "       20162.6, 20242. , 20234.4, 20162.9, 20293.8, 20389.9, 20337.7,\n",
       "       20161.1, 20258. , 20288.3, 20251.3, 20350. , 20274.3, 20287.3,\n",
       "       20250. , 20212.2, 20218.4, 20223.3, 20238.9, 20235.1, 20167.5,\n",
       "       20201.9, 20259.5, 20251.6, 20264. , 20198.7, 20219.8, 20291.2,\n",
       "       20320.4, 20263.7, 20282.5, 20204.6, 20280.4, 20277.1, 20380. ,\n",
       "       20252.2, 20315.1, 20252.5, 20256.8, 20194.2, 20256. , 20249.4,\n",
       "       20325.2, 20381. , 20245.4, 20393.8, 20295.4, 20484.7, 20280.2,\n",
       "       20313.5, 20299.6, 20428.4, 20428.4, 20299.1, 20276.4, 20300. ,\n",
       "       20315.6, 20265.9, 20282.3, 20320.9, 20411.1, 20458.8, 20360.1,\n",
       "       20350.9, 20269.4, 20313.2, 20256.5, 20237.6, 20275.5, 20268.5,\n",
       "       20241. , 20262.8, 20251. , 20335.2, 20300.5, 20282.5, 20332.1,\n",
       "       20316.9, 20302.7, 20255. , 20243.6, 20374.2, 20289.7, 20449.9,\n",
       "       20259. , 20253.7, 20405.5, 20499.8, 20248.8, 20457. , 20496.6,\n",
       "       20496.6, 20280. , 20245. , 20493.5, 20283.5, 20306.4, 20499.9,\n",
       "       20499.9, 20282.1, 20261.8, 20499.8, 20245.5, 20331.9, 20395.3,\n",
       "       20500. , 20318.4, 20458. , 20280. , 20290. , 20311.2, 20420. ,\n",
       "       20274.3, 20254. , 20321. , 20299. , 20464.9, 20498.7, 20307.1,\n",
       "       20320.9, 20347.7, 20415.3, 20447.7, 20330.4, 20470. , 20490. ,\n",
       "       20362.1, 20340.8, 20335.4, 20297.8, 20270. , 20318. , 20327.7,\n",
       "       20407.7, 20375.3, 20287.9, 20354.3, 20321.5, 20350.8, 20329.5,\n",
       "       20343.4, 20334. , 20359.8, 20343. , 20312.9, 20458.9, 20458.9,\n",
       "       20343.9, 20336.4, 20355.9, 20387.4, 20387.4, 20349.8, 20367.3,\n",
       "       20383.7, 20389. , 20388. , 20450. , 20377.5, 20458.9, 20354.1,\n",
       "       20344.5, 20402.4, 20456.8, 20396.1, 20363.2, 20500. , 20418.1,\n",
       "       20358.1, 20320.2, 20372.3, 20454.4, 20500. , 20392.4, 20366.7,\n",
       "       20393. , 20354.5, 20416.8, 20377.6, 20500. , 20499. , 20376.3,\n",
       "       20359. , 20429.1, 20399.8, 20495. , 20330.3, 20350.9, 20358.2,\n",
       "       20368.4, 20354.7, 20376.2, 20399.2, 20495. , 20326. , 20399.9,\n",
       "       20363.5, 20373.4, 20357.6, 20362.4, 20499. , 20458. , 20376.2,\n",
       "       20400.7, 20397.6, 20391.6, 20498.9, 20498.9, 20372.5, 20395.9,\n",
       "       20335.4, 20361.2, 20381.6, 20335.4, 20498.9, 20387.6, 20406.4,\n",
       "       20377.9, 20397.7, 20390.3, 20330.1, 20367.2, 20354.9, 20389.4,\n",
       "       20351.7, 20495. , 20382.3, 20454. , 20371.8, 20362. , 20404.5,\n",
       "       20409.1, 20457.9, 20405.4, 20400.2, 20392.2, 20331. , 20330.1,\n",
       "       20344.8, 20330.1, 20372.7, 20497. , 20497. , 20343.5, 20454. ,\n",
       "       20413.1, 20490. , 20495. , 20456. , 20343.1, 20497. , 20497. ,\n",
       "       20449. , 20487.8, 20350. , 20485. , 20444. , 20397.1, 20456. ,\n",
       "       20374.3, 20495. , 20372.3, 20413.1, 20498. , 20334.5, 20430.1,\n",
       "       20375.3, 20296.1, 20480. , 20213.2, 20387. , 20256.7, 20226.2,\n",
       "       20207.2, 20204.9, 20270.4, 20318.5, 20274.9, 20490. , 20498. ,\n",
       "       20260.9, 20269.8, 20245.3, 20257.8, 20222.7, 20284. , 20241.4,\n",
       "       20245. , 20295.8, 20205.3, 20282.8, 20256.7, 20170.4, 20260.4,\n",
       "       20350.8, 20350.8, 20246.9, 20257.5, 20476.7, 20468. , 20256.4,\n",
       "       20246.5, 20377.2, 20174.2, 20201.1, 20250.7, 20219.2, 20213.3,\n",
       "       20273.5, 20281. , 20255. , 20231.3, 20231.6, 20232.4, 20278.1,\n",
       "       20300.9, 20499. , 20275.3, 20376.3, 20265.1, 20334. , 20314.2,\n",
       "       20304.6, 20288.6, 20289.3, 20260.9, 20287.1, 20395.9, 20423. ,\n",
       "       20288.3, 20260.1, 20315.6, 20438.1, 20254.5, 20290.6, 20232.5,\n",
       "       20318.3, 20454. , 20271.9, 20239.4, 20273. , 20248.1, 20213. ,\n",
       "       20256.7, 20430.9, 20254.7, 20231.9, 20245.3, 20209.4, 20273.2,\n",
       "       20163.5, 20193.7, 20260.5, 20333. , 20254.6, 20454. , 20244.6,\n",
       "       20454. , 20253. , 20227.9, 20248.7, 20213.8, 20444.9, 20279.6,\n",
       "       20273.7, 20309.2, 20450. , 20299.5, 20459.1, 20257. , 20268.2,\n",
       "       20197.9, 20197.9, 20190.6, 20301.5, 20245.3, 20412. , 20290.7,\n",
       "       20452.8, 20186.7, 20245.3, 20281.7, 20292.2, 20255.5, 20262.6,\n",
       "       20343.9, 20273.2, 20281.5, 20254. , 20462.6, 20224.9, 20201.2,\n",
       "       20191.7, 20194.4, 20194.7, 20194.7, 20395.3, 20225.5, 20245.3,\n",
       "       20306.8, 20273.3, 20307.2, 20305.5, 20306.9, 20297. , 20416.9,\n",
       "       20211.1, 20247.3, 20197.8, 20217.2, 20245. , 20307. , 20272. ,\n",
       "       20234.7, 20223.4, 20245.6, 20245.3, 20210.2, 20192.2, 20179.9,\n",
       "       20218.9, 20288.4, 20291.3, 20214.7, 20233.3, 20214.3, 20247.2,\n",
       "       20247.2, 20181.8, 20231.1, 20248.6, 20260.8, 20280.2, 20205.9,\n",
       "       20266.2, 20250.4, 20416.9, 20256.7, 20280.4, 20222.2, 20263.5,\n",
       "       20255.9, 20376.1, 20199.5, 20245.9, 20261.2, 20245.3, 20264. ,\n",
       "       20274.5, 20262.9, 20426.1, 20211.5, 20238.1, 20216.3, 20269.5,\n",
       "       20397.8, 20200.4, 20235.9, 20235.2, 20397.8, 20245.3, 20409.1,\n",
       "       20260.6, 20255.4, 20238.5, 20224.1, 20225.4, 20437.9, 20199.2,\n",
       "       20245.3, 20223.9, 20424.1, 20218.4, 20424.1, 20227.1, 20414.1,\n",
       "       20414.1, 20213.4, 20373.3, 20270.8, 20188.4, 20303.5, 20222. ,\n",
       "       20200. , 20239.5, 20221. , 20251.7, 20258.5, 20200. , 20460. ,\n",
       "       20227.7, 20245.3, 20421.4, 20244.1, 20420.1, 20227.1, 20253.6,\n",
       "       20284. , 20461.6, 20459. , 20419.1, 20266.1, 20261.5, 20277.4,\n",
       "       20258.1, 20274.8, 20258.1, 20237.7, 20251.1, 20296.8, 20249.3,\n",
       "       20395.3, 20246.3, 20298.5, 20267.2, 20278.8, 20252. , 20256. ,\n",
       "       20237.5, 20348.2, 20284.3, 20277.2, 20245.9, 20346.2, 20240.4,\n",
       "       20236.1, 20211. , 20245.6, 20294.4, 20284.2, 20226.5, 20276.6,\n",
       "       20300.5, 20222.5, 20269.5, 20237.6, 20296.5, 20245.5, 20273.3,\n",
       "       20220. , 20228.8, 20267.1, 20221.5, 20186. , 20209.8])"
      ]
     },
     "execution_count": 242,
     "metadata": {},
     "output_type": "execute_result"
    }
   ],
   "source": [
    "real_stock_price = dataset_test[cols[0]].loc[:].values\n",
    "real_stock_price"
   ]
  },
  {
   "cell_type": "markdown",
   "metadata": {
    "colab_type": "text",
    "id": "iFTNs3YHk6FQ"
   },
   "source": [
    "### Visualising the results"
   ]
  },
  {
   "cell_type": "code",
   "execution_count": 243,
   "metadata": {
    "colab": {
     "base_uri": "https://localhost:8080/",
     "height": 295
    },
    "colab_type": "code",
    "id": "8OUI8U49k9tH",
    "outputId": "db0ed15e-071b-4bae-955e-0eda3df95238"
   },
   "outputs": [
    {
     "data": {
      "image/png": "[encoded data removed]",
      "text/plain": [
       "<Figure size 432x288 with 1 Axes>"
      ]
     },
     "metadata": {
      "needs_background": "light"
     },
     "output_type": "display_data"
    }
   ],
   "source": [
    "plt.plot(real_stock_price[0:100], color = 'red', label = 'Real Price')\n",
    "plt.plot(predicted_stock_price[0:100], color = 'blue', label = 'Predicted Price')\n",
    "plt.title('Stock Price Prediction')\n",
    "plt.xlabel('Time')\n",
    "plt.ylabel('Stock Price')\n",
    "plt.legend()\n",
    "plt.show()"
   ]
  },
  {
   "cell_type": "code",
   "execution_count": null,
   "metadata": {},
   "outputs": [],
   "source": []
  }
 ],
 "metadata": {
  "colab": {
   "collapsed_sections": [],
   "name": "recurrent_neural_network.ipynb",
   "provenance": []
  },
  "kernelspec": {
   "display_name": "Python 3 (ipykernel)",
   "language": "python",
   "name": "python3"
  },
  "language_info": {
   "codemirror_mode": {
    "name": "ipython",
    "version": 3
   },
   "file_extension": ".py",
   "mimetype": "text/x-python",
   "name": "python",
   "nbconvert_exporter": "python",
   "pygments_lexer": "ipython3",
   "version": "3.9.12"
  }
 },
 "nbformat": 4,
 "nbformat_minor": 1
}
